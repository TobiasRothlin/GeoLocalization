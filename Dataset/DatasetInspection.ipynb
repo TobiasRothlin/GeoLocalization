{
 "cells": [
  {
   "cell_type": "code",
   "execution_count": 33,
   "metadata": {
    "collapsed": true
   },
   "outputs": [],
   "source": [
    "import numpy as np\n",
    "import plotly.graph_objects as go\n",
    "import pandas as pd\n",
    "import plotly.express as px\n",
    "import random\n",
    "from PIL import Image\n",
    "from concurrent.futures import ThreadPoolExecutor, as_completed\n",
    "\n",
    "#make_subplots \n",
    "from plotly.subplots import make_subplots\n",
    "\n",
    "import matplotlib.pyplot as plt\n",
    "\n",
    "import os\n",
    "import sys\n",
    "import json\n",
    "\n",
    "from tqdm.notebook import tqdm"
   ]
  },
  {
   "cell_type": "code",
   "execution_count": 34,
   "metadata": {
    "collapsed": false
   },
   "outputs": [],
   "source": [
    "TEST_DATA_FOLDER = \"/Volumes/DATASET/Test\"\n",
    "TRAIN_DATA_FOLDER = r\"/Volumes/DATASET/Train\"\n",
    "\n",
    "with open(\"./.apiTokenMapBox\",\"r\") as f:\n",
    "    MAPBOX_TOKEN = f.read().strip()"
   ]
  },
  {
   "cell_type": "code",
   "execution_count": 35,
   "metadata": {
    "collapsed": false
   },
   "outputs": [],
   "source": [
    "def getPos(json_path):\n",
    "    with open(json_path) as f:\n",
    "        data = json.load(f)\n",
    "    return {\n",
    "        \"lat\": data[\"lat\"],\n",
    "        \"lon\": data[\"lon\"]\n",
    "    }"
   ]
  },
  {
   "cell_type": "code",
   "execution_count": 36,
   "metadata": {
    "collapsed": false
   },
   "outputs": [],
   "source": [
    "def search_files_in_subdirectory(subdirectory, extension):\n",
    "    files = []\n",
    "    for root, _, filenames in os.walk(subdirectory):\n",
    "        for filename in filenames:\n",
    "            if filename.endswith(extension):\n",
    "                files.append(os.path.join(root, filename))\n",
    "                \n",
    "    return files\n",
    "\n",
    "def search_files_in_directory(directory,extension, num_threads=8):\n",
    "    # Get the list of subdirectories\n",
    "    subdirectories = [os.path.join(directory, d) for d in os.listdir(directory) if os.path.isdir(os.path.join(directory, d))]\n",
    "\n",
    "    all_files = []\n",
    "    with ThreadPoolExecutor(max_workers=num_threads) as executor:\n",
    "        futures = {executor.submit(search_files_in_subdirectory, subdirectory,extension): subdirectory for subdirectory in subdirectories}\n",
    "        for future in tqdm(as_completed(futures), total=len(futures), desc=\"Searching subdirectories\"):\n",
    "            all_files.extend(future.result())\n",
    "\n",
    "    print(f\"Found {len(all_files)} files in {directory} with extension {extension}\")\n",
    "    return all_files"
   ]
  },
  {
   "cell_type": "code",
   "execution_count": 57,
   "metadata": {
    "collapsed": false
   },
   "outputs": [
    {
     "data": {
      "application/vnd.jupyter.widget-view+json": {
       "model_id": "ba0b6f5c76e64b488e3f2815f96198b2",
       "version_major": 2,
       "version_minor": 0
      },
      "text/plain": [
       "Searching subdirectories:   0%|          | 0/2 [00:00<?, ?it/s]"
      ]
     },
     "metadata": {},
     "output_type": "display_data"
    },
    {
     "name": "stdout",
     "output_type": "stream",
     "text": [
      "Found 3234 files in /Volumes/DATASET/Test with extension .json\n"
     ]
    },
    {
     "data": {
      "application/vnd.jupyter.widget-view+json": {
       "model_id": "522ee8aad94e4be783ebabb2972d2a6c",
       "version_major": 2,
       "version_minor": 0
      },
      "text/plain": [
       "Searching subdirectories:   0%|          | 0/2 [00:00<?, ?it/s]"
      ]
     },
     "metadata": {},
     "output_type": "display_data"
    },
    {
     "name": "stdout",
     "output_type": "stream",
     "text": [
      "Found 3234 files in /Volumes/DATASET/Test with extension .jpg\n",
      "Found 3234 json files\n",
      "Found 3234 jpg files\n",
      "Found a total of 6468 files\n",
      "Found 0 missing json files\n",
      "Found 0 meta files\n",
      "Found 0 unknown files\n"
     ]
    },
    {
     "data": {
      "text/plain": [
       "[]"
      ]
     },
     "execution_count": 57,
     "metadata": {},
     "output_type": "execute_result"
    }
   ],
   "source": [
    "all_test_json_files = search_files_in_directory(TEST_DATA_FOLDER, \".json\")\n",
    "all_test_jpg_files = search_files_in_directory(TEST_DATA_FOLDER, \".jpg\")\n",
    "# 5105 + 474 = 5579\n",
    "\n",
    "\n",
    "missing_json_files = []\n",
    "for img_path in all_test_jpg_files:\n",
    "    json_path = img_path.replace(\".jpg\",\".json\")\n",
    "    if json_path not in all_test_json_files:\n",
    "        missing_json_files.append(img_path)\n",
    "        \n",
    "meta_files = [f for f in all_test_jpg_files if \"._\" in f]\n",
    "\n",
    "\n",
    "print(f\"Found {len(all_test_json_files)} json files\")\n",
    "print(f\"Found {len(all_test_jpg_files)} jpg files\")\n",
    "print(f\"Found a total of {len(all_test_json_files)+ len(all_test_jpg_files)} files\")\n",
    "print(f\"Found {len(missing_json_files)} missing json files\")\n",
    "print(f\"Found {len(meta_files)} meta files\")\n",
    "\n",
    "unknown_files = [f for f in missing_json_files if f not in meta_files]\n",
    "print(f\"Found {len(unknown_files)} unknown files\")\n",
    "unknown_files\n"
   ]
  },
  {
   "cell_type": "code",
   "execution_count": 60,
   "metadata": {},
   "outputs": [
    {
     "data": {
      "application/vnd.jupyter.widget-view+json": {
       "model_id": "c3ba7b764bab4d1db74aab45dc11d522",
       "version_major": 2,
       "version_minor": 0
      },
      "text/plain": [
       "Searching subdirectories:   0%|          | 0/1525 [00:00<?, ?it/s]"
      ]
     },
     "metadata": {},
     "output_type": "display_data"
    },
    {
     "name": "stdout",
     "output_type": "stream",
     "text": [
      "Found 1524444 files in /Volumes/DATASET/Train with extension .json\n"
     ]
    },
    {
     "data": {
      "application/vnd.jupyter.widget-view+json": {
       "model_id": "bc75c5aff5294add982fa2333dceedaf",
       "version_major": 2,
       "version_minor": 0
      },
      "text/plain": [
       "Searching subdirectories:   0%|          | 0/1525 [00:00<?, ?it/s]"
      ]
     },
     "metadata": {},
     "output_type": "display_data"
    },
    {
     "name": "stdout",
     "output_type": "stream",
     "text": [
      "Found 1464298 files in /Volumes/DATASET/Train with extension .jpg\n"
     ]
    },
    {
     "data": {
      "application/vnd.jupyter.widget-view+json": {
       "model_id": "22ac915afbec44209ed72f3a8c451e41",
       "version_major": 2,
       "version_minor": 0
      },
      "text/plain": [
       "Searching subdirectories:   0%|          | 0/1525 [00:00<?, ?it/s]"
      ]
     },
     "metadata": {},
     "output_type": "display_data"
    },
    {
     "name": "stdout",
     "output_type": "stream",
     "text": [
      "Found 60146 files in /Volumes/DATASET/Train with extension .jpeg\n",
      "Found 1524444 json files\n",
      "Found 1464298 jpg files\n",
      "Found 60146 jpge files\n",
      "Found a total of 3048888 files\n"
     ]
    }
   ],
   "source": [
    "all_train_json_files = search_files_in_directory(TRAIN_DATA_FOLDER, \".json\")\n",
    "all_train_jpg_files = search_files_in_directory(TRAIN_DATA_FOLDER, \".jpg\")\n",
    "all_train_jpeg_files = search_files_in_directory(TRAIN_DATA_FOLDER, \".jpeg\")\n",
    "\n",
    "print(f\"Found {len(all_train_json_files)} json files\")\n",
    "print(f\"Found {len(all_train_jpg_files)} jpg files\")\n",
    "print(f\"Found {len(all_train_jpeg_files)} jpge files\")\n",
    "print(f\"Found a total of {len(all_train_json_files)+ len(all_train_jpg_files) + len(all_train_jpeg_files)} files\")"
   ]
  },
  {
   "cell_type": "code",
   "execution_count": 61,
   "metadata": {},
   "outputs": [
    {
     "name": "stdout",
     "output_type": "stream",
     "text": [
      "Found 1524444 json files\n",
      "Found 1524444 image files\n"
     ]
    }
   ],
   "source": [
    "print(f\"Found {len(all_train_json_files)} json files\")\n",
    "print(f\"Found {len(all_train_jpg_files) + len(all_train_jpeg_files)} image files\")"
   ]
  }
 ],
 "metadata": {
  "kernelspec": {
   "display_name": "Python 3",
   "language": "python",
   "name": "python3"
  },
  "language_info": {
   "codemirror_mode": {
    "name": "ipython",
    "version": 3
   },
   "file_extension": ".py",
   "mimetype": "text/x-python",
   "name": "python",
   "nbconvert_exporter": "python",
   "pygments_lexer": "ipython3",
   "version": "3.11.1"
  }
 },
 "nbformat": 4,
 "nbformat_minor": 0
}
