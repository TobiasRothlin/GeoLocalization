{
 "cells": [
  {
   "cell_type": "code",
   "execution_count": 45,
   "metadata": {},
   "outputs": [],
   "source": [
    "import pandas as pd\n",
    "import os\n",
    "import shutil\n",
    "import sys\n",
    "import json\n",
    "from tqdm.notebook import tqdm"
   ]
  },
  {
   "cell_type": "code",
   "execution_count": 46,
   "metadata": {},
   "outputs": [],
   "source": [
    "FOLDER_PATH = \"./\"\n",
    "\n",
    "OUTPUT_PATH = \"./output/\""
   ]
  },
  {
   "cell_type": "code",
   "execution_count": 47,
   "metadata": {},
   "outputs": [],
   "source": [
    "def find_files(extension, folder):\n",
    "    files_found = []\n",
    "    for root, dirs, files in os.walk(folder):\n",
    "        for file in files:\n",
    "            if file.endswith(extension):\n",
    "                files_found.append(os.path.join(root, file))\n",
    "\n",
    "    print(f\"Found {len(files_found)} files with extension {extension}\")\n",
    "    return files_found"
   ]
  },
  {
   "cell_type": "code",
   "execution_count": 48,
   "metadata": {},
   "outputs": [],
   "source": [
    "if not os.path.exists(OUTPUT_PATH):\n",
    "    os.makedirs(OUTPUT_PATH)"
   ]
  },
  {
   "cell_type": "code",
   "execution_count": 49,
   "metadata": {},
   "outputs": [
    {
     "name": "stdout",
     "output_type": "stream",
     "text": [
      "Found 216 files with extension .csv\n",
      "Found 1530160 files with extension .jpg\n"
     ]
    }
   ],
   "source": [
    "all_csv_files = find_files(\".csv\", FOLDER_PATH)\n",
    "all_jpg_files = find_files(\".jpg\", FOLDER_PATH)"
   ]
  },
  {
   "cell_type": "code",
   "execution_count": 50,
   "metadata": {},
   "outputs": [
    {
     "name": "stdout",
     "output_type": "stream",
     "text": [
      "48\n",
      "./MetaData/train_val/zurich/database/raw.csv\n",
      "./MetaData/train_val/zurich/query/raw.csv\n",
      "./MetaData/train_val/paris/database/raw.csv\n",
      "./MetaData/train_val/paris/query/raw.csv\n",
      "./MetaData/train_val/austin/database/raw.csv\n",
      "----------------------------------------------------------------------------------------------------\n",
      "./Images_2/test/buenosaires/database/images/5r3GmJocWqaYyB0Nzb18gQ.jpg\n",
      "./Images_2/test/buenosaires/database/images/i48_o76TcCSyNVtMGQDzgQ.jpg\n",
      "./Images_2/test/buenosaires/database/images/zKrhEYJIE6H_8NgsCKhFSw.jpg\n",
      "./Images_2/test/buenosaires/database/images/pkcbr32M4hCwFytTU5gt3w.jpg\n",
      "./Images_2/test/buenosaires/database/images/4r_UbfAceGkdGor_wxOjJg.jpg\n"
     ]
    }
   ],
   "source": [
    "all_raw_csv_files = [file for file in all_csv_files if \"raw\" in file]\n",
    "print(len(all_raw_csv_files))\n",
    "\n",
    "for file in all_raw_csv_files[:5]:\n",
    "    print(file)\n",
    "    \n",
    "\n",
    "print(100*\"-\")\n",
    "\n",
    "for file in all_jpg_files[:5]:\n",
    "    print(file)"
   ]
  },
  {
   "cell_type": "code",
   "execution_count": 51,
   "metadata": {},
   "outputs": [],
   "source": [
    "processes_jpg = []\n",
    "\n",
    "def process_csv_file(file):\n",
    "    df = pd.read_csv(file)\n",
    "    \n",
    "    for index, row in tqdm(df.iterrows(), total=df.shape[0], desc=f\"Processing {file}\"):\n",
    "        image_name = row[\"key\"]\n",
    "        lat = row[\"lat\"]\n",
    "        lon = row[\"lon\"]\n",
    "\n",
    "        matched_image = None\n",
    "        for jpg_file in all_jpg_files:\n",
    "            if image_name in jpg_file:\n",
    "                matched_image = jpg_file\n",
    "                break\n",
    "\n",
    "        if matched_image is not None:\n",
    "            json_data = {\n",
    "                        \"img_path\": \"\",\n",
    "                        \"city\": \"\",\n",
    "                        \"country\": \"\",\n",
    "                        \"continent\": \"\",\n",
    "                        \"lat\": lat,\n",
    "                        \"lon\": lon\n",
    "                    } \n",
    "\n",
    "            if os.path.exists(OUTPUT_PATH + image_name + \".json\"):\n",
    "                print(f\"File {OUTPUT_PATH + image_name + '.json'} already exists. Skipping\")\n",
    "                \n",
    "            else:    \n",
    "                json.dump(json_data, open(OUTPUT_PATH + image_name + \".json\", \"w\")) \n",
    "\n",
    "            if os.path.exists(OUTPUT_PATH + image_name + \".jpg\"):\n",
    "                print(f\"File {OUTPUT_PATH + image_name + '.jpg'} already exists. Skipping\")\n",
    "            else:\n",
    "                shutil.copy(matched_image, OUTPUT_PATH + image_name + \".jpg\")\n",
    "\n",
    "            processes_jpg.append(matched_image)\n",
    "        else:\n",
    "            print(f\"Could not find image for {image_name}\")\n",
    "\n",
    "        # print(f\"Image name: {image_name}, Lat: {lat}, Lon: {lon}\")\n",
    "\n",
    "\n"
   ]
  },
  {
   "cell_type": "code",
   "execution_count": 52,
   "metadata": {},
   "outputs": [
    {
     "data": {
      "application/vnd.jupyter.widget-view+json": {
       "model_id": "236e433cc323445bbc4b56297663b80f",
       "version_major": 2,
       "version_minor": 0
      },
      "text/plain": [
       "Processing ./MetaData/train_val/zurich/database/raw.csv:   0%|          | 0/2991 [00:00<?, ?it/s]"
      ]
     },
     "metadata": {},
     "output_type": "display_data"
    },
    {
     "data": {
      "application/vnd.jupyter.widget-view+json": {
       "model_id": "04404c054660424e8b16f909a97de28e",
       "version_major": 2,
       "version_minor": 0
      },
      "text/plain": [
       "Processing ./MetaData/train_val/zurich/query/raw.csv:   0%|          | 0/2193 [00:00<?, ?it/s]"
      ]
     },
     "metadata": {},
     "output_type": "display_data"
    },
    {
     "data": {
      "application/vnd.jupyter.widget-view+json": {
       "model_id": "55a9d8c6adf14a68a32fb7d4eef5194f",
       "version_major": 2,
       "version_minor": 0
      },
      "text/plain": [
       "Processing ./MetaData/train_val/paris/database/raw.csv:   0%|          | 0/9503 [00:00<?, ?it/s]"
      ]
     },
     "metadata": {},
     "output_type": "display_data"
    },
    {
     "data": {
      "application/vnd.jupyter.widget-view+json": {
       "model_id": "1d21094705d5463297cc014a7d90f910",
       "version_major": 2,
       "version_minor": 0
      },
      "text/plain": [
       "Processing ./MetaData/train_val/paris/query/raw.csv:   0%|          | 0/8480 [00:00<?, ?it/s]"
      ]
     },
     "metadata": {},
     "output_type": "display_data"
    },
    {
     "data": {
      "application/vnd.jupyter.widget-view+json": {
       "model_id": "77492793aace4138bea958e424f197c6",
       "version_major": 2,
       "version_minor": 0
      },
      "text/plain": [
       "Processing ./MetaData/train_val/austin/database/raw.csv:   0%|          | 0/28462 [00:00<?, ?it/s]"
      ]
     },
     "metadata": {},
     "output_type": "display_data"
    },
    {
     "data": {
      "application/vnd.jupyter.widget-view+json": {
       "model_id": "d1cddb1ded7e4d529c4d42f5bcb0c88a",
       "version_major": 2,
       "version_minor": 0
      },
      "text/plain": [
       "Processing ./MetaData/train_val/austin/query/raw.csv:   0%|          | 0/14222 [00:00<?, ?it/s]"
      ]
     },
     "metadata": {},
     "output_type": "display_data"
    },
    {
     "data": {
      "application/vnd.jupyter.widget-view+json": {
       "model_id": "88a402361a354237b00d5501e1ad154e",
       "version_major": 2,
       "version_minor": 0
      },
      "text/plain": [
       "Processing ./MetaData/train_val/melbourne/database/raw.csv:   0%|          | 0/101827 [00:00<?, ?it/s]"
      ]
     },
     "metadata": {},
     "output_type": "display_data"
    },
    {
     "data": {
      "application/vnd.jupyter.widget-view+json": {
       "model_id": "022abf2a5b9f471abbc0f09f836cbaf9",
       "version_major": 2,
       "version_minor": 0
      },
      "text/plain": [
       "Processing ./MetaData/train_val/melbourne/query/raw.csv:   0%|          | 0/88118 [00:00<?, ?it/s]"
      ]
     },
     "metadata": {},
     "output_type": "display_data"
    },
    {
     "data": {
      "application/vnd.jupyter.widget-view+json": {
       "model_id": "0a1a2a860a94451f949033c95648cf34",
       "version_major": 2,
       "version_minor": 0
      },
      "text/plain": [
       "Processing ./MetaData/train_val/moscow/database/raw.csv:   0%|          | 0/171878 [00:00<?, ?it/s]"
      ]
     },
     "metadata": {},
     "output_type": "display_data"
    },
    {
     "data": {
      "application/vnd.jupyter.widget-view+json": {
       "model_id": "d98214cf12b042b293b95a7a10f75895",
       "version_major": 2,
       "version_minor": 0
      },
      "text/plain": [
       "Processing ./MetaData/train_val/moscow/query/raw.csv:   0%|          | 0/77496 [00:00<?, ?it/s]"
      ]
     },
     "metadata": {},
     "output_type": "display_data"
    },
    {
     "data": {
      "application/vnd.jupyter.widget-view+json": {
       "model_id": "37ff605a1873456eb63103b315c2808a",
       "version_major": 2,
       "version_minor": 0
      },
      "text/plain": [
       "Processing ./MetaData/train_val/cph/database/raw.csv:   0%|          | 0/12601 [00:00<?, ?it/s]"
      ]
     },
     "metadata": {},
     "output_type": "display_data"
    },
    {
     "data": {
      "application/vnd.jupyter.widget-view+json": {
       "model_id": "0c8454686d534bbfaecdd31f9b7d1a57",
       "version_major": 2,
       "version_minor": 0
      },
      "text/plain": [
       "Processing ./MetaData/train_val/cph/query/raw.csv:   0%|          | 0/6595 [00:00<?, ?it/s]"
      ]
     },
     "metadata": {},
     "output_type": "display_data"
    },
    {
     "data": {
      "application/vnd.jupyter.widget-view+json": {
       "model_id": "0db4ca483b834508a3608793594244ce",
       "version_major": 2,
       "version_minor": 0
      },
      "text/plain": [
       "Processing ./MetaData/train_val/helsinki/database/raw.csv:   0%|          | 0/33248 [00:00<?, ?it/s]"
      ]
     },
     "metadata": {},
     "output_type": "display_data"
    },
    {
     "data": {
      "application/vnd.jupyter.widget-view+json": {
       "model_id": "a987d028f0cf4fa18c75bc2ee5517472",
       "version_major": 2,
       "version_minor": 0
      },
      "text/plain": [
       "Processing ./MetaData/train_val/helsinki/query/raw.csv:   0%|          | 0/15228 [00:00<?, ?it/s]"
      ]
     },
     "metadata": {},
     "output_type": "display_data"
    },
    {
     "data": {
      "application/vnd.jupyter.widget-view+json": {
       "model_id": "9e92a493fb5d495fa362ddb93aa20ff7",
       "version_major": 2,
       "version_minor": 0
      },
      "text/plain": [
       "Processing ./MetaData/train_val/amman/database/raw.csv:   0%|          | 0/953 [00:00<?, ?it/s]"
      ]
     },
     "metadata": {},
     "output_type": "display_data"
    },
    {
     "data": {
      "application/vnd.jupyter.widget-view+json": {
       "model_id": "056000e772ae46a68a19c8fa2fdabda9",
       "version_major": 2,
       "version_minor": 0
      },
      "text/plain": [
       "Processing ./MetaData/train_val/amman/query/raw.csv:   0%|          | 0/835 [00:00<?, ?it/s]"
      ]
     },
     "metadata": {},
     "output_type": "display_data"
    },
    {
     "data": {
      "application/vnd.jupyter.widget-view+json": {
       "model_id": "992b4a96d1844ac999e207b9ed95bb48",
       "version_major": 2,
       "version_minor": 0
      },
      "text/plain": [
       "Processing ./MetaData/train_val/manila/database/raw.csv:   0%|          | 0/6064 [00:00<?, ?it/s]"
      ]
     },
     "metadata": {},
     "output_type": "display_data"
    },
    {
     "data": {
      "application/vnd.jupyter.widget-view+json": {
       "model_id": "a8833717a7f440699c5355006c68373d",
       "version_major": 2,
       "version_minor": 0
      },
      "text/plain": [
       "Processing ./MetaData/train_val/manila/query/raw.csv:   0%|          | 0/5378 [00:00<?, ?it/s]"
      ]
     },
     "metadata": {},
     "output_type": "display_data"
    },
    {
     "data": {
      "application/vnd.jupyter.widget-view+json": {
       "model_id": "c3ad060c299744d29ddf29360a7ef5e6",
       "version_major": 2,
       "version_minor": 0
      },
      "text/plain": [
       "Processing ./MetaData/train_val/tokyo/database/raw.csv:   0%|          | 0/34823 [00:00<?, ?it/s]"
      ]
     },
     "metadata": {},
     "output_type": "display_data"
    },
    {
     "data": {
      "application/vnd.jupyter.widget-view+json": {
       "model_id": "94978dc77bee45dfbc495c0417fd6061",
       "version_major": 2,
       "version_minor": 0
      },
      "text/plain": [
       "Processing ./MetaData/train_val/tokyo/query/raw.csv:   0%|          | 0/26310 [00:00<?, ?it/s]"
      ]
     },
     "metadata": {},
     "output_type": "display_data"
    },
    {
     "data": {
      "application/vnd.jupyter.widget-view+json": {
       "model_id": "d8fb3c6a649449bab1bfe87a61061bae",
       "version_major": 2,
       "version_minor": 0
      },
      "text/plain": [
       "Processing ./MetaData/train_val/phoenix/database/raw.csv:   0%|          | 0/106221 [00:00<?, ?it/s]"
      ]
     },
     "metadata": {},
     "output_type": "display_data"
    },
    {
     "data": {
      "application/vnd.jupyter.widget-view+json": {
       "model_id": "ffed73aec06845d08a0059ebd22d6446",
       "version_major": 2,
       "version_minor": 0
      },
      "text/plain": [
       "Processing ./MetaData/train_val/phoenix/query/raw.csv:   0%|          | 0/50243 [00:00<?, ?it/s]"
      ]
     },
     "metadata": {},
     "output_type": "display_data"
    },
    {
     "data": {
      "application/vnd.jupyter.widget-view+json": {
       "model_id": "0d58e8beef1f4e0fbaf6da5543948a33",
       "version_major": 2,
       "version_minor": 0
      },
      "text/plain": [
       "Processing ./MetaData/train_val/goa/database/raw.csv:   0%|          | 0/5722 [00:00<?, ?it/s]"
      ]
     },
     "metadata": {},
     "output_type": "display_data"
    },
    {
     "data": {
      "application/vnd.jupyter.widget-view+json": {
       "model_id": "aed01c28edab414dad7b02ebfc88872e",
       "version_major": 2,
       "version_minor": 0
      },
      "text/plain": [
       "Processing ./MetaData/train_val/goa/query/raw.csv:   0%|          | 0/5362 [00:00<?, ?it/s]"
      ]
     },
     "metadata": {},
     "output_type": "display_data"
    },
    {
     "data": {
      "application/vnd.jupyter.widget-view+json": {
       "model_id": "42dd37dbcb254e1fa8bbf76f906fbef0",
       "version_major": 2,
       "version_minor": 0
      },
      "text/plain": [
       "Processing ./MetaData/train_val/nairobi/database/raw.csv:   0%|          | 0/437 [00:00<?, ?it/s]"
      ]
     },
     "metadata": {},
     "output_type": "display_data"
    },
    {
     "data": {
      "application/vnd.jupyter.widget-view+json": {
       "model_id": "797c26ac395d430a9d6b6d5a99c243f8",
       "version_major": 2,
       "version_minor": 0
      },
      "text/plain": [
       "Processing ./MetaData/train_val/nairobi/query/raw.csv:   0%|          | 0/427 [00:00<?, ?it/s]"
      ]
     },
     "metadata": {},
     "output_type": "display_data"
    },
    {
     "data": {
      "application/vnd.jupyter.widget-view+json": {
       "model_id": "7b2162d4237845bc9da32f95ccf41dd6",
       "version_major": 2,
       "version_minor": 0
      },
      "text/plain": [
       "Processing ./MetaData/train_val/trondheim/database/raw.csv:   0%|          | 0/5015 [00:00<?, ?it/s]"
      ]
     },
     "metadata": {},
     "output_type": "display_data"
    },
    {
     "data": {
      "application/vnd.jupyter.widget-view+json": {
       "model_id": "af528ceddae84830ad9408de796d908c",
       "version_major": 2,
       "version_minor": 0
      },
      "text/plain": [
       "Processing ./MetaData/train_val/trondheim/query/raw.csv:   0%|          | 0/4136 [00:00<?, ?it/s]"
      ]
     },
     "metadata": {},
     "output_type": "display_data"
    },
    {
     "data": {
      "application/vnd.jupyter.widget-view+json": {
       "model_id": "26feedeebd5343278bafb43203854b49",
       "version_major": 2,
       "version_minor": 0
      },
      "text/plain": [
       "Processing ./MetaData/train_val/sf/database/raw.csv:   0%|          | 0/6315 [00:00<?, ?it/s]"
      ]
     },
     "metadata": {},
     "output_type": "display_data"
    },
    {
     "data": {
      "application/vnd.jupyter.widget-view+json": {
       "model_id": "f7399d27fad34e81b23bb99269bbf1a2",
       "version_major": 2,
       "version_minor": 0
      },
      "text/plain": [
       "Processing ./MetaData/train_val/sf/query/raw.csv:   0%|          | 0/4525 [00:00<?, ?it/s]"
      ]
     },
     "metadata": {},
     "output_type": "display_data"
    },
    {
     "data": {
      "application/vnd.jupyter.widget-view+json": {
       "model_id": "c6ec9f15f3e24fd3b55fa7833d2bdf5e",
       "version_major": 2,
       "version_minor": 0
      },
      "text/plain": [
       "Processing ./MetaData/train_val/boston/database/raw.csv:   0%|          | 0/14024 [00:00<?, ?it/s]"
      ]
     },
     "metadata": {},
     "output_type": "display_data"
    },
    {
     "data": {
      "application/vnd.jupyter.widget-view+json": {
       "model_id": "ec953d781a814ddf840bdb92b98f055f",
       "version_major": 2,
       "version_minor": 0
      },
      "text/plain": [
       "Processing ./MetaData/train_val/boston/query/raw.csv:   0%|          | 0/6724 [00:00<?, ?it/s]"
      ]
     },
     "metadata": {},
     "output_type": "display_data"
    },
    {
     "data": {
      "application/vnd.jupyter.widget-view+json": {
       "model_id": "0c91afbbb00c4c449c6732355672b25f",
       "version_major": 2,
       "version_minor": 0
      },
      "text/plain": [
       "Processing ./MetaData/train_val/budapest/database/raw.csv:   0%|          | 0/153321 [00:00<?, ?it/s]"
      ]
     },
     "metadata": {},
     "output_type": "display_data"
    },
    {
     "data": {
      "application/vnd.jupyter.widget-view+json": {
       "model_id": "027810a8913d4ed9840a2c4975dcea94",
       "version_major": 2,
       "version_minor": 0
      },
      "text/plain": [
       "Processing ./MetaData/train_val/budapest/query/raw.csv:   0%|          | 0/45800 [00:00<?, ?it/s]"
      ]
     },
     "metadata": {},
     "output_type": "display_data"
    },
    {
     "data": {
      "application/vnd.jupyter.widget-view+json": {
       "model_id": "520efdca5f2b4d1c80e6eb251c6fbea5",
       "version_major": 2,
       "version_minor": 0
      },
      "text/plain": [
       "Processing ./MetaData/train_val/toronto/database/raw.csv:   0%|          | 0/12789 [00:00<?, ?it/s]"
      ]
     },
     "metadata": {},
     "output_type": "display_data"
    },
    {
     "data": {
      "application/vnd.jupyter.widget-view+json": {
       "model_id": "13a8e454dae740569b06c378baf48f10",
       "version_major": 2,
       "version_minor": 0
      },
      "text/plain": [
       "Processing ./MetaData/train_val/toronto/query/raw.csv:   0%|          | 0/7352 [00:00<?, ?it/s]"
      ]
     },
     "metadata": {},
     "output_type": "display_data"
    },
    {
     "data": {
      "application/vnd.jupyter.widget-view+json": {
       "model_id": "6e99cd5021e84ab28088d5056c9928db",
       "version_major": 2,
       "version_minor": 0
      },
      "text/plain": [
       "Processing ./MetaData/train_val/london/database/raw.csv:   0%|          | 0/3291 [00:00<?, ?it/s]"
      ]
     },
     "metadata": {},
     "output_type": "display_data"
    },
    {
     "data": {
      "application/vnd.jupyter.widget-view+json": {
       "model_id": "a6abaf0677fd4cee9f27d0ee00182a2c",
       "version_major": 2,
       "version_minor": 0
      },
      "text/plain": [
       "Processing ./MetaData/train_val/london/query/raw.csv:   0%|          | 0/2692 [00:00<?, ?it/s]"
      ]
     },
     "metadata": {},
     "output_type": "display_data"
    },
    {
     "data": {
      "application/vnd.jupyter.widget-view+json": {
       "model_id": "2cc3ebb45a0a4c0da10fcbbe54a415bf",
       "version_major": 2,
       "version_minor": 0
      },
      "text/plain": [
       "Processing ./MetaData/train_val/berlin/database/raw.csv:   0%|          | 0/42965 [00:00<?, ?it/s]"
      ]
     },
     "metadata": {},
     "output_type": "display_data"
    },
    {
     "data": {
      "application/vnd.jupyter.widget-view+json": {
       "model_id": "c2d60f85fb374717bae6edf0cc171b01",
       "version_major": 2,
       "version_minor": 0
      },
      "text/plain": [
       "Processing ./MetaData/train_val/berlin/query/raw.csv:   0%|          | 0/28197 [00:00<?, ?it/s]"
      ]
     },
     "metadata": {},
     "output_type": "display_data"
    },
    {
     "data": {
      "application/vnd.jupyter.widget-view+json": {
       "model_id": "91a102b5d14942f6808227201f2df70b",
       "version_major": 2,
       "version_minor": 0
      },
      "text/plain": [
       "Processing ./MetaData/train_val/amsterdam/database/raw.csv:   0%|          | 0/11539 [00:00<?, ?it/s]"
      ]
     },
     "metadata": {},
     "output_type": "display_data"
    },
    {
     "data": {
      "application/vnd.jupyter.widget-view+json": {
       "model_id": "9973bf2ed7634e21b2dbfbd52f17ae74",
       "version_major": 2,
       "version_minor": 0
      },
      "text/plain": [
       "Processing ./MetaData/train_val/amsterdam/query/raw.csv:   0%|          | 0/7893 [00:00<?, ?it/s]"
      ]
     },
     "metadata": {},
     "output_type": "display_data"
    },
    {
     "data": {
      "application/vnd.jupyter.widget-view+json": {
       "model_id": "432991da3a4443dfad5dc1fbb4303255",
       "version_major": 2,
       "version_minor": 0
      },
      "text/plain": [
       "Processing ./MetaData/train_val/saopaulo/database/raw.csv:   0%|          | 0/35096 [00:00<?, ?it/s]"
      ]
     },
     "metadata": {},
     "output_type": "display_data"
    },
    {
     "data": {
      "application/vnd.jupyter.widget-view+json": {
       "model_id": "80c06121c4444e3080ff92bca0585042",
       "version_major": 2,
       "version_minor": 0
      },
      "text/plain": [
       "Processing ./MetaData/train_val/saopaulo/query/raw.csv:   0%|          | 0/18989 [00:00<?, ?it/s]"
      ]
     },
     "metadata": {},
     "output_type": "display_data"
    },
    {
     "data": {
      "application/vnd.jupyter.widget-view+json": {
       "model_id": "e86850e7dc394cca806382bdf0580f23",
       "version_major": 2,
       "version_minor": 0
      },
      "text/plain": [
       "Processing ./MetaData/train_val/ottawa/database/raw.csv:   0%|          | 0/69756 [00:00<?, ?it/s]"
      ]
     },
     "metadata": {},
     "output_type": "display_data"
    },
    {
     "data": {
      "application/vnd.jupyter.widget-view+json": {
       "model_id": "ada5787be4c44055bfa09328ef86aaa1",
       "version_major": 2,
       "version_minor": 0
      },
      "text/plain": [
       "Processing ./MetaData/train_val/ottawa/query/raw.csv:   0%|          | 0/53517 [00:00<?, ?it/s]"
      ]
     },
     "metadata": {},
     "output_type": "display_data"
    },
    {
     "data": {
      "application/vnd.jupyter.widget-view+json": {
       "model_id": "cf075085b97842c99b92cdd71da954d8",
       "version_major": 2,
       "version_minor": 0
      },
      "text/plain": [
       "Processing ./MetaData/train_val/bangkok/database/raw.csv:   0%|          | 0/74620 [00:00<?, ?it/s]"
      ]
     },
     "metadata": {},
     "output_type": "display_data"
    },
    {
     "data": {
      "application/vnd.jupyter.widget-view+json": {
       "model_id": "88b3f30b6a404ad287d65254c76b1f90",
       "version_major": 2,
       "version_minor": 0
      },
      "text/plain": [
       "Processing ./MetaData/train_val/bangkok/query/raw.csv:   0%|          | 0/40125 [00:00<?, ?it/s]"
      ]
     },
     "metadata": {},
     "output_type": "display_data"
    },
    {
     "name": "stdout",
     "output_type": "stream",
     "text": [
      "Processed 48 files\n",
      "Processed 1464298 images\n",
      "Processed 1530160 images\n"
     ]
    }
   ],
   "source": [
    "for file in all_raw_csv_files:\n",
    "    process_csv_file(file)\n",
    "\n",
    "print(f\"Processed {len(all_raw_csv_files)} files\")\n",
    "print(f\"Processed {len(processes_jpg)} images\")\n",
    "print(f\"Processed {len(all_jpg_files)} images\")"
   ]
  }
 ],
 "metadata": {
  "kernelspec": {
   "display_name": "venv",
   "language": "python",
   "name": "python3"
  },
  "language_info": {
   "codemirror_mode": {
    "name": "ipython",
    "version": 3
   },
   "file_extension": ".py",
   "mimetype": "text/x-python",
   "name": "python",
   "nbconvert_exporter": "python",
   "pygments_lexer": "ipython3",
   "version": "3.11.1"
  }
 },
 "nbformat": 4,
 "nbformat_minor": 2
}
