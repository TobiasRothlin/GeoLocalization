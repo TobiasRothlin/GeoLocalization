{
 "cells": [
  {
   "cell_type": "code",
   "execution_count": 1,
   "metadata": {},
   "outputs": [],
   "source": [
    "import numpy as np\n",
    "import plotly.graph_objects as go\n",
    "import pandas as pd\n",
    "import plotly.express as px\n",
    "import random\n",
    "from PIL import Image\n",
    "import shutil\n",
    "from concurrent.futures import ThreadPoolExecutor, as_completed\n",
    "\n",
    "#make_subplots \n",
    "from plotly.subplots import make_subplots\n",
    "\n",
    "import matplotlib.pyplot as plt\n",
    "\n",
    "import os\n",
    "import sys\n",
    "import json\n",
    "\n",
    "from tqdm.notebook import tqdm"
   ]
  },
  {
   "cell_type": "code",
   "execution_count": 2,
   "metadata": {},
   "outputs": [],
   "source": [
    "TEST_DATA_FOLDER = \"./Test\"\n",
    "TRAIN_DATA_FOLDER = \"./Train\"\n",
    "\n",
    "DESTINATION_FOLDER = \"/Volumes/DATASET/\"\n",
    "\n",
    "BATCH_SIZE = 1000\n"
   ]
  },
  {
   "cell_type": "code",
   "execution_count": 10,
   "metadata": {},
   "outputs": [],
   "source": [
    "def search_files_in_subdirectory(subdirectory, extension):\n",
    "    files = []\n",
    "    for root, _, filenames in os.walk(subdirectory):\n",
    "        for filename in filenames:\n",
    "\n",
    "            if filename.endswith(extension):\n",
    "                files.append(os.path.join(root, filename))\n",
    "            elif extension == \"jpg\":\n",
    "                if filename.endswith(\"jpeg\"):\n",
    "                    files.append(os.path.join(root, filename))\n",
    "                \n",
    "    return files\n",
    "\n",
    "def search_files_in_directory(directory,extension, num_threads=8):\n",
    "    # Get the list of subdirectories\n",
    "    subdirectories = [os.path.join(directory, d) for d in os.listdir(directory) if os.path.isdir(os.path.join(directory, d))]\n",
    "\n",
    "    all_files = []\n",
    "    with ThreadPoolExecutor(max_workers=num_threads) as executor:\n",
    "        futures = {executor.submit(search_files_in_subdirectory, subdirectory,extension): subdirectory for subdirectory in subdirectories}\n",
    "        for future in tqdm(as_completed(futures), total=len(futures), desc=\"Searching subdirectories\"):\n",
    "            all_files.extend(future.result())\n",
    "\n",
    "    print(f\"Found {len(all_files)} files in {directory} with extension {extension}\")\n",
    "    return all_files"
   ]
  },
  {
   "cell_type": "code",
   "execution_count": 4,
   "metadata": {},
   "outputs": [
    {
     "data": {
      "application/vnd.jupyter.widget-view+json": {
       "model_id": "ba2803ddb1254134b007fccbed26df95",
       "version_major": 2,
       "version_minor": 0
      },
      "text/plain": [
       "Searching subdirectories:   0%|          | 0/2 [00:00<?, ?it/s]"
      ]
     },
     "metadata": {},
     "output_type": "display_data"
    },
    {
     "name": "stdout",
     "output_type": "stream",
     "text": [
      "Found 3234 files in ./Test with extension .json\n"
     ]
    },
    {
     "data": {
      "application/vnd.jupyter.widget-view+json": {
       "model_id": "6809e034ddf74e63a2c6456d8ba07653",
       "version_major": 2,
       "version_minor": 0
      },
      "text/plain": [
       "Searching subdirectories:   0%|          | 0/2 [00:00<?, ?it/s]"
      ]
     },
     "metadata": {},
     "output_type": "display_data"
    },
    {
     "name": "stdout",
     "output_type": "stream",
     "text": [
      "Found 1524444 files in ./Train with extension .json\n"
     ]
    }
   ],
   "source": [
    "all_test_files_json = search_files_in_directory(TEST_DATA_FOLDER, \".json\")\n",
    "all_train_files_json = search_files_in_directory(TRAIN_DATA_FOLDER, \".json\")\n",
    "\n"
   ]
  },
  {
   "cell_type": "code",
   "execution_count": 5,
   "metadata": {},
   "outputs": [
    {
     "name": "stdout",
     "output_type": "stream",
     "text": [
      "Folder /Volumes/DATASET/Test already exists\n",
      "Folder /Volumes/DATASET/Train already exists\n"
     ]
    }
   ],
   "source": [
    "# Create the destination folder\n",
    "if not os.path.exists(DESTINATION_FOLDER):\n",
    "    os.makedirs(DESTINATION_FOLDER)\n",
    "\n",
    "# Create test and train folders\n",
    "test_data_path = os.path.join(DESTINATION_FOLDER, \"Test\")\n",
    "\n",
    "if not os.path.exists(test_data_path):\n",
    "    os.makedirs(test_data_path)\n",
    "else:\n",
    "    print(f\"Folder {test_data_path} already exists\")\n",
    "\n",
    "train_data_path = os.path.join(DESTINATION_FOLDER, \"Train\")\n",
    "if not os.path.exists(train_data_path):\n",
    "    os.makedirs(train_data_path)\n",
    "else:\n",
    "    print(f\"Folder {train_data_path} already exists\")"
   ]
  },
  {
   "cell_type": "code",
   "execution_count": 6,
   "metadata": {},
   "outputs": [],
   "source": [
    "def copy_file(json_path, destination_folder):\n",
    "    image_path = json_path.replace(\".json\", \".jpg\")\n",
    "    \n",
    "    if not os.path.exists(image_path):\n",
    "        if not os.path.exists(image_path.replace(\".jpg\", \".jpeg\")):\n",
    "            print(f\"Image {image_path} does not exist\")\n",
    "            return\n",
    "        else:\n",
    "            image_path = image_path.replace(\".jpg\", \".jpeg\")\n",
    "\n",
    "    \n",
    "    if not os.path.exists(json_path):\n",
    "        print(f\"JSON {json_path} does not exist\")\n",
    "        return\n",
    "    \n",
    "\n",
    "    if not os.path.exists(destination_folder):\n",
    "        os.makedirs(destination_folder)\n",
    "\n",
    "    if os.path.exists(os.path.join(destination_folder, os.path.basename(json_path))):\n",
    "        print(f\"File {json_path} already exists in {destination_folder}\")\n",
    "        return\n",
    "    \n",
    "    if os.path.exists(os.path.join(destination_folder, os.path.basename(image_path))):\n",
    "        print(f\"File {image_path} already exists in {destination_folder}\")\n",
    "        return\n",
    "\n",
    "    shutil.copy(json_path, destination_folder)\n",
    "    shutil.copy(image_path, destination_folder)\n",
    "\n",
    "    #delete EA files\n",
    "    json_dest = os.path.join(destination_folder, os.path.basename(json_path))\n",
    "    image_dest = os.path.join(destination_folder, os.path.basename(image_path))\n",
    "\n",
    "    ea_path_json = json_dest.split(\"/\")[:-1] + [\"._\" + json_dest.split(\"/\")[-1]]\n",
    "    ea_path_json = \"/\".join(ea_path_json)\n",
    "    \n",
    "    ea_path_image = image_dest.split(\"/\")[:-1] + [\"._\" + image_dest.split(\"/\")[-1]]\n",
    "    ea_path_image = \"/\".join(ea_path_image)\n",
    "\n",
    "    if os.path.exists(ea_path_json):\n",
    "        os.remove(ea_path_json)\n",
    "    \n",
    "    if os.path.exists(ea_path_image):\n",
    "        os.remove(ea_path_image)"
   ]
  },
  {
   "cell_type": "code",
   "execution_count": 7,
   "metadata": {},
   "outputs": [],
   "source": [
    "def copy_single_batch(all_files, destination_folder):\n",
    "    for json_path in tqdm(all_files, desc=f\"Copying files to {destination_folder}\"):\n",
    "        copy_file(json_path, destination_folder)\n",
    "\n",
    "def copy_batches(all_files, destination_folder, batch_size):\n",
    "    def process_batch(batch_files, batch_folder):\n",
    "        copy_single_batch(batch_files, batch_folder)\n",
    "\n",
    "    with ThreadPoolExecutor(max_workers=16) as executor:\n",
    "        futures = []\n",
    "        for i in range(0, len(all_files), batch_size):\n",
    "            batch_files = all_files[i:i+batch_size]\n",
    "            batch_folder = os.path.join(destination_folder, f\"Batch_{i//batch_size}\")\n",
    "            futures.append(executor.submit(process_batch, batch_files, batch_folder))\n",
    "\n",
    "        for future in as_completed(futures):\n",
    "            future.result()  # To raise any exceptions that occurred during copying\n",
    "\n",
    "    #Check the number of files in the destination folder\n",
    "    print(f\"Copied {len(search_files_in_directory(destination_folder, '.json'))} json files to {destination_folder}\")\n",
    "    print(f\"Copied {len(search_files_in_directory(destination_folder, '.jpg'))} image files to {destination_folder}\")\n",
    "    "
   ]
  },
  {
   "cell_type": "code",
   "execution_count": 8,
   "metadata": {},
   "outputs": [
    {
     "data": {
      "application/vnd.jupyter.widget-view+json": {
       "model_id": "c15efd9155204b0aa3adf4469b81f3c7",
       "version_major": 2,
       "version_minor": 0
      },
      "text/plain": [
       "Copying files to /Volumes/DATASET/Train/Batch_767:   0%|          | 0/1000 [00:00<?, ?it/s]"
      ]
     },
     "metadata": {},
     "output_type": "display_data"
    },
    {
     "data": {
      "application/vnd.jupyter.widget-view+json": {
       "model_id": "6e9fd56489f240739189b30164a7092f",
       "version_major": 2,
       "version_minor": 0
      },
      "text/plain": [
       "Copying files to /Volumes/DATASET/Train/Batch_768:   0%|          | 0/1000 [00:00<?, ?it/s]"
      ]
     },
     "metadata": {},
     "output_type": "display_data"
    },
    {
     "data": {
      "application/vnd.jupyter.widget-view+json": {
       "model_id": "c4a5bed51363487d9e09ffb3976b8230",
       "version_major": 2,
       "version_minor": 0
      },
      "text/plain": [
       "Copying files to /Volumes/DATASET/Train/Batch_769:   0%|          | 0/1000 [00:00<?, ?it/s]"
      ]
     },
     "metadata": {},
     "output_type": "display_data"
    },
    {
     "data": {
      "application/vnd.jupyter.widget-view+json": {
       "model_id": "c32f74d13baa486989caf1636a0bdefa",
       "version_major": 2,
       "version_minor": 0
      },
      "text/plain": [
       "Copying files to /Volumes/DATASET/Train/Batch_770:   0%|          | 0/1000 [00:00<?, ?it/s]"
      ]
     },
     "metadata": {},
     "output_type": "display_data"
    },
    {
     "data": {
      "application/vnd.jupyter.widget-view+json": {
       "model_id": "9b424f6b23264ed6b530e93c7f0e2efa",
       "version_major": 2,
       "version_minor": 0
      },
      "text/plain": [
       "Copying files to /Volumes/DATASET/Train/Batch_771:   0%|          | 0/1000 [00:00<?, ?it/s]"
      ]
     },
     "metadata": {},
     "output_type": "display_data"
    },
    {
     "data": {
      "application/vnd.jupyter.widget-view+json": {
       "model_id": "506322e94fc242f780bb8c86f3caf4df",
       "version_major": 2,
       "version_minor": 0
      },
      "text/plain": [
       "Copying files to /Volumes/DATASET/Train/Batch_772:   0%|          | 0/1000 [00:00<?, ?it/s]"
      ]
     },
     "metadata": {},
     "output_type": "display_data"
    },
    {
     "data": {
      "application/vnd.jupyter.widget-view+json": {
       "model_id": "4f458636a9104f78a34bba8e03469cfc",
       "version_major": 2,
       "version_minor": 0
      },
      "text/plain": [
       "Copying files to /Volumes/DATASET/Train/Batch_773:   0%|          | 0/1000 [00:00<?, ?it/s]"
      ]
     },
     "metadata": {},
     "output_type": "display_data"
    },
    {
     "data": {
      "application/vnd.jupyter.widget-view+json": {
       "model_id": "29b166299d3c4de7922a4bdc43a4ae64",
       "version_major": 2,
       "version_minor": 0
      },
      "text/plain": [
       "Copying files to /Volumes/DATASET/Train/Batch_774:   0%|          | 0/1000 [00:00<?, ?it/s]"
      ]
     },
     "metadata": {},
     "output_type": "display_data"
    },
    {
     "data": {
      "application/vnd.jupyter.widget-view+json": {
       "model_id": "70553845f97a41ada8c32fb230e9cfa1",
       "version_major": 2,
       "version_minor": 0
      },
      "text/plain": [
       "Copying files to /Volumes/DATASET/Train/Batch_775:   0%|          | 0/1000 [00:00<?, ?it/s]"
      ]
     },
     "metadata": {},
     "output_type": "display_data"
    },
    {
     "data": {
      "application/vnd.jupyter.widget-view+json": {
       "model_id": "cba627e29cfe45e2b2f85af68f0c49e0",
       "version_major": 2,
       "version_minor": 0
      },
      "text/plain": [
       "Copying files to /Volumes/DATASET/Train/Batch_776:   0%|          | 0/1000 [00:00<?, ?it/s]"
      ]
     },
     "metadata": {},
     "output_type": "display_data"
    },
    {
     "data": {
      "application/vnd.jupyter.widget-view+json": {
       "model_id": "5263b4d03b4348038ad0c422f9871b43",
       "version_major": 2,
       "version_minor": 0
      },
      "text/plain": [
       "Copying files to /Volumes/DATASET/Train/Batch_777:   0%|          | 0/1000 [00:00<?, ?it/s]"
      ]
     },
     "metadata": {},
     "output_type": "display_data"
    },
    {
     "data": {
      "application/vnd.jupyter.widget-view+json": {
       "model_id": "aa1b3221b6ad455da2f88aa15d8d3044",
       "version_major": 2,
       "version_minor": 0
      },
      "text/plain": [
       "Copying files to /Volumes/DATASET/Train/Batch_778:   0%|          | 0/1000 [00:00<?, ?it/s]"
      ]
     },
     "metadata": {},
     "output_type": "display_data"
    },
    {
     "data": {
      "application/vnd.jupyter.widget-view+json": {
       "model_id": "eacd53ef391c473d974160dda03218dd",
       "version_major": 2,
       "version_minor": 0
      },
      "text/plain": [
       "Copying files to /Volumes/DATASET/Train/Batch_779:   0%|          | 0/1000 [00:00<?, ?it/s]"
      ]
     },
     "metadata": {},
     "output_type": "display_data"
    },
    {
     "data": {
      "application/vnd.jupyter.widget-view+json": {
       "model_id": "eab32e0d31114334bbad28c750d39012",
       "version_major": 2,
       "version_minor": 0
      },
      "text/plain": [
       "Copying files to /Volumes/DATASET/Train/Batch_780:   0%|          | 0/1000 [00:00<?, ?it/s]"
      ]
     },
     "metadata": {},
     "output_type": "display_data"
    },
    {
     "data": {
      "application/vnd.jupyter.widget-view+json": {
       "model_id": "5b168933f5cc43d593e44745bf77277c",
       "version_major": 2,
       "version_minor": 0
      },
      "text/plain": [
       "Copying files to /Volumes/DATASET/Train/Batch_781:   0%|          | 0/1000 [00:00<?, ?it/s]"
      ]
     },
     "metadata": {},
     "output_type": "display_data"
    },
    {
     "data": {
      "application/vnd.jupyter.widget-view+json": {
       "model_id": "7067d14fc1c24f04b6fe7286ac35cbf7",
       "version_major": 2,
       "version_minor": 0
      },
      "text/plain": [
       "Copying files to /Volumes/DATASET/Train/Batch_782:   0%|          | 0/1000 [00:00<?, ?it/s]"
      ]
     },
     "metadata": {},
     "output_type": "display_data"
    },
    {
     "data": {
      "application/vnd.jupyter.widget-view+json": {
       "model_id": "15a90ef4efa94a609cdd11a9fd324cae",
       "version_major": 2,
       "version_minor": 0
      },
      "text/plain": [
       "Copying files to /Volumes/DATASET/Train/Batch_783:   0%|          | 0/1000 [00:00<?, ?it/s]"
      ]
     },
     "metadata": {},
     "output_type": "display_data"
    },
    {
     "data": {
      "application/vnd.jupyter.widget-view+json": {
       "model_id": "33923121202d4e0797e098cdcb4a27a0",
       "version_major": 2,
       "version_minor": 0
      },
      "text/plain": [
       "Copying files to /Volumes/DATASET/Train/Batch_784:   0%|          | 0/1000 [00:00<?, ?it/s]"
      ]
     },
     "metadata": {},
     "output_type": "display_data"
    },
    {
     "data": {
      "application/vnd.jupyter.widget-view+json": {
       "model_id": "cadee2f917d9495ea14cfbcc5819d0ec",
       "version_major": 2,
       "version_minor": 0
      },
      "text/plain": [
       "Copying files to /Volumes/DATASET/Train/Batch_785:   0%|          | 0/1000 [00:00<?, ?it/s]"
      ]
     },
     "metadata": {},
     "output_type": "display_data"
    },
    {
     "data": {
      "application/vnd.jupyter.widget-view+json": {
       "model_id": "58efa275811f40a29b58b4a45a813edc",
       "version_major": 2,
       "version_minor": 0
      },
      "text/plain": [
       "Copying files to /Volumes/DATASET/Train/Batch_786:   0%|          | 0/1000 [00:00<?, ?it/s]"
      ]
     },
     "metadata": {},
     "output_type": "display_data"
    },
    {
     "data": {
      "application/vnd.jupyter.widget-view+json": {
       "model_id": "a2f13eff9eac465dbb3568af791a8b0b",
       "version_major": 2,
       "version_minor": 0
      },
      "text/plain": [
       "Copying files to /Volumes/DATASET/Train/Batch_787:   0%|          | 0/1000 [00:00<?, ?it/s]"
      ]
     },
     "metadata": {},
     "output_type": "display_data"
    },
    {
     "data": {
      "application/vnd.jupyter.widget-view+json": {
       "model_id": "ac4124725f3045389de0b5ddfaf0ac7d",
       "version_major": 2,
       "version_minor": 0
      },
      "text/plain": [
       "Copying files to /Volumes/DATASET/Train/Batch_788:   0%|          | 0/1000 [00:00<?, ?it/s]"
      ]
     },
     "metadata": {},
     "output_type": "display_data"
    },
    {
     "data": {
      "application/vnd.jupyter.widget-view+json": {
       "model_id": "3d62ca3bac2e44aa8fb4a786242a382b",
       "version_major": 2,
       "version_minor": 0
      },
      "text/plain": [
       "Copying files to /Volumes/DATASET/Train/Batch_789:   0%|          | 0/1000 [00:00<?, ?it/s]"
      ]
     },
     "metadata": {},
     "output_type": "display_data"
    },
    {
     "data": {
      "application/vnd.jupyter.widget-view+json": {
       "model_id": "132e007df4574cac9df9c4ecef38156b",
       "version_major": 2,
       "version_minor": 0
      },
      "text/plain": [
       "Copying files to /Volumes/DATASET/Train/Batch_790:   0%|          | 0/1000 [00:00<?, ?it/s]"
      ]
     },
     "metadata": {},
     "output_type": "display_data"
    },
    {
     "data": {
      "application/vnd.jupyter.widget-view+json": {
       "model_id": "81e05c4562824b7c9347d4bb2971c821",
       "version_major": 2,
       "version_minor": 0
      },
      "text/plain": [
       "Copying files to /Volumes/DATASET/Train/Batch_791:   0%|          | 0/1000 [00:00<?, ?it/s]"
      ]
     },
     "metadata": {},
     "output_type": "display_data"
    },
    {
     "data": {
      "application/vnd.jupyter.widget-view+json": {
       "model_id": "e56f7ba339e04b8086b1ca726182560e",
       "version_major": 2,
       "version_minor": 0
      },
      "text/plain": [
       "Copying files to /Volumes/DATASET/Train/Batch_792:   0%|          | 0/1000 [00:00<?, ?it/s]"
      ]
     },
     "metadata": {},
     "output_type": "display_data"
    },
    {
     "data": {
      "application/vnd.jupyter.widget-view+json": {
       "model_id": "703004fc23634fa482a5bd26d9dcbb5f",
       "version_major": 2,
       "version_minor": 0
      },
      "text/plain": [
       "Copying files to /Volumes/DATASET/Train/Batch_793:   0%|          | 0/1000 [00:00<?, ?it/s]"
      ]
     },
     "metadata": {},
     "output_type": "display_data"
    },
    {
     "data": {
      "application/vnd.jupyter.widget-view+json": {
       "model_id": "bb41f35f626648ea879598ec6f4e33ab",
       "version_major": 2,
       "version_minor": 0
      },
      "text/plain": [
       "Copying files to /Volumes/DATASET/Train/Batch_794:   0%|          | 0/1000 [00:00<?, ?it/s]"
      ]
     },
     "metadata": {},
     "output_type": "display_data"
    },
    {
     "data": {
      "application/vnd.jupyter.widget-view+json": {
       "model_id": "acaa6e217573482d9cb2f64ee121f4e5",
       "version_major": 2,
       "version_minor": 0
      },
      "text/plain": [
       "Copying files to /Volumes/DATASET/Train/Batch_795:   0%|          | 0/1000 [00:00<?, ?it/s]"
      ]
     },
     "metadata": {},
     "output_type": "display_data"
    },
    {
     "data": {
      "application/vnd.jupyter.widget-view+json": {
       "model_id": "7c442f3bc16344a68fdc4c710990198e",
       "version_major": 2,
       "version_minor": 0
      },
      "text/plain": [
       "Copying files to /Volumes/DATASET/Train/Batch_796:   0%|          | 0/1000 [00:00<?, ?it/s]"
      ]
     },
     "metadata": {},
     "output_type": "display_data"
    },
    {
     "data": {
      "application/vnd.jupyter.widget-view+json": {
       "model_id": "5174d760e66542e29980d5e00736345b",
       "version_major": 2,
       "version_minor": 0
      },
      "text/plain": [
       "Copying files to /Volumes/DATASET/Train/Batch_797:   0%|          | 0/1000 [00:00<?, ?it/s]"
      ]
     },
     "metadata": {},
     "output_type": "display_data"
    },
    {
     "data": {
      "application/vnd.jupyter.widget-view+json": {
       "model_id": "64c9a5c2df3541a0acd8a3bcadd0c42c",
       "version_major": 2,
       "version_minor": 0
      },
      "text/plain": [
       "Copying files to /Volumes/DATASET/Train/Batch_798:   0%|          | 0/1000 [00:00<?, ?it/s]"
      ]
     },
     "metadata": {},
     "output_type": "display_data"
    },
    {
     "data": {
      "application/vnd.jupyter.widget-view+json": {
       "model_id": "73580a3563a048a1a45242b82cdf54f1",
       "version_major": 2,
       "version_minor": 0
      },
      "text/plain": [
       "Copying files to /Volumes/DATASET/Train/Batch_799:   0%|          | 0/1000 [00:00<?, ?it/s]"
      ]
     },
     "metadata": {},
     "output_type": "display_data"
    },
    {
     "data": {
      "application/vnd.jupyter.widget-view+json": {
       "model_id": "f5cdc28ae12e471999656d5b927c0da9",
       "version_major": 2,
       "version_minor": 0
      },
      "text/plain": [
       "Copying files to /Volumes/DATASET/Train/Batch_800:   0%|          | 0/1000 [00:00<?, ?it/s]"
      ]
     },
     "metadata": {},
     "output_type": "display_data"
    },
    {
     "data": {
      "application/vnd.jupyter.widget-view+json": {
       "model_id": "dc1afba8085d42e2a9f4a029cedcc82a",
       "version_major": 2,
       "version_minor": 0
      },
      "text/plain": [
       "Copying files to /Volumes/DATASET/Train/Batch_801:   0%|          | 0/1000 [00:00<?, ?it/s]"
      ]
     },
     "metadata": {},
     "output_type": "display_data"
    },
    {
     "data": {
      "application/vnd.jupyter.widget-view+json": {
       "model_id": "747ff17c8cfc47949aaabd438aa89a2c",
       "version_major": 2,
       "version_minor": 0
      },
      "text/plain": [
       "Copying files to /Volumes/DATASET/Train/Batch_802:   0%|          | 0/1000 [00:00<?, ?it/s]"
      ]
     },
     "metadata": {},
     "output_type": "display_data"
    },
    {
     "data": {
      "application/vnd.jupyter.widget-view+json": {
       "model_id": "5cceec0c35d04c32b214a54fe1404714",
       "version_major": 2,
       "version_minor": 0
      },
      "text/plain": [
       "Copying files to /Volumes/DATASET/Train/Batch_803:   0%|          | 0/1000 [00:00<?, ?it/s]"
      ]
     },
     "metadata": {},
     "output_type": "display_data"
    },
    {
     "data": {
      "application/vnd.jupyter.widget-view+json": {
       "model_id": "9ee309d03138494ea9f50f3945a0e5b8",
       "version_major": 2,
       "version_minor": 0
      },
      "text/plain": [
       "Copying files to /Volumes/DATASET/Train/Batch_804:   0%|          | 0/1000 [00:00<?, ?it/s]"
      ]
     },
     "metadata": {},
     "output_type": "display_data"
    },
    {
     "data": {
      "application/vnd.jupyter.widget-view+json": {
       "model_id": "74c62b9bc3b74ac1af71d3bdb8090d23",
       "version_major": 2,
       "version_minor": 0
      },
      "text/plain": [
       "Copying files to /Volumes/DATASET/Train/Batch_805:   0%|          | 0/1000 [00:00<?, ?it/s]"
      ]
     },
     "metadata": {},
     "output_type": "display_data"
    },
    {
     "data": {
      "application/vnd.jupyter.widget-view+json": {
       "model_id": "3849ae02aeba41f8a54b4386d9c31795",
       "version_major": 2,
       "version_minor": 0
      },
      "text/plain": [
       "Copying files to /Volumes/DATASET/Train/Batch_806:   0%|          | 0/1000 [00:00<?, ?it/s]"
      ]
     },
     "metadata": {},
     "output_type": "display_data"
    },
    {
     "data": {
      "application/vnd.jupyter.widget-view+json": {
       "model_id": "b9c2706d2a2744d3afbf85b7c53c1a94",
       "version_major": 2,
       "version_minor": 0
      },
      "text/plain": [
       "Copying files to /Volumes/DATASET/Train/Batch_807:   0%|          | 0/1000 [00:00<?, ?it/s]"
      ]
     },
     "metadata": {},
     "output_type": "display_data"
    },
    {
     "data": {
      "application/vnd.jupyter.widget-view+json": {
       "model_id": "9a21da4d74a3424198ec751d3fbcdd2a",
       "version_major": 2,
       "version_minor": 0
      },
      "text/plain": [
       "Copying files to /Volumes/DATASET/Train/Batch_808:   0%|          | 0/1000 [00:00<?, ?it/s]"
      ]
     },
     "metadata": {},
     "output_type": "display_data"
    },
    {
     "data": {
      "application/vnd.jupyter.widget-view+json": {
       "model_id": "bb8a80042f9c4fb5af776aa16008796b",
       "version_major": 2,
       "version_minor": 0
      },
      "text/plain": [
       "Copying files to /Volumes/DATASET/Train/Batch_809:   0%|          | 0/1000 [00:00<?, ?it/s]"
      ]
     },
     "metadata": {},
     "output_type": "display_data"
    },
    {
     "data": {
      "application/vnd.jupyter.widget-view+json": {
       "model_id": "f7f7207dfa2a41b38adb64a9fd5e64af",
       "version_major": 2,
       "version_minor": 0
      },
      "text/plain": [
       "Copying files to /Volumes/DATASET/Train/Batch_810:   0%|          | 0/1000 [00:00<?, ?it/s]"
      ]
     },
     "metadata": {},
     "output_type": "display_data"
    },
    {
     "data": {
      "application/vnd.jupyter.widget-view+json": {
       "model_id": "f6cc4f480b6c4574b66b55ebb8b3c513",
       "version_major": 2,
       "version_minor": 0
      },
      "text/plain": [
       "Copying files to /Volumes/DATASET/Train/Batch_811:   0%|          | 0/1000 [00:00<?, ?it/s]"
      ]
     },
     "metadata": {},
     "output_type": "display_data"
    },
    {
     "data": {
      "application/vnd.jupyter.widget-view+json": {
       "model_id": "54b0189e6f764470bb35b67fc5cb1495",
       "version_major": 2,
       "version_minor": 0
      },
      "text/plain": [
       "Copying files to /Volumes/DATASET/Train/Batch_812:   0%|          | 0/1000 [00:00<?, ?it/s]"
      ]
     },
     "metadata": {},
     "output_type": "display_data"
    },
    {
     "data": {
      "application/vnd.jupyter.widget-view+json": {
       "model_id": "f1d78be3b119468294aa1a7d91bd19fc",
       "version_major": 2,
       "version_minor": 0
      },
      "text/plain": [
       "Copying files to /Volumes/DATASET/Train/Batch_813:   0%|          | 0/1000 [00:00<?, ?it/s]"
      ]
     },
     "metadata": {},
     "output_type": "display_data"
    },
    {
     "data": {
      "application/vnd.jupyter.widget-view+json": {
       "model_id": "749ff244bf324faab5a0f34ba18326f5",
       "version_major": 2,
       "version_minor": 0
      },
      "text/plain": [
       "Copying files to /Volumes/DATASET/Train/Batch_814:   0%|          | 0/1000 [00:00<?, ?it/s]"
      ]
     },
     "metadata": {},
     "output_type": "display_data"
    },
    {
     "data": {
      "application/vnd.jupyter.widget-view+json": {
       "model_id": "40bed5a95452486ab957170680a1c886",
       "version_major": 2,
       "version_minor": 0
      },
      "text/plain": [
       "Copying files to /Volumes/DATASET/Train/Batch_815:   0%|          | 0/1000 [00:00<?, ?it/s]"
      ]
     },
     "metadata": {},
     "output_type": "display_data"
    },
    {
     "data": {
      "application/vnd.jupyter.widget-view+json": {
       "model_id": "ffddaaf343534e829b18660063be0593",
       "version_major": 2,
       "version_minor": 0
      },
      "text/plain": [
       "Copying files to /Volumes/DATASET/Train/Batch_816:   0%|          | 0/1000 [00:00<?, ?it/s]"
      ]
     },
     "metadata": {},
     "output_type": "display_data"
    },
    {
     "data": {
      "application/vnd.jupyter.widget-view+json": {
       "model_id": "f837e44d46194bebab04d90ae5fb988c",
       "version_major": 2,
       "version_minor": 0
      },
      "text/plain": [
       "Copying files to /Volumes/DATASET/Train/Batch_817:   0%|          | 0/1000 [00:00<?, ?it/s]"
      ]
     },
     "metadata": {},
     "output_type": "display_data"
    },
    {
     "data": {
      "application/vnd.jupyter.widget-view+json": {
       "model_id": "6e8d5996b38e4c44adc219fa485cf14b",
       "version_major": 2,
       "version_minor": 0
      },
      "text/plain": [
       "Copying files to /Volumes/DATASET/Train/Batch_818:   0%|          | 0/1000 [00:00<?, ?it/s]"
      ]
     },
     "metadata": {},
     "output_type": "display_data"
    },
    {
     "data": {
      "application/vnd.jupyter.widget-view+json": {
       "model_id": "fd669c139de447b3988c2fb8f55ddbfc",
       "version_major": 2,
       "version_minor": 0
      },
      "text/plain": [
       "Copying files to /Volumes/DATASET/Train/Batch_819:   0%|          | 0/1000 [00:00<?, ?it/s]"
      ]
     },
     "metadata": {},
     "output_type": "display_data"
    },
    {
     "data": {
      "application/vnd.jupyter.widget-view+json": {
       "model_id": "cf8d3f4738664efcb9f70a6f324551a3",
       "version_major": 2,
       "version_minor": 0
      },
      "text/plain": [
       "Copying files to /Volumes/DATASET/Train/Batch_820:   0%|          | 0/1000 [00:00<?, ?it/s]"
      ]
     },
     "metadata": {},
     "output_type": "display_data"
    },
    {
     "data": {
      "application/vnd.jupyter.widget-view+json": {
       "model_id": "2b17ce451c4c49379b9a0e974363e413",
       "version_major": 2,
       "version_minor": 0
      },
      "text/plain": [
       "Copying files to /Volumes/DATASET/Train/Batch_821:   0%|          | 0/1000 [00:00<?, ?it/s]"
      ]
     },
     "metadata": {},
     "output_type": "display_data"
    },
    {
     "data": {
      "application/vnd.jupyter.widget-view+json": {
       "model_id": "77bcd136206c48a2a330acb2a193878d",
       "version_major": 2,
       "version_minor": 0
      },
      "text/plain": [
       "Copying files to /Volumes/DATASET/Train/Batch_822:   0%|          | 0/1000 [00:00<?, ?it/s]"
      ]
     },
     "metadata": {},
     "output_type": "display_data"
    },
    {
     "data": {
      "application/vnd.jupyter.widget-view+json": {
       "model_id": "6e704e12538941199ff11ab37b17e903",
       "version_major": 2,
       "version_minor": 0
      },
      "text/plain": [
       "Copying files to /Volumes/DATASET/Train/Batch_823:   0%|          | 0/1000 [00:00<?, ?it/s]"
      ]
     },
     "metadata": {},
     "output_type": "display_data"
    },
    {
     "data": {
      "application/vnd.jupyter.widget-view+json": {
       "model_id": "7dffc0efdc9a4eeda5f93fc93b675ba7",
       "version_major": 2,
       "version_minor": 0
      },
      "text/plain": [
       "Copying files to /Volumes/DATASET/Train/Batch_824:   0%|          | 0/1000 [00:00<?, ?it/s]"
      ]
     },
     "metadata": {},
     "output_type": "display_data"
    },
    {
     "data": {
      "application/vnd.jupyter.widget-view+json": {
       "model_id": "e302b9c7ad8c4938a70ee8064e684f4f",
       "version_major": 2,
       "version_minor": 0
      },
      "text/plain": [
       "Copying files to /Volumes/DATASET/Train/Batch_825:   0%|          | 0/1000 [00:00<?, ?it/s]"
      ]
     },
     "metadata": {},
     "output_type": "display_data"
    },
    {
     "data": {
      "application/vnd.jupyter.widget-view+json": {
       "model_id": "aebd87c8ee6e4fba9828f1cd571c9621",
       "version_major": 2,
       "version_minor": 0
      },
      "text/plain": [
       "Copying files to /Volumes/DATASET/Train/Batch_826:   0%|          | 0/1000 [00:00<?, ?it/s]"
      ]
     },
     "metadata": {},
     "output_type": "display_data"
    },
    {
     "data": {
      "application/vnd.jupyter.widget-view+json": {
       "model_id": "5e398b003b5e43908e9876a7c9f08cd4",
       "version_major": 2,
       "version_minor": 0
      },
      "text/plain": [
       "Copying files to /Volumes/DATASET/Train/Batch_827:   0%|          | 0/1000 [00:00<?, ?it/s]"
      ]
     },
     "metadata": {},
     "output_type": "display_data"
    },
    {
     "data": {
      "application/vnd.jupyter.widget-view+json": {
       "model_id": "efc3f55533ef441da4610713dc29b079",
       "version_major": 2,
       "version_minor": 0
      },
      "text/plain": [
       "Copying files to /Volumes/DATASET/Train/Batch_828:   0%|          | 0/1000 [00:00<?, ?it/s]"
      ]
     },
     "metadata": {},
     "output_type": "display_data"
    },
    {
     "data": {
      "application/vnd.jupyter.widget-view+json": {
       "model_id": "235cb1673a7f49368af21f1b72b4e23e",
       "version_major": 2,
       "version_minor": 0
      },
      "text/plain": [
       "Copying files to /Volumes/DATASET/Train/Batch_829:   0%|          | 0/1000 [00:00<?, ?it/s]"
      ]
     },
     "metadata": {},
     "output_type": "display_data"
    },
    {
     "data": {
      "application/vnd.jupyter.widget-view+json": {
       "model_id": "eecdf4a6300e4b97b32b4dcab999e3e1",
       "version_major": 2,
       "version_minor": 0
      },
      "text/plain": [
       "Copying files to /Volumes/DATASET/Train/Batch_830:   0%|          | 0/1000 [00:00<?, ?it/s]"
      ]
     },
     "metadata": {},
     "output_type": "display_data"
    },
    {
     "data": {
      "application/vnd.jupyter.widget-view+json": {
       "model_id": "9de07921bd0e45c293e7b8c4f5906530",
       "version_major": 2,
       "version_minor": 0
      },
      "text/plain": [
       "Copying files to /Volumes/DATASET/Train/Batch_831:   0%|          | 0/1000 [00:00<?, ?it/s]"
      ]
     },
     "metadata": {},
     "output_type": "display_data"
    },
    {
     "data": {
      "application/vnd.jupyter.widget-view+json": {
       "model_id": "ed59b9c814104511bed0531d89b4dd4a",
       "version_major": 2,
       "version_minor": 0
      },
      "text/plain": [
       "Copying files to /Volumes/DATASET/Train/Batch_832:   0%|          | 0/1000 [00:00<?, ?it/s]"
      ]
     },
     "metadata": {},
     "output_type": "display_data"
    },
    {
     "data": {
      "application/vnd.jupyter.widget-view+json": {
       "model_id": "6fbab30746d041af81cbcaf3de0b863b",
       "version_major": 2,
       "version_minor": 0
      },
      "text/plain": [
       "Copying files to /Volumes/DATASET/Train/Batch_833:   0%|          | 0/1000 [00:00<?, ?it/s]"
      ]
     },
     "metadata": {},
     "output_type": "display_data"
    },
    {
     "data": {
      "application/vnd.jupyter.widget-view+json": {
       "model_id": "84b93fa4e141469ea2e4b922f39d650f",
       "version_major": 2,
       "version_minor": 0
      },
      "text/plain": [
       "Copying files to /Volumes/DATASET/Train/Batch_834:   0%|          | 0/1000 [00:00<?, ?it/s]"
      ]
     },
     "metadata": {},
     "output_type": "display_data"
    },
    {
     "data": {
      "application/vnd.jupyter.widget-view+json": {
       "model_id": "f4721416904d4f31869d7c75ab13fbd3",
       "version_major": 2,
       "version_minor": 0
      },
      "text/plain": [
       "Copying files to /Volumes/DATASET/Train/Batch_835:   0%|          | 0/1000 [00:00<?, ?it/s]"
      ]
     },
     "metadata": {},
     "output_type": "display_data"
    },
    {
     "data": {
      "application/vnd.jupyter.widget-view+json": {
       "model_id": "4bd80018eaf048e492e4d58e37c26cdb",
       "version_major": 2,
       "version_minor": 0
      },
      "text/plain": [
       "Copying files to /Volumes/DATASET/Train/Batch_836:   0%|          | 0/1000 [00:00<?, ?it/s]"
      ]
     },
     "metadata": {},
     "output_type": "display_data"
    },
    {
     "data": {
      "application/vnd.jupyter.widget-view+json": {
       "model_id": "a968a2beb2b8448389e8e9150b776c7d",
       "version_major": 2,
       "version_minor": 0
      },
      "text/plain": [
       "Copying files to /Volumes/DATASET/Train/Batch_837:   0%|          | 0/1000 [00:00<?, ?it/s]"
      ]
     },
     "metadata": {},
     "output_type": "display_data"
    },
    {
     "data": {
      "application/vnd.jupyter.widget-view+json": {
       "model_id": "6c1e4b8644054eefa4863314e2060e3f",
       "version_major": 2,
       "version_minor": 0
      },
      "text/plain": [
       "Copying files to /Volumes/DATASET/Train/Batch_838:   0%|          | 0/1000 [00:00<?, ?it/s]"
      ]
     },
     "metadata": {},
     "output_type": "display_data"
    },
    {
     "data": {
      "application/vnd.jupyter.widget-view+json": {
       "model_id": "3d84b26821db42b38f8b1a36e0db8575",
       "version_major": 2,
       "version_minor": 0
      },
      "text/plain": [
       "Copying files to /Volumes/DATASET/Train/Batch_839:   0%|          | 0/1000 [00:00<?, ?it/s]"
      ]
     },
     "metadata": {},
     "output_type": "display_data"
    },
    {
     "data": {
      "application/vnd.jupyter.widget-view+json": {
       "model_id": "cb0862c4d8234c19a1a8aaaf4bd2b80a",
       "version_major": 2,
       "version_minor": 0
      },
      "text/plain": [
       "Copying files to /Volumes/DATASET/Train/Batch_840:   0%|          | 0/1000 [00:00<?, ?it/s]"
      ]
     },
     "metadata": {},
     "output_type": "display_data"
    },
    {
     "data": {
      "application/vnd.jupyter.widget-view+json": {
       "model_id": "329b44e89aa34f269ffc84398a0fb3f7",
       "version_major": 2,
       "version_minor": 0
      },
      "text/plain": [
       "Copying files to /Volumes/DATASET/Train/Batch_841:   0%|          | 0/1000 [00:00<?, ?it/s]"
      ]
     },
     "metadata": {},
     "output_type": "display_data"
    },
    {
     "data": {
      "application/vnd.jupyter.widget-view+json": {
       "model_id": "ca336683537b4474bbd4c96ca00a4a41",
       "version_major": 2,
       "version_minor": 0
      },
      "text/plain": [
       "Copying files to /Volumes/DATASET/Train/Batch_842:   0%|          | 0/1000 [00:00<?, ?it/s]"
      ]
     },
     "metadata": {},
     "output_type": "display_data"
    },
    {
     "data": {
      "application/vnd.jupyter.widget-view+json": {
       "model_id": "ee8b6d8bb2c648e197655af3c9c84029",
       "version_major": 2,
       "version_minor": 0
      },
      "text/plain": [
       "Copying files to /Volumes/DATASET/Train/Batch_843:   0%|          | 0/1000 [00:00<?, ?it/s]"
      ]
     },
     "metadata": {},
     "output_type": "display_data"
    },
    {
     "data": {
      "application/vnd.jupyter.widget-view+json": {
       "model_id": "1e41b6b405e440888c85ad7b5a9493e8",
       "version_major": 2,
       "version_minor": 0
      },
      "text/plain": [
       "Copying files to /Volumes/DATASET/Train/Batch_844:   0%|          | 0/1000 [00:00<?, ?it/s]"
      ]
     },
     "metadata": {},
     "output_type": "display_data"
    },
    {
     "data": {
      "application/vnd.jupyter.widget-view+json": {
       "model_id": "4d6c06ff07874062bc053df2c8ce9554",
       "version_major": 2,
       "version_minor": 0
      },
      "text/plain": [
       "Copying files to /Volumes/DATASET/Train/Batch_845:   0%|          | 0/1000 [00:00<?, ?it/s]"
      ]
     },
     "metadata": {},
     "output_type": "display_data"
    },
    {
     "data": {
      "application/vnd.jupyter.widget-view+json": {
       "model_id": "8bd62c62fddd42ff99e837e85ae5ead9",
       "version_major": 2,
       "version_minor": 0
      },
      "text/plain": [
       "Copying files to /Volumes/DATASET/Train/Batch_846:   0%|          | 0/1000 [00:00<?, ?it/s]"
      ]
     },
     "metadata": {},
     "output_type": "display_data"
    },
    {
     "data": {
      "application/vnd.jupyter.widget-view+json": {
       "model_id": "1c45d31d6000471b9925c8c7bc89592e",
       "version_major": 2,
       "version_minor": 0
      },
      "text/plain": [
       "Copying files to /Volumes/DATASET/Train/Batch_847:   0%|          | 0/1000 [00:00<?, ?it/s]"
      ]
     },
     "metadata": {},
     "output_type": "display_data"
    },
    {
     "data": {
      "application/vnd.jupyter.widget-view+json": {
       "model_id": "914e9e7c2d014ac18f6ab12a6a7a1696",
       "version_major": 2,
       "version_minor": 0
      },
      "text/plain": [
       "Copying files to /Volumes/DATASET/Train/Batch_848:   0%|          | 0/1000 [00:00<?, ?it/s]"
      ]
     },
     "metadata": {},
     "output_type": "display_data"
    },
    {
     "data": {
      "application/vnd.jupyter.widget-view+json": {
       "model_id": "0af15bcfca534c6781d9121067af9877",
       "version_major": 2,
       "version_minor": 0
      },
      "text/plain": [
       "Copying files to /Volumes/DATASET/Train/Batch_849:   0%|          | 0/1000 [00:00<?, ?it/s]"
      ]
     },
     "metadata": {},
     "output_type": "display_data"
    },
    {
     "data": {
      "application/vnd.jupyter.widget-view+json": {
       "model_id": "4527fc87edbe457788f12e0a43015db0",
       "version_major": 2,
       "version_minor": 0
      },
      "text/plain": [
       "Copying files to /Volumes/DATASET/Train/Batch_850:   0%|          | 0/1000 [00:00<?, ?it/s]"
      ]
     },
     "metadata": {},
     "output_type": "display_data"
    },
    {
     "data": {
      "application/vnd.jupyter.widget-view+json": {
       "model_id": "1fdc596db0b04abc842c9f7231139573",
       "version_major": 2,
       "version_minor": 0
      },
      "text/plain": [
       "Copying files to /Volumes/DATASET/Train/Batch_851:   0%|          | 0/1000 [00:00<?, ?it/s]"
      ]
     },
     "metadata": {},
     "output_type": "display_data"
    },
    {
     "data": {
      "application/vnd.jupyter.widget-view+json": {
       "model_id": "43c9399a6c4742edaa884796309de275",
       "version_major": 2,
       "version_minor": 0
      },
      "text/plain": [
       "Copying files to /Volumes/DATASET/Train/Batch_852:   0%|          | 0/1000 [00:00<?, ?it/s]"
      ]
     },
     "metadata": {},
     "output_type": "display_data"
    },
    {
     "data": {
      "application/vnd.jupyter.widget-view+json": {
       "model_id": "dce48a2ebf9e4892b8ad4442d94dc833",
       "version_major": 2,
       "version_minor": 0
      },
      "text/plain": [
       "Copying files to /Volumes/DATASET/Train/Batch_853:   0%|          | 0/1000 [00:00<?, ?it/s]"
      ]
     },
     "metadata": {},
     "output_type": "display_data"
    },
    {
     "data": {
      "application/vnd.jupyter.widget-view+json": {
       "model_id": "ddd86536bc97470da80ac42e71a79381",
       "version_major": 2,
       "version_minor": 0
      },
      "text/plain": [
       "Copying files to /Volumes/DATASET/Train/Batch_854:   0%|          | 0/1000 [00:00<?, ?it/s]"
      ]
     },
     "metadata": {},
     "output_type": "display_data"
    },
    {
     "data": {
      "application/vnd.jupyter.widget-view+json": {
       "model_id": "bcf10c4e4d1c43119ef144eaf5cf26bd",
       "version_major": 2,
       "version_minor": 0
      },
      "text/plain": [
       "Copying files to /Volumes/DATASET/Train/Batch_855:   0%|          | 0/1000 [00:00<?, ?it/s]"
      ]
     },
     "metadata": {},
     "output_type": "display_data"
    },
    {
     "data": {
      "application/vnd.jupyter.widget-view+json": {
       "model_id": "34e23f670e20432eaaed829dcdb03a9c",
       "version_major": 2,
       "version_minor": 0
      },
      "text/plain": [
       "Copying files to /Volumes/DATASET/Train/Batch_856:   0%|          | 0/1000 [00:00<?, ?it/s]"
      ]
     },
     "metadata": {},
     "output_type": "display_data"
    },
    {
     "data": {
      "application/vnd.jupyter.widget-view+json": {
       "model_id": "78f0e2c91b7e4e80aa2e7c2877e2c0cf",
       "version_major": 2,
       "version_minor": 0
      },
      "text/plain": [
       "Copying files to /Volumes/DATASET/Train/Batch_857:   0%|          | 0/1000 [00:00<?, ?it/s]"
      ]
     },
     "metadata": {},
     "output_type": "display_data"
    },
    {
     "data": {
      "application/vnd.jupyter.widget-view+json": {
       "model_id": "a4979704d240481092d2d23fd56742f5",
       "version_major": 2,
       "version_minor": 0
      },
      "text/plain": [
       "Copying files to /Volumes/DATASET/Train/Batch_858:   0%|          | 0/1000 [00:00<?, ?it/s]"
      ]
     },
     "metadata": {},
     "output_type": "display_data"
    },
    {
     "data": {
      "application/vnd.jupyter.widget-view+json": {
       "model_id": "4c33ec06885d4b6fa526e5e907fbd8c2",
       "version_major": 2,
       "version_minor": 0
      },
      "text/plain": [
       "Copying files to /Volumes/DATASET/Train/Batch_859:   0%|          | 0/1000 [00:00<?, ?it/s]"
      ]
     },
     "metadata": {},
     "output_type": "display_data"
    },
    {
     "data": {
      "application/vnd.jupyter.widget-view+json": {
       "model_id": "70ee5e0d14774c6f9935ac122c32555a",
       "version_major": 2,
       "version_minor": 0
      },
      "text/plain": [
       "Copying files to /Volumes/DATASET/Train/Batch_860:   0%|          | 0/1000 [00:00<?, ?it/s]"
      ]
     },
     "metadata": {},
     "output_type": "display_data"
    },
    {
     "data": {
      "application/vnd.jupyter.widget-view+json": {
       "model_id": "87b826afd4cd49d2b82141b95594c694",
       "version_major": 2,
       "version_minor": 0
      },
      "text/plain": [
       "Copying files to /Volumes/DATASET/Train/Batch_861:   0%|          | 0/1000 [00:00<?, ?it/s]"
      ]
     },
     "metadata": {},
     "output_type": "display_data"
    },
    {
     "data": {
      "application/vnd.jupyter.widget-view+json": {
       "model_id": "b6d9fafe6e3042e88a02e9cb44c4d11f",
       "version_major": 2,
       "version_minor": 0
      },
      "text/plain": [
       "Copying files to /Volumes/DATASET/Train/Batch_862:   0%|          | 0/1000 [00:00<?, ?it/s]"
      ]
     },
     "metadata": {},
     "output_type": "display_data"
    },
    {
     "data": {
      "application/vnd.jupyter.widget-view+json": {
       "model_id": "9e2a82e51dc641b598cb0e6d1afcbed8",
       "version_major": 2,
       "version_minor": 0
      },
      "text/plain": [
       "Copying files to /Volumes/DATASET/Train/Batch_863:   0%|          | 0/1000 [00:00<?, ?it/s]"
      ]
     },
     "metadata": {},
     "output_type": "display_data"
    },
    {
     "data": {
      "application/vnd.jupyter.widget-view+json": {
       "model_id": "a263a36fe5014217aaf55a5ae11cbaf3",
       "version_major": 2,
       "version_minor": 0
      },
      "text/plain": [
       "Copying files to /Volumes/DATASET/Train/Batch_864:   0%|          | 0/1000 [00:00<?, ?it/s]"
      ]
     },
     "metadata": {},
     "output_type": "display_data"
    },
    {
     "data": {
      "application/vnd.jupyter.widget-view+json": {
       "model_id": "9398ec2c62cc4ac49f6ee490bab215e4",
       "version_major": 2,
       "version_minor": 0
      },
      "text/plain": [
       "Copying files to /Volumes/DATASET/Train/Batch_865:   0%|          | 0/1000 [00:00<?, ?it/s]"
      ]
     },
     "metadata": {},
     "output_type": "display_data"
    },
    {
     "data": {
      "application/vnd.jupyter.widget-view+json": {
       "model_id": "916474231cd74d87a4e1ef9e3e241671",
       "version_major": 2,
       "version_minor": 0
      },
      "text/plain": [
       "Copying files to /Volumes/DATASET/Train/Batch_866:   0%|          | 0/1000 [00:00<?, ?it/s]"
      ]
     },
     "metadata": {},
     "output_type": "display_data"
    },
    {
     "data": {
      "application/vnd.jupyter.widget-view+json": {
       "model_id": "6ebea2529b624281a127dc90f6e0804f",
       "version_major": 2,
       "version_minor": 0
      },
      "text/plain": [
       "Copying files to /Volumes/DATASET/Train/Batch_867:   0%|          | 0/1000 [00:00<?, ?it/s]"
      ]
     },
     "metadata": {},
     "output_type": "display_data"
    },
    {
     "data": {
      "application/vnd.jupyter.widget-view+json": {
       "model_id": "56fba3b83668480cbc4a90f36b19c474",
       "version_major": 2,
       "version_minor": 0
      },
      "text/plain": [
       "Copying files to /Volumes/DATASET/Train/Batch_868:   0%|          | 0/1000 [00:00<?, ?it/s]"
      ]
     },
     "metadata": {},
     "output_type": "display_data"
    },
    {
     "data": {
      "application/vnd.jupyter.widget-view+json": {
       "model_id": "e7e0c33b1ceb4791a4f7fd7020e5ccfc",
       "version_major": 2,
       "version_minor": 0
      },
      "text/plain": [
       "Copying files to /Volumes/DATASET/Train/Batch_869:   0%|          | 0/1000 [00:00<?, ?it/s]"
      ]
     },
     "metadata": {},
     "output_type": "display_data"
    },
    {
     "data": {
      "application/vnd.jupyter.widget-view+json": {
       "model_id": "527d64a86d4b43249d51a1403d9b5508",
       "version_major": 2,
       "version_minor": 0
      },
      "text/plain": [
       "Copying files to /Volumes/DATASET/Train/Batch_870:   0%|          | 0/1000 [00:00<?, ?it/s]"
      ]
     },
     "metadata": {},
     "output_type": "display_data"
    },
    {
     "data": {
      "application/vnd.jupyter.widget-view+json": {
       "model_id": "47384fd011f946cdb3eb3f5f9e69784c",
       "version_major": 2,
       "version_minor": 0
      },
      "text/plain": [
       "Copying files to /Volumes/DATASET/Train/Batch_871:   0%|          | 0/1000 [00:00<?, ?it/s]"
      ]
     },
     "metadata": {},
     "output_type": "display_data"
    },
    {
     "data": {
      "application/vnd.jupyter.widget-view+json": {
       "model_id": "7c45314788024dad91282742136db830",
       "version_major": 2,
       "version_minor": 0
      },
      "text/plain": [
       "Copying files to /Volumes/DATASET/Train/Batch_872:   0%|          | 0/1000 [00:00<?, ?it/s]"
      ]
     },
     "metadata": {},
     "output_type": "display_data"
    },
    {
     "data": {
      "application/vnd.jupyter.widget-view+json": {
       "model_id": "7847fe39d8a24d7abd8c22d896de19fb",
       "version_major": 2,
       "version_minor": 0
      },
      "text/plain": [
       "Copying files to /Volumes/DATASET/Train/Batch_873:   0%|          | 0/1000 [00:00<?, ?it/s]"
      ]
     },
     "metadata": {},
     "output_type": "display_data"
    },
    {
     "data": {
      "application/vnd.jupyter.widget-view+json": {
       "model_id": "1498a54cfda346c383adb80dd1af968b",
       "version_major": 2,
       "version_minor": 0
      },
      "text/plain": [
       "Copying files to /Volumes/DATASET/Train/Batch_874:   0%|          | 0/1000 [00:00<?, ?it/s]"
      ]
     },
     "metadata": {},
     "output_type": "display_data"
    },
    {
     "data": {
      "application/vnd.jupyter.widget-view+json": {
       "model_id": "31f7017348a7476f87a2c7c90e2cb5b3",
       "version_major": 2,
       "version_minor": 0
      },
      "text/plain": [
       "Copying files to /Volumes/DATASET/Train/Batch_875:   0%|          | 0/1000 [00:00<?, ?it/s]"
      ]
     },
     "metadata": {},
     "output_type": "display_data"
    },
    {
     "data": {
      "application/vnd.jupyter.widget-view+json": {
       "model_id": "277f6043049d48689d4d12320510f612",
       "version_major": 2,
       "version_minor": 0
      },
      "text/plain": [
       "Copying files to /Volumes/DATASET/Train/Batch_876:   0%|          | 0/1000 [00:00<?, ?it/s]"
      ]
     },
     "metadata": {},
     "output_type": "display_data"
    },
    {
     "data": {
      "application/vnd.jupyter.widget-view+json": {
       "model_id": "9c4fb51c87b846d1bbe267ab5dafa7af",
       "version_major": 2,
       "version_minor": 0
      },
      "text/plain": [
       "Copying files to /Volumes/DATASET/Train/Batch_877:   0%|          | 0/1000 [00:00<?, ?it/s]"
      ]
     },
     "metadata": {},
     "output_type": "display_data"
    },
    {
     "data": {
      "application/vnd.jupyter.widget-view+json": {
       "model_id": "6bbce47ad7d649989bf70941f877dfe1",
       "version_major": 2,
       "version_minor": 0
      },
      "text/plain": [
       "Copying files to /Volumes/DATASET/Train/Batch_878:   0%|          | 0/1000 [00:00<?, ?it/s]"
      ]
     },
     "metadata": {},
     "output_type": "display_data"
    },
    {
     "data": {
      "application/vnd.jupyter.widget-view+json": {
       "model_id": "f6e3f18b24684d879733368289835023",
       "version_major": 2,
       "version_minor": 0
      },
      "text/plain": [
       "Copying files to /Volumes/DATASET/Train/Batch_879:   0%|          | 0/1000 [00:00<?, ?it/s]"
      ]
     },
     "metadata": {},
     "output_type": "display_data"
    },
    {
     "data": {
      "application/vnd.jupyter.widget-view+json": {
       "model_id": "da47e41d09ef4ad98cf536cc0a3e4e08",
       "version_major": 2,
       "version_minor": 0
      },
      "text/plain": [
       "Copying files to /Volumes/DATASET/Train/Batch_880:   0%|          | 0/1000 [00:00<?, ?it/s]"
      ]
     },
     "metadata": {},
     "output_type": "display_data"
    },
    {
     "data": {
      "application/vnd.jupyter.widget-view+json": {
       "model_id": "e60411a6c0eb4272b93ac8878a941132",
       "version_major": 2,
       "version_minor": 0
      },
      "text/plain": [
       "Copying files to /Volumes/DATASET/Train/Batch_881:   0%|          | 0/1000 [00:00<?, ?it/s]"
      ]
     },
     "metadata": {},
     "output_type": "display_data"
    },
    {
     "data": {
      "application/vnd.jupyter.widget-view+json": {
       "model_id": "f932974d2f0b4a93beb3becab42ff119",
       "version_major": 2,
       "version_minor": 0
      },
      "text/plain": [
       "Copying files to /Volumes/DATASET/Train/Batch_882:   0%|          | 0/1000 [00:00<?, ?it/s]"
      ]
     },
     "metadata": {},
     "output_type": "display_data"
    },
    {
     "data": {
      "application/vnd.jupyter.widget-view+json": {
       "model_id": "0192aaa36b88475084d3e2e97d015af6",
       "version_major": 2,
       "version_minor": 0
      },
      "text/plain": [
       "Copying files to /Volumes/DATASET/Train/Batch_883:   0%|          | 0/1000 [00:00<?, ?it/s]"
      ]
     },
     "metadata": {},
     "output_type": "display_data"
    },
    {
     "data": {
      "application/vnd.jupyter.widget-view+json": {
       "model_id": "59d2a01039b14d3e837320dc4074494b",
       "version_major": 2,
       "version_minor": 0
      },
      "text/plain": [
       "Copying files to /Volumes/DATASET/Train/Batch_884:   0%|          | 0/1000 [00:00<?, ?it/s]"
      ]
     },
     "metadata": {},
     "output_type": "display_data"
    },
    {
     "data": {
      "application/vnd.jupyter.widget-view+json": {
       "model_id": "b281b9488ccb42edaa0cae484e931752",
       "version_major": 2,
       "version_minor": 0
      },
      "text/plain": [
       "Copying files to /Volumes/DATASET/Train/Batch_885:   0%|          | 0/1000 [00:00<?, ?it/s]"
      ]
     },
     "metadata": {},
     "output_type": "display_data"
    },
    {
     "data": {
      "application/vnd.jupyter.widget-view+json": {
       "model_id": "ff976b082bc74a20b2827dd8d69f72a0",
       "version_major": 2,
       "version_minor": 0
      },
      "text/plain": [
       "Copying files to /Volumes/DATASET/Train/Batch_886:   0%|          | 0/1000 [00:00<?, ?it/s]"
      ]
     },
     "metadata": {},
     "output_type": "display_data"
    },
    {
     "data": {
      "application/vnd.jupyter.widget-view+json": {
       "model_id": "9caeaf17f1b0409ab16825ce2a6a398a",
       "version_major": 2,
       "version_minor": 0
      },
      "text/plain": [
       "Copying files to /Volumes/DATASET/Train/Batch_887:   0%|          | 0/1000 [00:00<?, ?it/s]"
      ]
     },
     "metadata": {},
     "output_type": "display_data"
    },
    {
     "data": {
      "application/vnd.jupyter.widget-view+json": {
       "model_id": "fe8eabcfc73346598f7d84e56fbc4cfb",
       "version_major": 2,
       "version_minor": 0
      },
      "text/plain": [
       "Copying files to /Volumes/DATASET/Train/Batch_888:   0%|          | 0/1000 [00:00<?, ?it/s]"
      ]
     },
     "metadata": {},
     "output_type": "display_data"
    },
    {
     "data": {
      "application/vnd.jupyter.widget-view+json": {
       "model_id": "3f60c0bfb4a44ee68bf15887c465902b",
       "version_major": 2,
       "version_minor": 0
      },
      "text/plain": [
       "Copying files to /Volumes/DATASET/Train/Batch_889:   0%|          | 0/1000 [00:00<?, ?it/s]"
      ]
     },
     "metadata": {},
     "output_type": "display_data"
    },
    {
     "data": {
      "application/vnd.jupyter.widget-view+json": {
       "model_id": "ef16f05dd02b46abb323c5fbcfe4c0c7",
       "version_major": 2,
       "version_minor": 0
      },
      "text/plain": [
       "Copying files to /Volumes/DATASET/Train/Batch_890:   0%|          | 0/1000 [00:00<?, ?it/s]"
      ]
     },
     "metadata": {},
     "output_type": "display_data"
    },
    {
     "data": {
      "application/vnd.jupyter.widget-view+json": {
       "model_id": "c85d578314fa4f8da8344ee9e5d54d0b",
       "version_major": 2,
       "version_minor": 0
      },
      "text/plain": [
       "Copying files to /Volumes/DATASET/Train/Batch_891:   0%|          | 0/1000 [00:00<?, ?it/s]"
      ]
     },
     "metadata": {},
     "output_type": "display_data"
    },
    {
     "data": {
      "application/vnd.jupyter.widget-view+json": {
       "model_id": "ae4cc2bd0fc34aee96a94f4c4b68a3ac",
       "version_major": 2,
       "version_minor": 0
      },
      "text/plain": [
       "Copying files to /Volumes/DATASET/Train/Batch_892:   0%|          | 0/1000 [00:00<?, ?it/s]"
      ]
     },
     "metadata": {},
     "output_type": "display_data"
    },
    {
     "data": {
      "application/vnd.jupyter.widget-view+json": {
       "model_id": "447d75d96aec48f1b8a4a5009a1da474",
       "version_major": 2,
       "version_minor": 0
      },
      "text/plain": [
       "Copying files to /Volumes/DATASET/Train/Batch_893:   0%|          | 0/1000 [00:00<?, ?it/s]"
      ]
     },
     "metadata": {},
     "output_type": "display_data"
    },
    {
     "data": {
      "application/vnd.jupyter.widget-view+json": {
       "model_id": "473b34556689491d84b9c803d7dd73c1",
       "version_major": 2,
       "version_minor": 0
      },
      "text/plain": [
       "Copying files to /Volumes/DATASET/Train/Batch_894:   0%|          | 0/1000 [00:00<?, ?it/s]"
      ]
     },
     "metadata": {},
     "output_type": "display_data"
    },
    {
     "data": {
      "application/vnd.jupyter.widget-view+json": {
       "model_id": "fd786d0c8da6439e8121bd1098fd325a",
       "version_major": 2,
       "version_minor": 0
      },
      "text/plain": [
       "Copying files to /Volumes/DATASET/Train/Batch_895:   0%|          | 0/1000 [00:00<?, ?it/s]"
      ]
     },
     "metadata": {},
     "output_type": "display_data"
    },
    {
     "data": {
      "application/vnd.jupyter.widget-view+json": {
       "model_id": "2e66d4bc1f6d4a4ab5d2e4b65c8ca50d",
       "version_major": 2,
       "version_minor": 0
      },
      "text/plain": [
       "Copying files to /Volumes/DATASET/Train/Batch_896:   0%|          | 0/1000 [00:00<?, ?it/s]"
      ]
     },
     "metadata": {},
     "output_type": "display_data"
    },
    {
     "data": {
      "application/vnd.jupyter.widget-view+json": {
       "model_id": "5c7af1073f9d4467b3658d1c9503d9a6",
       "version_major": 2,
       "version_minor": 0
      },
      "text/plain": [
       "Copying files to /Volumes/DATASET/Train/Batch_897:   0%|          | 0/1000 [00:00<?, ?it/s]"
      ]
     },
     "metadata": {},
     "output_type": "display_data"
    },
    {
     "data": {
      "application/vnd.jupyter.widget-view+json": {
       "model_id": "c6270add4722426295fa5227c3b934de",
       "version_major": 2,
       "version_minor": 0
      },
      "text/plain": [
       "Copying files to /Volumes/DATASET/Train/Batch_899:   0%|          | 0/1000 [00:00<?, ?it/s]"
      ]
     },
     "metadata": {},
     "output_type": "display_data"
    },
    {
     "data": {
      "application/vnd.jupyter.widget-view+json": {
       "model_id": "244512656977458aaf05b82377ab02e9",
       "version_major": 2,
       "version_minor": 0
      },
      "text/plain": [
       "Copying files to /Volumes/DATASET/Train/Batch_898:   0%|          | 0/1000 [00:00<?, ?it/s]"
      ]
     },
     "metadata": {},
     "output_type": "display_data"
    },
    {
     "data": {
      "application/vnd.jupyter.widget-view+json": {
       "model_id": "ed675ff40ed14010af5931ae4a500c6e",
       "version_major": 2,
       "version_minor": 0
      },
      "text/plain": [
       "Copying files to /Volumes/DATASET/Train/Batch_900:   0%|          | 0/1000 [00:00<?, ?it/s]"
      ]
     },
     "metadata": {},
     "output_type": "display_data"
    },
    {
     "data": {
      "application/vnd.jupyter.widget-view+json": {
       "model_id": "50255ed4dc434193b9e0de35933f357f",
       "version_major": 2,
       "version_minor": 0
      },
      "text/plain": [
       "Copying files to /Volumes/DATASET/Train/Batch_901:   0%|          | 0/1000 [00:00<?, ?it/s]"
      ]
     },
     "metadata": {},
     "output_type": "display_data"
    },
    {
     "data": {
      "application/vnd.jupyter.widget-view+json": {
       "model_id": "765eadfe016a4cbdb2b70dd675d5e2c7",
       "version_major": 2,
       "version_minor": 0
      },
      "text/plain": [
       "Copying files to /Volumes/DATASET/Train/Batch_902:   0%|          | 0/1000 [00:00<?, ?it/s]"
      ]
     },
     "metadata": {},
     "output_type": "display_data"
    },
    {
     "data": {
      "application/vnd.jupyter.widget-view+json": {
       "model_id": "f5306610046744d2ae4814fbb42044ad",
       "version_major": 2,
       "version_minor": 0
      },
      "text/plain": [
       "Copying files to /Volumes/DATASET/Train/Batch_903:   0%|          | 0/1000 [00:00<?, ?it/s]"
      ]
     },
     "metadata": {},
     "output_type": "display_data"
    },
    {
     "data": {
      "application/vnd.jupyter.widget-view+json": {
       "model_id": "d780031e15844bb79f4b899b2e12b581",
       "version_major": 2,
       "version_minor": 0
      },
      "text/plain": [
       "Copying files to /Volumes/DATASET/Train/Batch_904:   0%|          | 0/1000 [00:00<?, ?it/s]"
      ]
     },
     "metadata": {},
     "output_type": "display_data"
    },
    {
     "data": {
      "application/vnd.jupyter.widget-view+json": {
       "model_id": "402b505fe7b94ffdb24c486717a3a506",
       "version_major": 2,
       "version_minor": 0
      },
      "text/plain": [
       "Copying files to /Volumes/DATASET/Train/Batch_905:   0%|          | 0/1000 [00:00<?, ?it/s]"
      ]
     },
     "metadata": {},
     "output_type": "display_data"
    },
    {
     "data": {
      "application/vnd.jupyter.widget-view+json": {
       "model_id": "c43f66386753496ab6305a222f7fc2ba",
       "version_major": 2,
       "version_minor": 0
      },
      "text/plain": [
       "Copying files to /Volumes/DATASET/Train/Batch_906:   0%|          | 0/1000 [00:00<?, ?it/s]"
      ]
     },
     "metadata": {},
     "output_type": "display_data"
    },
    {
     "data": {
      "application/vnd.jupyter.widget-view+json": {
       "model_id": "6249422b20cf4785915d830b778eca10",
       "version_major": 2,
       "version_minor": 0
      },
      "text/plain": [
       "Copying files to /Volumes/DATASET/Train/Batch_907:   0%|          | 0/1000 [00:00<?, ?it/s]"
      ]
     },
     "metadata": {},
     "output_type": "display_data"
    },
    {
     "data": {
      "application/vnd.jupyter.widget-view+json": {
       "model_id": "64880158373a46c1bae521e5351c7e01",
       "version_major": 2,
       "version_minor": 0
      },
      "text/plain": [
       "Copying files to /Volumes/DATASET/Train/Batch_908:   0%|          | 0/1000 [00:00<?, ?it/s]"
      ]
     },
     "metadata": {},
     "output_type": "display_data"
    },
    {
     "data": {
      "application/vnd.jupyter.widget-view+json": {
       "model_id": "5758641fc8bb44b5b39807fd1a05e0d3",
       "version_major": 2,
       "version_minor": 0
      },
      "text/plain": [
       "Copying files to /Volumes/DATASET/Train/Batch_909:   0%|          | 0/1000 [00:00<?, ?it/s]"
      ]
     },
     "metadata": {},
     "output_type": "display_data"
    },
    {
     "data": {
      "application/vnd.jupyter.widget-view+json": {
       "model_id": "a482abe2cced4fa792c6c4385d48c07e",
       "version_major": 2,
       "version_minor": 0
      },
      "text/plain": [
       "Copying files to /Volumes/DATASET/Train/Batch_910:   0%|          | 0/1000 [00:00<?, ?it/s]"
      ]
     },
     "metadata": {},
     "output_type": "display_data"
    },
    {
     "data": {
      "application/vnd.jupyter.widget-view+json": {
       "model_id": "8cb5a81fe4d24af081c0e461b8c61baa",
       "version_major": 2,
       "version_minor": 0
      },
      "text/plain": [
       "Copying files to /Volumes/DATASET/Train/Batch_911:   0%|          | 0/1000 [00:00<?, ?it/s]"
      ]
     },
     "metadata": {},
     "output_type": "display_data"
    },
    {
     "data": {
      "application/vnd.jupyter.widget-view+json": {
       "model_id": "5e795baf1016409e8e90fcfd5083bb6f",
       "version_major": 2,
       "version_minor": 0
      },
      "text/plain": [
       "Copying files to /Volumes/DATASET/Train/Batch_912:   0%|          | 0/1000 [00:00<?, ?it/s]"
      ]
     },
     "metadata": {},
     "output_type": "display_data"
    },
    {
     "data": {
      "application/vnd.jupyter.widget-view+json": {
       "model_id": "e7b89aef871f4d62902c033ab0c73fd7",
       "version_major": 2,
       "version_minor": 0
      },
      "text/plain": [
       "Copying files to /Volumes/DATASET/Train/Batch_913:   0%|          | 0/1000 [00:00<?, ?it/s]"
      ]
     },
     "metadata": {},
     "output_type": "display_data"
    },
    {
     "data": {
      "application/vnd.jupyter.widget-view+json": {
       "model_id": "64540c68ee6e40869c61c41e95187e64",
       "version_major": 2,
       "version_minor": 0
      },
      "text/plain": [
       "Copying files to /Volumes/DATASET/Train/Batch_914:   0%|          | 0/1000 [00:00<?, ?it/s]"
      ]
     },
     "metadata": {},
     "output_type": "display_data"
    },
    {
     "data": {
      "application/vnd.jupyter.widget-view+json": {
       "model_id": "8d1029ce930a45659982f0c28a999cd0",
       "version_major": 2,
       "version_minor": 0
      },
      "text/plain": [
       "Copying files to /Volumes/DATASET/Train/Batch_915:   0%|          | 0/1000 [00:00<?, ?it/s]"
      ]
     },
     "metadata": {},
     "output_type": "display_data"
    },
    {
     "data": {
      "application/vnd.jupyter.widget-view+json": {
       "model_id": "dbe409029b9347b591ee866ad9fe7c75",
       "version_major": 2,
       "version_minor": 0
      },
      "text/plain": [
       "Copying files to /Volumes/DATASET/Train/Batch_916:   0%|          | 0/1000 [00:00<?, ?it/s]"
      ]
     },
     "metadata": {},
     "output_type": "display_data"
    },
    {
     "data": {
      "application/vnd.jupyter.widget-view+json": {
       "model_id": "42a717ff73b44bda8bc472100cdda750",
       "version_major": 2,
       "version_minor": 0
      },
      "text/plain": [
       "Copying files to /Volumes/DATASET/Train/Batch_917:   0%|          | 0/1000 [00:00<?, ?it/s]"
      ]
     },
     "metadata": {},
     "output_type": "display_data"
    },
    {
     "data": {
      "application/vnd.jupyter.widget-view+json": {
       "model_id": "03848af224fb43bb854af8d41eb50f18",
       "version_major": 2,
       "version_minor": 0
      },
      "text/plain": [
       "Copying files to /Volumes/DATASET/Train/Batch_918:   0%|          | 0/1000 [00:00<?, ?it/s]"
      ]
     },
     "metadata": {},
     "output_type": "display_data"
    },
    {
     "data": {
      "application/vnd.jupyter.widget-view+json": {
       "model_id": "0d3d76ca516f42f49037fefb5d2e7ea7",
       "version_major": 2,
       "version_minor": 0
      },
      "text/plain": [
       "Copying files to /Volumes/DATASET/Train/Batch_919:   0%|          | 0/1000 [00:00<?, ?it/s]"
      ]
     },
     "metadata": {},
     "output_type": "display_data"
    },
    {
     "data": {
      "application/vnd.jupyter.widget-view+json": {
       "model_id": "c729575296f24e57818903254cea5c47",
       "version_major": 2,
       "version_minor": 0
      },
      "text/plain": [
       "Copying files to /Volumes/DATASET/Train/Batch_920:   0%|          | 0/1000 [00:00<?, ?it/s]"
      ]
     },
     "metadata": {},
     "output_type": "display_data"
    },
    {
     "data": {
      "application/vnd.jupyter.widget-view+json": {
       "model_id": "8c24577de6a44c5aa0feb3d862d892bf",
       "version_major": 2,
       "version_minor": 0
      },
      "text/plain": [
       "Copying files to /Volumes/DATASET/Train/Batch_921:   0%|          | 0/1000 [00:00<?, ?it/s]"
      ]
     },
     "metadata": {},
     "output_type": "display_data"
    },
    {
     "data": {
      "application/vnd.jupyter.widget-view+json": {
       "model_id": "59206955e91744deb71825cc6d9ab511",
       "version_major": 2,
       "version_minor": 0
      },
      "text/plain": [
       "Copying files to /Volumes/DATASET/Train/Batch_922:   0%|          | 0/1000 [00:00<?, ?it/s]"
      ]
     },
     "metadata": {},
     "output_type": "display_data"
    },
    {
     "data": {
      "application/vnd.jupyter.widget-view+json": {
       "model_id": "1064f07679b14e6eb1b6497b250749df",
       "version_major": 2,
       "version_minor": 0
      },
      "text/plain": [
       "Copying files to /Volumes/DATASET/Train/Batch_923:   0%|          | 0/1000 [00:00<?, ?it/s]"
      ]
     },
     "metadata": {},
     "output_type": "display_data"
    },
    {
     "data": {
      "application/vnd.jupyter.widget-view+json": {
       "model_id": "4a1a4a51f2604ff4864ea70312cefb08",
       "version_major": 2,
       "version_minor": 0
      },
      "text/plain": [
       "Copying files to /Volumes/DATASET/Train/Batch_924:   0%|          | 0/1000 [00:00<?, ?it/s]"
      ]
     },
     "metadata": {},
     "output_type": "display_data"
    },
    {
     "data": {
      "application/vnd.jupyter.widget-view+json": {
       "model_id": "26dfac1fc3164e288c5c58d50d073fca",
       "version_major": 2,
       "version_minor": 0
      },
      "text/plain": [
       "Copying files to /Volumes/DATASET/Train/Batch_925:   0%|          | 0/1000 [00:00<?, ?it/s]"
      ]
     },
     "metadata": {},
     "output_type": "display_data"
    },
    {
     "data": {
      "application/vnd.jupyter.widget-view+json": {
       "model_id": "4ff47167126c4063a8ff0f7ef5de98bc",
       "version_major": 2,
       "version_minor": 0
      },
      "text/plain": [
       "Copying files to /Volumes/DATASET/Train/Batch_926:   0%|          | 0/1000 [00:00<?, ?it/s]"
      ]
     },
     "metadata": {},
     "output_type": "display_data"
    },
    {
     "data": {
      "application/vnd.jupyter.widget-view+json": {
       "model_id": "095ae661e55a4c488f7c7d752250f9a1",
       "version_major": 2,
       "version_minor": 0
      },
      "text/plain": [
       "Copying files to /Volumes/DATASET/Train/Batch_927:   0%|          | 0/1000 [00:00<?, ?it/s]"
      ]
     },
     "metadata": {},
     "output_type": "display_data"
    },
    {
     "data": {
      "application/vnd.jupyter.widget-view+json": {
       "model_id": "509a3243bfbd49509a230a111db8b81d",
       "version_major": 2,
       "version_minor": 0
      },
      "text/plain": [
       "Copying files to /Volumes/DATASET/Train/Batch_928:   0%|          | 0/1000 [00:00<?, ?it/s]"
      ]
     },
     "metadata": {},
     "output_type": "display_data"
    },
    {
     "data": {
      "application/vnd.jupyter.widget-view+json": {
       "model_id": "517aa09919fc4588bdbd420d2589718e",
       "version_major": 2,
       "version_minor": 0
      },
      "text/plain": [
       "Copying files to /Volumes/DATASET/Train/Batch_929:   0%|          | 0/1000 [00:00<?, ?it/s]"
      ]
     },
     "metadata": {},
     "output_type": "display_data"
    },
    {
     "data": {
      "application/vnd.jupyter.widget-view+json": {
       "model_id": "b13df482c6ca4072bb752801f7165f13",
       "version_major": 2,
       "version_minor": 0
      },
      "text/plain": [
       "Copying files to /Volumes/DATASET/Train/Batch_930:   0%|          | 0/1000 [00:00<?, ?it/s]"
      ]
     },
     "metadata": {},
     "output_type": "display_data"
    },
    {
     "data": {
      "application/vnd.jupyter.widget-view+json": {
       "model_id": "00ba9fe187664571933ccfd2982237ac",
       "version_major": 2,
       "version_minor": 0
      },
      "text/plain": [
       "Copying files to /Volumes/DATASET/Train/Batch_931:   0%|          | 0/1000 [00:00<?, ?it/s]"
      ]
     },
     "metadata": {},
     "output_type": "display_data"
    },
    {
     "data": {
      "application/vnd.jupyter.widget-view+json": {
       "model_id": "8200be289f254575ba0fe99c9b937601",
       "version_major": 2,
       "version_minor": 0
      },
      "text/plain": [
       "Copying files to /Volumes/DATASET/Train/Batch_932:   0%|          | 0/1000 [00:00<?, ?it/s]"
      ]
     },
     "metadata": {},
     "output_type": "display_data"
    },
    {
     "data": {
      "application/vnd.jupyter.widget-view+json": {
       "model_id": "41a5b391d6d042b99828b76e4fe6247f",
       "version_major": 2,
       "version_minor": 0
      },
      "text/plain": [
       "Copying files to /Volumes/DATASET/Train/Batch_933:   0%|          | 0/1000 [00:00<?, ?it/s]"
      ]
     },
     "metadata": {},
     "output_type": "display_data"
    },
    {
     "data": {
      "application/vnd.jupyter.widget-view+json": {
       "model_id": "8d9c9f4c631a4787ba7889008fda2e8f",
       "version_major": 2,
       "version_minor": 0
      },
      "text/plain": [
       "Copying files to /Volumes/DATASET/Train/Batch_934:   0%|          | 0/1000 [00:00<?, ?it/s]"
      ]
     },
     "metadata": {},
     "output_type": "display_data"
    },
    {
     "data": {
      "application/vnd.jupyter.widget-view+json": {
       "model_id": "fdb0a23306d64fc6a36ef1529e58b1b7",
       "version_major": 2,
       "version_minor": 0
      },
      "text/plain": [
       "Copying files to /Volumes/DATASET/Train/Batch_935:   0%|          | 0/1000 [00:00<?, ?it/s]"
      ]
     },
     "metadata": {},
     "output_type": "display_data"
    },
    {
     "data": {
      "application/vnd.jupyter.widget-view+json": {
       "model_id": "d26482f3f7c245b3a389420d3284e4b5",
       "version_major": 2,
       "version_minor": 0
      },
      "text/plain": [
       "Copying files to /Volumes/DATASET/Train/Batch_936:   0%|          | 0/1000 [00:00<?, ?it/s]"
      ]
     },
     "metadata": {},
     "output_type": "display_data"
    },
    {
     "data": {
      "application/vnd.jupyter.widget-view+json": {
       "model_id": "f2f34c0ce5884fdca4ccd60b443a324e",
       "version_major": 2,
       "version_minor": 0
      },
      "text/plain": [
       "Copying files to /Volumes/DATASET/Train/Batch_937:   0%|          | 0/1000 [00:00<?, ?it/s]"
      ]
     },
     "metadata": {},
     "output_type": "display_data"
    },
    {
     "data": {
      "application/vnd.jupyter.widget-view+json": {
       "model_id": "f91f72e1d40f424094e77fe4124c66f0",
       "version_major": 2,
       "version_minor": 0
      },
      "text/plain": [
       "Copying files to /Volumes/DATASET/Train/Batch_938:   0%|          | 0/1000 [00:00<?, ?it/s]"
      ]
     },
     "metadata": {},
     "output_type": "display_data"
    },
    {
     "data": {
      "application/vnd.jupyter.widget-view+json": {
       "model_id": "0629224a95904c568b9b3b0a938429ba",
       "version_major": 2,
       "version_minor": 0
      },
      "text/plain": [
       "Copying files to /Volumes/DATASET/Train/Batch_939:   0%|          | 0/1000 [00:00<?, ?it/s]"
      ]
     },
     "metadata": {},
     "output_type": "display_data"
    },
    {
     "data": {
      "application/vnd.jupyter.widget-view+json": {
       "model_id": "2df1b9acf63c4816ba960f8eee4e4785",
       "version_major": 2,
       "version_minor": 0
      },
      "text/plain": [
       "Copying files to /Volumes/DATASET/Train/Batch_940:   0%|          | 0/1000 [00:00<?, ?it/s]"
      ]
     },
     "metadata": {},
     "output_type": "display_data"
    },
    {
     "data": {
      "application/vnd.jupyter.widget-view+json": {
       "model_id": "2b8ea49521814161b07a24d2991f63ec",
       "version_major": 2,
       "version_minor": 0
      },
      "text/plain": [
       "Copying files to /Volumes/DATASET/Train/Batch_941:   0%|          | 0/1000 [00:00<?, ?it/s]"
      ]
     },
     "metadata": {},
     "output_type": "display_data"
    },
    {
     "data": {
      "application/vnd.jupyter.widget-view+json": {
       "model_id": "804acad696a643f1a930f1448bd26540",
       "version_major": 2,
       "version_minor": 0
      },
      "text/plain": [
       "Copying files to /Volumes/DATASET/Train/Batch_942:   0%|          | 0/1000 [00:00<?, ?it/s]"
      ]
     },
     "metadata": {},
     "output_type": "display_data"
    },
    {
     "data": {
      "application/vnd.jupyter.widget-view+json": {
       "model_id": "36fc3ef5db014f89b41937e8d80b8ea5",
       "version_major": 2,
       "version_minor": 0
      },
      "text/plain": [
       "Copying files to /Volumes/DATASET/Train/Batch_943:   0%|          | 0/1000 [00:00<?, ?it/s]"
      ]
     },
     "metadata": {},
     "output_type": "display_data"
    },
    {
     "data": {
      "application/vnd.jupyter.widget-view+json": {
       "model_id": "e2b77caabb6b49c5b48661cbf1addc2a",
       "version_major": 2,
       "version_minor": 0
      },
      "text/plain": [
       "Copying files to /Volumes/DATASET/Train/Batch_944:   0%|          | 0/1000 [00:00<?, ?it/s]"
      ]
     },
     "metadata": {},
     "output_type": "display_data"
    },
    {
     "data": {
      "application/vnd.jupyter.widget-view+json": {
       "model_id": "c0be83606c3c46c49f4e859cb8ead95e",
       "version_major": 2,
       "version_minor": 0
      },
      "text/plain": [
       "Copying files to /Volumes/DATASET/Train/Batch_945:   0%|          | 0/1000 [00:00<?, ?it/s]"
      ]
     },
     "metadata": {},
     "output_type": "display_data"
    },
    {
     "data": {
      "application/vnd.jupyter.widget-view+json": {
       "model_id": "0083620d8bfa49e9990e1689b07d00eb",
       "version_major": 2,
       "version_minor": 0
      },
      "text/plain": [
       "Copying files to /Volumes/DATASET/Train/Batch_946:   0%|          | 0/1000 [00:00<?, ?it/s]"
      ]
     },
     "metadata": {},
     "output_type": "display_data"
    },
    {
     "data": {
      "application/vnd.jupyter.widget-view+json": {
       "model_id": "f5460a4f26dc4d1aba766d8d29e8ec6b",
       "version_major": 2,
       "version_minor": 0
      },
      "text/plain": [
       "Copying files to /Volumes/DATASET/Train/Batch_947:   0%|          | 0/1000 [00:00<?, ?it/s]"
      ]
     },
     "metadata": {},
     "output_type": "display_data"
    },
    {
     "data": {
      "application/vnd.jupyter.widget-view+json": {
       "model_id": "ae5f0c2838294ba5acedd0c516c92fab",
       "version_major": 2,
       "version_minor": 0
      },
      "text/plain": [
       "Copying files to /Volumes/DATASET/Train/Batch_948:   0%|          | 0/1000 [00:00<?, ?it/s]"
      ]
     },
     "metadata": {},
     "output_type": "display_data"
    },
    {
     "data": {
      "application/vnd.jupyter.widget-view+json": {
       "model_id": "4fe1959b66e04be68219e4025179cb34",
       "version_major": 2,
       "version_minor": 0
      },
      "text/plain": [
       "Copying files to /Volumes/DATASET/Train/Batch_949:   0%|          | 0/1000 [00:00<?, ?it/s]"
      ]
     },
     "metadata": {},
     "output_type": "display_data"
    },
    {
     "data": {
      "application/vnd.jupyter.widget-view+json": {
       "model_id": "83f142ba23994f9497a4e3d0995533ca",
       "version_major": 2,
       "version_minor": 0
      },
      "text/plain": [
       "Copying files to /Volumes/DATASET/Train/Batch_950:   0%|          | 0/1000 [00:00<?, ?it/s]"
      ]
     },
     "metadata": {},
     "output_type": "display_data"
    },
    {
     "data": {
      "application/vnd.jupyter.widget-view+json": {
       "model_id": "dd235fdac312461ba5087874619fda76",
       "version_major": 2,
       "version_minor": 0
      },
      "text/plain": [
       "Copying files to /Volumes/DATASET/Train/Batch_951:   0%|          | 0/1000 [00:00<?, ?it/s]"
      ]
     },
     "metadata": {},
     "output_type": "display_data"
    },
    {
     "data": {
      "application/vnd.jupyter.widget-view+json": {
       "model_id": "414da059eb1440bfa61e78fe2cd3cedd",
       "version_major": 2,
       "version_minor": 0
      },
      "text/plain": [
       "Copying files to /Volumes/DATASET/Train/Batch_952:   0%|          | 0/1000 [00:00<?, ?it/s]"
      ]
     },
     "metadata": {},
     "output_type": "display_data"
    },
    {
     "data": {
      "application/vnd.jupyter.widget-view+json": {
       "model_id": "e5ec7cc30d0245d0a07a0e526d96d202",
       "version_major": 2,
       "version_minor": 0
      },
      "text/plain": [
       "Copying files to /Volumes/DATASET/Train/Batch_953:   0%|          | 0/1000 [00:00<?, ?it/s]"
      ]
     },
     "metadata": {},
     "output_type": "display_data"
    },
    {
     "data": {
      "application/vnd.jupyter.widget-view+json": {
       "model_id": "0866c75ab67843f39e81f3969bd16b29",
       "version_major": 2,
       "version_minor": 0
      },
      "text/plain": [
       "Copying files to /Volumes/DATASET/Train/Batch_954:   0%|          | 0/1000 [00:00<?, ?it/s]"
      ]
     },
     "metadata": {},
     "output_type": "display_data"
    },
    {
     "data": {
      "application/vnd.jupyter.widget-view+json": {
       "model_id": "64d7b846961242dc96eb710b703ce649",
       "version_major": 2,
       "version_minor": 0
      },
      "text/plain": [
       "Copying files to /Volumes/DATASET/Train/Batch_955:   0%|          | 0/1000 [00:00<?, ?it/s]"
      ]
     },
     "metadata": {},
     "output_type": "display_data"
    },
    {
     "data": {
      "application/vnd.jupyter.widget-view+json": {
       "model_id": "6ab45674fe5e4cedadd626e2b0eea234",
       "version_major": 2,
       "version_minor": 0
      },
      "text/plain": [
       "Copying files to /Volumes/DATASET/Train/Batch_956:   0%|          | 0/1000 [00:00<?, ?it/s]"
      ]
     },
     "metadata": {},
     "output_type": "display_data"
    },
    {
     "data": {
      "application/vnd.jupyter.widget-view+json": {
       "model_id": "7c2708eeb12d4b6b9da2d48db5ee9029",
       "version_major": 2,
       "version_minor": 0
      },
      "text/plain": [
       "Copying files to /Volumes/DATASET/Train/Batch_957:   0%|          | 0/1000 [00:00<?, ?it/s]"
      ]
     },
     "metadata": {},
     "output_type": "display_data"
    },
    {
     "data": {
      "application/vnd.jupyter.widget-view+json": {
       "model_id": "19ad9c73d4f74a2c8b9a0c4d9db35b93",
       "version_major": 2,
       "version_minor": 0
      },
      "text/plain": [
       "Copying files to /Volumes/DATASET/Train/Batch_958:   0%|          | 0/1000 [00:00<?, ?it/s]"
      ]
     },
     "metadata": {},
     "output_type": "display_data"
    },
    {
     "data": {
      "application/vnd.jupyter.widget-view+json": {
       "model_id": "644b5610ca504deba235749f15db5c3b",
       "version_major": 2,
       "version_minor": 0
      },
      "text/plain": [
       "Copying files to /Volumes/DATASET/Train/Batch_959:   0%|          | 0/1000 [00:00<?, ?it/s]"
      ]
     },
     "metadata": {},
     "output_type": "display_data"
    },
    {
     "data": {
      "application/vnd.jupyter.widget-view+json": {
       "model_id": "4ee0279b9af34a5b81c8ef9eec290eef",
       "version_major": 2,
       "version_minor": 0
      },
      "text/plain": [
       "Copying files to /Volumes/DATASET/Train/Batch_960:   0%|          | 0/1000 [00:00<?, ?it/s]"
      ]
     },
     "metadata": {},
     "output_type": "display_data"
    },
    {
     "data": {
      "application/vnd.jupyter.widget-view+json": {
       "model_id": "c252d96e63aa49b2b74fb49a566be9ec",
       "version_major": 2,
       "version_minor": 0
      },
      "text/plain": [
       "Copying files to /Volumes/DATASET/Train/Batch_961:   0%|          | 0/1000 [00:00<?, ?it/s]"
      ]
     },
     "metadata": {},
     "output_type": "display_data"
    },
    {
     "data": {
      "application/vnd.jupyter.widget-view+json": {
       "model_id": "b18dda570c67487fbbbf6d24e055879c",
       "version_major": 2,
       "version_minor": 0
      },
      "text/plain": [
       "Copying files to /Volumes/DATASET/Train/Batch_962:   0%|          | 0/1000 [00:00<?, ?it/s]"
      ]
     },
     "metadata": {},
     "output_type": "display_data"
    },
    {
     "data": {
      "application/vnd.jupyter.widget-view+json": {
       "model_id": "e60e245f2efc4b23b2a2be5655dc4a33",
       "version_major": 2,
       "version_minor": 0
      },
      "text/plain": [
       "Copying files to /Volumes/DATASET/Train/Batch_963:   0%|          | 0/1000 [00:00<?, ?it/s]"
      ]
     },
     "metadata": {},
     "output_type": "display_data"
    },
    {
     "data": {
      "application/vnd.jupyter.widget-view+json": {
       "model_id": "79022d7ff3f04213b4d490528e542ba0",
       "version_major": 2,
       "version_minor": 0
      },
      "text/plain": [
       "Copying files to /Volumes/DATASET/Train/Batch_964:   0%|          | 0/1000 [00:00<?, ?it/s]"
      ]
     },
     "metadata": {},
     "output_type": "display_data"
    },
    {
     "data": {
      "application/vnd.jupyter.widget-view+json": {
       "model_id": "e4db918a531c4f4eb4c3502cdbabb8cf",
       "version_major": 2,
       "version_minor": 0
      },
      "text/plain": [
       "Copying files to /Volumes/DATASET/Train/Batch_965:   0%|          | 0/1000 [00:00<?, ?it/s]"
      ]
     },
     "metadata": {},
     "output_type": "display_data"
    },
    {
     "data": {
      "application/vnd.jupyter.widget-view+json": {
       "model_id": "25aef806aba84befb39ad711a431a9d1",
       "version_major": 2,
       "version_minor": 0
      },
      "text/plain": [
       "Copying files to /Volumes/DATASET/Train/Batch_966:   0%|          | 0/1000 [00:00<?, ?it/s]"
      ]
     },
     "metadata": {},
     "output_type": "display_data"
    },
    {
     "data": {
      "application/vnd.jupyter.widget-view+json": {
       "model_id": "0a38f3ce75504057882cea8f5d651970",
       "version_major": 2,
       "version_minor": 0
      },
      "text/plain": [
       "Copying files to /Volumes/DATASET/Train/Batch_967:   0%|          | 0/1000 [00:00<?, ?it/s]"
      ]
     },
     "metadata": {},
     "output_type": "display_data"
    },
    {
     "data": {
      "application/vnd.jupyter.widget-view+json": {
       "model_id": "8b36dd1930ab41bebc242ec173fa69b2",
       "version_major": 2,
       "version_minor": 0
      },
      "text/plain": [
       "Copying files to /Volumes/DATASET/Train/Batch_968:   0%|          | 0/1000 [00:00<?, ?it/s]"
      ]
     },
     "metadata": {},
     "output_type": "display_data"
    },
    {
     "data": {
      "application/vnd.jupyter.widget-view+json": {
       "model_id": "4194c2fb81d14f8db9a76d8534be0a5a",
       "version_major": 2,
       "version_minor": 0
      },
      "text/plain": [
       "Copying files to /Volumes/DATASET/Train/Batch_969:   0%|          | 0/1000 [00:00<?, ?it/s]"
      ]
     },
     "metadata": {},
     "output_type": "display_data"
    },
    {
     "data": {
      "application/vnd.jupyter.widget-view+json": {
       "model_id": "0374f8c367bd4ff5bdf2a6759d95d7fe",
       "version_major": 2,
       "version_minor": 0
      },
      "text/plain": [
       "Copying files to /Volumes/DATASET/Train/Batch_970:   0%|          | 0/1000 [00:00<?, ?it/s]"
      ]
     },
     "metadata": {},
     "output_type": "display_data"
    },
    {
     "data": {
      "application/vnd.jupyter.widget-view+json": {
       "model_id": "97e8d407006a49119d53875070819723",
       "version_major": 2,
       "version_minor": 0
      },
      "text/plain": [
       "Copying files to /Volumes/DATASET/Train/Batch_971:   0%|          | 0/1000 [00:00<?, ?it/s]"
      ]
     },
     "metadata": {},
     "output_type": "display_data"
    },
    {
     "data": {
      "application/vnd.jupyter.widget-view+json": {
       "model_id": "d4ca92cfd028428cbbcc6eae1eb1b813",
       "version_major": 2,
       "version_minor": 0
      },
      "text/plain": [
       "Copying files to /Volumes/DATASET/Train/Batch_972:   0%|          | 0/1000 [00:00<?, ?it/s]"
      ]
     },
     "metadata": {},
     "output_type": "display_data"
    },
    {
     "data": {
      "application/vnd.jupyter.widget-view+json": {
       "model_id": "2f0ab9c040c04b298b70742b4c916479",
       "version_major": 2,
       "version_minor": 0
      },
      "text/plain": [
       "Copying files to /Volumes/DATASET/Train/Batch_973:   0%|          | 0/1000 [00:00<?, ?it/s]"
      ]
     },
     "metadata": {},
     "output_type": "display_data"
    },
    {
     "data": {
      "application/vnd.jupyter.widget-view+json": {
       "model_id": "202c7a76ba694118895512552ef1cad9",
       "version_major": 2,
       "version_minor": 0
      },
      "text/plain": [
       "Copying files to /Volumes/DATASET/Train/Batch_974:   0%|          | 0/1000 [00:00<?, ?it/s]"
      ]
     },
     "metadata": {},
     "output_type": "display_data"
    },
    {
     "data": {
      "application/vnd.jupyter.widget-view+json": {
       "model_id": "e34dd7bf3cc74090bf7dce244ab85512",
       "version_major": 2,
       "version_minor": 0
      },
      "text/plain": [
       "Copying files to /Volumes/DATASET/Train/Batch_975:   0%|          | 0/1000 [00:00<?, ?it/s]"
      ]
     },
     "metadata": {},
     "output_type": "display_data"
    },
    {
     "data": {
      "application/vnd.jupyter.widget-view+json": {
       "model_id": "1ea4de268a2a4227bbf9110af75c6a45",
       "version_major": 2,
       "version_minor": 0
      },
      "text/plain": [
       "Copying files to /Volumes/DATASET/Train/Batch_976:   0%|          | 0/1000 [00:00<?, ?it/s]"
      ]
     },
     "metadata": {},
     "output_type": "display_data"
    },
    {
     "data": {
      "application/vnd.jupyter.widget-view+json": {
       "model_id": "6ce5027ba3a94f4e948d9a96aca36fc5",
       "version_major": 2,
       "version_minor": 0
      },
      "text/plain": [
       "Copying files to /Volumes/DATASET/Train/Batch_977:   0%|          | 0/1000 [00:00<?, ?it/s]"
      ]
     },
     "metadata": {},
     "output_type": "display_data"
    },
    {
     "data": {
      "application/vnd.jupyter.widget-view+json": {
       "model_id": "f3925a196a53442d8648ea8387a37ab4",
       "version_major": 2,
       "version_minor": 0
      },
      "text/plain": [
       "Copying files to /Volumes/DATASET/Train/Batch_978:   0%|          | 0/1000 [00:00<?, ?it/s]"
      ]
     },
     "metadata": {},
     "output_type": "display_data"
    },
    {
     "data": {
      "application/vnd.jupyter.widget-view+json": {
       "model_id": "46c6110991dd4aad9404c6c0a4a7039e",
       "version_major": 2,
       "version_minor": 0
      },
      "text/plain": [
       "Copying files to /Volumes/DATASET/Train/Batch_979:   0%|          | 0/1000 [00:00<?, ?it/s]"
      ]
     },
     "metadata": {},
     "output_type": "display_data"
    },
    {
     "data": {
      "application/vnd.jupyter.widget-view+json": {
       "model_id": "49efeb22c63f464a92f823af46ee547d",
       "version_major": 2,
       "version_minor": 0
      },
      "text/plain": [
       "Copying files to /Volumes/DATASET/Train/Batch_980:   0%|          | 0/1000 [00:00<?, ?it/s]"
      ]
     },
     "metadata": {},
     "output_type": "display_data"
    },
    {
     "data": {
      "application/vnd.jupyter.widget-view+json": {
       "model_id": "ddce748c9adb4394bfd5157ba9188fbd",
       "version_major": 2,
       "version_minor": 0
      },
      "text/plain": [
       "Copying files to /Volumes/DATASET/Train/Batch_981:   0%|          | 0/1000 [00:00<?, ?it/s]"
      ]
     },
     "metadata": {},
     "output_type": "display_data"
    },
    {
     "data": {
      "application/vnd.jupyter.widget-view+json": {
       "model_id": "7f5156761fff4dfd9d5879e3afb99b9a",
       "version_major": 2,
       "version_minor": 0
      },
      "text/plain": [
       "Copying files to /Volumes/DATASET/Train/Batch_982:   0%|          | 0/1000 [00:00<?, ?it/s]"
      ]
     },
     "metadata": {},
     "output_type": "display_data"
    },
    {
     "data": {
      "application/vnd.jupyter.widget-view+json": {
       "model_id": "057e4c52ce7348c89feb694a05a7c4e1",
       "version_major": 2,
       "version_minor": 0
      },
      "text/plain": [
       "Copying files to /Volumes/DATASET/Train/Batch_983:   0%|          | 0/1000 [00:00<?, ?it/s]"
      ]
     },
     "metadata": {},
     "output_type": "display_data"
    },
    {
     "data": {
      "application/vnd.jupyter.widget-view+json": {
       "model_id": "90334e43f19349d2bdb6438e37daae8f",
       "version_major": 2,
       "version_minor": 0
      },
      "text/plain": [
       "Copying files to /Volumes/DATASET/Train/Batch_984:   0%|          | 0/1000 [00:00<?, ?it/s]"
      ]
     },
     "metadata": {},
     "output_type": "display_data"
    },
    {
     "data": {
      "application/vnd.jupyter.widget-view+json": {
       "model_id": "fc36eaaff9984e3e8f4c71b34b20ff41",
       "version_major": 2,
       "version_minor": 0
      },
      "text/plain": [
       "Copying files to /Volumes/DATASET/Train/Batch_985:   0%|          | 0/1000 [00:00<?, ?it/s]"
      ]
     },
     "metadata": {},
     "output_type": "display_data"
    },
    {
     "data": {
      "application/vnd.jupyter.widget-view+json": {
       "model_id": "699dde472477460a81e0cf2ee871c834",
       "version_major": 2,
       "version_minor": 0
      },
      "text/plain": [
       "Copying files to /Volumes/DATASET/Train/Batch_986:   0%|          | 0/1000 [00:00<?, ?it/s]"
      ]
     },
     "metadata": {},
     "output_type": "display_data"
    },
    {
     "data": {
      "application/vnd.jupyter.widget-view+json": {
       "model_id": "268afae05b284b16bc8ad57c6eeecc6c",
       "version_major": 2,
       "version_minor": 0
      },
      "text/plain": [
       "Copying files to /Volumes/DATASET/Train/Batch_987:   0%|          | 0/1000 [00:00<?, ?it/s]"
      ]
     },
     "metadata": {},
     "output_type": "display_data"
    },
    {
     "data": {
      "application/vnd.jupyter.widget-view+json": {
       "model_id": "dff349014e384a87bfe68b631073b05c",
       "version_major": 2,
       "version_minor": 0
      },
      "text/plain": [
       "Copying files to /Volumes/DATASET/Train/Batch_988:   0%|          | 0/1000 [00:00<?, ?it/s]"
      ]
     },
     "metadata": {},
     "output_type": "display_data"
    },
    {
     "data": {
      "application/vnd.jupyter.widget-view+json": {
       "model_id": "395da5c5b7b745acb35206e0e7e2b6a4",
       "version_major": 2,
       "version_minor": 0
      },
      "text/plain": [
       "Copying files to /Volumes/DATASET/Train/Batch_989:   0%|          | 0/1000 [00:00<?, ?it/s]"
      ]
     },
     "metadata": {},
     "output_type": "display_data"
    },
    {
     "data": {
      "application/vnd.jupyter.widget-view+json": {
       "model_id": "44ffcd3ac96042c5bdb0c296dc56999b",
       "version_major": 2,
       "version_minor": 0
      },
      "text/plain": [
       "Copying files to /Volumes/DATASET/Train/Batch_990:   0%|          | 0/1000 [00:00<?, ?it/s]"
      ]
     },
     "metadata": {},
     "output_type": "display_data"
    },
    {
     "data": {
      "application/vnd.jupyter.widget-view+json": {
       "model_id": "961842ea029f42d6bd239aeabc8fe0c3",
       "version_major": 2,
       "version_minor": 0
      },
      "text/plain": [
       "Copying files to /Volumes/DATASET/Train/Batch_991:   0%|          | 0/1000 [00:00<?, ?it/s]"
      ]
     },
     "metadata": {},
     "output_type": "display_data"
    },
    {
     "data": {
      "application/vnd.jupyter.widget-view+json": {
       "model_id": "22f9a64671a742d984c64634b62c0c1f",
       "version_major": 2,
       "version_minor": 0
      },
      "text/plain": [
       "Copying files to /Volumes/DATASET/Train/Batch_992:   0%|          | 0/1000 [00:00<?, ?it/s]"
      ]
     },
     "metadata": {},
     "output_type": "display_data"
    },
    {
     "data": {
      "application/vnd.jupyter.widget-view+json": {
       "model_id": "7d2d6798bfd241509c6f6ab2ac6aa432",
       "version_major": 2,
       "version_minor": 0
      },
      "text/plain": [
       "Copying files to /Volumes/DATASET/Train/Batch_993:   0%|          | 0/1000 [00:00<?, ?it/s]"
      ]
     },
     "metadata": {},
     "output_type": "display_data"
    },
    {
     "data": {
      "application/vnd.jupyter.widget-view+json": {
       "model_id": "15e0d1122f824f03a7a6012504d3dbf3",
       "version_major": 2,
       "version_minor": 0
      },
      "text/plain": [
       "Copying files to /Volumes/DATASET/Train/Batch_994:   0%|          | 0/1000 [00:00<?, ?it/s]"
      ]
     },
     "metadata": {},
     "output_type": "display_data"
    },
    {
     "data": {
      "application/vnd.jupyter.widget-view+json": {
       "model_id": "e65a5430d1e14b708cdcceb19097487a",
       "version_major": 2,
       "version_minor": 0
      },
      "text/plain": [
       "Copying files to /Volumes/DATASET/Train/Batch_995:   0%|          | 0/1000 [00:00<?, ?it/s]"
      ]
     },
     "metadata": {},
     "output_type": "display_data"
    },
    {
     "data": {
      "application/vnd.jupyter.widget-view+json": {
       "model_id": "be43e3e076c845c1bb02cf726fa54408",
       "version_major": 2,
       "version_minor": 0
      },
      "text/plain": [
       "Copying files to /Volumes/DATASET/Train/Batch_996:   0%|          | 0/1000 [00:00<?, ?it/s]"
      ]
     },
     "metadata": {},
     "output_type": "display_data"
    },
    {
     "data": {
      "application/vnd.jupyter.widget-view+json": {
       "model_id": "6e7e24ae991d4be3b6ed39781b1f0617",
       "version_major": 2,
       "version_minor": 0
      },
      "text/plain": [
       "Copying files to /Volumes/DATASET/Train/Batch_997:   0%|          | 0/1000 [00:00<?, ?it/s]"
      ]
     },
     "metadata": {},
     "output_type": "display_data"
    },
    {
     "data": {
      "application/vnd.jupyter.widget-view+json": {
       "model_id": "04503e339cfe475682011d38986d26b6",
       "version_major": 2,
       "version_minor": 0
      },
      "text/plain": [
       "Copying files to /Volumes/DATASET/Train/Batch_998:   0%|          | 0/1000 [00:00<?, ?it/s]"
      ]
     },
     "metadata": {},
     "output_type": "display_data"
    },
    {
     "data": {
      "application/vnd.jupyter.widget-view+json": {
       "model_id": "5d245361c3b4418fa5ce9dd32985644c",
       "version_major": 2,
       "version_minor": 0
      },
      "text/plain": [
       "Copying files to /Volumes/DATASET/Train/Batch_999:   0%|          | 0/1000 [00:00<?, ?it/s]"
      ]
     },
     "metadata": {},
     "output_type": "display_data"
    },
    {
     "data": {
      "application/vnd.jupyter.widget-view+json": {
       "model_id": "1eb28c80086b4e789bf281273bb60698",
       "version_major": 2,
       "version_minor": 0
      },
      "text/plain": [
       "Copying files to /Volumes/DATASET/Train/Batch_1000:   0%|          | 0/1000 [00:00<?, ?it/s]"
      ]
     },
     "metadata": {},
     "output_type": "display_data"
    },
    {
     "data": {
      "application/vnd.jupyter.widget-view+json": {
       "model_id": "35b62650173448128eafae4ac88b6753",
       "version_major": 2,
       "version_minor": 0
      },
      "text/plain": [
       "Copying files to /Volumes/DATASET/Train/Batch_1001:   0%|          | 0/1000 [00:00<?, ?it/s]"
      ]
     },
     "metadata": {},
     "output_type": "display_data"
    },
    {
     "data": {
      "application/vnd.jupyter.widget-view+json": {
       "model_id": "3ea10baae5814e59917c864a7aed347e",
       "version_major": 2,
       "version_minor": 0
      },
      "text/plain": [
       "Copying files to /Volumes/DATASET/Train/Batch_1002:   0%|          | 0/1000 [00:00<?, ?it/s]"
      ]
     },
     "metadata": {},
     "output_type": "display_data"
    },
    {
     "data": {
      "application/vnd.jupyter.widget-view+json": {
       "model_id": "a1b4c955fb604c04927dab1b208053d3",
       "version_major": 2,
       "version_minor": 0
      },
      "text/plain": [
       "Copying files to /Volumes/DATASET/Train/Batch_1003:   0%|          | 0/1000 [00:00<?, ?it/s]"
      ]
     },
     "metadata": {},
     "output_type": "display_data"
    },
    {
     "data": {
      "application/vnd.jupyter.widget-view+json": {
       "model_id": "f9656efc4e29486c9bd4a579dfa969fe",
       "version_major": 2,
       "version_minor": 0
      },
      "text/plain": [
       "Copying files to /Volumes/DATASET/Train/Batch_1004:   0%|          | 0/1000 [00:00<?, ?it/s]"
      ]
     },
     "metadata": {},
     "output_type": "display_data"
    },
    {
     "data": {
      "application/vnd.jupyter.widget-view+json": {
       "model_id": "78202035457a4c14991604c89b9a3383",
       "version_major": 2,
       "version_minor": 0
      },
      "text/plain": [
       "Copying files to /Volumes/DATASET/Train/Batch_1005:   0%|          | 0/1000 [00:00<?, ?it/s]"
      ]
     },
     "metadata": {},
     "output_type": "display_data"
    },
    {
     "data": {
      "application/vnd.jupyter.widget-view+json": {
       "model_id": "d9d440541e094decb130d5b4880e9061",
       "version_major": 2,
       "version_minor": 0
      },
      "text/plain": [
       "Copying files to /Volumes/DATASET/Train/Batch_1006:   0%|          | 0/1000 [00:00<?, ?it/s]"
      ]
     },
     "metadata": {},
     "output_type": "display_data"
    },
    {
     "data": {
      "application/vnd.jupyter.widget-view+json": {
       "model_id": "93abc778d12d40ed8e50e6d19824c8ab",
       "version_major": 2,
       "version_minor": 0
      },
      "text/plain": [
       "Copying files to /Volumes/DATASET/Train/Batch_1007:   0%|          | 0/1000 [00:00<?, ?it/s]"
      ]
     },
     "metadata": {},
     "output_type": "display_data"
    },
    {
     "data": {
      "application/vnd.jupyter.widget-view+json": {
       "model_id": "276e4aa6148e42fab807f00a15be65fc",
       "version_major": 2,
       "version_minor": 0
      },
      "text/plain": [
       "Copying files to /Volumes/DATASET/Train/Batch_1008:   0%|          | 0/1000 [00:00<?, ?it/s]"
      ]
     },
     "metadata": {},
     "output_type": "display_data"
    },
    {
     "data": {
      "application/vnd.jupyter.widget-view+json": {
       "model_id": "1a686cb7f2944884b11d18a50721ea93",
       "version_major": 2,
       "version_minor": 0
      },
      "text/plain": [
       "Copying files to /Volumes/DATASET/Train/Batch_1009:   0%|          | 0/1000 [00:00<?, ?it/s]"
      ]
     },
     "metadata": {},
     "output_type": "display_data"
    },
    {
     "data": {
      "application/vnd.jupyter.widget-view+json": {
       "model_id": "a06c96808a154fa296ca7b36c9270695",
       "version_major": 2,
       "version_minor": 0
      },
      "text/plain": [
       "Copying files to /Volumes/DATASET/Train/Batch_1010:   0%|          | 0/1000 [00:00<?, ?it/s]"
      ]
     },
     "metadata": {},
     "output_type": "display_data"
    },
    {
     "data": {
      "application/vnd.jupyter.widget-view+json": {
       "model_id": "cd66536359144a95925ebe9015c8af17",
       "version_major": 2,
       "version_minor": 0
      },
      "text/plain": [
       "Copying files to /Volumes/DATASET/Train/Batch_1011:   0%|          | 0/1000 [00:00<?, ?it/s]"
      ]
     },
     "metadata": {},
     "output_type": "display_data"
    },
    {
     "data": {
      "application/vnd.jupyter.widget-view+json": {
       "model_id": "a486126ec3894938b09c73b1c9c8ead4",
       "version_major": 2,
       "version_minor": 0
      },
      "text/plain": [
       "Copying files to /Volumes/DATASET/Train/Batch_1012:   0%|          | 0/1000 [00:00<?, ?it/s]"
      ]
     },
     "metadata": {},
     "output_type": "display_data"
    },
    {
     "data": {
      "application/vnd.jupyter.widget-view+json": {
       "model_id": "d233312a045b45f9b54a5c696ea9bede",
       "version_major": 2,
       "version_minor": 0
      },
      "text/plain": [
       "Copying files to /Volumes/DATASET/Train/Batch_1013:   0%|          | 0/1000 [00:00<?, ?it/s]"
      ]
     },
     "metadata": {},
     "output_type": "display_data"
    },
    {
     "data": {
      "application/vnd.jupyter.widget-view+json": {
       "model_id": "3717fe5764e44a7e8213bbe2252678e7",
       "version_major": 2,
       "version_minor": 0
      },
      "text/plain": [
       "Copying files to /Volumes/DATASET/Train/Batch_1014:   0%|          | 0/1000 [00:00<?, ?it/s]"
      ]
     },
     "metadata": {},
     "output_type": "display_data"
    },
    {
     "data": {
      "application/vnd.jupyter.widget-view+json": {
       "model_id": "f743a9a2315449518591bf542a346b14",
       "version_major": 2,
       "version_minor": 0
      },
      "text/plain": [
       "Copying files to /Volumes/DATASET/Train/Batch_1015:   0%|          | 0/1000 [00:00<?, ?it/s]"
      ]
     },
     "metadata": {},
     "output_type": "display_data"
    },
    {
     "data": {
      "application/vnd.jupyter.widget-view+json": {
       "model_id": "66f89550b07e412d853826b4f5d41fcf",
       "version_major": 2,
       "version_minor": 0
      },
      "text/plain": [
       "Copying files to /Volumes/DATASET/Train/Batch_1016:   0%|          | 0/1000 [00:00<?, ?it/s]"
      ]
     },
     "metadata": {},
     "output_type": "display_data"
    },
    {
     "data": {
      "application/vnd.jupyter.widget-view+json": {
       "model_id": "4478abdf665546c1bbb122679dead34d",
       "version_major": 2,
       "version_minor": 0
      },
      "text/plain": [
       "Copying files to /Volumes/DATASET/Train/Batch_1017:   0%|          | 0/1000 [00:00<?, ?it/s]"
      ]
     },
     "metadata": {},
     "output_type": "display_data"
    },
    {
     "data": {
      "application/vnd.jupyter.widget-view+json": {
       "model_id": "72b614f1d9754d7591148a5ca4ec26f0",
       "version_major": 2,
       "version_minor": 0
      },
      "text/plain": [
       "Copying files to /Volumes/DATASET/Train/Batch_1018:   0%|          | 0/1000 [00:00<?, ?it/s]"
      ]
     },
     "metadata": {},
     "output_type": "display_data"
    },
    {
     "data": {
      "application/vnd.jupyter.widget-view+json": {
       "model_id": "ee83a34f0b794e8c841807af70dda39c",
       "version_major": 2,
       "version_minor": 0
      },
      "text/plain": [
       "Copying files to /Volumes/DATASET/Train/Batch_1019:   0%|          | 0/1000 [00:00<?, ?it/s]"
      ]
     },
     "metadata": {},
     "output_type": "display_data"
    },
    {
     "data": {
      "application/vnd.jupyter.widget-view+json": {
       "model_id": "e2a6e748728e4a058f290d852e4b63be",
       "version_major": 2,
       "version_minor": 0
      },
      "text/plain": [
       "Copying files to /Volumes/DATASET/Train/Batch_1020:   0%|          | 0/1000 [00:00<?, ?it/s]"
      ]
     },
     "metadata": {},
     "output_type": "display_data"
    },
    {
     "data": {
      "application/vnd.jupyter.widget-view+json": {
       "model_id": "a7d9e7a34cca47269ba2a0ccf3589ed8",
       "version_major": 2,
       "version_minor": 0
      },
      "text/plain": [
       "Copying files to /Volumes/DATASET/Train/Batch_1021:   0%|          | 0/1000 [00:00<?, ?it/s]"
      ]
     },
     "metadata": {},
     "output_type": "display_data"
    },
    {
     "data": {
      "application/vnd.jupyter.widget-view+json": {
       "model_id": "a68cf66cc10c48459a7bed5ddd975341",
       "version_major": 2,
       "version_minor": 0
      },
      "text/plain": [
       "Copying files to /Volumes/DATASET/Train/Batch_1022:   0%|          | 0/1000 [00:00<?, ?it/s]"
      ]
     },
     "metadata": {},
     "output_type": "display_data"
    },
    {
     "data": {
      "application/vnd.jupyter.widget-view+json": {
       "model_id": "cb7c8bbce94a4f8ba21e5964354d3997",
       "version_major": 2,
       "version_minor": 0
      },
      "text/plain": [
       "Copying files to /Volumes/DATASET/Train/Batch_1023:   0%|          | 0/1000 [00:00<?, ?it/s]"
      ]
     },
     "metadata": {},
     "output_type": "display_data"
    },
    {
     "data": {
      "application/vnd.jupyter.widget-view+json": {
       "model_id": "2c673ad3b9394224b361fe67e4ffc87c",
       "version_major": 2,
       "version_minor": 0
      },
      "text/plain": [
       "Copying files to /Volumes/DATASET/Train/Batch_1024:   0%|          | 0/1000 [00:00<?, ?it/s]"
      ]
     },
     "metadata": {},
     "output_type": "display_data"
    },
    {
     "data": {
      "application/vnd.jupyter.widget-view+json": {
       "model_id": "bd0da784037544cdbc29e6f27f99edf0",
       "version_major": 2,
       "version_minor": 0
      },
      "text/plain": [
       "Copying files to /Volumes/DATASET/Train/Batch_1025:   0%|          | 0/1000 [00:00<?, ?it/s]"
      ]
     },
     "metadata": {},
     "output_type": "display_data"
    },
    {
     "data": {
      "application/vnd.jupyter.widget-view+json": {
       "model_id": "0989fbcba6f04f149da30817ed560460",
       "version_major": 2,
       "version_minor": 0
      },
      "text/plain": [
       "Copying files to /Volumes/DATASET/Train/Batch_1026:   0%|          | 0/1000 [00:00<?, ?it/s]"
      ]
     },
     "metadata": {},
     "output_type": "display_data"
    },
    {
     "data": {
      "application/vnd.jupyter.widget-view+json": {
       "model_id": "e3d15de86abc4ed5a3f695decbce6c27",
       "version_major": 2,
       "version_minor": 0
      },
      "text/plain": [
       "Copying files to /Volumes/DATASET/Train/Batch_1027:   0%|          | 0/1000 [00:00<?, ?it/s]"
      ]
     },
     "metadata": {},
     "output_type": "display_data"
    },
    {
     "data": {
      "application/vnd.jupyter.widget-view+json": {
       "model_id": "79e7ffba2b0949429b956791c90cfa20",
       "version_major": 2,
       "version_minor": 0
      },
      "text/plain": [
       "Copying files to /Volumes/DATASET/Train/Batch_1028:   0%|          | 0/1000 [00:00<?, ?it/s]"
      ]
     },
     "metadata": {},
     "output_type": "display_data"
    },
    {
     "data": {
      "application/vnd.jupyter.widget-view+json": {
       "model_id": "bbf300c8582e49f2b58033273ebace58",
       "version_major": 2,
       "version_minor": 0
      },
      "text/plain": [
       "Copying files to /Volumes/DATASET/Train/Batch_1029:   0%|          | 0/1000 [00:00<?, ?it/s]"
      ]
     },
     "metadata": {},
     "output_type": "display_data"
    },
    {
     "data": {
      "application/vnd.jupyter.widget-view+json": {
       "model_id": "6c01868e26cd4f2ea045cb21231a24ac",
       "version_major": 2,
       "version_minor": 0
      },
      "text/plain": [
       "Copying files to /Volumes/DATASET/Train/Batch_1030:   0%|          | 0/1000 [00:00<?, ?it/s]"
      ]
     },
     "metadata": {},
     "output_type": "display_data"
    },
    {
     "data": {
      "application/vnd.jupyter.widget-view+json": {
       "model_id": "2b03ab357c9848b99088e98180e5bc32",
       "version_major": 2,
       "version_minor": 0
      },
      "text/plain": [
       "Copying files to /Volumes/DATASET/Train/Batch_1031:   0%|          | 0/1000 [00:00<?, ?it/s]"
      ]
     },
     "metadata": {},
     "output_type": "display_data"
    },
    {
     "data": {
      "application/vnd.jupyter.widget-view+json": {
       "model_id": "cdb8f3d8ac6444cd85aa205cd1fc5f7b",
       "version_major": 2,
       "version_minor": 0
      },
      "text/plain": [
       "Copying files to /Volumes/DATASET/Train/Batch_1032:   0%|          | 0/1000 [00:00<?, ?it/s]"
      ]
     },
     "metadata": {},
     "output_type": "display_data"
    },
    {
     "data": {
      "application/vnd.jupyter.widget-view+json": {
       "model_id": "d0bb8f12a7cd4ca486d8467b34ba6220",
       "version_major": 2,
       "version_minor": 0
      },
      "text/plain": [
       "Copying files to /Volumes/DATASET/Train/Batch_1033:   0%|          | 0/1000 [00:00<?, ?it/s]"
      ]
     },
     "metadata": {},
     "output_type": "display_data"
    },
    {
     "data": {
      "application/vnd.jupyter.widget-view+json": {
       "model_id": "42eb90f7d2c24c7e8c1629506042577e",
       "version_major": 2,
       "version_minor": 0
      },
      "text/plain": [
       "Copying files to /Volumes/DATASET/Train/Batch_1034:   0%|          | 0/1000 [00:00<?, ?it/s]"
      ]
     },
     "metadata": {},
     "output_type": "display_data"
    },
    {
     "data": {
      "application/vnd.jupyter.widget-view+json": {
       "model_id": "3c21ceb3125d47b8a594b5bcc53253db",
       "version_major": 2,
       "version_minor": 0
      },
      "text/plain": [
       "Copying files to /Volumes/DATASET/Train/Batch_1035:   0%|          | 0/1000 [00:00<?, ?it/s]"
      ]
     },
     "metadata": {},
     "output_type": "display_data"
    },
    {
     "data": {
      "application/vnd.jupyter.widget-view+json": {
       "model_id": "ce8e0e4a6f624529a926858ffcad0fe3",
       "version_major": 2,
       "version_minor": 0
      },
      "text/plain": [
       "Copying files to /Volumes/DATASET/Train/Batch_1036:   0%|          | 0/1000 [00:00<?, ?it/s]"
      ]
     },
     "metadata": {},
     "output_type": "display_data"
    },
    {
     "data": {
      "application/vnd.jupyter.widget-view+json": {
       "model_id": "ac22cfebf54d4371ab641c369b83e52b",
       "version_major": 2,
       "version_minor": 0
      },
      "text/plain": [
       "Copying files to /Volumes/DATASET/Train/Batch_1037:   0%|          | 0/1000 [00:00<?, ?it/s]"
      ]
     },
     "metadata": {},
     "output_type": "display_data"
    },
    {
     "data": {
      "application/vnd.jupyter.widget-view+json": {
       "model_id": "e1bc7bc686284f3883508ca0e4c69c22",
       "version_major": 2,
       "version_minor": 0
      },
      "text/plain": [
       "Copying files to /Volumes/DATASET/Train/Batch_1038:   0%|          | 0/1000 [00:00<?, ?it/s]"
      ]
     },
     "metadata": {},
     "output_type": "display_data"
    },
    {
     "data": {
      "application/vnd.jupyter.widget-view+json": {
       "model_id": "d4527e05c65a46f281e9f9d1adf45334",
       "version_major": 2,
       "version_minor": 0
      },
      "text/plain": [
       "Copying files to /Volumes/DATASET/Train/Batch_1039:   0%|          | 0/1000 [00:00<?, ?it/s]"
      ]
     },
     "metadata": {},
     "output_type": "display_data"
    },
    {
     "data": {
      "application/vnd.jupyter.widget-view+json": {
       "model_id": "ca1f3f6fd6e24530bb9984e22b1af24e",
       "version_major": 2,
       "version_minor": 0
      },
      "text/plain": [
       "Copying files to /Volumes/DATASET/Train/Batch_1040:   0%|          | 0/1000 [00:00<?, ?it/s]"
      ]
     },
     "metadata": {},
     "output_type": "display_data"
    },
    {
     "data": {
      "application/vnd.jupyter.widget-view+json": {
       "model_id": "b3ba0cad997b40cd9d4a08a8e5de333d",
       "version_major": 2,
       "version_minor": 0
      },
      "text/plain": [
       "Copying files to /Volumes/DATASET/Train/Batch_1041:   0%|          | 0/1000 [00:00<?, ?it/s]"
      ]
     },
     "metadata": {},
     "output_type": "display_data"
    },
    {
     "data": {
      "application/vnd.jupyter.widget-view+json": {
       "model_id": "d6016d027eb04fe4b7a76f5fce4a6126",
       "version_major": 2,
       "version_minor": 0
      },
      "text/plain": [
       "Copying files to /Volumes/DATASET/Train/Batch_1042:   0%|          | 0/1000 [00:00<?, ?it/s]"
      ]
     },
     "metadata": {},
     "output_type": "display_data"
    },
    {
     "data": {
      "application/vnd.jupyter.widget-view+json": {
       "model_id": "ba1ce21f59fb410ca55cbd922bce14ea",
       "version_major": 2,
       "version_minor": 0
      },
      "text/plain": [
       "Copying files to /Volumes/DATASET/Train/Batch_1043:   0%|          | 0/1000 [00:00<?, ?it/s]"
      ]
     },
     "metadata": {},
     "output_type": "display_data"
    },
    {
     "data": {
      "application/vnd.jupyter.widget-view+json": {
       "model_id": "f3176e5020c649569ce24a7fac6c4f8e",
       "version_major": 2,
       "version_minor": 0
      },
      "text/plain": [
       "Copying files to /Volumes/DATASET/Train/Batch_1044:   0%|          | 0/1000 [00:00<?, ?it/s]"
      ]
     },
     "metadata": {},
     "output_type": "display_data"
    },
    {
     "data": {
      "application/vnd.jupyter.widget-view+json": {
       "model_id": "627dde344b5647ac893e6d78f8fd1b0c",
       "version_major": 2,
       "version_minor": 0
      },
      "text/plain": [
       "Copying files to /Volumes/DATASET/Train/Batch_1045:   0%|          | 0/1000 [00:00<?, ?it/s]"
      ]
     },
     "metadata": {},
     "output_type": "display_data"
    },
    {
     "data": {
      "application/vnd.jupyter.widget-view+json": {
       "model_id": "1ea7238b16c741f6a4836a47d056c901",
       "version_major": 2,
       "version_minor": 0
      },
      "text/plain": [
       "Copying files to /Volumes/DATASET/Train/Batch_1046:   0%|          | 0/1000 [00:00<?, ?it/s]"
      ]
     },
     "metadata": {},
     "output_type": "display_data"
    },
    {
     "data": {
      "application/vnd.jupyter.widget-view+json": {
       "model_id": "d5c3e622c1824bfca40d99fe3d362a80",
       "version_major": 2,
       "version_minor": 0
      },
      "text/plain": [
       "Copying files to /Volumes/DATASET/Train/Batch_1047:   0%|          | 0/1000 [00:00<?, ?it/s]"
      ]
     },
     "metadata": {},
     "output_type": "display_data"
    },
    {
     "data": {
      "application/vnd.jupyter.widget-view+json": {
       "model_id": "d492039815d24c96a2e88ab35913a245",
       "version_major": 2,
       "version_minor": 0
      },
      "text/plain": [
       "Copying files to /Volumes/DATASET/Train/Batch_1048:   0%|          | 0/1000 [00:00<?, ?it/s]"
      ]
     },
     "metadata": {},
     "output_type": "display_data"
    },
    {
     "data": {
      "application/vnd.jupyter.widget-view+json": {
       "model_id": "2cc039150c244d2cb8e8740791f755b8",
       "version_major": 2,
       "version_minor": 0
      },
      "text/plain": [
       "Copying files to /Volumes/DATASET/Train/Batch_1049:   0%|          | 0/1000 [00:00<?, ?it/s]"
      ]
     },
     "metadata": {},
     "output_type": "display_data"
    },
    {
     "data": {
      "application/vnd.jupyter.widget-view+json": {
       "model_id": "3c22ef91cce4403eb5c0a8cbb13f6d62",
       "version_major": 2,
       "version_minor": 0
      },
      "text/plain": [
       "Copying files to /Volumes/DATASET/Train/Batch_1050:   0%|          | 0/1000 [00:00<?, ?it/s]"
      ]
     },
     "metadata": {},
     "output_type": "display_data"
    },
    {
     "data": {
      "application/vnd.jupyter.widget-view+json": {
       "model_id": "bfe5e6665c554591a3af5d4be650653d",
       "version_major": 2,
       "version_minor": 0
      },
      "text/plain": [
       "Copying files to /Volumes/DATASET/Train/Batch_1051:   0%|          | 0/1000 [00:00<?, ?it/s]"
      ]
     },
     "metadata": {},
     "output_type": "display_data"
    },
    {
     "data": {
      "application/vnd.jupyter.widget-view+json": {
       "model_id": "7e4bbe7a8bd44e03a4547efcc3688103",
       "version_major": 2,
       "version_minor": 0
      },
      "text/plain": [
       "Copying files to /Volumes/DATASET/Train/Batch_1052:   0%|          | 0/1000 [00:00<?, ?it/s]"
      ]
     },
     "metadata": {},
     "output_type": "display_data"
    },
    {
     "data": {
      "application/vnd.jupyter.widget-view+json": {
       "model_id": "796e81d9306b4b37b8dae9a167141476",
       "version_major": 2,
       "version_minor": 0
      },
      "text/plain": [
       "Copying files to /Volumes/DATASET/Train/Batch_1053:   0%|          | 0/1000 [00:00<?, ?it/s]"
      ]
     },
     "metadata": {},
     "output_type": "display_data"
    },
    {
     "data": {
      "application/vnd.jupyter.widget-view+json": {
       "model_id": "9d5c3b0c6fe34bb981bbc19d1d703e34",
       "version_major": 2,
       "version_minor": 0
      },
      "text/plain": [
       "Copying files to /Volumes/DATASET/Train/Batch_1054:   0%|          | 0/1000 [00:00<?, ?it/s]"
      ]
     },
     "metadata": {},
     "output_type": "display_data"
    },
    {
     "data": {
      "application/vnd.jupyter.widget-view+json": {
       "model_id": "9a3ad093a7e847c9b7f62b33d9a2807b",
       "version_major": 2,
       "version_minor": 0
      },
      "text/plain": [
       "Copying files to /Volumes/DATASET/Train/Batch_1055:   0%|          | 0/1000 [00:00<?, ?it/s]"
      ]
     },
     "metadata": {},
     "output_type": "display_data"
    },
    {
     "data": {
      "application/vnd.jupyter.widget-view+json": {
       "model_id": "220bf422833d4da98f19bea316af1404",
       "version_major": 2,
       "version_minor": 0
      },
      "text/plain": [
       "Copying files to /Volumes/DATASET/Train/Batch_1056:   0%|          | 0/1000 [00:00<?, ?it/s]"
      ]
     },
     "metadata": {},
     "output_type": "display_data"
    },
    {
     "data": {
      "application/vnd.jupyter.widget-view+json": {
       "model_id": "bb139da0e809426c80e1e0992ba0fb72",
       "version_major": 2,
       "version_minor": 0
      },
      "text/plain": [
       "Copying files to /Volumes/DATASET/Train/Batch_1057:   0%|          | 0/1000 [00:00<?, ?it/s]"
      ]
     },
     "metadata": {},
     "output_type": "display_data"
    },
    {
     "data": {
      "application/vnd.jupyter.widget-view+json": {
       "model_id": "e449c8ae28184ea0a09999a6b956c294",
       "version_major": 2,
       "version_minor": 0
      },
      "text/plain": [
       "Copying files to /Volumes/DATASET/Train/Batch_1058:   0%|          | 0/1000 [00:00<?, ?it/s]"
      ]
     },
     "metadata": {},
     "output_type": "display_data"
    },
    {
     "data": {
      "application/vnd.jupyter.widget-view+json": {
       "model_id": "f95a33c6bfd74fad9729696822bb4f34",
       "version_major": 2,
       "version_minor": 0
      },
      "text/plain": [
       "Copying files to /Volumes/DATASET/Train/Batch_1059:   0%|          | 0/1000 [00:00<?, ?it/s]"
      ]
     },
     "metadata": {},
     "output_type": "display_data"
    },
    {
     "data": {
      "application/vnd.jupyter.widget-view+json": {
       "model_id": "1ccf178d6351446e96bf7b12af12e690",
       "version_major": 2,
       "version_minor": 0
      },
      "text/plain": [
       "Copying files to /Volumes/DATASET/Train/Batch_1060:   0%|          | 0/1000 [00:00<?, ?it/s]"
      ]
     },
     "metadata": {},
     "output_type": "display_data"
    },
    {
     "data": {
      "application/vnd.jupyter.widget-view+json": {
       "model_id": "d24d0a4c555541b4abb84630f9639ab0",
       "version_major": 2,
       "version_minor": 0
      },
      "text/plain": [
       "Copying files to /Volumes/DATASET/Train/Batch_1061:   0%|          | 0/1000 [00:00<?, ?it/s]"
      ]
     },
     "metadata": {},
     "output_type": "display_data"
    },
    {
     "data": {
      "application/vnd.jupyter.widget-view+json": {
       "model_id": "f5acaec0a25c455f86440dee6fb24d47",
       "version_major": 2,
       "version_minor": 0
      },
      "text/plain": [
       "Copying files to /Volumes/DATASET/Train/Batch_1062:   0%|          | 0/1000 [00:00<?, ?it/s]"
      ]
     },
     "metadata": {},
     "output_type": "display_data"
    },
    {
     "data": {
      "application/vnd.jupyter.widget-view+json": {
       "model_id": "3bb649727df9464ab0ce6c06796e9142",
       "version_major": 2,
       "version_minor": 0
      },
      "text/plain": [
       "Copying files to /Volumes/DATASET/Train/Batch_1063:   0%|          | 0/1000 [00:00<?, ?it/s]"
      ]
     },
     "metadata": {},
     "output_type": "display_data"
    },
    {
     "data": {
      "application/vnd.jupyter.widget-view+json": {
       "model_id": "cf668d5cc6a34eaf97dcd2305a9f3068",
       "version_major": 2,
       "version_minor": 0
      },
      "text/plain": [
       "Copying files to /Volumes/DATASET/Train/Batch_1064:   0%|          | 0/1000 [00:00<?, ?it/s]"
      ]
     },
     "metadata": {},
     "output_type": "display_data"
    },
    {
     "data": {
      "application/vnd.jupyter.widget-view+json": {
       "model_id": "4284151e204c4e8eb1c03e83f14f51c7",
       "version_major": 2,
       "version_minor": 0
      },
      "text/plain": [
       "Copying files to /Volumes/DATASET/Train/Batch_1065:   0%|          | 0/1000 [00:00<?, ?it/s]"
      ]
     },
     "metadata": {},
     "output_type": "display_data"
    },
    {
     "data": {
      "application/vnd.jupyter.widget-view+json": {
       "model_id": "eeee53a5710a45e5a5e0fc9446ca4e36",
       "version_major": 2,
       "version_minor": 0
      },
      "text/plain": [
       "Copying files to /Volumes/DATASET/Train/Batch_1066:   0%|          | 0/1000 [00:00<?, ?it/s]"
      ]
     },
     "metadata": {},
     "output_type": "display_data"
    },
    {
     "data": {
      "application/vnd.jupyter.widget-view+json": {
       "model_id": "0bf4dc93b0614bd6bc6ff3d401d98dfc",
       "version_major": 2,
       "version_minor": 0
      },
      "text/plain": [
       "Copying files to /Volumes/DATASET/Train/Batch_1067:   0%|          | 0/1000 [00:00<?, ?it/s]"
      ]
     },
     "metadata": {},
     "output_type": "display_data"
    },
    {
     "data": {
      "application/vnd.jupyter.widget-view+json": {
       "model_id": "27d519aca089407a9cbd15efea1b3a46",
       "version_major": 2,
       "version_minor": 0
      },
      "text/plain": [
       "Copying files to /Volumes/DATASET/Train/Batch_1068:   0%|          | 0/1000 [00:00<?, ?it/s]"
      ]
     },
     "metadata": {},
     "output_type": "display_data"
    },
    {
     "data": {
      "application/vnd.jupyter.widget-view+json": {
       "model_id": "0afe7ca8402c45a18ed83a8c3b34f48a",
       "version_major": 2,
       "version_minor": 0
      },
      "text/plain": [
       "Copying files to /Volumes/DATASET/Train/Batch_1069:   0%|          | 0/1000 [00:00<?, ?it/s]"
      ]
     },
     "metadata": {},
     "output_type": "display_data"
    },
    {
     "data": {
      "application/vnd.jupyter.widget-view+json": {
       "model_id": "89ff7ed5c25144ff8b82f9a802be9d4d",
       "version_major": 2,
       "version_minor": 0
      },
      "text/plain": [
       "Copying files to /Volumes/DATASET/Train/Batch_1070:   0%|          | 0/1000 [00:00<?, ?it/s]"
      ]
     },
     "metadata": {},
     "output_type": "display_data"
    },
    {
     "data": {
      "application/vnd.jupyter.widget-view+json": {
       "model_id": "80b8b73781f949bdb324068b738977e6",
       "version_major": 2,
       "version_minor": 0
      },
      "text/plain": [
       "Copying files to /Volumes/DATASET/Train/Batch_1071:   0%|          | 0/1000 [00:00<?, ?it/s]"
      ]
     },
     "metadata": {},
     "output_type": "display_data"
    },
    {
     "data": {
      "application/vnd.jupyter.widget-view+json": {
       "model_id": "b288d49d978f4ed7959b266bf4bc2d59",
       "version_major": 2,
       "version_minor": 0
      },
      "text/plain": [
       "Copying files to /Volumes/DATASET/Train/Batch_1072:   0%|          | 0/1000 [00:00<?, ?it/s]"
      ]
     },
     "metadata": {},
     "output_type": "display_data"
    },
    {
     "data": {
      "application/vnd.jupyter.widget-view+json": {
       "model_id": "b302018ab7a9479da5753ca77fa37401",
       "version_major": 2,
       "version_minor": 0
      },
      "text/plain": [
       "Copying files to /Volumes/DATASET/Train/Batch_1073:   0%|          | 0/1000 [00:00<?, ?it/s]"
      ]
     },
     "metadata": {},
     "output_type": "display_data"
    },
    {
     "data": {
      "application/vnd.jupyter.widget-view+json": {
       "model_id": "ade4e5ebbc214334b77d17586b429895",
       "version_major": 2,
       "version_minor": 0
      },
      "text/plain": [
       "Copying files to /Volumes/DATASET/Train/Batch_1074:   0%|          | 0/1000 [00:00<?, ?it/s]"
      ]
     },
     "metadata": {},
     "output_type": "display_data"
    },
    {
     "data": {
      "application/vnd.jupyter.widget-view+json": {
       "model_id": "464ed28edae0447cb7de9265bbb281db",
       "version_major": 2,
       "version_minor": 0
      },
      "text/plain": [
       "Copying files to /Volumes/DATASET/Train/Batch_1075:   0%|          | 0/1000 [00:00<?, ?it/s]"
      ]
     },
     "metadata": {},
     "output_type": "display_data"
    },
    {
     "data": {
      "application/vnd.jupyter.widget-view+json": {
       "model_id": "4e48bd746a534dd98ef7ffdc1309659a",
       "version_major": 2,
       "version_minor": 0
      },
      "text/plain": [
       "Copying files to /Volumes/DATASET/Train/Batch_1076:   0%|          | 0/1000 [00:00<?, ?it/s]"
      ]
     },
     "metadata": {},
     "output_type": "display_data"
    },
    {
     "data": {
      "application/vnd.jupyter.widget-view+json": {
       "model_id": "780fcedf481c4eb0a9b418cb9b1144d6",
       "version_major": 2,
       "version_minor": 0
      },
      "text/plain": [
       "Copying files to /Volumes/DATASET/Train/Batch_1077:   0%|          | 0/1000 [00:00<?, ?it/s]"
      ]
     },
     "metadata": {},
     "output_type": "display_data"
    },
    {
     "data": {
      "application/vnd.jupyter.widget-view+json": {
       "model_id": "dd543ecca4754dc59649bd0a5d71b72a",
       "version_major": 2,
       "version_minor": 0
      },
      "text/plain": [
       "Copying files to /Volumes/DATASET/Train/Batch_1078:   0%|          | 0/1000 [00:00<?, ?it/s]"
      ]
     },
     "metadata": {},
     "output_type": "display_data"
    },
    {
     "data": {
      "application/vnd.jupyter.widget-view+json": {
       "model_id": "8c57265252b445d0b1074cc5a8df81c3",
       "version_major": 2,
       "version_minor": 0
      },
      "text/plain": [
       "Copying files to /Volumes/DATASET/Train/Batch_1079:   0%|          | 0/1000 [00:00<?, ?it/s]"
      ]
     },
     "metadata": {},
     "output_type": "display_data"
    },
    {
     "data": {
      "application/vnd.jupyter.widget-view+json": {
       "model_id": "77b4edbfedbc4ae39899ec6b7e9fe0c5",
       "version_major": 2,
       "version_minor": 0
      },
      "text/plain": [
       "Copying files to /Volumes/DATASET/Train/Batch_1080:   0%|          | 0/1000 [00:00<?, ?it/s]"
      ]
     },
     "metadata": {},
     "output_type": "display_data"
    },
    {
     "data": {
      "application/vnd.jupyter.widget-view+json": {
       "model_id": "74a81b7a54024bbb97912b52777645be",
       "version_major": 2,
       "version_minor": 0
      },
      "text/plain": [
       "Copying files to /Volumes/DATASET/Train/Batch_1081:   0%|          | 0/1000 [00:00<?, ?it/s]"
      ]
     },
     "metadata": {},
     "output_type": "display_data"
    },
    {
     "data": {
      "application/vnd.jupyter.widget-view+json": {
       "model_id": "f228a20f5f6848789c968cb2640d993f",
       "version_major": 2,
       "version_minor": 0
      },
      "text/plain": [
       "Copying files to /Volumes/DATASET/Train/Batch_1082:   0%|          | 0/1000 [00:00<?, ?it/s]"
      ]
     },
     "metadata": {},
     "output_type": "display_data"
    },
    {
     "data": {
      "application/vnd.jupyter.widget-view+json": {
       "model_id": "2f78642b698d4ee4972dbda90c30928f",
       "version_major": 2,
       "version_minor": 0
      },
      "text/plain": [
       "Copying files to /Volumes/DATASET/Train/Batch_1083:   0%|          | 0/1000 [00:00<?, ?it/s]"
      ]
     },
     "metadata": {},
     "output_type": "display_data"
    },
    {
     "data": {
      "application/vnd.jupyter.widget-view+json": {
       "model_id": "148a36c23a5e4efdbca52fcb06196a36",
       "version_major": 2,
       "version_minor": 0
      },
      "text/plain": [
       "Copying files to /Volumes/DATASET/Train/Batch_1084:   0%|          | 0/1000 [00:00<?, ?it/s]"
      ]
     },
     "metadata": {},
     "output_type": "display_data"
    },
    {
     "data": {
      "application/vnd.jupyter.widget-view+json": {
       "model_id": "a858ad5ed81f4fc88d1e49b2fc69d518",
       "version_major": 2,
       "version_minor": 0
      },
      "text/plain": [
       "Copying files to /Volumes/DATASET/Train/Batch_1085:   0%|          | 0/1000 [00:00<?, ?it/s]"
      ]
     },
     "metadata": {},
     "output_type": "display_data"
    },
    {
     "data": {
      "application/vnd.jupyter.widget-view+json": {
       "model_id": "176eae222dd949d490a81e4af5547d3a",
       "version_major": 2,
       "version_minor": 0
      },
      "text/plain": [
       "Copying files to /Volumes/DATASET/Train/Batch_1086:   0%|          | 0/1000 [00:00<?, ?it/s]"
      ]
     },
     "metadata": {},
     "output_type": "display_data"
    },
    {
     "data": {
      "application/vnd.jupyter.widget-view+json": {
       "model_id": "e0da9bce50c449498e2fca3b6b9c4477",
       "version_major": 2,
       "version_minor": 0
      },
      "text/plain": [
       "Copying files to /Volumes/DATASET/Train/Batch_1087:   0%|          | 0/1000 [00:00<?, ?it/s]"
      ]
     },
     "metadata": {},
     "output_type": "display_data"
    },
    {
     "data": {
      "application/vnd.jupyter.widget-view+json": {
       "model_id": "8f4573401e9e4bb8b2b1b8d7ebadf6f8",
       "version_major": 2,
       "version_minor": 0
      },
      "text/plain": [
       "Copying files to /Volumes/DATASET/Train/Batch_1088:   0%|          | 0/1000 [00:00<?, ?it/s]"
      ]
     },
     "metadata": {},
     "output_type": "display_data"
    },
    {
     "data": {
      "application/vnd.jupyter.widget-view+json": {
       "model_id": "0f76c58cd19b41d9b0e150f9d47861e5",
       "version_major": 2,
       "version_minor": 0
      },
      "text/plain": [
       "Copying files to /Volumes/DATASET/Train/Batch_1089:   0%|          | 0/1000 [00:00<?, ?it/s]"
      ]
     },
     "metadata": {},
     "output_type": "display_data"
    },
    {
     "data": {
      "application/vnd.jupyter.widget-view+json": {
       "model_id": "6146b2de573c49c7820748277667b1be",
       "version_major": 2,
       "version_minor": 0
      },
      "text/plain": [
       "Copying files to /Volumes/DATASET/Train/Batch_1090:   0%|          | 0/1000 [00:00<?, ?it/s]"
      ]
     },
     "metadata": {},
     "output_type": "display_data"
    },
    {
     "data": {
      "application/vnd.jupyter.widget-view+json": {
       "model_id": "3e10ec4eeacc490eb20c69f52bfd22a3",
       "version_major": 2,
       "version_minor": 0
      },
      "text/plain": [
       "Copying files to /Volumes/DATASET/Train/Batch_1091:   0%|          | 0/1000 [00:00<?, ?it/s]"
      ]
     },
     "metadata": {},
     "output_type": "display_data"
    },
    {
     "data": {
      "application/vnd.jupyter.widget-view+json": {
       "model_id": "fbddc7edd5874ffeb3f47506f4e7f697",
       "version_major": 2,
       "version_minor": 0
      },
      "text/plain": [
       "Copying files to /Volumes/DATASET/Train/Batch_1092:   0%|          | 0/1000 [00:00<?, ?it/s]"
      ]
     },
     "metadata": {},
     "output_type": "display_data"
    },
    {
     "data": {
      "application/vnd.jupyter.widget-view+json": {
       "model_id": "905d553f28824aaabe221910305c199f",
       "version_major": 2,
       "version_minor": 0
      },
      "text/plain": [
       "Copying files to /Volumes/DATASET/Train/Batch_1093:   0%|          | 0/1000 [00:00<?, ?it/s]"
      ]
     },
     "metadata": {},
     "output_type": "display_data"
    },
    {
     "data": {
      "application/vnd.jupyter.widget-view+json": {
       "model_id": "d4366c5d77934bcd86522b6cc621e6ba",
       "version_major": 2,
       "version_minor": 0
      },
      "text/plain": [
       "Copying files to /Volumes/DATASET/Train/Batch_1094:   0%|          | 0/1000 [00:00<?, ?it/s]"
      ]
     },
     "metadata": {},
     "output_type": "display_data"
    },
    {
     "data": {
      "application/vnd.jupyter.widget-view+json": {
       "model_id": "ee461d270f3a4768b30bae52b18cbc4a",
       "version_major": 2,
       "version_minor": 0
      },
      "text/plain": [
       "Copying files to /Volumes/DATASET/Train/Batch_1095:   0%|          | 0/1000 [00:00<?, ?it/s]"
      ]
     },
     "metadata": {},
     "output_type": "display_data"
    },
    {
     "data": {
      "application/vnd.jupyter.widget-view+json": {
       "model_id": "523dd1897a18401aa8b9c936ae199e43",
       "version_major": 2,
       "version_minor": 0
      },
      "text/plain": [
       "Copying files to /Volumes/DATASET/Train/Batch_1096:   0%|          | 0/1000 [00:00<?, ?it/s]"
      ]
     },
     "metadata": {},
     "output_type": "display_data"
    },
    {
     "data": {
      "application/vnd.jupyter.widget-view+json": {
       "model_id": "2db98f57f0434b2d82c72fa833057e20",
       "version_major": 2,
       "version_minor": 0
      },
      "text/plain": [
       "Copying files to /Volumes/DATASET/Train/Batch_1097:   0%|          | 0/1000 [00:00<?, ?it/s]"
      ]
     },
     "metadata": {},
     "output_type": "display_data"
    },
    {
     "data": {
      "application/vnd.jupyter.widget-view+json": {
       "model_id": "37ec7ea74c5a4107afb3f8d6daaac539",
       "version_major": 2,
       "version_minor": 0
      },
      "text/plain": [
       "Copying files to /Volumes/DATASET/Train/Batch_1098:   0%|          | 0/1000 [00:00<?, ?it/s]"
      ]
     },
     "metadata": {},
     "output_type": "display_data"
    },
    {
     "data": {
      "application/vnd.jupyter.widget-view+json": {
       "model_id": "a3496c9dc13c469cb5f189c51e888a33",
       "version_major": 2,
       "version_minor": 0
      },
      "text/plain": [
       "Copying files to /Volumes/DATASET/Train/Batch_1099:   0%|          | 0/1000 [00:00<?, ?it/s]"
      ]
     },
     "metadata": {},
     "output_type": "display_data"
    },
    {
     "data": {
      "application/vnd.jupyter.widget-view+json": {
       "model_id": "04c0123ac395420ca4ecac45dd6c2c20",
       "version_major": 2,
       "version_minor": 0
      },
      "text/plain": [
       "Copying files to /Volumes/DATASET/Train/Batch_1100:   0%|          | 0/1000 [00:00<?, ?it/s]"
      ]
     },
     "metadata": {},
     "output_type": "display_data"
    },
    {
     "data": {
      "application/vnd.jupyter.widget-view+json": {
       "model_id": "3292709f8fce4d6fa0d193e71702aaca",
       "version_major": 2,
       "version_minor": 0
      },
      "text/plain": [
       "Copying files to /Volumes/DATASET/Train/Batch_1101:   0%|          | 0/1000 [00:00<?, ?it/s]"
      ]
     },
     "metadata": {},
     "output_type": "display_data"
    },
    {
     "data": {
      "application/vnd.jupyter.widget-view+json": {
       "model_id": "b6f0e738b3eb4524adc9f3ac03161d52",
       "version_major": 2,
       "version_minor": 0
      },
      "text/plain": [
       "Copying files to /Volumes/DATASET/Train/Batch_1102:   0%|          | 0/1000 [00:00<?, ?it/s]"
      ]
     },
     "metadata": {},
     "output_type": "display_data"
    },
    {
     "data": {
      "application/vnd.jupyter.widget-view+json": {
       "model_id": "81bc7c57323a499bb810676bc8749950",
       "version_major": 2,
       "version_minor": 0
      },
      "text/plain": [
       "Copying files to /Volumes/DATASET/Train/Batch_1103:   0%|          | 0/1000 [00:00<?, ?it/s]"
      ]
     },
     "metadata": {},
     "output_type": "display_data"
    },
    {
     "data": {
      "application/vnd.jupyter.widget-view+json": {
       "model_id": "41f382d3731b42b6af89e533e9898d51",
       "version_major": 2,
       "version_minor": 0
      },
      "text/plain": [
       "Copying files to /Volumes/DATASET/Train/Batch_1104:   0%|          | 0/1000 [00:00<?, ?it/s]"
      ]
     },
     "metadata": {},
     "output_type": "display_data"
    },
    {
     "data": {
      "application/vnd.jupyter.widget-view+json": {
       "model_id": "76abfaa703f14138895731560cd54e8f",
       "version_major": 2,
       "version_minor": 0
      },
      "text/plain": [
       "Copying files to /Volumes/DATASET/Train/Batch_1105:   0%|          | 0/1000 [00:00<?, ?it/s]"
      ]
     },
     "metadata": {},
     "output_type": "display_data"
    },
    {
     "data": {
      "application/vnd.jupyter.widget-view+json": {
       "model_id": "8e106ddffe6745999823baaf4595765e",
       "version_major": 2,
       "version_minor": 0
      },
      "text/plain": [
       "Copying files to /Volumes/DATASET/Train/Batch_1106:   0%|          | 0/1000 [00:00<?, ?it/s]"
      ]
     },
     "metadata": {},
     "output_type": "display_data"
    },
    {
     "data": {
      "application/vnd.jupyter.widget-view+json": {
       "model_id": "951dffe7338d4b6e89a1a476071e4479",
       "version_major": 2,
       "version_minor": 0
      },
      "text/plain": [
       "Copying files to /Volumes/DATASET/Train/Batch_1107:   0%|          | 0/1000 [00:00<?, ?it/s]"
      ]
     },
     "metadata": {},
     "output_type": "display_data"
    },
    {
     "data": {
      "application/vnd.jupyter.widget-view+json": {
       "model_id": "08f1a4b6ca9c46de806c5502397ea619",
       "version_major": 2,
       "version_minor": 0
      },
      "text/plain": [
       "Copying files to /Volumes/DATASET/Train/Batch_1108:   0%|          | 0/1000 [00:00<?, ?it/s]"
      ]
     },
     "metadata": {},
     "output_type": "display_data"
    },
    {
     "data": {
      "application/vnd.jupyter.widget-view+json": {
       "model_id": "515d3562e1624e28a3e1789d3f08317c",
       "version_major": 2,
       "version_minor": 0
      },
      "text/plain": [
       "Copying files to /Volumes/DATASET/Train/Batch_1109:   0%|          | 0/1000 [00:00<?, ?it/s]"
      ]
     },
     "metadata": {},
     "output_type": "display_data"
    },
    {
     "data": {
      "application/vnd.jupyter.widget-view+json": {
       "model_id": "9fe613c5aa7b447d8e73092dcc85832f",
       "version_major": 2,
       "version_minor": 0
      },
      "text/plain": [
       "Copying files to /Volumes/DATASET/Train/Batch_1110:   0%|          | 0/1000 [00:00<?, ?it/s]"
      ]
     },
     "metadata": {},
     "output_type": "display_data"
    },
    {
     "data": {
      "application/vnd.jupyter.widget-view+json": {
       "model_id": "a7bade702156485fb154677eb7f1e1d4",
       "version_major": 2,
       "version_minor": 0
      },
      "text/plain": [
       "Copying files to /Volumes/DATASET/Train/Batch_1111:   0%|          | 0/1000 [00:00<?, ?it/s]"
      ]
     },
     "metadata": {},
     "output_type": "display_data"
    },
    {
     "data": {
      "application/vnd.jupyter.widget-view+json": {
       "model_id": "9ff22ba066dd408180b2716426a2353b",
       "version_major": 2,
       "version_minor": 0
      },
      "text/plain": [
       "Copying files to /Volumes/DATASET/Train/Batch_1112:   0%|          | 0/1000 [00:00<?, ?it/s]"
      ]
     },
     "metadata": {},
     "output_type": "display_data"
    },
    {
     "data": {
      "application/vnd.jupyter.widget-view+json": {
       "model_id": "78b34930ee394bcd908fcee72ac8e156",
       "version_major": 2,
       "version_minor": 0
      },
      "text/plain": [
       "Copying files to /Volumes/DATASET/Train/Batch_1113:   0%|          | 0/1000 [00:00<?, ?it/s]"
      ]
     },
     "metadata": {},
     "output_type": "display_data"
    },
    {
     "data": {
      "application/vnd.jupyter.widget-view+json": {
       "model_id": "949f6220758c451aae53b78e28087ef5",
       "version_major": 2,
       "version_minor": 0
      },
      "text/plain": [
       "Copying files to /Volumes/DATASET/Train/Batch_1114:   0%|          | 0/1000 [00:00<?, ?it/s]"
      ]
     },
     "metadata": {},
     "output_type": "display_data"
    },
    {
     "data": {
      "application/vnd.jupyter.widget-view+json": {
       "model_id": "5eec722b1e02452aaf86a9ccd0bebf52",
       "version_major": 2,
       "version_minor": 0
      },
      "text/plain": [
       "Copying files to /Volumes/DATASET/Train/Batch_1115:   0%|          | 0/1000 [00:00<?, ?it/s]"
      ]
     },
     "metadata": {},
     "output_type": "display_data"
    },
    {
     "data": {
      "application/vnd.jupyter.widget-view+json": {
       "model_id": "617d87d3f4b443d3b21ab4e1c3b8dc0c",
       "version_major": 2,
       "version_minor": 0
      },
      "text/plain": [
       "Copying files to /Volumes/DATASET/Train/Batch_1116:   0%|          | 0/1000 [00:00<?, ?it/s]"
      ]
     },
     "metadata": {},
     "output_type": "display_data"
    },
    {
     "data": {
      "application/vnd.jupyter.widget-view+json": {
       "model_id": "904c20a6075a430bae124f34e5d638ca",
       "version_major": 2,
       "version_minor": 0
      },
      "text/plain": [
       "Copying files to /Volumes/DATASET/Train/Batch_1117:   0%|          | 0/1000 [00:00<?, ?it/s]"
      ]
     },
     "metadata": {},
     "output_type": "display_data"
    },
    {
     "data": {
      "application/vnd.jupyter.widget-view+json": {
       "model_id": "a0e4cd7ed8044ec4a5292b624409000a",
       "version_major": 2,
       "version_minor": 0
      },
      "text/plain": [
       "Copying files to /Volumes/DATASET/Train/Batch_1118:   0%|          | 0/1000 [00:00<?, ?it/s]"
      ]
     },
     "metadata": {},
     "output_type": "display_data"
    },
    {
     "data": {
      "application/vnd.jupyter.widget-view+json": {
       "model_id": "3599f552da2d4f6085a62f5c34aa3d46",
       "version_major": 2,
       "version_minor": 0
      },
      "text/plain": [
       "Copying files to /Volumes/DATASET/Train/Batch_1119:   0%|          | 0/1000 [00:00<?, ?it/s]"
      ]
     },
     "metadata": {},
     "output_type": "display_data"
    },
    {
     "data": {
      "application/vnd.jupyter.widget-view+json": {
       "model_id": "3ad424e690dc4540830a34ee93c6a4b7",
       "version_major": 2,
       "version_minor": 0
      },
      "text/plain": [
       "Copying files to /Volumes/DATASET/Train/Batch_1120:   0%|          | 0/1000 [00:00<?, ?it/s]"
      ]
     },
     "metadata": {},
     "output_type": "display_data"
    },
    {
     "data": {
      "application/vnd.jupyter.widget-view+json": {
       "model_id": "ee15cd012c9547bda090471f51d88ab9",
       "version_major": 2,
       "version_minor": 0
      },
      "text/plain": [
       "Copying files to /Volumes/DATASET/Train/Batch_1121:   0%|          | 0/1000 [00:00<?, ?it/s]"
      ]
     },
     "metadata": {},
     "output_type": "display_data"
    },
    {
     "data": {
      "application/vnd.jupyter.widget-view+json": {
       "model_id": "c9bd15b4e2f9471585e8b08ee429b367",
       "version_major": 2,
       "version_minor": 0
      },
      "text/plain": [
       "Copying files to /Volumes/DATASET/Train/Batch_1122:   0%|          | 0/1000 [00:00<?, ?it/s]"
      ]
     },
     "metadata": {},
     "output_type": "display_data"
    },
    {
     "data": {
      "application/vnd.jupyter.widget-view+json": {
       "model_id": "b18f4f84af024c8c9528cce61424f251",
       "version_major": 2,
       "version_minor": 0
      },
      "text/plain": [
       "Copying files to /Volumes/DATASET/Train/Batch_1123:   0%|          | 0/1000 [00:00<?, ?it/s]"
      ]
     },
     "metadata": {},
     "output_type": "display_data"
    },
    {
     "data": {
      "application/vnd.jupyter.widget-view+json": {
       "model_id": "75928cbb26254623900e3e975b4411cd",
       "version_major": 2,
       "version_minor": 0
      },
      "text/plain": [
       "Copying files to /Volumes/DATASET/Train/Batch_1124:   0%|          | 0/1000 [00:00<?, ?it/s]"
      ]
     },
     "metadata": {},
     "output_type": "display_data"
    },
    {
     "data": {
      "application/vnd.jupyter.widget-view+json": {
       "model_id": "f4bd0c9f72214ca9b5ee7f32e9b439f4",
       "version_major": 2,
       "version_minor": 0
      },
      "text/plain": [
       "Copying files to /Volumes/DATASET/Train/Batch_1125:   0%|          | 0/1000 [00:00<?, ?it/s]"
      ]
     },
     "metadata": {},
     "output_type": "display_data"
    },
    {
     "data": {
      "application/vnd.jupyter.widget-view+json": {
       "model_id": "a17eed8d2cbb458caff5d268b216bfba",
       "version_major": 2,
       "version_minor": 0
      },
      "text/plain": [
       "Copying files to /Volumes/DATASET/Train/Batch_1126:   0%|          | 0/1000 [00:00<?, ?it/s]"
      ]
     },
     "metadata": {},
     "output_type": "display_data"
    },
    {
     "data": {
      "application/vnd.jupyter.widget-view+json": {
       "model_id": "9d7c543ba3de44ad9079a26fb541b7f5",
       "version_major": 2,
       "version_minor": 0
      },
      "text/plain": [
       "Copying files to /Volumes/DATASET/Train/Batch_1127:   0%|          | 0/1000 [00:00<?, ?it/s]"
      ]
     },
     "metadata": {},
     "output_type": "display_data"
    },
    {
     "data": {
      "application/vnd.jupyter.widget-view+json": {
       "model_id": "1cbdc810784f484cb4afc9039eeba135",
       "version_major": 2,
       "version_minor": 0
      },
      "text/plain": [
       "Copying files to /Volumes/DATASET/Train/Batch_1128:   0%|          | 0/1000 [00:00<?, ?it/s]"
      ]
     },
     "metadata": {},
     "output_type": "display_data"
    },
    {
     "data": {
      "application/vnd.jupyter.widget-view+json": {
       "model_id": "b14256bf9d374ffe92f274bcf0f3a62c",
       "version_major": 2,
       "version_minor": 0
      },
      "text/plain": [
       "Copying files to /Volumes/DATASET/Train/Batch_1129:   0%|          | 0/1000 [00:00<?, ?it/s]"
      ]
     },
     "metadata": {},
     "output_type": "display_data"
    },
    {
     "data": {
      "application/vnd.jupyter.widget-view+json": {
       "model_id": "3828f1b97f6d46428469df8f5f4d87db",
       "version_major": 2,
       "version_minor": 0
      },
      "text/plain": [
       "Copying files to /Volumes/DATASET/Train/Batch_1130:   0%|          | 0/1000 [00:00<?, ?it/s]"
      ]
     },
     "metadata": {},
     "output_type": "display_data"
    },
    {
     "data": {
      "application/vnd.jupyter.widget-view+json": {
       "model_id": "e0d82d750e154662b17de13dae9c9bbb",
       "version_major": 2,
       "version_minor": 0
      },
      "text/plain": [
       "Copying files to /Volumes/DATASET/Train/Batch_1131:   0%|          | 0/1000 [00:00<?, ?it/s]"
      ]
     },
     "metadata": {},
     "output_type": "display_data"
    },
    {
     "data": {
      "application/vnd.jupyter.widget-view+json": {
       "model_id": "831421730ab84c5aac9f1928febc909b",
       "version_major": 2,
       "version_minor": 0
      },
      "text/plain": [
       "Copying files to /Volumes/DATASET/Train/Batch_1132:   0%|          | 0/1000 [00:00<?, ?it/s]"
      ]
     },
     "metadata": {},
     "output_type": "display_data"
    },
    {
     "data": {
      "application/vnd.jupyter.widget-view+json": {
       "model_id": "92a03c3df13148b28dbb42bdc5f6d2e0",
       "version_major": 2,
       "version_minor": 0
      },
      "text/plain": [
       "Copying files to /Volumes/DATASET/Train/Batch_1133:   0%|          | 0/1000 [00:00<?, ?it/s]"
      ]
     },
     "metadata": {},
     "output_type": "display_data"
    },
    {
     "data": {
      "application/vnd.jupyter.widget-view+json": {
       "model_id": "96e189fac00040e18673972db8df8a12",
       "version_major": 2,
       "version_minor": 0
      },
      "text/plain": [
       "Copying files to /Volumes/DATASET/Train/Batch_1134:   0%|          | 0/1000 [00:00<?, ?it/s]"
      ]
     },
     "metadata": {},
     "output_type": "display_data"
    },
    {
     "data": {
      "application/vnd.jupyter.widget-view+json": {
       "model_id": "3c671523a7d24caab18a15b75fbc3b99",
       "version_major": 2,
       "version_minor": 0
      },
      "text/plain": [
       "Copying files to /Volumes/DATASET/Train/Batch_1135:   0%|          | 0/1000 [00:00<?, ?it/s]"
      ]
     },
     "metadata": {},
     "output_type": "display_data"
    },
    {
     "data": {
      "application/vnd.jupyter.widget-view+json": {
       "model_id": "29c50e30801e4dada9b6783554ddf5bc",
       "version_major": 2,
       "version_minor": 0
      },
      "text/plain": [
       "Copying files to /Volumes/DATASET/Train/Batch_1136:   0%|          | 0/1000 [00:00<?, ?it/s]"
      ]
     },
     "metadata": {},
     "output_type": "display_data"
    },
    {
     "data": {
      "application/vnd.jupyter.widget-view+json": {
       "model_id": "4ae163dc716f497183a868f4de54986c",
       "version_major": 2,
       "version_minor": 0
      },
      "text/plain": [
       "Copying files to /Volumes/DATASET/Train/Batch_1137:   0%|          | 0/1000 [00:00<?, ?it/s]"
      ]
     },
     "metadata": {},
     "output_type": "display_data"
    },
    {
     "data": {
      "application/vnd.jupyter.widget-view+json": {
       "model_id": "e3d998bdd5c64e8d87fcf2d2d0c9c5eb",
       "version_major": 2,
       "version_minor": 0
      },
      "text/plain": [
       "Copying files to /Volumes/DATASET/Train/Batch_1138:   0%|          | 0/1000 [00:00<?, ?it/s]"
      ]
     },
     "metadata": {},
     "output_type": "display_data"
    },
    {
     "data": {
      "application/vnd.jupyter.widget-view+json": {
       "model_id": "bb737a0d8d504b5d9dff9facac53361b",
       "version_major": 2,
       "version_minor": 0
      },
      "text/plain": [
       "Copying files to /Volumes/DATASET/Train/Batch_1139:   0%|          | 0/1000 [00:00<?, ?it/s]"
      ]
     },
     "metadata": {},
     "output_type": "display_data"
    },
    {
     "data": {
      "application/vnd.jupyter.widget-view+json": {
       "model_id": "aa0b3e9ff79646209f081c6abf0325a9",
       "version_major": 2,
       "version_minor": 0
      },
      "text/plain": [
       "Copying files to /Volumes/DATASET/Train/Batch_1140:   0%|          | 0/1000 [00:00<?, ?it/s]"
      ]
     },
     "metadata": {},
     "output_type": "display_data"
    },
    {
     "data": {
      "application/vnd.jupyter.widget-view+json": {
       "model_id": "f10e4b067534474ebd1aa1d6e26c5f3c",
       "version_major": 2,
       "version_minor": 0
      },
      "text/plain": [
       "Copying files to /Volumes/DATASET/Train/Batch_1141:   0%|          | 0/1000 [00:00<?, ?it/s]"
      ]
     },
     "metadata": {},
     "output_type": "display_data"
    },
    {
     "data": {
      "application/vnd.jupyter.widget-view+json": {
       "model_id": "fe8062de4352447686639d4bdf6efd0c",
       "version_major": 2,
       "version_minor": 0
      },
      "text/plain": [
       "Copying files to /Volumes/DATASET/Train/Batch_1142:   0%|          | 0/1000 [00:00<?, ?it/s]"
      ]
     },
     "metadata": {},
     "output_type": "display_data"
    },
    {
     "data": {
      "application/vnd.jupyter.widget-view+json": {
       "model_id": "c07c05226db04cb6a23c57d97d3cda69",
       "version_major": 2,
       "version_minor": 0
      },
      "text/plain": [
       "Copying files to /Volumes/DATASET/Train/Batch_1143:   0%|          | 0/1000 [00:00<?, ?it/s]"
      ]
     },
     "metadata": {},
     "output_type": "display_data"
    },
    {
     "data": {
      "application/vnd.jupyter.widget-view+json": {
       "model_id": "61c17b57f8204f5aa0c4aa0fad6c7334",
       "version_major": 2,
       "version_minor": 0
      },
      "text/plain": [
       "Copying files to /Volumes/DATASET/Train/Batch_1144:   0%|          | 0/1000 [00:00<?, ?it/s]"
      ]
     },
     "metadata": {},
     "output_type": "display_data"
    },
    {
     "data": {
      "application/vnd.jupyter.widget-view+json": {
       "model_id": "d02fd75269094464996adbb970799f3b",
       "version_major": 2,
       "version_minor": 0
      },
      "text/plain": [
       "Copying files to /Volumes/DATASET/Train/Batch_1145:   0%|          | 0/1000 [00:00<?, ?it/s]"
      ]
     },
     "metadata": {},
     "output_type": "display_data"
    },
    {
     "data": {
      "application/vnd.jupyter.widget-view+json": {
       "model_id": "cfb1997bd8434c1db294951376d1a1fa",
       "version_major": 2,
       "version_minor": 0
      },
      "text/plain": [
       "Copying files to /Volumes/DATASET/Train/Batch_1146:   0%|          | 0/1000 [00:00<?, ?it/s]"
      ]
     },
     "metadata": {},
     "output_type": "display_data"
    },
    {
     "data": {
      "application/vnd.jupyter.widget-view+json": {
       "model_id": "459e22a8171b4844a16339a1836152a1",
       "version_major": 2,
       "version_minor": 0
      },
      "text/plain": [
       "Copying files to /Volumes/DATASET/Train/Batch_1147:   0%|          | 0/1000 [00:00<?, ?it/s]"
      ]
     },
     "metadata": {},
     "output_type": "display_data"
    },
    {
     "data": {
      "application/vnd.jupyter.widget-view+json": {
       "model_id": "3a6dc49014b94b86ac1f05aa1089ab45",
       "version_major": 2,
       "version_minor": 0
      },
      "text/plain": [
       "Copying files to /Volumes/DATASET/Train/Batch_1148:   0%|          | 0/1000 [00:00<?, ?it/s]"
      ]
     },
     "metadata": {},
     "output_type": "display_data"
    },
    {
     "data": {
      "application/vnd.jupyter.widget-view+json": {
       "model_id": "c20190c95de94b37812ae9584138dd43",
       "version_major": 2,
       "version_minor": 0
      },
      "text/plain": [
       "Copying files to /Volumes/DATASET/Train/Batch_1149:   0%|          | 0/1000 [00:00<?, ?it/s]"
      ]
     },
     "metadata": {},
     "output_type": "display_data"
    },
    {
     "data": {
      "application/vnd.jupyter.widget-view+json": {
       "model_id": "858396cfb0aa4ac495245fee87150535",
       "version_major": 2,
       "version_minor": 0
      },
      "text/plain": [
       "Copying files to /Volumes/DATASET/Train/Batch_1150:   0%|          | 0/1000 [00:00<?, ?it/s]"
      ]
     },
     "metadata": {},
     "output_type": "display_data"
    },
    {
     "data": {
      "application/vnd.jupyter.widget-view+json": {
       "model_id": "9e9a88208a2b47f69d3cfa56d76681cd",
       "version_major": 2,
       "version_minor": 0
      },
      "text/plain": [
       "Copying files to /Volumes/DATASET/Train/Batch_1151:   0%|          | 0/1000 [00:00<?, ?it/s]"
      ]
     },
     "metadata": {},
     "output_type": "display_data"
    },
    {
     "data": {
      "application/vnd.jupyter.widget-view+json": {
       "model_id": "77cc1debae2545c0bba3dfa1dc62341b",
       "version_major": 2,
       "version_minor": 0
      },
      "text/plain": [
       "Copying files to /Volumes/DATASET/Train/Batch_1152:   0%|          | 0/1000 [00:00<?, ?it/s]"
      ]
     },
     "metadata": {},
     "output_type": "display_data"
    },
    {
     "data": {
      "application/vnd.jupyter.widget-view+json": {
       "model_id": "c6463b2cfa754e338d3b0062879417a5",
       "version_major": 2,
       "version_minor": 0
      },
      "text/plain": [
       "Copying files to /Volumes/DATASET/Train/Batch_1153:   0%|          | 0/1000 [00:00<?, ?it/s]"
      ]
     },
     "metadata": {},
     "output_type": "display_data"
    },
    {
     "data": {
      "application/vnd.jupyter.widget-view+json": {
       "model_id": "5063be90bdd641458326d9194424297c",
       "version_major": 2,
       "version_minor": 0
      },
      "text/plain": [
       "Copying files to /Volumes/DATASET/Train/Batch_1154:   0%|          | 0/1000 [00:00<?, ?it/s]"
      ]
     },
     "metadata": {},
     "output_type": "display_data"
    },
    {
     "data": {
      "application/vnd.jupyter.widget-view+json": {
       "model_id": "72e54ed6d2f14fb5b22d01a16492e77d",
       "version_major": 2,
       "version_minor": 0
      },
      "text/plain": [
       "Copying files to /Volumes/DATASET/Train/Batch_1155:   0%|          | 0/1000 [00:00<?, ?it/s]"
      ]
     },
     "metadata": {},
     "output_type": "display_data"
    },
    {
     "data": {
      "application/vnd.jupyter.widget-view+json": {
       "model_id": "44e2cad7c48c45d0806979a459772190",
       "version_major": 2,
       "version_minor": 0
      },
      "text/plain": [
       "Copying files to /Volumes/DATASET/Train/Batch_1156:   0%|          | 0/1000 [00:00<?, ?it/s]"
      ]
     },
     "metadata": {},
     "output_type": "display_data"
    },
    {
     "data": {
      "application/vnd.jupyter.widget-view+json": {
       "model_id": "c6e954b2714244a0914e59fce9f0b3a1",
       "version_major": 2,
       "version_minor": 0
      },
      "text/plain": [
       "Copying files to /Volumes/DATASET/Train/Batch_1157:   0%|          | 0/1000 [00:00<?, ?it/s]"
      ]
     },
     "metadata": {},
     "output_type": "display_data"
    },
    {
     "data": {
      "application/vnd.jupyter.widget-view+json": {
       "model_id": "a3b4fb2d472c4561b370e90288b1ec47",
       "version_major": 2,
       "version_minor": 0
      },
      "text/plain": [
       "Copying files to /Volumes/DATASET/Train/Batch_1158:   0%|          | 0/1000 [00:00<?, ?it/s]"
      ]
     },
     "metadata": {},
     "output_type": "display_data"
    },
    {
     "data": {
      "application/vnd.jupyter.widget-view+json": {
       "model_id": "589ba21e987d4510b90643f62af7e7a5",
       "version_major": 2,
       "version_minor": 0
      },
      "text/plain": [
       "Copying files to /Volumes/DATASET/Train/Batch_1159:   0%|          | 0/1000 [00:00<?, ?it/s]"
      ]
     },
     "metadata": {},
     "output_type": "display_data"
    },
    {
     "data": {
      "application/vnd.jupyter.widget-view+json": {
       "model_id": "a2c52a74fc0647b990ed7bb718a9f1ac",
       "version_major": 2,
       "version_minor": 0
      },
      "text/plain": [
       "Copying files to /Volumes/DATASET/Train/Batch_1160:   0%|          | 0/1000 [00:00<?, ?it/s]"
      ]
     },
     "metadata": {},
     "output_type": "display_data"
    },
    {
     "data": {
      "application/vnd.jupyter.widget-view+json": {
       "model_id": "e0edb837987542508066780dac88c163",
       "version_major": 2,
       "version_minor": 0
      },
      "text/plain": [
       "Copying files to /Volumes/DATASET/Train/Batch_1161:   0%|          | 0/1000 [00:00<?, ?it/s]"
      ]
     },
     "metadata": {},
     "output_type": "display_data"
    },
    {
     "data": {
      "application/vnd.jupyter.widget-view+json": {
       "model_id": "0a34affa37af4bc694767dcae23474d6",
       "version_major": 2,
       "version_minor": 0
      },
      "text/plain": [
       "Copying files to /Volumes/DATASET/Train/Batch_1162:   0%|          | 0/1000 [00:00<?, ?it/s]"
      ]
     },
     "metadata": {},
     "output_type": "display_data"
    },
    {
     "data": {
      "application/vnd.jupyter.widget-view+json": {
       "model_id": "28113607483b48688ecdf706fa2b7793",
       "version_major": 2,
       "version_minor": 0
      },
      "text/plain": [
       "Copying files to /Volumes/DATASET/Train/Batch_1163:   0%|          | 0/1000 [00:00<?, ?it/s]"
      ]
     },
     "metadata": {},
     "output_type": "display_data"
    },
    {
     "data": {
      "application/vnd.jupyter.widget-view+json": {
       "model_id": "4948f86e30214573b35d5b9acf188dfd",
       "version_major": 2,
       "version_minor": 0
      },
      "text/plain": [
       "Copying files to /Volumes/DATASET/Train/Batch_1164:   0%|          | 0/1000 [00:00<?, ?it/s]"
      ]
     },
     "metadata": {},
     "output_type": "display_data"
    },
    {
     "data": {
      "application/vnd.jupyter.widget-view+json": {
       "model_id": "994e8110afbe410b9e37eb63c9899f13",
       "version_major": 2,
       "version_minor": 0
      },
      "text/plain": [
       "Copying files to /Volumes/DATASET/Train/Batch_1165:   0%|          | 0/1000 [00:00<?, ?it/s]"
      ]
     },
     "metadata": {},
     "output_type": "display_data"
    },
    {
     "data": {
      "application/vnd.jupyter.widget-view+json": {
       "model_id": "89996738015240fdad300439716d37e1",
       "version_major": 2,
       "version_minor": 0
      },
      "text/plain": [
       "Copying files to /Volumes/DATASET/Train/Batch_1166:   0%|          | 0/1000 [00:00<?, ?it/s]"
      ]
     },
     "metadata": {},
     "output_type": "display_data"
    },
    {
     "data": {
      "application/vnd.jupyter.widget-view+json": {
       "model_id": "abf67b77ceea4eacb0e3b945ff3c5944",
       "version_major": 2,
       "version_minor": 0
      },
      "text/plain": [
       "Copying files to /Volumes/DATASET/Train/Batch_1167:   0%|          | 0/1000 [00:00<?, ?it/s]"
      ]
     },
     "metadata": {},
     "output_type": "display_data"
    },
    {
     "data": {
      "application/vnd.jupyter.widget-view+json": {
       "model_id": "8f1002b70918421d97e34cbe40789a9b",
       "version_major": 2,
       "version_minor": 0
      },
      "text/plain": [
       "Copying files to /Volumes/DATASET/Train/Batch_1168:   0%|          | 0/1000 [00:00<?, ?it/s]"
      ]
     },
     "metadata": {},
     "output_type": "display_data"
    },
    {
     "data": {
      "application/vnd.jupyter.widget-view+json": {
       "model_id": "7505f294bac145c6a2d4c79e6ff1786a",
       "version_major": 2,
       "version_minor": 0
      },
      "text/plain": [
       "Copying files to /Volumes/DATASET/Train/Batch_1169:   0%|          | 0/1000 [00:00<?, ?it/s]"
      ]
     },
     "metadata": {},
     "output_type": "display_data"
    },
    {
     "data": {
      "application/vnd.jupyter.widget-view+json": {
       "model_id": "2fd80418a6394baba7300f639d81bee2",
       "version_major": 2,
       "version_minor": 0
      },
      "text/plain": [
       "Copying files to /Volumes/DATASET/Train/Batch_1170:   0%|          | 0/1000 [00:00<?, ?it/s]"
      ]
     },
     "metadata": {},
     "output_type": "display_data"
    },
    {
     "data": {
      "application/vnd.jupyter.widget-view+json": {
       "model_id": "c61e6c9840714733a5021f507a3674b3",
       "version_major": 2,
       "version_minor": 0
      },
      "text/plain": [
       "Copying files to /Volumes/DATASET/Train/Batch_1171:   0%|          | 0/1000 [00:00<?, ?it/s]"
      ]
     },
     "metadata": {},
     "output_type": "display_data"
    },
    {
     "data": {
      "application/vnd.jupyter.widget-view+json": {
       "model_id": "d59e35cfffa249189783ecbd9cf4b691",
       "version_major": 2,
       "version_minor": 0
      },
      "text/plain": [
       "Copying files to /Volumes/DATASET/Train/Batch_1172:   0%|          | 0/1000 [00:00<?, ?it/s]"
      ]
     },
     "metadata": {},
     "output_type": "display_data"
    },
    {
     "data": {
      "application/vnd.jupyter.widget-view+json": {
       "model_id": "a6a46886591043c19b7b567b482c1676",
       "version_major": 2,
       "version_minor": 0
      },
      "text/plain": [
       "Copying files to /Volumes/DATASET/Train/Batch_1173:   0%|          | 0/1000 [00:00<?, ?it/s]"
      ]
     },
     "metadata": {},
     "output_type": "display_data"
    },
    {
     "data": {
      "application/vnd.jupyter.widget-view+json": {
       "model_id": "4045c7c44ee4416ebbd88e18a08f710e",
       "version_major": 2,
       "version_minor": 0
      },
      "text/plain": [
       "Copying files to /Volumes/DATASET/Train/Batch_1174:   0%|          | 0/1000 [00:00<?, ?it/s]"
      ]
     },
     "metadata": {},
     "output_type": "display_data"
    },
    {
     "data": {
      "application/vnd.jupyter.widget-view+json": {
       "model_id": "e8fb605f356a442ea66d4d5183ce4458",
       "version_major": 2,
       "version_minor": 0
      },
      "text/plain": [
       "Copying files to /Volumes/DATASET/Train/Batch_1175:   0%|          | 0/1000 [00:00<?, ?it/s]"
      ]
     },
     "metadata": {},
     "output_type": "display_data"
    },
    {
     "data": {
      "application/vnd.jupyter.widget-view+json": {
       "model_id": "2beaa2be8c9a4e11b497b2ba16ff511b",
       "version_major": 2,
       "version_minor": 0
      },
      "text/plain": [
       "Copying files to /Volumes/DATASET/Train/Batch_1176:   0%|          | 0/1000 [00:00<?, ?it/s]"
      ]
     },
     "metadata": {},
     "output_type": "display_data"
    },
    {
     "data": {
      "application/vnd.jupyter.widget-view+json": {
       "model_id": "40bb4f9e8f884c078832d17e0b596741",
       "version_major": 2,
       "version_minor": 0
      },
      "text/plain": [
       "Copying files to /Volumes/DATASET/Train/Batch_1177:   0%|          | 0/1000 [00:00<?, ?it/s]"
      ]
     },
     "metadata": {},
     "output_type": "display_data"
    },
    {
     "data": {
      "application/vnd.jupyter.widget-view+json": {
       "model_id": "66498c918dae4a8c8ada48677e607aea",
       "version_major": 2,
       "version_minor": 0
      },
      "text/plain": [
       "Copying files to /Volumes/DATASET/Train/Batch_1178:   0%|          | 0/1000 [00:00<?, ?it/s]"
      ]
     },
     "metadata": {},
     "output_type": "display_data"
    },
    {
     "data": {
      "application/vnd.jupyter.widget-view+json": {
       "model_id": "cf8a5fb799744f7b8cdd124784d141c5",
       "version_major": 2,
       "version_minor": 0
      },
      "text/plain": [
       "Copying files to /Volumes/DATASET/Train/Batch_1179:   0%|          | 0/1000 [00:00<?, ?it/s]"
      ]
     },
     "metadata": {},
     "output_type": "display_data"
    },
    {
     "data": {
      "application/vnd.jupyter.widget-view+json": {
       "model_id": "8a8e9229211b45419977a0bc3fc48899",
       "version_major": 2,
       "version_minor": 0
      },
      "text/plain": [
       "Copying files to /Volumes/DATASET/Train/Batch_1180:   0%|          | 0/1000 [00:00<?, ?it/s]"
      ]
     },
     "metadata": {},
     "output_type": "display_data"
    },
    {
     "data": {
      "application/vnd.jupyter.widget-view+json": {
       "model_id": "ff9256c9ac1e4df5b42c4d88b5e24f14",
       "version_major": 2,
       "version_minor": 0
      },
      "text/plain": [
       "Copying files to /Volumes/DATASET/Train/Batch_1181:   0%|          | 0/1000 [00:00<?, ?it/s]"
      ]
     },
     "metadata": {},
     "output_type": "display_data"
    },
    {
     "data": {
      "application/vnd.jupyter.widget-view+json": {
       "model_id": "238ac972e36649b1bf0468b59a550d5d",
       "version_major": 2,
       "version_minor": 0
      },
      "text/plain": [
       "Copying files to /Volumes/DATASET/Train/Batch_1182:   0%|          | 0/1000 [00:00<?, ?it/s]"
      ]
     },
     "metadata": {},
     "output_type": "display_data"
    },
    {
     "data": {
      "application/vnd.jupyter.widget-view+json": {
       "model_id": "054b2e1b8ee24b03be734eee696c9b91",
       "version_major": 2,
       "version_minor": 0
      },
      "text/plain": [
       "Copying files to /Volumes/DATASET/Train/Batch_1183:   0%|          | 0/1000 [00:00<?, ?it/s]"
      ]
     },
     "metadata": {},
     "output_type": "display_data"
    },
    {
     "data": {
      "application/vnd.jupyter.widget-view+json": {
       "model_id": "8a2ffb9925654f499d67232bb0026653",
       "version_major": 2,
       "version_minor": 0
      },
      "text/plain": [
       "Copying files to /Volumes/DATASET/Train/Batch_1184:   0%|          | 0/1000 [00:00<?, ?it/s]"
      ]
     },
     "metadata": {},
     "output_type": "display_data"
    },
    {
     "data": {
      "application/vnd.jupyter.widget-view+json": {
       "model_id": "bee1d308c02e41a7beaeb64475158426",
       "version_major": 2,
       "version_minor": 0
      },
      "text/plain": [
       "Copying files to /Volumes/DATASET/Train/Batch_1185:   0%|          | 0/1000 [00:00<?, ?it/s]"
      ]
     },
     "metadata": {},
     "output_type": "display_data"
    },
    {
     "data": {
      "application/vnd.jupyter.widget-view+json": {
       "model_id": "d4f7ba0db363420089e2951e2aad8cbe",
       "version_major": 2,
       "version_minor": 0
      },
      "text/plain": [
       "Copying files to /Volumes/DATASET/Train/Batch_1186:   0%|          | 0/1000 [00:00<?, ?it/s]"
      ]
     },
     "metadata": {},
     "output_type": "display_data"
    },
    {
     "data": {
      "application/vnd.jupyter.widget-view+json": {
       "model_id": "b8d29c6a2ff844b789a1f55ad54cbc96",
       "version_major": 2,
       "version_minor": 0
      },
      "text/plain": [
       "Copying files to /Volumes/DATASET/Train/Batch_1187:   0%|          | 0/1000 [00:00<?, ?it/s]"
      ]
     },
     "metadata": {},
     "output_type": "display_data"
    },
    {
     "data": {
      "application/vnd.jupyter.widget-view+json": {
       "model_id": "72145cf0a25b4d60a9996c3d0f721c90",
       "version_major": 2,
       "version_minor": 0
      },
      "text/plain": [
       "Copying files to /Volumes/DATASET/Train/Batch_1188:   0%|          | 0/1000 [00:00<?, ?it/s]"
      ]
     },
     "metadata": {},
     "output_type": "display_data"
    },
    {
     "data": {
      "application/vnd.jupyter.widget-view+json": {
       "model_id": "9a1db330c05146599474e493042ca7fd",
       "version_major": 2,
       "version_minor": 0
      },
      "text/plain": [
       "Copying files to /Volumes/DATASET/Train/Batch_1189:   0%|          | 0/1000 [00:00<?, ?it/s]"
      ]
     },
     "metadata": {},
     "output_type": "display_data"
    },
    {
     "data": {
      "application/vnd.jupyter.widget-view+json": {
       "model_id": "2bce13335ecd476097b2f21ffc177499",
       "version_major": 2,
       "version_minor": 0
      },
      "text/plain": [
       "Copying files to /Volumes/DATASET/Train/Batch_1190:   0%|          | 0/1000 [00:00<?, ?it/s]"
      ]
     },
     "metadata": {},
     "output_type": "display_data"
    },
    {
     "data": {
      "application/vnd.jupyter.widget-view+json": {
       "model_id": "964c393452a34bf9b69fce7f44d49d81",
       "version_major": 2,
       "version_minor": 0
      },
      "text/plain": [
       "Copying files to /Volumes/DATASET/Train/Batch_1191:   0%|          | 0/1000 [00:00<?, ?it/s]"
      ]
     },
     "metadata": {},
     "output_type": "display_data"
    },
    {
     "data": {
      "application/vnd.jupyter.widget-view+json": {
       "model_id": "a14d3fa3e91b4073961142f00679dff6",
       "version_major": 2,
       "version_minor": 0
      },
      "text/plain": [
       "Copying files to /Volumes/DATASET/Train/Batch_1192:   0%|          | 0/1000 [00:00<?, ?it/s]"
      ]
     },
     "metadata": {},
     "output_type": "display_data"
    },
    {
     "data": {
      "application/vnd.jupyter.widget-view+json": {
       "model_id": "5bfc8ef6f4c34226a25fbf8b3a47afc2",
       "version_major": 2,
       "version_minor": 0
      },
      "text/plain": [
       "Copying files to /Volumes/DATASET/Train/Batch_1193:   0%|          | 0/1000 [00:00<?, ?it/s]"
      ]
     },
     "metadata": {},
     "output_type": "display_data"
    },
    {
     "data": {
      "application/vnd.jupyter.widget-view+json": {
       "model_id": "d96381c003c94174b492e921ba55e933",
       "version_major": 2,
       "version_minor": 0
      },
      "text/plain": [
       "Copying files to /Volumes/DATASET/Train/Batch_1194:   0%|          | 0/1000 [00:00<?, ?it/s]"
      ]
     },
     "metadata": {},
     "output_type": "display_data"
    },
    {
     "data": {
      "application/vnd.jupyter.widget-view+json": {
       "model_id": "44c16a9e175542c0b668ae3c1b7d390f",
       "version_major": 2,
       "version_minor": 0
      },
      "text/plain": [
       "Copying files to /Volumes/DATASET/Train/Batch_1195:   0%|          | 0/1000 [00:00<?, ?it/s]"
      ]
     },
     "metadata": {},
     "output_type": "display_data"
    },
    {
     "data": {
      "application/vnd.jupyter.widget-view+json": {
       "model_id": "e3d5a1e158864365bc8eef97630cf27f",
       "version_major": 2,
       "version_minor": 0
      },
      "text/plain": [
       "Copying files to /Volumes/DATASET/Train/Batch_1196:   0%|          | 0/1000 [00:00<?, ?it/s]"
      ]
     },
     "metadata": {},
     "output_type": "display_data"
    },
    {
     "data": {
      "application/vnd.jupyter.widget-view+json": {
       "model_id": "3f0f82db9a534918b6ac52c85cebe293",
       "version_major": 2,
       "version_minor": 0
      },
      "text/plain": [
       "Copying files to /Volumes/DATASET/Train/Batch_1197:   0%|          | 0/1000 [00:00<?, ?it/s]"
      ]
     },
     "metadata": {},
     "output_type": "display_data"
    },
    {
     "data": {
      "application/vnd.jupyter.widget-view+json": {
       "model_id": "d01f118322e04ad6824c464dfef4ea0b",
       "version_major": 2,
       "version_minor": 0
      },
      "text/plain": [
       "Copying files to /Volumes/DATASET/Train/Batch_1198:   0%|          | 0/1000 [00:00<?, ?it/s]"
      ]
     },
     "metadata": {},
     "output_type": "display_data"
    },
    {
     "data": {
      "application/vnd.jupyter.widget-view+json": {
       "model_id": "5a6a129f6f6f4ca99c6d2e1c940c2a45",
       "version_major": 2,
       "version_minor": 0
      },
      "text/plain": [
       "Copying files to /Volumes/DATASET/Train/Batch_1199:   0%|          | 0/1000 [00:00<?, ?it/s]"
      ]
     },
     "metadata": {},
     "output_type": "display_data"
    },
    {
     "data": {
      "application/vnd.jupyter.widget-view+json": {
       "model_id": "acd77bf22e354e7fb0393e9c9276d3dc",
       "version_major": 2,
       "version_minor": 0
      },
      "text/plain": [
       "Copying files to /Volumes/DATASET/Train/Batch_1200:   0%|          | 0/1000 [00:00<?, ?it/s]"
      ]
     },
     "metadata": {},
     "output_type": "display_data"
    },
    {
     "data": {
      "application/vnd.jupyter.widget-view+json": {
       "model_id": "bb1d7e3af7834197b60e5eba619b3ec2",
       "version_major": 2,
       "version_minor": 0
      },
      "text/plain": [
       "Copying files to /Volumes/DATASET/Train/Batch_1201:   0%|          | 0/1000 [00:00<?, ?it/s]"
      ]
     },
     "metadata": {},
     "output_type": "display_data"
    },
    {
     "data": {
      "application/vnd.jupyter.widget-view+json": {
       "model_id": "fa0bb78774a24d8180b7cb2f5b7be2fe",
       "version_major": 2,
       "version_minor": 0
      },
      "text/plain": [
       "Copying files to /Volumes/DATASET/Train/Batch_1202:   0%|          | 0/1000 [00:00<?, ?it/s]"
      ]
     },
     "metadata": {},
     "output_type": "display_data"
    },
    {
     "data": {
      "application/vnd.jupyter.widget-view+json": {
       "model_id": "5ec1e7e884e645ac86b9b053d167da2a",
       "version_major": 2,
       "version_minor": 0
      },
      "text/plain": [
       "Copying files to /Volumes/DATASET/Train/Batch_1203:   0%|          | 0/1000 [00:00<?, ?it/s]"
      ]
     },
     "metadata": {},
     "output_type": "display_data"
    },
    {
     "data": {
      "application/vnd.jupyter.widget-view+json": {
       "model_id": "7f583f7f93894c4d9fdebf198f349088",
       "version_major": 2,
       "version_minor": 0
      },
      "text/plain": [
       "Copying files to /Volumes/DATASET/Train/Batch_1204:   0%|          | 0/1000 [00:00<?, ?it/s]"
      ]
     },
     "metadata": {},
     "output_type": "display_data"
    },
    {
     "data": {
      "application/vnd.jupyter.widget-view+json": {
       "model_id": "2deeed4e225a43239c3fd35b00da933d",
       "version_major": 2,
       "version_minor": 0
      },
      "text/plain": [
       "Copying files to /Volumes/DATASET/Train/Batch_1205:   0%|          | 0/1000 [00:00<?, ?it/s]"
      ]
     },
     "metadata": {},
     "output_type": "display_data"
    },
    {
     "data": {
      "application/vnd.jupyter.widget-view+json": {
       "model_id": "59f241c4b49042fa80af1bf1d5e3c5d4",
       "version_major": 2,
       "version_minor": 0
      },
      "text/plain": [
       "Copying files to /Volumes/DATASET/Train/Batch_1206:   0%|          | 0/1000 [00:00<?, ?it/s]"
      ]
     },
     "metadata": {},
     "output_type": "display_data"
    },
    {
     "data": {
      "application/vnd.jupyter.widget-view+json": {
       "model_id": "97b0afe66b534c87aa6b8cb8d731440b",
       "version_major": 2,
       "version_minor": 0
      },
      "text/plain": [
       "Copying files to /Volumes/DATASET/Train/Batch_1207:   0%|          | 0/1000 [00:00<?, ?it/s]"
      ]
     },
     "metadata": {},
     "output_type": "display_data"
    },
    {
     "data": {
      "application/vnd.jupyter.widget-view+json": {
       "model_id": "6c334c31cad845a4a127fbbe9d80b3cf",
       "version_major": 2,
       "version_minor": 0
      },
      "text/plain": [
       "Copying files to /Volumes/DATASET/Train/Batch_1208:   0%|          | 0/1000 [00:00<?, ?it/s]"
      ]
     },
     "metadata": {},
     "output_type": "display_data"
    },
    {
     "data": {
      "application/vnd.jupyter.widget-view+json": {
       "model_id": "62762281c3a54d2f839ad0b3a2f46974",
       "version_major": 2,
       "version_minor": 0
      },
      "text/plain": [
       "Copying files to /Volumes/DATASET/Train/Batch_1209:   0%|          | 0/1000 [00:00<?, ?it/s]"
      ]
     },
     "metadata": {},
     "output_type": "display_data"
    },
    {
     "data": {
      "application/vnd.jupyter.widget-view+json": {
       "model_id": "762ae53ba77a4d419c027e5b308a88b2",
       "version_major": 2,
       "version_minor": 0
      },
      "text/plain": [
       "Copying files to /Volumes/DATASET/Train/Batch_1210:   0%|          | 0/1000 [00:00<?, ?it/s]"
      ]
     },
     "metadata": {},
     "output_type": "display_data"
    },
    {
     "data": {
      "application/vnd.jupyter.widget-view+json": {
       "model_id": "3f09a8c038e44281a73845ca96cebdc6",
       "version_major": 2,
       "version_minor": 0
      },
      "text/plain": [
       "Copying files to /Volumes/DATASET/Train/Batch_1211:   0%|          | 0/1000 [00:00<?, ?it/s]"
      ]
     },
     "metadata": {},
     "output_type": "display_data"
    },
    {
     "data": {
      "application/vnd.jupyter.widget-view+json": {
       "model_id": "8872a7ea409e4a1c8858144ae73cfc3f",
       "version_major": 2,
       "version_minor": 0
      },
      "text/plain": [
       "Copying files to /Volumes/DATASET/Train/Batch_1212:   0%|          | 0/1000 [00:00<?, ?it/s]"
      ]
     },
     "metadata": {},
     "output_type": "display_data"
    },
    {
     "data": {
      "application/vnd.jupyter.widget-view+json": {
       "model_id": "d1af07155c814ab1b747ce4b74fde991",
       "version_major": 2,
       "version_minor": 0
      },
      "text/plain": [
       "Copying files to /Volumes/DATASET/Train/Batch_1213:   0%|          | 0/1000 [00:00<?, ?it/s]"
      ]
     },
     "metadata": {},
     "output_type": "display_data"
    },
    {
     "data": {
      "application/vnd.jupyter.widget-view+json": {
       "model_id": "aaf28fe4c07443f9ac42baf507e68340",
       "version_major": 2,
       "version_minor": 0
      },
      "text/plain": [
       "Copying files to /Volumes/DATASET/Train/Batch_1214:   0%|          | 0/1000 [00:00<?, ?it/s]"
      ]
     },
     "metadata": {},
     "output_type": "display_data"
    },
    {
     "data": {
      "application/vnd.jupyter.widget-view+json": {
       "model_id": "ce59e5fb3d6a4e258d0e3eb2b59a3052",
       "version_major": 2,
       "version_minor": 0
      },
      "text/plain": [
       "Copying files to /Volumes/DATASET/Train/Batch_1215:   0%|          | 0/1000 [00:00<?, ?it/s]"
      ]
     },
     "metadata": {},
     "output_type": "display_data"
    },
    {
     "data": {
      "application/vnd.jupyter.widget-view+json": {
       "model_id": "badff6537ec34b4aa975623fe808e862",
       "version_major": 2,
       "version_minor": 0
      },
      "text/plain": [
       "Copying files to /Volumes/DATASET/Train/Batch_1216:   0%|          | 0/1000 [00:00<?, ?it/s]"
      ]
     },
     "metadata": {},
     "output_type": "display_data"
    },
    {
     "data": {
      "application/vnd.jupyter.widget-view+json": {
       "model_id": "1a766234b1714219a115d780a4c23f2f",
       "version_major": 2,
       "version_minor": 0
      },
      "text/plain": [
       "Copying files to /Volumes/DATASET/Train/Batch_1217:   0%|          | 0/1000 [00:00<?, ?it/s]"
      ]
     },
     "metadata": {},
     "output_type": "display_data"
    },
    {
     "data": {
      "application/vnd.jupyter.widget-view+json": {
       "model_id": "b87b64bdb06f4a8b983bd0f8499696c7",
       "version_major": 2,
       "version_minor": 0
      },
      "text/plain": [
       "Copying files to /Volumes/DATASET/Train/Batch_1218:   0%|          | 0/1000 [00:00<?, ?it/s]"
      ]
     },
     "metadata": {},
     "output_type": "display_data"
    },
    {
     "data": {
      "application/vnd.jupyter.widget-view+json": {
       "model_id": "0fabbced3db247b4a2a50f80ce708dd2",
       "version_major": 2,
       "version_minor": 0
      },
      "text/plain": [
       "Copying files to /Volumes/DATASET/Train/Batch_1219:   0%|          | 0/1000 [00:00<?, ?it/s]"
      ]
     },
     "metadata": {},
     "output_type": "display_data"
    },
    {
     "data": {
      "application/vnd.jupyter.widget-view+json": {
       "model_id": "f89eec5f70604b46b4b1bdb9df492946",
       "version_major": 2,
       "version_minor": 0
      },
      "text/plain": [
       "Copying files to /Volumes/DATASET/Train/Batch_1220:   0%|          | 0/1000 [00:00<?, ?it/s]"
      ]
     },
     "metadata": {},
     "output_type": "display_data"
    },
    {
     "data": {
      "application/vnd.jupyter.widget-view+json": {
       "model_id": "be37afc4fad04a55b7d0d7509b690ba5",
       "version_major": 2,
       "version_minor": 0
      },
      "text/plain": [
       "Copying files to /Volumes/DATASET/Train/Batch_1221:   0%|          | 0/1000 [00:00<?, ?it/s]"
      ]
     },
     "metadata": {},
     "output_type": "display_data"
    },
    {
     "data": {
      "application/vnd.jupyter.widget-view+json": {
       "model_id": "7b8833ad478d4042b1144a11f139d6f9",
       "version_major": 2,
       "version_minor": 0
      },
      "text/plain": [
       "Copying files to /Volumes/DATASET/Train/Batch_1222:   0%|          | 0/1000 [00:00<?, ?it/s]"
      ]
     },
     "metadata": {},
     "output_type": "display_data"
    },
    {
     "data": {
      "application/vnd.jupyter.widget-view+json": {
       "model_id": "2b2f4f048d324581ad562a1c9ddb5c5f",
       "version_major": 2,
       "version_minor": 0
      },
      "text/plain": [
       "Copying files to /Volumes/DATASET/Train/Batch_1223:   0%|          | 0/1000 [00:00<?, ?it/s]"
      ]
     },
     "metadata": {},
     "output_type": "display_data"
    },
    {
     "data": {
      "application/vnd.jupyter.widget-view+json": {
       "model_id": "4372968896664b219e1bd279ecb88622",
       "version_major": 2,
       "version_minor": 0
      },
      "text/plain": [
       "Copying files to /Volumes/DATASET/Train/Batch_1224:   0%|          | 0/1000 [00:00<?, ?it/s]"
      ]
     },
     "metadata": {},
     "output_type": "display_data"
    },
    {
     "data": {
      "application/vnd.jupyter.widget-view+json": {
       "model_id": "14ad11f886e04ce19410e184fe0aa98f",
       "version_major": 2,
       "version_minor": 0
      },
      "text/plain": [
       "Copying files to /Volumes/DATASET/Train/Batch_1225:   0%|          | 0/1000 [00:00<?, ?it/s]"
      ]
     },
     "metadata": {},
     "output_type": "display_data"
    },
    {
     "data": {
      "application/vnd.jupyter.widget-view+json": {
       "model_id": "15b45e9d59574d358add663e7b620cc0",
       "version_major": 2,
       "version_minor": 0
      },
      "text/plain": [
       "Copying files to /Volumes/DATASET/Train/Batch_1226:   0%|          | 0/1000 [00:00<?, ?it/s]"
      ]
     },
     "metadata": {},
     "output_type": "display_data"
    },
    {
     "data": {
      "application/vnd.jupyter.widget-view+json": {
       "model_id": "5344c3e4010e442fafefd945f4cdcf04",
       "version_major": 2,
       "version_minor": 0
      },
      "text/plain": [
       "Copying files to /Volumes/DATASET/Train/Batch_1227:   0%|          | 0/1000 [00:00<?, ?it/s]"
      ]
     },
     "metadata": {},
     "output_type": "display_data"
    },
    {
     "data": {
      "application/vnd.jupyter.widget-view+json": {
       "model_id": "8d24b41e6f7443798355c9921f11a844",
       "version_major": 2,
       "version_minor": 0
      },
      "text/plain": [
       "Copying files to /Volumes/DATASET/Train/Batch_1228:   0%|          | 0/1000 [00:00<?, ?it/s]"
      ]
     },
     "metadata": {},
     "output_type": "display_data"
    },
    {
     "data": {
      "application/vnd.jupyter.widget-view+json": {
       "model_id": "b1e91275b45e419dadea4f8c264e33a3",
       "version_major": 2,
       "version_minor": 0
      },
      "text/plain": [
       "Copying files to /Volumes/DATASET/Train/Batch_1229:   0%|          | 0/1000 [00:00<?, ?it/s]"
      ]
     },
     "metadata": {},
     "output_type": "display_data"
    },
    {
     "data": {
      "application/vnd.jupyter.widget-view+json": {
       "model_id": "4a788a2821e2489fa417481946ccd68e",
       "version_major": 2,
       "version_minor": 0
      },
      "text/plain": [
       "Copying files to /Volumes/DATASET/Train/Batch_1230:   0%|          | 0/1000 [00:00<?, ?it/s]"
      ]
     },
     "metadata": {},
     "output_type": "display_data"
    },
    {
     "data": {
      "application/vnd.jupyter.widget-view+json": {
       "model_id": "357b8dfcd62149909077d8db0c86c7c5",
       "version_major": 2,
       "version_minor": 0
      },
      "text/plain": [
       "Copying files to /Volumes/DATASET/Train/Batch_1231:   0%|          | 0/1000 [00:00<?, ?it/s]"
      ]
     },
     "metadata": {},
     "output_type": "display_data"
    },
    {
     "data": {
      "application/vnd.jupyter.widget-view+json": {
       "model_id": "64d49051c874438cbf18ca0125e7789d",
       "version_major": 2,
       "version_minor": 0
      },
      "text/plain": [
       "Copying files to /Volumes/DATASET/Train/Batch_1232:   0%|          | 0/1000 [00:00<?, ?it/s]"
      ]
     },
     "metadata": {},
     "output_type": "display_data"
    },
    {
     "data": {
      "application/vnd.jupyter.widget-view+json": {
       "model_id": "32ef5bcc8ef1415582fc8b9c5e8e91fc",
       "version_major": 2,
       "version_minor": 0
      },
      "text/plain": [
       "Copying files to /Volumes/DATASET/Train/Batch_1233:   0%|          | 0/1000 [00:00<?, ?it/s]"
      ]
     },
     "metadata": {},
     "output_type": "display_data"
    },
    {
     "data": {
      "application/vnd.jupyter.widget-view+json": {
       "model_id": "f5b674819636490cbe3579c8d447aa65",
       "version_major": 2,
       "version_minor": 0
      },
      "text/plain": [
       "Copying files to /Volumes/DATASET/Train/Batch_1234:   0%|          | 0/1000 [00:00<?, ?it/s]"
      ]
     },
     "metadata": {},
     "output_type": "display_data"
    },
    {
     "data": {
      "application/vnd.jupyter.widget-view+json": {
       "model_id": "c263ef1e98414881ae49726ba405e93d",
       "version_major": 2,
       "version_minor": 0
      },
      "text/plain": [
       "Copying files to /Volumes/DATASET/Train/Batch_1235:   0%|          | 0/1000 [00:00<?, ?it/s]"
      ]
     },
     "metadata": {},
     "output_type": "display_data"
    },
    {
     "data": {
      "application/vnd.jupyter.widget-view+json": {
       "model_id": "eba72c5d2bd1407193c08c3fedfd3571",
       "version_major": 2,
       "version_minor": 0
      },
      "text/plain": [
       "Copying files to /Volumes/DATASET/Train/Batch_1236:   0%|          | 0/1000 [00:00<?, ?it/s]"
      ]
     },
     "metadata": {},
     "output_type": "display_data"
    },
    {
     "data": {
      "application/vnd.jupyter.widget-view+json": {
       "model_id": "5823c71095984f6db306b84cabc5f0b0",
       "version_major": 2,
       "version_minor": 0
      },
      "text/plain": [
       "Copying files to /Volumes/DATASET/Train/Batch_1237:   0%|          | 0/1000 [00:00<?, ?it/s]"
      ]
     },
     "metadata": {},
     "output_type": "display_data"
    },
    {
     "data": {
      "application/vnd.jupyter.widget-view+json": {
       "model_id": "703079d017be4bfc8eb321a695512f09",
       "version_major": 2,
       "version_minor": 0
      },
      "text/plain": [
       "Copying files to /Volumes/DATASET/Train/Batch_1238:   0%|          | 0/1000 [00:00<?, ?it/s]"
      ]
     },
     "metadata": {},
     "output_type": "display_data"
    },
    {
     "data": {
      "application/vnd.jupyter.widget-view+json": {
       "model_id": "b4abcebdb2244928841f894dedd4acc1",
       "version_major": 2,
       "version_minor": 0
      },
      "text/plain": [
       "Copying files to /Volumes/DATASET/Train/Batch_1239:   0%|          | 0/1000 [00:00<?, ?it/s]"
      ]
     },
     "metadata": {},
     "output_type": "display_data"
    },
    {
     "data": {
      "application/vnd.jupyter.widget-view+json": {
       "model_id": "f72efc9f83224f0f8dc5a3c31e09605e",
       "version_major": 2,
       "version_minor": 0
      },
      "text/plain": [
       "Copying files to /Volumes/DATASET/Train/Batch_1240:   0%|          | 0/1000 [00:00<?, ?it/s]"
      ]
     },
     "metadata": {},
     "output_type": "display_data"
    },
    {
     "data": {
      "application/vnd.jupyter.widget-view+json": {
       "model_id": "ec376019a8924d62a9c6de860826a436",
       "version_major": 2,
       "version_minor": 0
      },
      "text/plain": [
       "Copying files to /Volumes/DATASET/Train/Batch_1241:   0%|          | 0/1000 [00:00<?, ?it/s]"
      ]
     },
     "metadata": {},
     "output_type": "display_data"
    },
    {
     "data": {
      "application/vnd.jupyter.widget-view+json": {
       "model_id": "e9dd6cac5ab241dcbcbabd2b636671e7",
       "version_major": 2,
       "version_minor": 0
      },
      "text/plain": [
       "Copying files to /Volumes/DATASET/Train/Batch_1242:   0%|          | 0/1000 [00:00<?, ?it/s]"
      ]
     },
     "metadata": {},
     "output_type": "display_data"
    },
    {
     "data": {
      "application/vnd.jupyter.widget-view+json": {
       "model_id": "be55374f5ac04ec08514f5cd356b358f",
       "version_major": 2,
       "version_minor": 0
      },
      "text/plain": [
       "Copying files to /Volumes/DATASET/Train/Batch_1243:   0%|          | 0/1000 [00:00<?, ?it/s]"
      ]
     },
     "metadata": {},
     "output_type": "display_data"
    },
    {
     "data": {
      "application/vnd.jupyter.widget-view+json": {
       "model_id": "ff0ed1d606384c668f2e024c0608fc4e",
       "version_major": 2,
       "version_minor": 0
      },
      "text/plain": [
       "Copying files to /Volumes/DATASET/Train/Batch_1244:   0%|          | 0/1000 [00:00<?, ?it/s]"
      ]
     },
     "metadata": {},
     "output_type": "display_data"
    },
    {
     "data": {
      "application/vnd.jupyter.widget-view+json": {
       "model_id": "df846fbf9c6e49268fd5d0cdd730391c",
       "version_major": 2,
       "version_minor": 0
      },
      "text/plain": [
       "Copying files to /Volumes/DATASET/Train/Batch_1245:   0%|          | 0/1000 [00:00<?, ?it/s]"
      ]
     },
     "metadata": {},
     "output_type": "display_data"
    },
    {
     "data": {
      "application/vnd.jupyter.widget-view+json": {
       "model_id": "6f6c0d11011a4deb8cb395d5b0035675",
       "version_major": 2,
       "version_minor": 0
      },
      "text/plain": [
       "Copying files to /Volumes/DATASET/Train/Batch_1246:   0%|          | 0/1000 [00:00<?, ?it/s]"
      ]
     },
     "metadata": {},
     "output_type": "display_data"
    },
    {
     "data": {
      "application/vnd.jupyter.widget-view+json": {
       "model_id": "84f10a613a1945cba2d113d57b0745fd",
       "version_major": 2,
       "version_minor": 0
      },
      "text/plain": [
       "Copying files to /Volumes/DATASET/Train/Batch_1247:   0%|          | 0/1000 [00:00<?, ?it/s]"
      ]
     },
     "metadata": {},
     "output_type": "display_data"
    },
    {
     "data": {
      "application/vnd.jupyter.widget-view+json": {
       "model_id": "10acaa29c96b4edd9957f71688474910",
       "version_major": 2,
       "version_minor": 0
      },
      "text/plain": [
       "Copying files to /Volumes/DATASET/Train/Batch_1248:   0%|          | 0/1000 [00:00<?, ?it/s]"
      ]
     },
     "metadata": {},
     "output_type": "display_data"
    },
    {
     "data": {
      "application/vnd.jupyter.widget-view+json": {
       "model_id": "855a9bdec2904ea4b045670bd8944db4",
       "version_major": 2,
       "version_minor": 0
      },
      "text/plain": [
       "Copying files to /Volumes/DATASET/Train/Batch_1249:   0%|          | 0/1000 [00:00<?, ?it/s]"
      ]
     },
     "metadata": {},
     "output_type": "display_data"
    },
    {
     "data": {
      "application/vnd.jupyter.widget-view+json": {
       "model_id": "122df8e46daa4d81b5bd62c20f296448",
       "version_major": 2,
       "version_minor": 0
      },
      "text/plain": [
       "Copying files to /Volumes/DATASET/Train/Batch_1250:   0%|          | 0/1000 [00:00<?, ?it/s]"
      ]
     },
     "metadata": {},
     "output_type": "display_data"
    },
    {
     "data": {
      "application/vnd.jupyter.widget-view+json": {
       "model_id": "4793d6757ca146d4a79787374f97ada1",
       "version_major": 2,
       "version_minor": 0
      },
      "text/plain": [
       "Copying files to /Volumes/DATASET/Train/Batch_1251:   0%|          | 0/1000 [00:00<?, ?it/s]"
      ]
     },
     "metadata": {},
     "output_type": "display_data"
    },
    {
     "data": {
      "application/vnd.jupyter.widget-view+json": {
       "model_id": "fc7cefe0c6534ac0abb6c38cbc765351",
       "version_major": 2,
       "version_minor": 0
      },
      "text/plain": [
       "Copying files to /Volumes/DATASET/Train/Batch_1252:   0%|          | 0/1000 [00:00<?, ?it/s]"
      ]
     },
     "metadata": {},
     "output_type": "display_data"
    },
    {
     "data": {
      "application/vnd.jupyter.widget-view+json": {
       "model_id": "2459bf81e81b426d8413d8451f01df41",
       "version_major": 2,
       "version_minor": 0
      },
      "text/plain": [
       "Copying files to /Volumes/DATASET/Train/Batch_1253:   0%|          | 0/1000 [00:00<?, ?it/s]"
      ]
     },
     "metadata": {},
     "output_type": "display_data"
    },
    {
     "data": {
      "application/vnd.jupyter.widget-view+json": {
       "model_id": "6ac12eba729a4e7eadf59d6df3ee5172",
       "version_major": 2,
       "version_minor": 0
      },
      "text/plain": [
       "Copying files to /Volumes/DATASET/Train/Batch_1254:   0%|          | 0/1000 [00:00<?, ?it/s]"
      ]
     },
     "metadata": {},
     "output_type": "display_data"
    },
    {
     "data": {
      "application/vnd.jupyter.widget-view+json": {
       "model_id": "16132e7d66e8494db61faf6629da5b71",
       "version_major": 2,
       "version_minor": 0
      },
      "text/plain": [
       "Copying files to /Volumes/DATASET/Train/Batch_1255:   0%|          | 0/1000 [00:00<?, ?it/s]"
      ]
     },
     "metadata": {},
     "output_type": "display_data"
    },
    {
     "data": {
      "application/vnd.jupyter.widget-view+json": {
       "model_id": "dfbe1ba065684bb890af60cdc3b43dca",
       "version_major": 2,
       "version_minor": 0
      },
      "text/plain": [
       "Copying files to /Volumes/DATASET/Train/Batch_1256:   0%|          | 0/1000 [00:00<?, ?it/s]"
      ]
     },
     "metadata": {},
     "output_type": "display_data"
    },
    {
     "data": {
      "application/vnd.jupyter.widget-view+json": {
       "model_id": "5d18a4ec29b543f8877b6e37fc1ace97",
       "version_major": 2,
       "version_minor": 0
      },
      "text/plain": [
       "Copying files to /Volumes/DATASET/Train/Batch_1257:   0%|          | 0/1000 [00:00<?, ?it/s]"
      ]
     },
     "metadata": {},
     "output_type": "display_data"
    },
    {
     "data": {
      "application/vnd.jupyter.widget-view+json": {
       "model_id": "532872bf54784ff69a27ddcf961acba4",
       "version_major": 2,
       "version_minor": 0
      },
      "text/plain": [
       "Copying files to /Volumes/DATASET/Train/Batch_1258:   0%|          | 0/1000 [00:00<?, ?it/s]"
      ]
     },
     "metadata": {},
     "output_type": "display_data"
    },
    {
     "data": {
      "application/vnd.jupyter.widget-view+json": {
       "model_id": "2075db9496d140a890b6e91bc9772bfb",
       "version_major": 2,
       "version_minor": 0
      },
      "text/plain": [
       "Copying files to /Volumes/DATASET/Train/Batch_1259:   0%|          | 0/1000 [00:00<?, ?it/s]"
      ]
     },
     "metadata": {},
     "output_type": "display_data"
    },
    {
     "data": {
      "application/vnd.jupyter.widget-view+json": {
       "model_id": "463789492e8f4fb8b436992224ca55b0",
       "version_major": 2,
       "version_minor": 0
      },
      "text/plain": [
       "Copying files to /Volumes/DATASET/Train/Batch_1260:   0%|          | 0/1000 [00:00<?, ?it/s]"
      ]
     },
     "metadata": {},
     "output_type": "display_data"
    },
    {
     "data": {
      "application/vnd.jupyter.widget-view+json": {
       "model_id": "b6902c3e21c141208dd78d0f1fed0e06",
       "version_major": 2,
       "version_minor": 0
      },
      "text/plain": [
       "Copying files to /Volumes/DATASET/Train/Batch_1261:   0%|          | 0/1000 [00:00<?, ?it/s]"
      ]
     },
     "metadata": {},
     "output_type": "display_data"
    },
    {
     "data": {
      "application/vnd.jupyter.widget-view+json": {
       "model_id": "8e3debfef1604dacbe1e3b3bfe62f610",
       "version_major": 2,
       "version_minor": 0
      },
      "text/plain": [
       "Copying files to /Volumes/DATASET/Train/Batch_1262:   0%|          | 0/1000 [00:00<?, ?it/s]"
      ]
     },
     "metadata": {},
     "output_type": "display_data"
    },
    {
     "data": {
      "application/vnd.jupyter.widget-view+json": {
       "model_id": "aa608ce6858b4d6db54d69fe7ee3044d",
       "version_major": 2,
       "version_minor": 0
      },
      "text/plain": [
       "Copying files to /Volumes/DATASET/Train/Batch_1263:   0%|          | 0/1000 [00:00<?, ?it/s]"
      ]
     },
     "metadata": {},
     "output_type": "display_data"
    },
    {
     "data": {
      "application/vnd.jupyter.widget-view+json": {
       "model_id": "9d3a797e65bd4503a816067818039a3d",
       "version_major": 2,
       "version_minor": 0
      },
      "text/plain": [
       "Copying files to /Volumes/DATASET/Train/Batch_1264:   0%|          | 0/1000 [00:00<?, ?it/s]"
      ]
     },
     "metadata": {},
     "output_type": "display_data"
    },
    {
     "data": {
      "application/vnd.jupyter.widget-view+json": {
       "model_id": "f801e2bcacbb4db1b0414209760fd378",
       "version_major": 2,
       "version_minor": 0
      },
      "text/plain": [
       "Copying files to /Volumes/DATASET/Train/Batch_1265:   0%|          | 0/1000 [00:00<?, ?it/s]"
      ]
     },
     "metadata": {},
     "output_type": "display_data"
    },
    {
     "data": {
      "application/vnd.jupyter.widget-view+json": {
       "model_id": "62304e3bdc8e4190bc3cb932aa934636",
       "version_major": 2,
       "version_minor": 0
      },
      "text/plain": [
       "Copying files to /Volumes/DATASET/Train/Batch_1266:   0%|          | 0/1000 [00:00<?, ?it/s]"
      ]
     },
     "metadata": {},
     "output_type": "display_data"
    },
    {
     "data": {
      "application/vnd.jupyter.widget-view+json": {
       "model_id": "d78486ffaba24f4394b63bb5597ec7b2",
       "version_major": 2,
       "version_minor": 0
      },
      "text/plain": [
       "Copying files to /Volumes/DATASET/Train/Batch_1267:   0%|          | 0/1000 [00:00<?, ?it/s]"
      ]
     },
     "metadata": {},
     "output_type": "display_data"
    },
    {
     "data": {
      "application/vnd.jupyter.widget-view+json": {
       "model_id": "6f638998adfc4ea39184592be6c7696f",
       "version_major": 2,
       "version_minor": 0
      },
      "text/plain": [
       "Copying files to /Volumes/DATASET/Train/Batch_1268:   0%|          | 0/1000 [00:00<?, ?it/s]"
      ]
     },
     "metadata": {},
     "output_type": "display_data"
    },
    {
     "data": {
      "application/vnd.jupyter.widget-view+json": {
       "model_id": "5964439dbb9148deabad50cb5834c87c",
       "version_major": 2,
       "version_minor": 0
      },
      "text/plain": [
       "Copying files to /Volumes/DATASET/Train/Batch_1269:   0%|          | 0/1000 [00:00<?, ?it/s]"
      ]
     },
     "metadata": {},
     "output_type": "display_data"
    },
    {
     "data": {
      "application/vnd.jupyter.widget-view+json": {
       "model_id": "d8958853d0aa417b8ba9ff224a6240d2",
       "version_major": 2,
       "version_minor": 0
      },
      "text/plain": [
       "Copying files to /Volumes/DATASET/Train/Batch_1270:   0%|          | 0/1000 [00:00<?, ?it/s]"
      ]
     },
     "metadata": {},
     "output_type": "display_data"
    },
    {
     "data": {
      "application/vnd.jupyter.widget-view+json": {
       "model_id": "bd2825a3272f48cc8548a46e07adef4e",
       "version_major": 2,
       "version_minor": 0
      },
      "text/plain": [
       "Copying files to /Volumes/DATASET/Train/Batch_1271:   0%|          | 0/1000 [00:00<?, ?it/s]"
      ]
     },
     "metadata": {},
     "output_type": "display_data"
    },
    {
     "data": {
      "application/vnd.jupyter.widget-view+json": {
       "model_id": "845e3311be4347b085c940532bca9f45",
       "version_major": 2,
       "version_minor": 0
      },
      "text/plain": [
       "Copying files to /Volumes/DATASET/Train/Batch_1272:   0%|          | 0/1000 [00:00<?, ?it/s]"
      ]
     },
     "metadata": {},
     "output_type": "display_data"
    },
    {
     "data": {
      "application/vnd.jupyter.widget-view+json": {
       "model_id": "b3ad30ab1b3845ae9fd215cf299150e6",
       "version_major": 2,
       "version_minor": 0
      },
      "text/plain": [
       "Copying files to /Volumes/DATASET/Train/Batch_1273:   0%|          | 0/1000 [00:00<?, ?it/s]"
      ]
     },
     "metadata": {},
     "output_type": "display_data"
    },
    {
     "data": {
      "application/vnd.jupyter.widget-view+json": {
       "model_id": "ad0eb93b93a84258809840982e94e39c",
       "version_major": 2,
       "version_minor": 0
      },
      "text/plain": [
       "Copying files to /Volumes/DATASET/Train/Batch_1274:   0%|          | 0/1000 [00:00<?, ?it/s]"
      ]
     },
     "metadata": {},
     "output_type": "display_data"
    },
    {
     "data": {
      "application/vnd.jupyter.widget-view+json": {
       "model_id": "b6d9f6e8388b459587cb5c26fbeaba41",
       "version_major": 2,
       "version_minor": 0
      },
      "text/plain": [
       "Copying files to /Volumes/DATASET/Train/Batch_1275:   0%|          | 0/1000 [00:00<?, ?it/s]"
      ]
     },
     "metadata": {},
     "output_type": "display_data"
    },
    {
     "data": {
      "application/vnd.jupyter.widget-view+json": {
       "model_id": "431e47197740483996625ba62874c97b",
       "version_major": 2,
       "version_minor": 0
      },
      "text/plain": [
       "Copying files to /Volumes/DATASET/Train/Batch_1276:   0%|          | 0/1000 [00:00<?, ?it/s]"
      ]
     },
     "metadata": {},
     "output_type": "display_data"
    },
    {
     "data": {
      "application/vnd.jupyter.widget-view+json": {
       "model_id": "bc4b6b7490f04123b2a5bd5e1a0bcdf0",
       "version_major": 2,
       "version_minor": 0
      },
      "text/plain": [
       "Copying files to /Volumes/DATASET/Train/Batch_1277:   0%|          | 0/1000 [00:00<?, ?it/s]"
      ]
     },
     "metadata": {},
     "output_type": "display_data"
    },
    {
     "data": {
      "application/vnd.jupyter.widget-view+json": {
       "model_id": "c7aee59fcf604e1eaa93ff6220189aac",
       "version_major": 2,
       "version_minor": 0
      },
      "text/plain": [
       "Copying files to /Volumes/DATASET/Train/Batch_1278:   0%|          | 0/1000 [00:00<?, ?it/s]"
      ]
     },
     "metadata": {},
     "output_type": "display_data"
    },
    {
     "data": {
      "application/vnd.jupyter.widget-view+json": {
       "model_id": "2287eb0ff3a04718953f4a406b0cf7ad",
       "version_major": 2,
       "version_minor": 0
      },
      "text/plain": [
       "Copying files to /Volumes/DATASET/Train/Batch_1279:   0%|          | 0/1000 [00:00<?, ?it/s]"
      ]
     },
     "metadata": {},
     "output_type": "display_data"
    },
    {
     "data": {
      "application/vnd.jupyter.widget-view+json": {
       "model_id": "34218702619c43789e20b42fef2ed40f",
       "version_major": 2,
       "version_minor": 0
      },
      "text/plain": [
       "Copying files to /Volumes/DATASET/Train/Batch_1280:   0%|          | 0/1000 [00:00<?, ?it/s]"
      ]
     },
     "metadata": {},
     "output_type": "display_data"
    },
    {
     "data": {
      "application/vnd.jupyter.widget-view+json": {
       "model_id": "bffe32a7d598409ab58664f9d7b00829",
       "version_major": 2,
       "version_minor": 0
      },
      "text/plain": [
       "Copying files to /Volumes/DATASET/Train/Batch_1281:   0%|          | 0/1000 [00:00<?, ?it/s]"
      ]
     },
     "metadata": {},
     "output_type": "display_data"
    },
    {
     "data": {
      "application/vnd.jupyter.widget-view+json": {
       "model_id": "6cf74e3c5f1b412c9eeba36026aa98f9",
       "version_major": 2,
       "version_minor": 0
      },
      "text/plain": [
       "Copying files to /Volumes/DATASET/Train/Batch_1282:   0%|          | 0/1000 [00:00<?, ?it/s]"
      ]
     },
     "metadata": {},
     "output_type": "display_data"
    },
    {
     "data": {
      "application/vnd.jupyter.widget-view+json": {
       "model_id": "6990edf1c82b41dc9e1aa707b9046fa6",
       "version_major": 2,
       "version_minor": 0
      },
      "text/plain": [
       "Copying files to /Volumes/DATASET/Train/Batch_1283:   0%|          | 0/1000 [00:00<?, ?it/s]"
      ]
     },
     "metadata": {},
     "output_type": "display_data"
    },
    {
     "data": {
      "application/vnd.jupyter.widget-view+json": {
       "model_id": "54ee0073a4754a3591397642dc7424ac",
       "version_major": 2,
       "version_minor": 0
      },
      "text/plain": [
       "Copying files to /Volumes/DATASET/Train/Batch_1284:   0%|          | 0/1000 [00:00<?, ?it/s]"
      ]
     },
     "metadata": {},
     "output_type": "display_data"
    },
    {
     "data": {
      "application/vnd.jupyter.widget-view+json": {
       "model_id": "4e805b8650c84768a9454f98cf58e9b1",
       "version_major": 2,
       "version_minor": 0
      },
      "text/plain": [
       "Copying files to /Volumes/DATASET/Train/Batch_1285:   0%|          | 0/1000 [00:00<?, ?it/s]"
      ]
     },
     "metadata": {},
     "output_type": "display_data"
    },
    {
     "data": {
      "application/vnd.jupyter.widget-view+json": {
       "model_id": "4be567b53c754a4a9575c50cf5c45560",
       "version_major": 2,
       "version_minor": 0
      },
      "text/plain": [
       "Copying files to /Volumes/DATASET/Train/Batch_1286:   0%|          | 0/1000 [00:00<?, ?it/s]"
      ]
     },
     "metadata": {},
     "output_type": "display_data"
    },
    {
     "data": {
      "application/vnd.jupyter.widget-view+json": {
       "model_id": "16f35a3926964800b87bd46b2aff955c",
       "version_major": 2,
       "version_minor": 0
      },
      "text/plain": [
       "Copying files to /Volumes/DATASET/Train/Batch_1287:   0%|          | 0/1000 [00:00<?, ?it/s]"
      ]
     },
     "metadata": {},
     "output_type": "display_data"
    },
    {
     "data": {
      "application/vnd.jupyter.widget-view+json": {
       "model_id": "875cbd03577f4b169bc25e10e93de369",
       "version_major": 2,
       "version_minor": 0
      },
      "text/plain": [
       "Copying files to /Volumes/DATASET/Train/Batch_1288:   0%|          | 0/1000 [00:00<?, ?it/s]"
      ]
     },
     "metadata": {},
     "output_type": "display_data"
    },
    {
     "data": {
      "application/vnd.jupyter.widget-view+json": {
       "model_id": "1be620b36e4e451887869865bed01535",
       "version_major": 2,
       "version_minor": 0
      },
      "text/plain": [
       "Copying files to /Volumes/DATASET/Train/Batch_1289:   0%|          | 0/1000 [00:00<?, ?it/s]"
      ]
     },
     "metadata": {},
     "output_type": "display_data"
    },
    {
     "data": {
      "application/vnd.jupyter.widget-view+json": {
       "model_id": "da423b425e82424287943ab637789e7b",
       "version_major": 2,
       "version_minor": 0
      },
      "text/plain": [
       "Copying files to /Volumes/DATASET/Train/Batch_1290:   0%|          | 0/1000 [00:00<?, ?it/s]"
      ]
     },
     "metadata": {},
     "output_type": "display_data"
    },
    {
     "data": {
      "application/vnd.jupyter.widget-view+json": {
       "model_id": "2672e7009d344725b5b909c270b4f00e",
       "version_major": 2,
       "version_minor": 0
      },
      "text/plain": [
       "Copying files to /Volumes/DATASET/Train/Batch_1291:   0%|          | 0/1000 [00:00<?, ?it/s]"
      ]
     },
     "metadata": {},
     "output_type": "display_data"
    },
    {
     "data": {
      "application/vnd.jupyter.widget-view+json": {
       "model_id": "fb749b39f65e4b6ab283cc1b7107245b",
       "version_major": 2,
       "version_minor": 0
      },
      "text/plain": [
       "Copying files to /Volumes/DATASET/Train/Batch_1292:   0%|          | 0/1000 [00:00<?, ?it/s]"
      ]
     },
     "metadata": {},
     "output_type": "display_data"
    },
    {
     "data": {
      "application/vnd.jupyter.widget-view+json": {
       "model_id": "f121aeab78e04cc0b519f5867da7fb25",
       "version_major": 2,
       "version_minor": 0
      },
      "text/plain": [
       "Copying files to /Volumes/DATASET/Train/Batch_1293:   0%|          | 0/1000 [00:00<?, ?it/s]"
      ]
     },
     "metadata": {},
     "output_type": "display_data"
    },
    {
     "data": {
      "application/vnd.jupyter.widget-view+json": {
       "model_id": "c524758368f545978121baa8a497f3cc",
       "version_major": 2,
       "version_minor": 0
      },
      "text/plain": [
       "Copying files to /Volumes/DATASET/Train/Batch_1294:   0%|          | 0/1000 [00:00<?, ?it/s]"
      ]
     },
     "metadata": {},
     "output_type": "display_data"
    },
    {
     "data": {
      "application/vnd.jupyter.widget-view+json": {
       "model_id": "6f139c3f690d49959a024adc12dd627d",
       "version_major": 2,
       "version_minor": 0
      },
      "text/plain": [
       "Copying files to /Volumes/DATASET/Train/Batch_1295:   0%|          | 0/1000 [00:00<?, ?it/s]"
      ]
     },
     "metadata": {},
     "output_type": "display_data"
    },
    {
     "data": {
      "application/vnd.jupyter.widget-view+json": {
       "model_id": "cdbbc0eec5374535a14484050bfe1037",
       "version_major": 2,
       "version_minor": 0
      },
      "text/plain": [
       "Copying files to /Volumes/DATASET/Train/Batch_1296:   0%|          | 0/1000 [00:00<?, ?it/s]"
      ]
     },
     "metadata": {},
     "output_type": "display_data"
    },
    {
     "data": {
      "application/vnd.jupyter.widget-view+json": {
       "model_id": "75aece68715640868355eeb95147001d",
       "version_major": 2,
       "version_minor": 0
      },
      "text/plain": [
       "Copying files to /Volumes/DATASET/Train/Batch_1297:   0%|          | 0/1000 [00:00<?, ?it/s]"
      ]
     },
     "metadata": {},
     "output_type": "display_data"
    },
    {
     "data": {
      "application/vnd.jupyter.widget-view+json": {
       "model_id": "5d9778c1102649469bab1ededc6cadeb",
       "version_major": 2,
       "version_minor": 0
      },
      "text/plain": [
       "Copying files to /Volumes/DATASET/Train/Batch_1298:   0%|          | 0/1000 [00:00<?, ?it/s]"
      ]
     },
     "metadata": {},
     "output_type": "display_data"
    },
    {
     "data": {
      "application/vnd.jupyter.widget-view+json": {
       "model_id": "dd377efa420748ea996ac4fa8fe01ec1",
       "version_major": 2,
       "version_minor": 0
      },
      "text/plain": [
       "Copying files to /Volumes/DATASET/Train/Batch_1299:   0%|          | 0/1000 [00:00<?, ?it/s]"
      ]
     },
     "metadata": {},
     "output_type": "display_data"
    },
    {
     "data": {
      "application/vnd.jupyter.widget-view+json": {
       "model_id": "a69ebe3487ba42f594752c2023706c3e",
       "version_major": 2,
       "version_minor": 0
      },
      "text/plain": [
       "Copying files to /Volumes/DATASET/Train/Batch_1300:   0%|          | 0/1000 [00:00<?, ?it/s]"
      ]
     },
     "metadata": {},
     "output_type": "display_data"
    },
    {
     "data": {
      "application/vnd.jupyter.widget-view+json": {
       "model_id": "5e9997bd7f944351bc65c6b733b9dada",
       "version_major": 2,
       "version_minor": 0
      },
      "text/plain": [
       "Copying files to /Volumes/DATASET/Train/Batch_1301:   0%|          | 0/1000 [00:00<?, ?it/s]"
      ]
     },
     "metadata": {},
     "output_type": "display_data"
    },
    {
     "data": {
      "application/vnd.jupyter.widget-view+json": {
       "model_id": "cc97e9aa671a4dba90b88bbb96878c28",
       "version_major": 2,
       "version_minor": 0
      },
      "text/plain": [
       "Copying files to /Volumes/DATASET/Train/Batch_1302:   0%|          | 0/1000 [00:00<?, ?it/s]"
      ]
     },
     "metadata": {},
     "output_type": "display_data"
    },
    {
     "data": {
      "application/vnd.jupyter.widget-view+json": {
       "model_id": "0ee3f54d613040ea81c030169c6bc2ce",
       "version_major": 2,
       "version_minor": 0
      },
      "text/plain": [
       "Copying files to /Volumes/DATASET/Train/Batch_1303:   0%|          | 0/1000 [00:00<?, ?it/s]"
      ]
     },
     "metadata": {},
     "output_type": "display_data"
    },
    {
     "data": {
      "application/vnd.jupyter.widget-view+json": {
       "model_id": "bd59c27b90cb40869e5aa8b8775d8875",
       "version_major": 2,
       "version_minor": 0
      },
      "text/plain": [
       "Copying files to /Volumes/DATASET/Train/Batch_1304:   0%|          | 0/1000 [00:00<?, ?it/s]"
      ]
     },
     "metadata": {},
     "output_type": "display_data"
    },
    {
     "data": {
      "application/vnd.jupyter.widget-view+json": {
       "model_id": "968a9acf34a94fb4abb8b0ef0e98efa1",
       "version_major": 2,
       "version_minor": 0
      },
      "text/plain": [
       "Copying files to /Volumes/DATASET/Train/Batch_1305:   0%|          | 0/1000 [00:00<?, ?it/s]"
      ]
     },
     "metadata": {},
     "output_type": "display_data"
    },
    {
     "data": {
      "application/vnd.jupyter.widget-view+json": {
       "model_id": "eb45f1f77f734d5796dd2771a5ad5552",
       "version_major": 2,
       "version_minor": 0
      },
      "text/plain": [
       "Copying files to /Volumes/DATASET/Train/Batch_1306:   0%|          | 0/1000 [00:00<?, ?it/s]"
      ]
     },
     "metadata": {},
     "output_type": "display_data"
    },
    {
     "data": {
      "application/vnd.jupyter.widget-view+json": {
       "model_id": "9f4095c94da245d4a619bbc129951506",
       "version_major": 2,
       "version_minor": 0
      },
      "text/plain": [
       "Copying files to /Volumes/DATASET/Train/Batch_1307:   0%|          | 0/1000 [00:00<?, ?it/s]"
      ]
     },
     "metadata": {},
     "output_type": "display_data"
    },
    {
     "data": {
      "application/vnd.jupyter.widget-view+json": {
       "model_id": "05645b4b693b42508ceccb1b2da8def6",
       "version_major": 2,
       "version_minor": 0
      },
      "text/plain": [
       "Copying files to /Volumes/DATASET/Train/Batch_1308:   0%|          | 0/1000 [00:00<?, ?it/s]"
      ]
     },
     "metadata": {},
     "output_type": "display_data"
    },
    {
     "data": {
      "application/vnd.jupyter.widget-view+json": {
       "model_id": "d23c8433dec4474ba63e37e97d22c07b",
       "version_major": 2,
       "version_minor": 0
      },
      "text/plain": [
       "Copying files to /Volumes/DATASET/Train/Batch_1309:   0%|          | 0/1000 [00:00<?, ?it/s]"
      ]
     },
     "metadata": {},
     "output_type": "display_data"
    },
    {
     "data": {
      "application/vnd.jupyter.widget-view+json": {
       "model_id": "5cbe1acd4e1e43faafa281d0d6db382e",
       "version_major": 2,
       "version_minor": 0
      },
      "text/plain": [
       "Copying files to /Volumes/DATASET/Train/Batch_1310:   0%|          | 0/1000 [00:00<?, ?it/s]"
      ]
     },
     "metadata": {},
     "output_type": "display_data"
    },
    {
     "data": {
      "application/vnd.jupyter.widget-view+json": {
       "model_id": "79a9953f3d2747ec977a5b7e383db78c",
       "version_major": 2,
       "version_minor": 0
      },
      "text/plain": [
       "Copying files to /Volumes/DATASET/Train/Batch_1311:   0%|          | 0/1000 [00:00<?, ?it/s]"
      ]
     },
     "metadata": {},
     "output_type": "display_data"
    },
    {
     "data": {
      "application/vnd.jupyter.widget-view+json": {
       "model_id": "a29f3f821af84e638dc232a959618025",
       "version_major": 2,
       "version_minor": 0
      },
      "text/plain": [
       "Copying files to /Volumes/DATASET/Train/Batch_1312:   0%|          | 0/1000 [00:00<?, ?it/s]"
      ]
     },
     "metadata": {},
     "output_type": "display_data"
    },
    {
     "data": {
      "application/vnd.jupyter.widget-view+json": {
       "model_id": "996ffef0d99747cc9d1e3c29bc80faa2",
       "version_major": 2,
       "version_minor": 0
      },
      "text/plain": [
       "Copying files to /Volumes/DATASET/Train/Batch_1313:   0%|          | 0/1000 [00:00<?, ?it/s]"
      ]
     },
     "metadata": {},
     "output_type": "display_data"
    },
    {
     "data": {
      "application/vnd.jupyter.widget-view+json": {
       "model_id": "98cb04349c374dbcb27439792498b71c",
       "version_major": 2,
       "version_minor": 0
      },
      "text/plain": [
       "Copying files to /Volumes/DATASET/Train/Batch_1314:   0%|          | 0/1000 [00:00<?, ?it/s]"
      ]
     },
     "metadata": {},
     "output_type": "display_data"
    },
    {
     "data": {
      "application/vnd.jupyter.widget-view+json": {
       "model_id": "8be7db89240b4bd08f56bf52e699da68",
       "version_major": 2,
       "version_minor": 0
      },
      "text/plain": [
       "Copying files to /Volumes/DATASET/Train/Batch_1315:   0%|          | 0/1000 [00:00<?, ?it/s]"
      ]
     },
     "metadata": {},
     "output_type": "display_data"
    },
    {
     "data": {
      "application/vnd.jupyter.widget-view+json": {
       "model_id": "0726c46a6f804b5ba8be1f72857e2140",
       "version_major": 2,
       "version_minor": 0
      },
      "text/plain": [
       "Copying files to /Volumes/DATASET/Train/Batch_1316:   0%|          | 0/1000 [00:00<?, ?it/s]"
      ]
     },
     "metadata": {},
     "output_type": "display_data"
    },
    {
     "data": {
      "application/vnd.jupyter.widget-view+json": {
       "model_id": "12ec05e013af482dac369afc571cc903",
       "version_major": 2,
       "version_minor": 0
      },
      "text/plain": [
       "Copying files to /Volumes/DATASET/Train/Batch_1317:   0%|          | 0/1000 [00:00<?, ?it/s]"
      ]
     },
     "metadata": {},
     "output_type": "display_data"
    },
    {
     "data": {
      "application/vnd.jupyter.widget-view+json": {
       "model_id": "68574e48a07a44958e71a85162592a11",
       "version_major": 2,
       "version_minor": 0
      },
      "text/plain": [
       "Copying files to /Volumes/DATASET/Train/Batch_1318:   0%|          | 0/1000 [00:00<?, ?it/s]"
      ]
     },
     "metadata": {},
     "output_type": "display_data"
    },
    {
     "data": {
      "application/vnd.jupyter.widget-view+json": {
       "model_id": "6e38e952c7704abe9d43ace33bccd11c",
       "version_major": 2,
       "version_minor": 0
      },
      "text/plain": [
       "Copying files to /Volumes/DATASET/Train/Batch_1319:   0%|          | 0/1000 [00:00<?, ?it/s]"
      ]
     },
     "metadata": {},
     "output_type": "display_data"
    },
    {
     "data": {
      "application/vnd.jupyter.widget-view+json": {
       "model_id": "57829b978fbf43859d0d5caf1344aef0",
       "version_major": 2,
       "version_minor": 0
      },
      "text/plain": [
       "Copying files to /Volumes/DATASET/Train/Batch_1320:   0%|          | 0/1000 [00:00<?, ?it/s]"
      ]
     },
     "metadata": {},
     "output_type": "display_data"
    },
    {
     "data": {
      "application/vnd.jupyter.widget-view+json": {
       "model_id": "dd00970a53bb4c6abdbec9a32415164f",
       "version_major": 2,
       "version_minor": 0
      },
      "text/plain": [
       "Copying files to /Volumes/DATASET/Train/Batch_1321:   0%|          | 0/1000 [00:00<?, ?it/s]"
      ]
     },
     "metadata": {},
     "output_type": "display_data"
    },
    {
     "data": {
      "application/vnd.jupyter.widget-view+json": {
       "model_id": "513802eca6c94f5684d73746b2b4fe37",
       "version_major": 2,
       "version_minor": 0
      },
      "text/plain": [
       "Copying files to /Volumes/DATASET/Train/Batch_1322:   0%|          | 0/1000 [00:00<?, ?it/s]"
      ]
     },
     "metadata": {},
     "output_type": "display_data"
    },
    {
     "data": {
      "application/vnd.jupyter.widget-view+json": {
       "model_id": "6f3dde59915045e9a5469506464294ef",
       "version_major": 2,
       "version_minor": 0
      },
      "text/plain": [
       "Copying files to /Volumes/DATASET/Train/Batch_1323:   0%|          | 0/1000 [00:00<?, ?it/s]"
      ]
     },
     "metadata": {},
     "output_type": "display_data"
    },
    {
     "data": {
      "application/vnd.jupyter.widget-view+json": {
       "model_id": "5e4b35ce1d0946f3a2d14c54e495d42a",
       "version_major": 2,
       "version_minor": 0
      },
      "text/plain": [
       "Copying files to /Volumes/DATASET/Train/Batch_1324:   0%|          | 0/1000 [00:00<?, ?it/s]"
      ]
     },
     "metadata": {},
     "output_type": "display_data"
    },
    {
     "data": {
      "application/vnd.jupyter.widget-view+json": {
       "model_id": "ade3eb4d6f914895bbb20728f02da395",
       "version_major": 2,
       "version_minor": 0
      },
      "text/plain": [
       "Copying files to /Volumes/DATASET/Train/Batch_1325:   0%|          | 0/1000 [00:00<?, ?it/s]"
      ]
     },
     "metadata": {},
     "output_type": "display_data"
    },
    {
     "data": {
      "application/vnd.jupyter.widget-view+json": {
       "model_id": "caf24c5cb33e47d5b2a1d19279d9ce85",
       "version_major": 2,
       "version_minor": 0
      },
      "text/plain": [
       "Copying files to /Volumes/DATASET/Train/Batch_1326:   0%|          | 0/1000 [00:00<?, ?it/s]"
      ]
     },
     "metadata": {},
     "output_type": "display_data"
    },
    {
     "data": {
      "application/vnd.jupyter.widget-view+json": {
       "model_id": "dd6c6f64d2464c3b89aaab74d546c0f2",
       "version_major": 2,
       "version_minor": 0
      },
      "text/plain": [
       "Copying files to /Volumes/DATASET/Train/Batch_1327:   0%|          | 0/1000 [00:00<?, ?it/s]"
      ]
     },
     "metadata": {},
     "output_type": "display_data"
    },
    {
     "data": {
      "application/vnd.jupyter.widget-view+json": {
       "model_id": "7c7bc72af37d42c7bd63572f7efc9a89",
       "version_major": 2,
       "version_minor": 0
      },
      "text/plain": [
       "Copying files to /Volumes/DATASET/Train/Batch_1328:   0%|          | 0/1000 [00:00<?, ?it/s]"
      ]
     },
     "metadata": {},
     "output_type": "display_data"
    },
    {
     "data": {
      "application/vnd.jupyter.widget-view+json": {
       "model_id": "026ff9b6794544c9b121e55f897e22bb",
       "version_major": 2,
       "version_minor": 0
      },
      "text/plain": [
       "Copying files to /Volumes/DATASET/Train/Batch_1329:   0%|          | 0/1000 [00:00<?, ?it/s]"
      ]
     },
     "metadata": {},
     "output_type": "display_data"
    },
    {
     "data": {
      "application/vnd.jupyter.widget-view+json": {
       "model_id": "66db92da896f49589bb4c852c0f1046b",
       "version_major": 2,
       "version_minor": 0
      },
      "text/plain": [
       "Copying files to /Volumes/DATASET/Train/Batch_1330:   0%|          | 0/1000 [00:00<?, ?it/s]"
      ]
     },
     "metadata": {},
     "output_type": "display_data"
    },
    {
     "data": {
      "application/vnd.jupyter.widget-view+json": {
       "model_id": "171df79e149942bc93dacf7418caa6bc",
       "version_major": 2,
       "version_minor": 0
      },
      "text/plain": [
       "Copying files to /Volumes/DATASET/Train/Batch_1331:   0%|          | 0/1000 [00:00<?, ?it/s]"
      ]
     },
     "metadata": {},
     "output_type": "display_data"
    },
    {
     "data": {
      "application/vnd.jupyter.widget-view+json": {
       "model_id": "e4cb1d2b03d84818bbe7293187d73bb0",
       "version_major": 2,
       "version_minor": 0
      },
      "text/plain": [
       "Copying files to /Volumes/DATASET/Train/Batch_1332:   0%|          | 0/1000 [00:00<?, ?it/s]"
      ]
     },
     "metadata": {},
     "output_type": "display_data"
    },
    {
     "data": {
      "application/vnd.jupyter.widget-view+json": {
       "model_id": "ce7d9d1cad364d9e8467be00fd4d59c5",
       "version_major": 2,
       "version_minor": 0
      },
      "text/plain": [
       "Copying files to /Volumes/DATASET/Train/Batch_1333:   0%|          | 0/1000 [00:00<?, ?it/s]"
      ]
     },
     "metadata": {},
     "output_type": "display_data"
    },
    {
     "data": {
      "application/vnd.jupyter.widget-view+json": {
       "model_id": "411e1b53276544f1976de003d407be70",
       "version_major": 2,
       "version_minor": 0
      },
      "text/plain": [
       "Copying files to /Volumes/DATASET/Train/Batch_1334:   0%|          | 0/1000 [00:00<?, ?it/s]"
      ]
     },
     "metadata": {},
     "output_type": "display_data"
    },
    {
     "data": {
      "application/vnd.jupyter.widget-view+json": {
       "model_id": "24a6caa85f78445f9306375f41294c7a",
       "version_major": 2,
       "version_minor": 0
      },
      "text/plain": [
       "Copying files to /Volumes/DATASET/Train/Batch_1335:   0%|          | 0/1000 [00:00<?, ?it/s]"
      ]
     },
     "metadata": {},
     "output_type": "display_data"
    },
    {
     "data": {
      "application/vnd.jupyter.widget-view+json": {
       "model_id": "9d789d77ea6b4d038c756e8dbdfec35c",
       "version_major": 2,
       "version_minor": 0
      },
      "text/plain": [
       "Copying files to /Volumes/DATASET/Train/Batch_1336:   0%|          | 0/1000 [00:00<?, ?it/s]"
      ]
     },
     "metadata": {},
     "output_type": "display_data"
    },
    {
     "data": {
      "application/vnd.jupyter.widget-view+json": {
       "model_id": "5ddbdcd064854e4b88f5206e158dc223",
       "version_major": 2,
       "version_minor": 0
      },
      "text/plain": [
       "Copying files to /Volumes/DATASET/Train/Batch_1337:   0%|          | 0/1000 [00:00<?, ?it/s]"
      ]
     },
     "metadata": {},
     "output_type": "display_data"
    },
    {
     "data": {
      "application/vnd.jupyter.widget-view+json": {
       "model_id": "c17a616588e140078000306065d17fc9",
       "version_major": 2,
       "version_minor": 0
      },
      "text/plain": [
       "Copying files to /Volumes/DATASET/Train/Batch_1338:   0%|          | 0/1000 [00:00<?, ?it/s]"
      ]
     },
     "metadata": {},
     "output_type": "display_data"
    },
    {
     "data": {
      "application/vnd.jupyter.widget-view+json": {
       "model_id": "d9a21abb81934142accf35f161e51d80",
       "version_major": 2,
       "version_minor": 0
      },
      "text/plain": [
       "Copying files to /Volumes/DATASET/Train/Batch_1339:   0%|          | 0/1000 [00:00<?, ?it/s]"
      ]
     },
     "metadata": {},
     "output_type": "display_data"
    },
    {
     "data": {
      "application/vnd.jupyter.widget-view+json": {
       "model_id": "b012d0f4bb254653a18362e47c85dd81",
       "version_major": 2,
       "version_minor": 0
      },
      "text/plain": [
       "Copying files to /Volumes/DATASET/Train/Batch_1340:   0%|          | 0/1000 [00:00<?, ?it/s]"
      ]
     },
     "metadata": {},
     "output_type": "display_data"
    },
    {
     "data": {
      "application/vnd.jupyter.widget-view+json": {
       "model_id": "bfb1d05caf924ace9d2681b06debfb84",
       "version_major": 2,
       "version_minor": 0
      },
      "text/plain": [
       "Copying files to /Volumes/DATASET/Train/Batch_1341:   0%|          | 0/1000 [00:00<?, ?it/s]"
      ]
     },
     "metadata": {},
     "output_type": "display_data"
    },
    {
     "data": {
      "application/vnd.jupyter.widget-view+json": {
       "model_id": "625b51ed8ae446b0b018f3a33674d395",
       "version_major": 2,
       "version_minor": 0
      },
      "text/plain": [
       "Copying files to /Volumes/DATASET/Train/Batch_1342:   0%|          | 0/1000 [00:00<?, ?it/s]"
      ]
     },
     "metadata": {},
     "output_type": "display_data"
    },
    {
     "data": {
      "application/vnd.jupyter.widget-view+json": {
       "model_id": "d467ecb342d546b5979379f41d04d0dd",
       "version_major": 2,
       "version_minor": 0
      },
      "text/plain": [
       "Copying files to /Volumes/DATASET/Train/Batch_1343:   0%|          | 0/1000 [00:00<?, ?it/s]"
      ]
     },
     "metadata": {},
     "output_type": "display_data"
    },
    {
     "data": {
      "application/vnd.jupyter.widget-view+json": {
       "model_id": "5c0e772a91e640df994ea49743aafc15",
       "version_major": 2,
       "version_minor": 0
      },
      "text/plain": [
       "Copying files to /Volumes/DATASET/Train/Batch_1344:   0%|          | 0/1000 [00:00<?, ?it/s]"
      ]
     },
     "metadata": {},
     "output_type": "display_data"
    },
    {
     "data": {
      "application/vnd.jupyter.widget-view+json": {
       "model_id": "3798390baf9743deb5cce3a425ae8384",
       "version_major": 2,
       "version_minor": 0
      },
      "text/plain": [
       "Copying files to /Volumes/DATASET/Train/Batch_1345:   0%|          | 0/1000 [00:00<?, ?it/s]"
      ]
     },
     "metadata": {},
     "output_type": "display_data"
    },
    {
     "data": {
      "application/vnd.jupyter.widget-view+json": {
       "model_id": "40d2e25e524741db8b652fe04a3ce396",
       "version_major": 2,
       "version_minor": 0
      },
      "text/plain": [
       "Copying files to /Volumes/DATASET/Train/Batch_1346:   0%|          | 0/1000 [00:00<?, ?it/s]"
      ]
     },
     "metadata": {},
     "output_type": "display_data"
    },
    {
     "data": {
      "application/vnd.jupyter.widget-view+json": {
       "model_id": "5498e985aa474746bf29beaba8a4ca43",
       "version_major": 2,
       "version_minor": 0
      },
      "text/plain": [
       "Copying files to /Volumes/DATASET/Train/Batch_1347:   0%|          | 0/1000 [00:00<?, ?it/s]"
      ]
     },
     "metadata": {},
     "output_type": "display_data"
    },
    {
     "data": {
      "application/vnd.jupyter.widget-view+json": {
       "model_id": "cbbec3855b8f484fb3218ba0f96c86c1",
       "version_major": 2,
       "version_minor": 0
      },
      "text/plain": [
       "Copying files to /Volumes/DATASET/Train/Batch_1348:   0%|          | 0/1000 [00:00<?, ?it/s]"
      ]
     },
     "metadata": {},
     "output_type": "display_data"
    },
    {
     "data": {
      "application/vnd.jupyter.widget-view+json": {
       "model_id": "6645ec9f442a4344b6e516bd53fe1287",
       "version_major": 2,
       "version_minor": 0
      },
      "text/plain": [
       "Copying files to /Volumes/DATASET/Train/Batch_1349:   0%|          | 0/1000 [00:00<?, ?it/s]"
      ]
     },
     "metadata": {},
     "output_type": "display_data"
    },
    {
     "data": {
      "application/vnd.jupyter.widget-view+json": {
       "model_id": "35bc525cf7a942958cb68a3b9b2110c7",
       "version_major": 2,
       "version_minor": 0
      },
      "text/plain": [
       "Copying files to /Volumes/DATASET/Train/Batch_1350:   0%|          | 0/1000 [00:00<?, ?it/s]"
      ]
     },
     "metadata": {},
     "output_type": "display_data"
    },
    {
     "data": {
      "application/vnd.jupyter.widget-view+json": {
       "model_id": "a65a2f12324d4ff2b91127a12766691d",
       "version_major": 2,
       "version_minor": 0
      },
      "text/plain": [
       "Copying files to /Volumes/DATASET/Train/Batch_1351:   0%|          | 0/1000 [00:00<?, ?it/s]"
      ]
     },
     "metadata": {},
     "output_type": "display_data"
    },
    {
     "data": {
      "application/vnd.jupyter.widget-view+json": {
       "model_id": "5102904031cc4384bf83917e1d37592f",
       "version_major": 2,
       "version_minor": 0
      },
      "text/plain": [
       "Copying files to /Volumes/DATASET/Train/Batch_1352:   0%|          | 0/1000 [00:00<?, ?it/s]"
      ]
     },
     "metadata": {},
     "output_type": "display_data"
    },
    {
     "data": {
      "application/vnd.jupyter.widget-view+json": {
       "model_id": "70042d38365d4f9c898e6e991f01da84",
       "version_major": 2,
       "version_minor": 0
      },
      "text/plain": [
       "Copying files to /Volumes/DATASET/Train/Batch_1353:   0%|          | 0/1000 [00:00<?, ?it/s]"
      ]
     },
     "metadata": {},
     "output_type": "display_data"
    },
    {
     "data": {
      "application/vnd.jupyter.widget-view+json": {
       "model_id": "be1865bd651744fb8af5cbe705e143eb",
       "version_major": 2,
       "version_minor": 0
      },
      "text/plain": [
       "Copying files to /Volumes/DATASET/Train/Batch_1354:   0%|          | 0/1000 [00:00<?, ?it/s]"
      ]
     },
     "metadata": {},
     "output_type": "display_data"
    },
    {
     "data": {
      "application/vnd.jupyter.widget-view+json": {
       "model_id": "a0aa412c368943e1aaf6fefbd1786dbd",
       "version_major": 2,
       "version_minor": 0
      },
      "text/plain": [
       "Copying files to /Volumes/DATASET/Train/Batch_1355:   0%|          | 0/1000 [00:00<?, ?it/s]"
      ]
     },
     "metadata": {},
     "output_type": "display_data"
    },
    {
     "data": {
      "application/vnd.jupyter.widget-view+json": {
       "model_id": "9203642e3ffb4de4940cb86f1938fef2",
       "version_major": 2,
       "version_minor": 0
      },
      "text/plain": [
       "Copying files to /Volumes/DATASET/Train/Batch_1356:   0%|          | 0/1000 [00:00<?, ?it/s]"
      ]
     },
     "metadata": {},
     "output_type": "display_data"
    },
    {
     "data": {
      "application/vnd.jupyter.widget-view+json": {
       "model_id": "3a301153176a4ad4855bdaa3c697e270",
       "version_major": 2,
       "version_minor": 0
      },
      "text/plain": [
       "Copying files to /Volumes/DATASET/Train/Batch_1357:   0%|          | 0/1000 [00:00<?, ?it/s]"
      ]
     },
     "metadata": {},
     "output_type": "display_data"
    },
    {
     "data": {
      "application/vnd.jupyter.widget-view+json": {
       "model_id": "ddcb1eb20315435ca8045314a0d4e6bd",
       "version_major": 2,
       "version_minor": 0
      },
      "text/plain": [
       "Copying files to /Volumes/DATASET/Train/Batch_1358:   0%|          | 0/1000 [00:00<?, ?it/s]"
      ]
     },
     "metadata": {},
     "output_type": "display_data"
    },
    {
     "data": {
      "application/vnd.jupyter.widget-view+json": {
       "model_id": "f1790ed9f20c4acb9159f4b97a7789f6",
       "version_major": 2,
       "version_minor": 0
      },
      "text/plain": [
       "Copying files to /Volumes/DATASET/Train/Batch_1359:   0%|          | 0/1000 [00:00<?, ?it/s]"
      ]
     },
     "metadata": {},
     "output_type": "display_data"
    },
    {
     "data": {
      "application/vnd.jupyter.widget-view+json": {
       "model_id": "dd7330db89394b12bf991c9e6d0bde49",
       "version_major": 2,
       "version_minor": 0
      },
      "text/plain": [
       "Copying files to /Volumes/DATASET/Train/Batch_1360:   0%|          | 0/1000 [00:00<?, ?it/s]"
      ]
     },
     "metadata": {},
     "output_type": "display_data"
    },
    {
     "data": {
      "application/vnd.jupyter.widget-view+json": {
       "model_id": "bc38d286a0ff4b00a6c8bc9cc0d214c7",
       "version_major": 2,
       "version_minor": 0
      },
      "text/plain": [
       "Copying files to /Volumes/DATASET/Train/Batch_1361:   0%|          | 0/1000 [00:00<?, ?it/s]"
      ]
     },
     "metadata": {},
     "output_type": "display_data"
    },
    {
     "data": {
      "application/vnd.jupyter.widget-view+json": {
       "model_id": "455419324078433b9e81d8358476cc31",
       "version_major": 2,
       "version_minor": 0
      },
      "text/plain": [
       "Copying files to /Volumes/DATASET/Train/Batch_1362:   0%|          | 0/1000 [00:00<?, ?it/s]"
      ]
     },
     "metadata": {},
     "output_type": "display_data"
    },
    {
     "data": {
      "application/vnd.jupyter.widget-view+json": {
       "model_id": "a7f6b17b2dc541b8be51ca7601b46af6",
       "version_major": 2,
       "version_minor": 0
      },
      "text/plain": [
       "Copying files to /Volumes/DATASET/Train/Batch_1363:   0%|          | 0/1000 [00:00<?, ?it/s]"
      ]
     },
     "metadata": {},
     "output_type": "display_data"
    },
    {
     "data": {
      "application/vnd.jupyter.widget-view+json": {
       "model_id": "677af946dce543b1b1ddb01e1832f89d",
       "version_major": 2,
       "version_minor": 0
      },
      "text/plain": [
       "Copying files to /Volumes/DATASET/Train/Batch_1364:   0%|          | 0/1000 [00:00<?, ?it/s]"
      ]
     },
     "metadata": {},
     "output_type": "display_data"
    },
    {
     "data": {
      "application/vnd.jupyter.widget-view+json": {
       "model_id": "80fdbbf163b9426297f44d7d75181624",
       "version_major": 2,
       "version_minor": 0
      },
      "text/plain": [
       "Copying files to /Volumes/DATASET/Train/Batch_1365:   0%|          | 0/1000 [00:00<?, ?it/s]"
      ]
     },
     "metadata": {},
     "output_type": "display_data"
    },
    {
     "data": {
      "application/vnd.jupyter.widget-view+json": {
       "model_id": "f370a96a29f84ea2a16852e8e37ba994",
       "version_major": 2,
       "version_minor": 0
      },
      "text/plain": [
       "Copying files to /Volumes/DATASET/Train/Batch_1366:   0%|          | 0/1000 [00:00<?, ?it/s]"
      ]
     },
     "metadata": {},
     "output_type": "display_data"
    },
    {
     "data": {
      "application/vnd.jupyter.widget-view+json": {
       "model_id": "e611f6d987ea4258bddbddef12f5b479",
       "version_major": 2,
       "version_minor": 0
      },
      "text/plain": [
       "Copying files to /Volumes/DATASET/Train/Batch_1367:   0%|          | 0/1000 [00:00<?, ?it/s]"
      ]
     },
     "metadata": {},
     "output_type": "display_data"
    },
    {
     "data": {
      "application/vnd.jupyter.widget-view+json": {
       "model_id": "51ba073db4c44baf8380f31f8e62e7a7",
       "version_major": 2,
       "version_minor": 0
      },
      "text/plain": [
       "Copying files to /Volumes/DATASET/Train/Batch_1368:   0%|          | 0/1000 [00:00<?, ?it/s]"
      ]
     },
     "metadata": {},
     "output_type": "display_data"
    },
    {
     "data": {
      "application/vnd.jupyter.widget-view+json": {
       "model_id": "a91be8aadf5040fdad571c27dd1d612b",
       "version_major": 2,
       "version_minor": 0
      },
      "text/plain": [
       "Copying files to /Volumes/DATASET/Train/Batch_1369:   0%|          | 0/1000 [00:00<?, ?it/s]"
      ]
     },
     "metadata": {},
     "output_type": "display_data"
    },
    {
     "data": {
      "application/vnd.jupyter.widget-view+json": {
       "model_id": "dcd1ff58965a48ed907c742f557c07d3",
       "version_major": 2,
       "version_minor": 0
      },
      "text/plain": [
       "Copying files to /Volumes/DATASET/Train/Batch_1370:   0%|          | 0/1000 [00:00<?, ?it/s]"
      ]
     },
     "metadata": {},
     "output_type": "display_data"
    },
    {
     "data": {
      "application/vnd.jupyter.widget-view+json": {
       "model_id": "5f843144d69c44cf8dff9a7669b1879e",
       "version_major": 2,
       "version_minor": 0
      },
      "text/plain": [
       "Copying files to /Volumes/DATASET/Train/Batch_1371:   0%|          | 0/1000 [00:00<?, ?it/s]"
      ]
     },
     "metadata": {},
     "output_type": "display_data"
    },
    {
     "data": {
      "application/vnd.jupyter.widget-view+json": {
       "model_id": "488334e21a0e4e9aaaf6902628956aeb",
       "version_major": 2,
       "version_minor": 0
      },
      "text/plain": [
       "Copying files to /Volumes/DATASET/Train/Batch_1372:   0%|          | 0/1000 [00:00<?, ?it/s]"
      ]
     },
     "metadata": {},
     "output_type": "display_data"
    },
    {
     "data": {
      "application/vnd.jupyter.widget-view+json": {
       "model_id": "4fb945ca7f5f4874aff980aa7a47d1ec",
       "version_major": 2,
       "version_minor": 0
      },
      "text/plain": [
       "Copying files to /Volumes/DATASET/Train/Batch_1373:   0%|          | 0/1000 [00:00<?, ?it/s]"
      ]
     },
     "metadata": {},
     "output_type": "display_data"
    },
    {
     "data": {
      "application/vnd.jupyter.widget-view+json": {
       "model_id": "6f3e257ca80e489f966f73787e0f954b",
       "version_major": 2,
       "version_minor": 0
      },
      "text/plain": [
       "Copying files to /Volumes/DATASET/Train/Batch_1374:   0%|          | 0/1000 [00:00<?, ?it/s]"
      ]
     },
     "metadata": {},
     "output_type": "display_data"
    },
    {
     "data": {
      "application/vnd.jupyter.widget-view+json": {
       "model_id": "7bd49937714e4ced99261e8325e82175",
       "version_major": 2,
       "version_minor": 0
      },
      "text/plain": [
       "Copying files to /Volumes/DATASET/Train/Batch_1375:   0%|          | 0/1000 [00:00<?, ?it/s]"
      ]
     },
     "metadata": {},
     "output_type": "display_data"
    },
    {
     "data": {
      "application/vnd.jupyter.widget-view+json": {
       "model_id": "c0a556844c9946ffb004d5296ca2acac",
       "version_major": 2,
       "version_minor": 0
      },
      "text/plain": [
       "Copying files to /Volumes/DATASET/Train/Batch_1376:   0%|          | 0/1000 [00:00<?, ?it/s]"
      ]
     },
     "metadata": {},
     "output_type": "display_data"
    },
    {
     "data": {
      "application/vnd.jupyter.widget-view+json": {
       "model_id": "c6d846ec1bf843c598237edd5098186a",
       "version_major": 2,
       "version_minor": 0
      },
      "text/plain": [
       "Copying files to /Volumes/DATASET/Train/Batch_1377:   0%|          | 0/1000 [00:00<?, ?it/s]"
      ]
     },
     "metadata": {},
     "output_type": "display_data"
    },
    {
     "data": {
      "application/vnd.jupyter.widget-view+json": {
       "model_id": "8fa12b9b268e4283aa973651299acbad",
       "version_major": 2,
       "version_minor": 0
      },
      "text/plain": [
       "Copying files to /Volumes/DATASET/Train/Batch_1378:   0%|          | 0/1000 [00:00<?, ?it/s]"
      ]
     },
     "metadata": {},
     "output_type": "display_data"
    },
    {
     "data": {
      "application/vnd.jupyter.widget-view+json": {
       "model_id": "d3b1a7fb298b41d4807b047ccbf2f06e",
       "version_major": 2,
       "version_minor": 0
      },
      "text/plain": [
       "Copying files to /Volumes/DATASET/Train/Batch_1379:   0%|          | 0/1000 [00:00<?, ?it/s]"
      ]
     },
     "metadata": {},
     "output_type": "display_data"
    },
    {
     "data": {
      "application/vnd.jupyter.widget-view+json": {
       "model_id": "7494cae475f9480ab52c2e4dde5d0ff1",
       "version_major": 2,
       "version_minor": 0
      },
      "text/plain": [
       "Copying files to /Volumes/DATASET/Train/Batch_1380:   0%|          | 0/1000 [00:00<?, ?it/s]"
      ]
     },
     "metadata": {},
     "output_type": "display_data"
    },
    {
     "data": {
      "application/vnd.jupyter.widget-view+json": {
       "model_id": "8c22f92adc9f42ccb82ae9d367a208d0",
       "version_major": 2,
       "version_minor": 0
      },
      "text/plain": [
       "Copying files to /Volumes/DATASET/Train/Batch_1381:   0%|          | 0/1000 [00:00<?, ?it/s]"
      ]
     },
     "metadata": {},
     "output_type": "display_data"
    },
    {
     "data": {
      "application/vnd.jupyter.widget-view+json": {
       "model_id": "dcdd3a70e546485f8ac7a51971d96041",
       "version_major": 2,
       "version_minor": 0
      },
      "text/plain": [
       "Copying files to /Volumes/DATASET/Train/Batch_1382:   0%|          | 0/1000 [00:00<?, ?it/s]"
      ]
     },
     "metadata": {},
     "output_type": "display_data"
    },
    {
     "data": {
      "application/vnd.jupyter.widget-view+json": {
       "model_id": "cf70c3776c1041d59ad8fe8cb4347481",
       "version_major": 2,
       "version_minor": 0
      },
      "text/plain": [
       "Copying files to /Volumes/DATASET/Train/Batch_1383:   0%|          | 0/1000 [00:00<?, ?it/s]"
      ]
     },
     "metadata": {},
     "output_type": "display_data"
    },
    {
     "data": {
      "application/vnd.jupyter.widget-view+json": {
       "model_id": "d835364e3f384c11bce362ba4a298c8d",
       "version_major": 2,
       "version_minor": 0
      },
      "text/plain": [
       "Copying files to /Volumes/DATASET/Train/Batch_1384:   0%|          | 0/1000 [00:00<?, ?it/s]"
      ]
     },
     "metadata": {},
     "output_type": "display_data"
    },
    {
     "data": {
      "application/vnd.jupyter.widget-view+json": {
       "model_id": "7c9e89411ece46c7aea7f4cfdb5b48a5",
       "version_major": 2,
       "version_minor": 0
      },
      "text/plain": [
       "Copying files to /Volumes/DATASET/Train/Batch_1385:   0%|          | 0/1000 [00:00<?, ?it/s]"
      ]
     },
     "metadata": {},
     "output_type": "display_data"
    },
    {
     "data": {
      "application/vnd.jupyter.widget-view+json": {
       "model_id": "bd3693145c5040d4939d4502bb116a78",
       "version_major": 2,
       "version_minor": 0
      },
      "text/plain": [
       "Copying files to /Volumes/DATASET/Train/Batch_1386:   0%|          | 0/1000 [00:00<?, ?it/s]"
      ]
     },
     "metadata": {},
     "output_type": "display_data"
    },
    {
     "data": {
      "application/vnd.jupyter.widget-view+json": {
       "model_id": "7b7d5638380b4aeab7eaed057e50311d",
       "version_major": 2,
       "version_minor": 0
      },
      "text/plain": [
       "Copying files to /Volumes/DATASET/Train/Batch_1387:   0%|          | 0/1000 [00:00<?, ?it/s]"
      ]
     },
     "metadata": {},
     "output_type": "display_data"
    },
    {
     "data": {
      "application/vnd.jupyter.widget-view+json": {
       "model_id": "8c44f224e1294f28b353f6492f49b9a4",
       "version_major": 2,
       "version_minor": 0
      },
      "text/plain": [
       "Copying files to /Volumes/DATASET/Train/Batch_1388:   0%|          | 0/1000 [00:00<?, ?it/s]"
      ]
     },
     "metadata": {},
     "output_type": "display_data"
    },
    {
     "data": {
      "application/vnd.jupyter.widget-view+json": {
       "model_id": "c925a1bfa88e4e63a6a1a464180d3288",
       "version_major": 2,
       "version_minor": 0
      },
      "text/plain": [
       "Copying files to /Volumes/DATASET/Train/Batch_1389:   0%|          | 0/1000 [00:00<?, ?it/s]"
      ]
     },
     "metadata": {},
     "output_type": "display_data"
    },
    {
     "data": {
      "application/vnd.jupyter.widget-view+json": {
       "model_id": "a6bd43021c434b1280ec68ffbcbc36b0",
       "version_major": 2,
       "version_minor": 0
      },
      "text/plain": [
       "Copying files to /Volumes/DATASET/Train/Batch_1390:   0%|          | 0/1000 [00:00<?, ?it/s]"
      ]
     },
     "metadata": {},
     "output_type": "display_data"
    },
    {
     "data": {
      "application/vnd.jupyter.widget-view+json": {
       "model_id": "12d009c6ef674cada03d55eb3e6c35d0",
       "version_major": 2,
       "version_minor": 0
      },
      "text/plain": [
       "Copying files to /Volumes/DATASET/Train/Batch_1391:   0%|          | 0/1000 [00:00<?, ?it/s]"
      ]
     },
     "metadata": {},
     "output_type": "display_data"
    },
    {
     "data": {
      "application/vnd.jupyter.widget-view+json": {
       "model_id": "9d3c946d8875415a97fc7fad07297def",
       "version_major": 2,
       "version_minor": 0
      },
      "text/plain": [
       "Copying files to /Volumes/DATASET/Train/Batch_1392:   0%|          | 0/1000 [00:00<?, ?it/s]"
      ]
     },
     "metadata": {},
     "output_type": "display_data"
    },
    {
     "data": {
      "application/vnd.jupyter.widget-view+json": {
       "model_id": "c5f1b56e6cac4baba5ec864263a2018d",
       "version_major": 2,
       "version_minor": 0
      },
      "text/plain": [
       "Copying files to /Volumes/DATASET/Train/Batch_1393:   0%|          | 0/1000 [00:00<?, ?it/s]"
      ]
     },
     "metadata": {},
     "output_type": "display_data"
    },
    {
     "data": {
      "application/vnd.jupyter.widget-view+json": {
       "model_id": "c803a78b7aa940ec8b611af8ff37d056",
       "version_major": 2,
       "version_minor": 0
      },
      "text/plain": [
       "Copying files to /Volumes/DATASET/Train/Batch_1394:   0%|          | 0/1000 [00:00<?, ?it/s]"
      ]
     },
     "metadata": {},
     "output_type": "display_data"
    },
    {
     "data": {
      "application/vnd.jupyter.widget-view+json": {
       "model_id": "f183d0aa46da4502afb750c43601e5c6",
       "version_major": 2,
       "version_minor": 0
      },
      "text/plain": [
       "Copying files to /Volumes/DATASET/Train/Batch_1395:   0%|          | 0/1000 [00:00<?, ?it/s]"
      ]
     },
     "metadata": {},
     "output_type": "display_data"
    },
    {
     "data": {
      "application/vnd.jupyter.widget-view+json": {
       "model_id": "60562b5f68104c9ba54a7ca0d4df994a",
       "version_major": 2,
       "version_minor": 0
      },
      "text/plain": [
       "Copying files to /Volumes/DATASET/Train/Batch_1396:   0%|          | 0/1000 [00:00<?, ?it/s]"
      ]
     },
     "metadata": {},
     "output_type": "display_data"
    },
    {
     "data": {
      "application/vnd.jupyter.widget-view+json": {
       "model_id": "6e18307911584c5eb384b0a323a52c07",
       "version_major": 2,
       "version_minor": 0
      },
      "text/plain": [
       "Copying files to /Volumes/DATASET/Train/Batch_1397:   0%|          | 0/1000 [00:00<?, ?it/s]"
      ]
     },
     "metadata": {},
     "output_type": "display_data"
    },
    {
     "data": {
      "application/vnd.jupyter.widget-view+json": {
       "model_id": "f1ff7551d8374d908a52e9bd06a6b377",
       "version_major": 2,
       "version_minor": 0
      },
      "text/plain": [
       "Copying files to /Volumes/DATASET/Train/Batch_1398:   0%|          | 0/1000 [00:00<?, ?it/s]"
      ]
     },
     "metadata": {},
     "output_type": "display_data"
    },
    {
     "data": {
      "application/vnd.jupyter.widget-view+json": {
       "model_id": "babdd3e294e64955bb28b791121b1f2b",
       "version_major": 2,
       "version_minor": 0
      },
      "text/plain": [
       "Copying files to /Volumes/DATASET/Train/Batch_1399:   0%|          | 0/1000 [00:00<?, ?it/s]"
      ]
     },
     "metadata": {},
     "output_type": "display_data"
    },
    {
     "data": {
      "application/vnd.jupyter.widget-view+json": {
       "model_id": "55d4ab79b9f64146b43a61a441ba93e0",
       "version_major": 2,
       "version_minor": 0
      },
      "text/plain": [
       "Copying files to /Volumes/DATASET/Train/Batch_1400:   0%|          | 0/1000 [00:00<?, ?it/s]"
      ]
     },
     "metadata": {},
     "output_type": "display_data"
    },
    {
     "data": {
      "application/vnd.jupyter.widget-view+json": {
       "model_id": "9348b6f8af59447b9cb1650c9a940b20",
       "version_major": 2,
       "version_minor": 0
      },
      "text/plain": [
       "Copying files to /Volumes/DATASET/Train/Batch_1401:   0%|          | 0/1000 [00:00<?, ?it/s]"
      ]
     },
     "metadata": {},
     "output_type": "display_data"
    },
    {
     "data": {
      "application/vnd.jupyter.widget-view+json": {
       "model_id": "30f552e4cf00460daeb357f344b4517b",
       "version_major": 2,
       "version_minor": 0
      },
      "text/plain": [
       "Copying files to /Volumes/DATASET/Train/Batch_1402:   0%|          | 0/1000 [00:00<?, ?it/s]"
      ]
     },
     "metadata": {},
     "output_type": "display_data"
    },
    {
     "data": {
      "application/vnd.jupyter.widget-view+json": {
       "model_id": "fcbe226ca3694dab932b5ff1aabc9441",
       "version_major": 2,
       "version_minor": 0
      },
      "text/plain": [
       "Copying files to /Volumes/DATASET/Train/Batch_1403:   0%|          | 0/1000 [00:00<?, ?it/s]"
      ]
     },
     "metadata": {},
     "output_type": "display_data"
    },
    {
     "data": {
      "application/vnd.jupyter.widget-view+json": {
       "model_id": "3c16c441cf25475f9f62756bfa4ca639",
       "version_major": 2,
       "version_minor": 0
      },
      "text/plain": [
       "Copying files to /Volumes/DATASET/Train/Batch_1404:   0%|          | 0/1000 [00:00<?, ?it/s]"
      ]
     },
     "metadata": {},
     "output_type": "display_data"
    },
    {
     "data": {
      "application/vnd.jupyter.widget-view+json": {
       "model_id": "a2c1b121115a47ca94932fbaa25666dc",
       "version_major": 2,
       "version_minor": 0
      },
      "text/plain": [
       "Copying files to /Volumes/DATASET/Train/Batch_1405:   0%|          | 0/1000 [00:00<?, ?it/s]"
      ]
     },
     "metadata": {},
     "output_type": "display_data"
    },
    {
     "data": {
      "application/vnd.jupyter.widget-view+json": {
       "model_id": "558e3151fdaa4737b95730bf75741f87",
       "version_major": 2,
       "version_minor": 0
      },
      "text/plain": [
       "Copying files to /Volumes/DATASET/Train/Batch_1406:   0%|          | 0/1000 [00:00<?, ?it/s]"
      ]
     },
     "metadata": {},
     "output_type": "display_data"
    },
    {
     "data": {
      "application/vnd.jupyter.widget-view+json": {
       "model_id": "ef02ebbc8f3d44a59c8af65fcbd8e567",
       "version_major": 2,
       "version_minor": 0
      },
      "text/plain": [
       "Copying files to /Volumes/DATASET/Train/Batch_1407:   0%|          | 0/1000 [00:00<?, ?it/s]"
      ]
     },
     "metadata": {},
     "output_type": "display_data"
    },
    {
     "data": {
      "application/vnd.jupyter.widget-view+json": {
       "model_id": "c7b5ea03b59f4037910a6c6daa7b1860",
       "version_major": 2,
       "version_minor": 0
      },
      "text/plain": [
       "Copying files to /Volumes/DATASET/Train/Batch_1408:   0%|          | 0/1000 [00:00<?, ?it/s]"
      ]
     },
     "metadata": {},
     "output_type": "display_data"
    },
    {
     "data": {
      "application/vnd.jupyter.widget-view+json": {
       "model_id": "6b7708516a854bcaa6298be47673cc97",
       "version_major": 2,
       "version_minor": 0
      },
      "text/plain": [
       "Copying files to /Volumes/DATASET/Train/Batch_1409:   0%|          | 0/1000 [00:00<?, ?it/s]"
      ]
     },
     "metadata": {},
     "output_type": "display_data"
    },
    {
     "data": {
      "application/vnd.jupyter.widget-view+json": {
       "model_id": "2a63de51b02f43fe9ecea3bc1a84d923",
       "version_major": 2,
       "version_minor": 0
      },
      "text/plain": [
       "Copying files to /Volumes/DATASET/Train/Batch_1410:   0%|          | 0/1000 [00:00<?, ?it/s]"
      ]
     },
     "metadata": {},
     "output_type": "display_data"
    },
    {
     "data": {
      "application/vnd.jupyter.widget-view+json": {
       "model_id": "c531fa1195f648c7a339526e7b59cd03",
       "version_major": 2,
       "version_minor": 0
      },
      "text/plain": [
       "Copying files to /Volumes/DATASET/Train/Batch_1411:   0%|          | 0/1000 [00:00<?, ?it/s]"
      ]
     },
     "metadata": {},
     "output_type": "display_data"
    },
    {
     "data": {
      "application/vnd.jupyter.widget-view+json": {
       "model_id": "18afe5fe66db4424b1a15c29abe47778",
       "version_major": 2,
       "version_minor": 0
      },
      "text/plain": [
       "Copying files to /Volumes/DATASET/Train/Batch_1412:   0%|          | 0/1000 [00:00<?, ?it/s]"
      ]
     },
     "metadata": {},
     "output_type": "display_data"
    },
    {
     "data": {
      "application/vnd.jupyter.widget-view+json": {
       "model_id": "4d805c64f1f54eb88ccb889a3b44f13a",
       "version_major": 2,
       "version_minor": 0
      },
      "text/plain": [
       "Copying files to /Volumes/DATASET/Train/Batch_1413:   0%|          | 0/1000 [00:00<?, ?it/s]"
      ]
     },
     "metadata": {},
     "output_type": "display_data"
    },
    {
     "data": {
      "application/vnd.jupyter.widget-view+json": {
       "model_id": "f21ba47fe24b4ac6bfdde54bc4f5100d",
       "version_major": 2,
       "version_minor": 0
      },
      "text/plain": [
       "Copying files to /Volumes/DATASET/Train/Batch_1414:   0%|          | 0/1000 [00:00<?, ?it/s]"
      ]
     },
     "metadata": {},
     "output_type": "display_data"
    },
    {
     "data": {
      "application/vnd.jupyter.widget-view+json": {
       "model_id": "55c50c12002e4b99bfb40080c1b1eac3",
       "version_major": 2,
       "version_minor": 0
      },
      "text/plain": [
       "Copying files to /Volumes/DATASET/Train/Batch_1415:   0%|          | 0/1000 [00:00<?, ?it/s]"
      ]
     },
     "metadata": {},
     "output_type": "display_data"
    },
    {
     "data": {
      "application/vnd.jupyter.widget-view+json": {
       "model_id": "00666d76d99a4c6398800dadc84171b3",
       "version_major": 2,
       "version_minor": 0
      },
      "text/plain": [
       "Copying files to /Volumes/DATASET/Train/Batch_1416:   0%|          | 0/1000 [00:00<?, ?it/s]"
      ]
     },
     "metadata": {},
     "output_type": "display_data"
    },
    {
     "data": {
      "application/vnd.jupyter.widget-view+json": {
       "model_id": "018de608ee3d4154a3ae9eb385fcad3c",
       "version_major": 2,
       "version_minor": 0
      },
      "text/plain": [
       "Copying files to /Volumes/DATASET/Train/Batch_1417:   0%|          | 0/1000 [00:00<?, ?it/s]"
      ]
     },
     "metadata": {},
     "output_type": "display_data"
    },
    {
     "data": {
      "application/vnd.jupyter.widget-view+json": {
       "model_id": "4b97055c068d499f9b356fb845563c10",
       "version_major": 2,
       "version_minor": 0
      },
      "text/plain": [
       "Copying files to /Volumes/DATASET/Train/Batch_1418:   0%|          | 0/1000 [00:00<?, ?it/s]"
      ]
     },
     "metadata": {},
     "output_type": "display_data"
    },
    {
     "data": {
      "application/vnd.jupyter.widget-view+json": {
       "model_id": "6fb862dd06e84e6b931d62fa224c503d",
       "version_major": 2,
       "version_minor": 0
      },
      "text/plain": [
       "Copying files to /Volumes/DATASET/Train/Batch_1419:   0%|          | 0/1000 [00:00<?, ?it/s]"
      ]
     },
     "metadata": {},
     "output_type": "display_data"
    },
    {
     "data": {
      "application/vnd.jupyter.widget-view+json": {
       "model_id": "30857dd2bd1642e49e5a948c5dc6bc56",
       "version_major": 2,
       "version_minor": 0
      },
      "text/plain": [
       "Copying files to /Volumes/DATASET/Train/Batch_1420:   0%|          | 0/1000 [00:00<?, ?it/s]"
      ]
     },
     "metadata": {},
     "output_type": "display_data"
    },
    {
     "data": {
      "application/vnd.jupyter.widget-view+json": {
       "model_id": "741fe86cdbc24a7baddefe67c4d36c4a",
       "version_major": 2,
       "version_minor": 0
      },
      "text/plain": [
       "Copying files to /Volumes/DATASET/Train/Batch_1421:   0%|          | 0/1000 [00:00<?, ?it/s]"
      ]
     },
     "metadata": {},
     "output_type": "display_data"
    },
    {
     "data": {
      "application/vnd.jupyter.widget-view+json": {
       "model_id": "e885ec2773c14d8f8409fdd79c993f74",
       "version_major": 2,
       "version_minor": 0
      },
      "text/plain": [
       "Copying files to /Volumes/DATASET/Train/Batch_1422:   0%|          | 0/1000 [00:00<?, ?it/s]"
      ]
     },
     "metadata": {},
     "output_type": "display_data"
    },
    {
     "data": {
      "application/vnd.jupyter.widget-view+json": {
       "model_id": "406dfc68f10140c394907f325fd3023b",
       "version_major": 2,
       "version_minor": 0
      },
      "text/plain": [
       "Copying files to /Volumes/DATASET/Train/Batch_1423:   0%|          | 0/1000 [00:00<?, ?it/s]"
      ]
     },
     "metadata": {},
     "output_type": "display_data"
    },
    {
     "data": {
      "application/vnd.jupyter.widget-view+json": {
       "model_id": "bbedd07708fb466f89cc8299f6a19bb6",
       "version_major": 2,
       "version_minor": 0
      },
      "text/plain": [
       "Copying files to /Volumes/DATASET/Train/Batch_1424:   0%|          | 0/1000 [00:00<?, ?it/s]"
      ]
     },
     "metadata": {},
     "output_type": "display_data"
    },
    {
     "data": {
      "application/vnd.jupyter.widget-view+json": {
       "model_id": "99b70361f05540118e090eef51481586",
       "version_major": 2,
       "version_minor": 0
      },
      "text/plain": [
       "Copying files to /Volumes/DATASET/Train/Batch_1425:   0%|          | 0/1000 [00:00<?, ?it/s]"
      ]
     },
     "metadata": {},
     "output_type": "display_data"
    },
    {
     "data": {
      "application/vnd.jupyter.widget-view+json": {
       "model_id": "b84422bc240d43f8bc5fdcffae841e60",
       "version_major": 2,
       "version_minor": 0
      },
      "text/plain": [
       "Copying files to /Volumes/DATASET/Train/Batch_1426:   0%|          | 0/1000 [00:00<?, ?it/s]"
      ]
     },
     "metadata": {},
     "output_type": "display_data"
    },
    {
     "data": {
      "application/vnd.jupyter.widget-view+json": {
       "model_id": "91c9172e7641445891b6e46f752444d7",
       "version_major": 2,
       "version_minor": 0
      },
      "text/plain": [
       "Copying files to /Volumes/DATASET/Train/Batch_1427:   0%|          | 0/1000 [00:00<?, ?it/s]"
      ]
     },
     "metadata": {},
     "output_type": "display_data"
    },
    {
     "data": {
      "application/vnd.jupyter.widget-view+json": {
       "model_id": "1d7541ff990a4ecdb8a08d3fc1983a1b",
       "version_major": 2,
       "version_minor": 0
      },
      "text/plain": [
       "Copying files to /Volumes/DATASET/Train/Batch_1428:   0%|          | 0/1000 [00:00<?, ?it/s]"
      ]
     },
     "metadata": {},
     "output_type": "display_data"
    },
    {
     "data": {
      "application/vnd.jupyter.widget-view+json": {
       "model_id": "287d2fc5fc244f01bd308c3cfac56ce6",
       "version_major": 2,
       "version_minor": 0
      },
      "text/plain": [
       "Copying files to /Volumes/DATASET/Train/Batch_1429:   0%|          | 0/1000 [00:00<?, ?it/s]"
      ]
     },
     "metadata": {},
     "output_type": "display_data"
    },
    {
     "data": {
      "application/vnd.jupyter.widget-view+json": {
       "model_id": "e93e757d3b0640f389c192a77d92d7ec",
       "version_major": 2,
       "version_minor": 0
      },
      "text/plain": [
       "Copying files to /Volumes/DATASET/Train/Batch_1430:   0%|          | 0/1000 [00:00<?, ?it/s]"
      ]
     },
     "metadata": {},
     "output_type": "display_data"
    },
    {
     "data": {
      "application/vnd.jupyter.widget-view+json": {
       "model_id": "8112dc6d1e314b948cb2debc9cfc6ad2",
       "version_major": 2,
       "version_minor": 0
      },
      "text/plain": [
       "Copying files to /Volumes/DATASET/Train/Batch_1431:   0%|          | 0/1000 [00:00<?, ?it/s]"
      ]
     },
     "metadata": {},
     "output_type": "display_data"
    },
    {
     "data": {
      "application/vnd.jupyter.widget-view+json": {
       "model_id": "4a5cc25d47da422a967691a40b96f735",
       "version_major": 2,
       "version_minor": 0
      },
      "text/plain": [
       "Copying files to /Volumes/DATASET/Train/Batch_1432:   0%|          | 0/1000 [00:00<?, ?it/s]"
      ]
     },
     "metadata": {},
     "output_type": "display_data"
    },
    {
     "data": {
      "application/vnd.jupyter.widget-view+json": {
       "model_id": "5542860f1b21468ca95ea19ff22293cc",
       "version_major": 2,
       "version_minor": 0
      },
      "text/plain": [
       "Copying files to /Volumes/DATASET/Train/Batch_1433:   0%|          | 0/1000 [00:00<?, ?it/s]"
      ]
     },
     "metadata": {},
     "output_type": "display_data"
    },
    {
     "data": {
      "application/vnd.jupyter.widget-view+json": {
       "model_id": "198983a0330e4db798a1e1f146df8195",
       "version_major": 2,
       "version_minor": 0
      },
      "text/plain": [
       "Copying files to /Volumes/DATASET/Train/Batch_1434:   0%|          | 0/1000 [00:00<?, ?it/s]"
      ]
     },
     "metadata": {},
     "output_type": "display_data"
    },
    {
     "data": {
      "application/vnd.jupyter.widget-view+json": {
       "model_id": "7a02106dcbec4d54b510d21f936c3698",
       "version_major": 2,
       "version_minor": 0
      },
      "text/plain": [
       "Copying files to /Volumes/DATASET/Train/Batch_1435:   0%|          | 0/1000 [00:00<?, ?it/s]"
      ]
     },
     "metadata": {},
     "output_type": "display_data"
    },
    {
     "data": {
      "application/vnd.jupyter.widget-view+json": {
       "model_id": "c48a70f454d847a2b1d5ff205a5a3f16",
       "version_major": 2,
       "version_minor": 0
      },
      "text/plain": [
       "Copying files to /Volumes/DATASET/Train/Batch_1436:   0%|          | 0/1000 [00:00<?, ?it/s]"
      ]
     },
     "metadata": {},
     "output_type": "display_data"
    },
    {
     "data": {
      "application/vnd.jupyter.widget-view+json": {
       "model_id": "b2f78c8caf644d33922d334ec2a88877",
       "version_major": 2,
       "version_minor": 0
      },
      "text/plain": [
       "Copying files to /Volumes/DATASET/Train/Batch_1437:   0%|          | 0/1000 [00:00<?, ?it/s]"
      ]
     },
     "metadata": {},
     "output_type": "display_data"
    },
    {
     "data": {
      "application/vnd.jupyter.widget-view+json": {
       "model_id": "b810c067258d4a3b8a8f608899376111",
       "version_major": 2,
       "version_minor": 0
      },
      "text/plain": [
       "Copying files to /Volumes/DATASET/Train/Batch_1438:   0%|          | 0/1000 [00:00<?, ?it/s]"
      ]
     },
     "metadata": {},
     "output_type": "display_data"
    },
    {
     "data": {
      "application/vnd.jupyter.widget-view+json": {
       "model_id": "ba6412f3acd440c0ad4ed1f6cc0c8ec1",
       "version_major": 2,
       "version_minor": 0
      },
      "text/plain": [
       "Copying files to /Volumes/DATASET/Train/Batch_1439:   0%|          | 0/1000 [00:00<?, ?it/s]"
      ]
     },
     "metadata": {},
     "output_type": "display_data"
    },
    {
     "data": {
      "application/vnd.jupyter.widget-view+json": {
       "model_id": "eacf2501d0e942f9a7543a18f3bf6709",
       "version_major": 2,
       "version_minor": 0
      },
      "text/plain": [
       "Copying files to /Volumes/DATASET/Train/Batch_1440:   0%|          | 0/1000 [00:00<?, ?it/s]"
      ]
     },
     "metadata": {},
     "output_type": "display_data"
    },
    {
     "data": {
      "application/vnd.jupyter.widget-view+json": {
       "model_id": "e7916e9c9c094d71b6af6e8b43ca1176",
       "version_major": 2,
       "version_minor": 0
      },
      "text/plain": [
       "Copying files to /Volumes/DATASET/Train/Batch_1441:   0%|          | 0/1000 [00:00<?, ?it/s]"
      ]
     },
     "metadata": {},
     "output_type": "display_data"
    },
    {
     "data": {
      "application/vnd.jupyter.widget-view+json": {
       "model_id": "4516e9bb29bb42679a66c18a5256dfc9",
       "version_major": 2,
       "version_minor": 0
      },
      "text/plain": [
       "Copying files to /Volumes/DATASET/Train/Batch_1442:   0%|          | 0/1000 [00:00<?, ?it/s]"
      ]
     },
     "metadata": {},
     "output_type": "display_data"
    },
    {
     "data": {
      "application/vnd.jupyter.widget-view+json": {
       "model_id": "81e1176e91384bc8b3ca95ede1ae511d",
       "version_major": 2,
       "version_minor": 0
      },
      "text/plain": [
       "Copying files to /Volumes/DATASET/Train/Batch_1443:   0%|          | 0/1000 [00:00<?, ?it/s]"
      ]
     },
     "metadata": {},
     "output_type": "display_data"
    },
    {
     "data": {
      "application/vnd.jupyter.widget-view+json": {
       "model_id": "4450025a3bf542d8b53fe9e1d2dfac14",
       "version_major": 2,
       "version_minor": 0
      },
      "text/plain": [
       "Copying files to /Volumes/DATASET/Train/Batch_1444:   0%|          | 0/1000 [00:00<?, ?it/s]"
      ]
     },
     "metadata": {},
     "output_type": "display_data"
    },
    {
     "data": {
      "application/vnd.jupyter.widget-view+json": {
       "model_id": "407c2c3228284938a9ae062f0a6b53b1",
       "version_major": 2,
       "version_minor": 0
      },
      "text/plain": [
       "Copying files to /Volumes/DATASET/Train/Batch_1445:   0%|          | 0/1000 [00:00<?, ?it/s]"
      ]
     },
     "metadata": {},
     "output_type": "display_data"
    },
    {
     "data": {
      "application/vnd.jupyter.widget-view+json": {
       "model_id": "d000fcd35e944755b761244f645a4d56",
       "version_major": 2,
       "version_minor": 0
      },
      "text/plain": [
       "Copying files to /Volumes/DATASET/Train/Batch_1446:   0%|          | 0/1000 [00:00<?, ?it/s]"
      ]
     },
     "metadata": {},
     "output_type": "display_data"
    },
    {
     "data": {
      "application/vnd.jupyter.widget-view+json": {
       "model_id": "3fcd346ea1cd4816b2417c0ecb60221a",
       "version_major": 2,
       "version_minor": 0
      },
      "text/plain": [
       "Copying files to /Volumes/DATASET/Train/Batch_1447:   0%|          | 0/1000 [00:00<?, ?it/s]"
      ]
     },
     "metadata": {},
     "output_type": "display_data"
    },
    {
     "data": {
      "application/vnd.jupyter.widget-view+json": {
       "model_id": "116898b4f76548c0838a30d70b8030ff",
       "version_major": 2,
       "version_minor": 0
      },
      "text/plain": [
       "Copying files to /Volumes/DATASET/Train/Batch_1448:   0%|          | 0/1000 [00:00<?, ?it/s]"
      ]
     },
     "metadata": {},
     "output_type": "display_data"
    },
    {
     "data": {
      "application/vnd.jupyter.widget-view+json": {
       "model_id": "5ba9e2e271fe411b8be2e692ad8b9115",
       "version_major": 2,
       "version_minor": 0
      },
      "text/plain": [
       "Copying files to /Volumes/DATASET/Train/Batch_1449:   0%|          | 0/1000 [00:00<?, ?it/s]"
      ]
     },
     "metadata": {},
     "output_type": "display_data"
    },
    {
     "data": {
      "application/vnd.jupyter.widget-view+json": {
       "model_id": "0ce66e0c7ad04eff89467035eb6a82ad",
       "version_major": 2,
       "version_minor": 0
      },
      "text/plain": [
       "Copying files to /Volumes/DATASET/Train/Batch_1450:   0%|          | 0/1000 [00:00<?, ?it/s]"
      ]
     },
     "metadata": {},
     "output_type": "display_data"
    },
    {
     "data": {
      "application/vnd.jupyter.widget-view+json": {
       "model_id": "43e09e89cccc445e9aa0d8864bd9e0c0",
       "version_major": 2,
       "version_minor": 0
      },
      "text/plain": [
       "Copying files to /Volumes/DATASET/Train/Batch_1451:   0%|          | 0/1000 [00:00<?, ?it/s]"
      ]
     },
     "metadata": {},
     "output_type": "display_data"
    },
    {
     "data": {
      "application/vnd.jupyter.widget-view+json": {
       "model_id": "1341ffbfe3d94c9689503c833d153974",
       "version_major": 2,
       "version_minor": 0
      },
      "text/plain": [
       "Copying files to /Volumes/DATASET/Train/Batch_1452:   0%|          | 0/1000 [00:00<?, ?it/s]"
      ]
     },
     "metadata": {},
     "output_type": "display_data"
    },
    {
     "data": {
      "application/vnd.jupyter.widget-view+json": {
       "model_id": "609928b7fee647b2a2d1630feb71b3a8",
       "version_major": 2,
       "version_minor": 0
      },
      "text/plain": [
       "Copying files to /Volumes/DATASET/Train/Batch_1453:   0%|          | 0/1000 [00:00<?, ?it/s]"
      ]
     },
     "metadata": {},
     "output_type": "display_data"
    },
    {
     "data": {
      "application/vnd.jupyter.widget-view+json": {
       "model_id": "236636afc17441598d94b7dbb89343fd",
       "version_major": 2,
       "version_minor": 0
      },
      "text/plain": [
       "Copying files to /Volumes/DATASET/Train/Batch_1454:   0%|          | 0/1000 [00:00<?, ?it/s]"
      ]
     },
     "metadata": {},
     "output_type": "display_data"
    },
    {
     "data": {
      "application/vnd.jupyter.widget-view+json": {
       "model_id": "bd8ef3e2ffa14521a534b7f998606dec",
       "version_major": 2,
       "version_minor": 0
      },
      "text/plain": [
       "Copying files to /Volumes/DATASET/Train/Batch_1455:   0%|          | 0/1000 [00:00<?, ?it/s]"
      ]
     },
     "metadata": {},
     "output_type": "display_data"
    },
    {
     "data": {
      "application/vnd.jupyter.widget-view+json": {
       "model_id": "836de392a69a487cb3216ed0ab0789bd",
       "version_major": 2,
       "version_minor": 0
      },
      "text/plain": [
       "Copying files to /Volumes/DATASET/Train/Batch_1456:   0%|          | 0/1000 [00:00<?, ?it/s]"
      ]
     },
     "metadata": {},
     "output_type": "display_data"
    },
    {
     "data": {
      "application/vnd.jupyter.widget-view+json": {
       "model_id": "e1d8def0667c480db6157322ae6fa5d8",
       "version_major": 2,
       "version_minor": 0
      },
      "text/plain": [
       "Copying files to /Volumes/DATASET/Train/Batch_1457:   0%|          | 0/1000 [00:00<?, ?it/s]"
      ]
     },
     "metadata": {},
     "output_type": "display_data"
    },
    {
     "data": {
      "application/vnd.jupyter.widget-view+json": {
       "model_id": "414a04bfd0c04fdb9ce372f87831121c",
       "version_major": 2,
       "version_minor": 0
      },
      "text/plain": [
       "Copying files to /Volumes/DATASET/Train/Batch_1458:   0%|          | 0/1000 [00:00<?, ?it/s]"
      ]
     },
     "metadata": {},
     "output_type": "display_data"
    },
    {
     "data": {
      "application/vnd.jupyter.widget-view+json": {
       "model_id": "44485ded880e49e9b2ee4109e770d106",
       "version_major": 2,
       "version_minor": 0
      },
      "text/plain": [
       "Copying files to /Volumes/DATASET/Train/Batch_1459:   0%|          | 0/1000 [00:00<?, ?it/s]"
      ]
     },
     "metadata": {},
     "output_type": "display_data"
    },
    {
     "data": {
      "application/vnd.jupyter.widget-view+json": {
       "model_id": "60c2d74fdea9405cbde173e753bb94aa",
       "version_major": 2,
       "version_minor": 0
      },
      "text/plain": [
       "Copying files to /Volumes/DATASET/Train/Batch_1460:   0%|          | 0/1000 [00:00<?, ?it/s]"
      ]
     },
     "metadata": {},
     "output_type": "display_data"
    },
    {
     "data": {
      "application/vnd.jupyter.widget-view+json": {
       "model_id": "53a992c6752e42108100afa4ee76950c",
       "version_major": 2,
       "version_minor": 0
      },
      "text/plain": [
       "Copying files to /Volumes/DATASET/Train/Batch_1461:   0%|          | 0/1000 [00:00<?, ?it/s]"
      ]
     },
     "metadata": {},
     "output_type": "display_data"
    },
    {
     "data": {
      "application/vnd.jupyter.widget-view+json": {
       "model_id": "99a7f36291b94f5181e9c0db1efd7eb6",
       "version_major": 2,
       "version_minor": 0
      },
      "text/plain": [
       "Copying files to /Volumes/DATASET/Train/Batch_1462:   0%|          | 0/1000 [00:00<?, ?it/s]"
      ]
     },
     "metadata": {},
     "output_type": "display_data"
    },
    {
     "data": {
      "application/vnd.jupyter.widget-view+json": {
       "model_id": "66ab698c8f1449f9a98c5f8cc3f6b486",
       "version_major": 2,
       "version_minor": 0
      },
      "text/plain": [
       "Copying files to /Volumes/DATASET/Train/Batch_1463:   0%|          | 0/1000 [00:00<?, ?it/s]"
      ]
     },
     "metadata": {},
     "output_type": "display_data"
    },
    {
     "data": {
      "application/vnd.jupyter.widget-view+json": {
       "model_id": "3d282c16865d41328731c944c3029862",
       "version_major": 2,
       "version_minor": 0
      },
      "text/plain": [
       "Copying files to /Volumes/DATASET/Train/Batch_1464:   0%|          | 0/1000 [00:00<?, ?it/s]"
      ]
     },
     "metadata": {},
     "output_type": "display_data"
    },
    {
     "data": {
      "application/vnd.jupyter.widget-view+json": {
       "model_id": "bfdf6c6b2edf49619bc9cd59f013483f",
       "version_major": 2,
       "version_minor": 0
      },
      "text/plain": [
       "Copying files to /Volumes/DATASET/Train/Batch_1465:   0%|          | 0/1000 [00:00<?, ?it/s]"
      ]
     },
     "metadata": {},
     "output_type": "display_data"
    },
    {
     "data": {
      "application/vnd.jupyter.widget-view+json": {
       "model_id": "7390c935e840418697f27bc757a6267c",
       "version_major": 2,
       "version_minor": 0
      },
      "text/plain": [
       "Copying files to /Volumes/DATASET/Train/Batch_1466:   0%|          | 0/1000 [00:00<?, ?it/s]"
      ]
     },
     "metadata": {},
     "output_type": "display_data"
    },
    {
     "data": {
      "application/vnd.jupyter.widget-view+json": {
       "model_id": "be9683e3195f4c429abb98ad3c2eeeb2",
       "version_major": 2,
       "version_minor": 0
      },
      "text/plain": [
       "Copying files to /Volumes/DATASET/Train/Batch_1467:   0%|          | 0/1000 [00:00<?, ?it/s]"
      ]
     },
     "metadata": {},
     "output_type": "display_data"
    },
    {
     "data": {
      "application/vnd.jupyter.widget-view+json": {
       "model_id": "a7f20d974f4a4dce88ced39275277506",
       "version_major": 2,
       "version_minor": 0
      },
      "text/plain": [
       "Copying files to /Volumes/DATASET/Train/Batch_1468:   0%|          | 0/1000 [00:00<?, ?it/s]"
      ]
     },
     "metadata": {},
     "output_type": "display_data"
    },
    {
     "data": {
      "application/vnd.jupyter.widget-view+json": {
       "model_id": "f024a1dbe21644c59e727245a500db87",
       "version_major": 2,
       "version_minor": 0
      },
      "text/plain": [
       "Copying files to /Volumes/DATASET/Train/Batch_1469:   0%|          | 0/1000 [00:00<?, ?it/s]"
      ]
     },
     "metadata": {},
     "output_type": "display_data"
    },
    {
     "data": {
      "application/vnd.jupyter.widget-view+json": {
       "model_id": "c9fdf084c2684517a6b47d96f18a61cd",
       "version_major": 2,
       "version_minor": 0
      },
      "text/plain": [
       "Copying files to /Volumes/DATASET/Train/Batch_1470:   0%|          | 0/1000 [00:00<?, ?it/s]"
      ]
     },
     "metadata": {},
     "output_type": "display_data"
    },
    {
     "data": {
      "application/vnd.jupyter.widget-view+json": {
       "model_id": "b65756cae23c49fc84259e99c9708227",
       "version_major": 2,
       "version_minor": 0
      },
      "text/plain": [
       "Copying files to /Volumes/DATASET/Train/Batch_1471:   0%|          | 0/1000 [00:00<?, ?it/s]"
      ]
     },
     "metadata": {},
     "output_type": "display_data"
    },
    {
     "data": {
      "application/vnd.jupyter.widget-view+json": {
       "model_id": "3ec6d6c82a09471b89241e4565de577b",
       "version_major": 2,
       "version_minor": 0
      },
      "text/plain": [
       "Copying files to /Volumes/DATASET/Train/Batch_1472:   0%|          | 0/1000 [00:00<?, ?it/s]"
      ]
     },
     "metadata": {},
     "output_type": "display_data"
    },
    {
     "data": {
      "application/vnd.jupyter.widget-view+json": {
       "model_id": "aa4d204865cd430b91d4e09deff55912",
       "version_major": 2,
       "version_minor": 0
      },
      "text/plain": [
       "Copying files to /Volumes/DATASET/Train/Batch_1473:   0%|          | 0/1000 [00:00<?, ?it/s]"
      ]
     },
     "metadata": {},
     "output_type": "display_data"
    },
    {
     "data": {
      "application/vnd.jupyter.widget-view+json": {
       "model_id": "e01fcbafe4d748baa27fdecee64685b6",
       "version_major": 2,
       "version_minor": 0
      },
      "text/plain": [
       "Copying files to /Volumes/DATASET/Train/Batch_1474:   0%|          | 0/1000 [00:00<?, ?it/s]"
      ]
     },
     "metadata": {},
     "output_type": "display_data"
    },
    {
     "data": {
      "application/vnd.jupyter.widget-view+json": {
       "model_id": "e9da18c873eb4e60ae04e08b8b2a1ff9",
       "version_major": 2,
       "version_minor": 0
      },
      "text/plain": [
       "Copying files to /Volumes/DATASET/Train/Batch_1475:   0%|          | 0/1000 [00:00<?, ?it/s]"
      ]
     },
     "metadata": {},
     "output_type": "display_data"
    },
    {
     "data": {
      "application/vnd.jupyter.widget-view+json": {
       "model_id": "fd4c4fa8c41c4113baa97a5419bf478c",
       "version_major": 2,
       "version_minor": 0
      },
      "text/plain": [
       "Copying files to /Volumes/DATASET/Train/Batch_1476:   0%|          | 0/1000 [00:00<?, ?it/s]"
      ]
     },
     "metadata": {},
     "output_type": "display_data"
    },
    {
     "data": {
      "application/vnd.jupyter.widget-view+json": {
       "model_id": "8118ba24573842e68460cb74f837abe2",
       "version_major": 2,
       "version_minor": 0
      },
      "text/plain": [
       "Copying files to /Volumes/DATASET/Train/Batch_1477:   0%|          | 0/1000 [00:00<?, ?it/s]"
      ]
     },
     "metadata": {},
     "output_type": "display_data"
    },
    {
     "data": {
      "application/vnd.jupyter.widget-view+json": {
       "model_id": "112e6c71ace3434fa0eff84a74c1d12c",
       "version_major": 2,
       "version_minor": 0
      },
      "text/plain": [
       "Copying files to /Volumes/DATASET/Train/Batch_1478:   0%|          | 0/1000 [00:00<?, ?it/s]"
      ]
     },
     "metadata": {},
     "output_type": "display_data"
    },
    {
     "data": {
      "application/vnd.jupyter.widget-view+json": {
       "model_id": "33ffa7cb818e4c3387550e297ebd224e",
       "version_major": 2,
       "version_minor": 0
      },
      "text/plain": [
       "Copying files to /Volumes/DATASET/Train/Batch_1479:   0%|          | 0/1000 [00:00<?, ?it/s]"
      ]
     },
     "metadata": {},
     "output_type": "display_data"
    },
    {
     "data": {
      "application/vnd.jupyter.widget-view+json": {
       "model_id": "6073b9072c1c431e805732a5c5a5522d",
       "version_major": 2,
       "version_minor": 0
      },
      "text/plain": [
       "Copying files to /Volumes/DATASET/Train/Batch_1480:   0%|          | 0/1000 [00:00<?, ?it/s]"
      ]
     },
     "metadata": {},
     "output_type": "display_data"
    },
    {
     "data": {
      "application/vnd.jupyter.widget-view+json": {
       "model_id": "c7d0e9ce2543490faa799e2d70608697",
       "version_major": 2,
       "version_minor": 0
      },
      "text/plain": [
       "Copying files to /Volumes/DATASET/Train/Batch_1481:   0%|          | 0/1000 [00:00<?, ?it/s]"
      ]
     },
     "metadata": {},
     "output_type": "display_data"
    },
    {
     "data": {
      "application/vnd.jupyter.widget-view+json": {
       "model_id": "56f375c3684d43cc926ff4229418624d",
       "version_major": 2,
       "version_minor": 0
      },
      "text/plain": [
       "Copying files to /Volumes/DATASET/Train/Batch_1482:   0%|          | 0/1000 [00:00<?, ?it/s]"
      ]
     },
     "metadata": {},
     "output_type": "display_data"
    },
    {
     "data": {
      "application/vnd.jupyter.widget-view+json": {
       "model_id": "49edf23006e14f91b9d8228e47659418",
       "version_major": 2,
       "version_minor": 0
      },
      "text/plain": [
       "Copying files to /Volumes/DATASET/Train/Batch_1483:   0%|          | 0/1000 [00:00<?, ?it/s]"
      ]
     },
     "metadata": {},
     "output_type": "display_data"
    },
    {
     "data": {
      "application/vnd.jupyter.widget-view+json": {
       "model_id": "3dc862cdad4b457c96fa697757a76685",
       "version_major": 2,
       "version_minor": 0
      },
      "text/plain": [
       "Copying files to /Volumes/DATASET/Train/Batch_1484:   0%|          | 0/1000 [00:00<?, ?it/s]"
      ]
     },
     "metadata": {},
     "output_type": "display_data"
    },
    {
     "data": {
      "application/vnd.jupyter.widget-view+json": {
       "model_id": "075a911435524b578ddcf6534b3b0504",
       "version_major": 2,
       "version_minor": 0
      },
      "text/plain": [
       "Copying files to /Volumes/DATASET/Train/Batch_1485:   0%|          | 0/1000 [00:00<?, ?it/s]"
      ]
     },
     "metadata": {},
     "output_type": "display_data"
    },
    {
     "data": {
      "application/vnd.jupyter.widget-view+json": {
       "model_id": "ffcbd1a053b64945a6193d885b3be3e4",
       "version_major": 2,
       "version_minor": 0
      },
      "text/plain": [
       "Copying files to /Volumes/DATASET/Train/Batch_1486:   0%|          | 0/1000 [00:00<?, ?it/s]"
      ]
     },
     "metadata": {},
     "output_type": "display_data"
    },
    {
     "data": {
      "application/vnd.jupyter.widget-view+json": {
       "model_id": "0b4fd587bace4306a403aecb86188445",
       "version_major": 2,
       "version_minor": 0
      },
      "text/plain": [
       "Copying files to /Volumes/DATASET/Train/Batch_1487:   0%|          | 0/1000 [00:00<?, ?it/s]"
      ]
     },
     "metadata": {},
     "output_type": "display_data"
    },
    {
     "data": {
      "application/vnd.jupyter.widget-view+json": {
       "model_id": "a478a6033e5c475285d8bed71a8a6c82",
       "version_major": 2,
       "version_minor": 0
      },
      "text/plain": [
       "Copying files to /Volumes/DATASET/Train/Batch_1488:   0%|          | 0/1000 [00:00<?, ?it/s]"
      ]
     },
     "metadata": {},
     "output_type": "display_data"
    },
    {
     "data": {
      "application/vnd.jupyter.widget-view+json": {
       "model_id": "3dd564431c104e21b8566726aa4f06b1",
       "version_major": 2,
       "version_minor": 0
      },
      "text/plain": [
       "Copying files to /Volumes/DATASET/Train/Batch_1489:   0%|          | 0/1000 [00:00<?, ?it/s]"
      ]
     },
     "metadata": {},
     "output_type": "display_data"
    },
    {
     "data": {
      "application/vnd.jupyter.widget-view+json": {
       "model_id": "79a7e6de131c44648e2c57aba4da3d14",
       "version_major": 2,
       "version_minor": 0
      },
      "text/plain": [
       "Copying files to /Volumes/DATASET/Train/Batch_1490:   0%|          | 0/1000 [00:00<?, ?it/s]"
      ]
     },
     "metadata": {},
     "output_type": "display_data"
    },
    {
     "data": {
      "application/vnd.jupyter.widget-view+json": {
       "model_id": "3081ab2c6df74a3ab6a1f21c42322aad",
       "version_major": 2,
       "version_minor": 0
      },
      "text/plain": [
       "Copying files to /Volumes/DATASET/Train/Batch_1491:   0%|          | 0/1000 [00:00<?, ?it/s]"
      ]
     },
     "metadata": {},
     "output_type": "display_data"
    },
    {
     "data": {
      "application/vnd.jupyter.widget-view+json": {
       "model_id": "16cfafd36438452e8d24e61556cfe310",
       "version_major": 2,
       "version_minor": 0
      },
      "text/plain": [
       "Copying files to /Volumes/DATASET/Train/Batch_1492:   0%|          | 0/1000 [00:00<?, ?it/s]"
      ]
     },
     "metadata": {},
     "output_type": "display_data"
    },
    {
     "data": {
      "application/vnd.jupyter.widget-view+json": {
       "model_id": "47573d3447f94086949cf3092e3395af",
       "version_major": 2,
       "version_minor": 0
      },
      "text/plain": [
       "Copying files to /Volumes/DATASET/Train/Batch_1493:   0%|          | 0/1000 [00:00<?, ?it/s]"
      ]
     },
     "metadata": {},
     "output_type": "display_data"
    },
    {
     "data": {
      "application/vnd.jupyter.widget-view+json": {
       "model_id": "cf83c6fff83248b28e58eb5a3463009b",
       "version_major": 2,
       "version_minor": 0
      },
      "text/plain": [
       "Copying files to /Volumes/DATASET/Train/Batch_1494:   0%|          | 0/1000 [00:00<?, ?it/s]"
      ]
     },
     "metadata": {},
     "output_type": "display_data"
    },
    {
     "data": {
      "application/vnd.jupyter.widget-view+json": {
       "model_id": "9bcac3d9bc04433093496a5da35d5551",
       "version_major": 2,
       "version_minor": 0
      },
      "text/plain": [
       "Copying files to /Volumes/DATASET/Train/Batch_1495:   0%|          | 0/1000 [00:00<?, ?it/s]"
      ]
     },
     "metadata": {},
     "output_type": "display_data"
    },
    {
     "data": {
      "application/vnd.jupyter.widget-view+json": {
       "model_id": "34754506e0404fb5a65dd1488642ee76",
       "version_major": 2,
       "version_minor": 0
      },
      "text/plain": [
       "Copying files to /Volumes/DATASET/Train/Batch_1496:   0%|          | 0/1000 [00:00<?, ?it/s]"
      ]
     },
     "metadata": {},
     "output_type": "display_data"
    },
    {
     "data": {
      "application/vnd.jupyter.widget-view+json": {
       "model_id": "94b4201e06bf4474bb7ec43142fa9ffa",
       "version_major": 2,
       "version_minor": 0
      },
      "text/plain": [
       "Copying files to /Volumes/DATASET/Train/Batch_1497:   0%|          | 0/1000 [00:00<?, ?it/s]"
      ]
     },
     "metadata": {},
     "output_type": "display_data"
    },
    {
     "data": {
      "application/vnd.jupyter.widget-view+json": {
       "model_id": "9207c1b1998d4c8284f84bdf53084874",
       "version_major": 2,
       "version_minor": 0
      },
      "text/plain": [
       "Copying files to /Volumes/DATASET/Train/Batch_1498:   0%|          | 0/1000 [00:00<?, ?it/s]"
      ]
     },
     "metadata": {},
     "output_type": "display_data"
    },
    {
     "data": {
      "application/vnd.jupyter.widget-view+json": {
       "model_id": "29d891a62ef84c80b9b51e3ebdd8d0bd",
       "version_major": 2,
       "version_minor": 0
      },
      "text/plain": [
       "Copying files to /Volumes/DATASET/Train/Batch_1499:   0%|          | 0/1000 [00:00<?, ?it/s]"
      ]
     },
     "metadata": {},
     "output_type": "display_data"
    },
    {
     "data": {
      "application/vnd.jupyter.widget-view+json": {
       "model_id": "45e8dd72c8344a23b7ea5cdd34874824",
       "version_major": 2,
       "version_minor": 0
      },
      "text/plain": [
       "Copying files to /Volumes/DATASET/Train/Batch_1500:   0%|          | 0/1000 [00:00<?, ?it/s]"
      ]
     },
     "metadata": {},
     "output_type": "display_data"
    },
    {
     "data": {
      "application/vnd.jupyter.widget-view+json": {
       "model_id": "beca2b5eb0b84d6ab28a642cee4fc088",
       "version_major": 2,
       "version_minor": 0
      },
      "text/plain": [
       "Copying files to /Volumes/DATASET/Train/Batch_1501:   0%|          | 0/1000 [00:00<?, ?it/s]"
      ]
     },
     "metadata": {},
     "output_type": "display_data"
    },
    {
     "data": {
      "application/vnd.jupyter.widget-view+json": {
       "model_id": "2e76b69d8c2740cfaa69a77efb6d7be8",
       "version_major": 2,
       "version_minor": 0
      },
      "text/plain": [
       "Copying files to /Volumes/DATASET/Train/Batch_1502:   0%|          | 0/1000 [00:00<?, ?it/s]"
      ]
     },
     "metadata": {},
     "output_type": "display_data"
    },
    {
     "data": {
      "application/vnd.jupyter.widget-view+json": {
       "model_id": "83e5578a88354eaa9d46330682c71ed3",
       "version_major": 2,
       "version_minor": 0
      },
      "text/plain": [
       "Copying files to /Volumes/DATASET/Train/Batch_1503:   0%|          | 0/1000 [00:00<?, ?it/s]"
      ]
     },
     "metadata": {},
     "output_type": "display_data"
    },
    {
     "data": {
      "application/vnd.jupyter.widget-view+json": {
       "model_id": "3c5124bb6e724451b963c8675a0a7267",
       "version_major": 2,
       "version_minor": 0
      },
      "text/plain": [
       "Copying files to /Volumes/DATASET/Train/Batch_1504:   0%|          | 0/1000 [00:00<?, ?it/s]"
      ]
     },
     "metadata": {},
     "output_type": "display_data"
    },
    {
     "data": {
      "application/vnd.jupyter.widget-view+json": {
       "model_id": "c064f23d38024f07bd55319f347bd5ad",
       "version_major": 2,
       "version_minor": 0
      },
      "text/plain": [
       "Copying files to /Volumes/DATASET/Train/Batch_1505:   0%|          | 0/1000 [00:00<?, ?it/s]"
      ]
     },
     "metadata": {},
     "output_type": "display_data"
    },
    {
     "data": {
      "application/vnd.jupyter.widget-view+json": {
       "model_id": "c2edbf524c9d43f69642a6162268ce1c",
       "version_major": 2,
       "version_minor": 0
      },
      "text/plain": [
       "Copying files to /Volumes/DATASET/Train/Batch_1506:   0%|          | 0/1000 [00:00<?, ?it/s]"
      ]
     },
     "metadata": {},
     "output_type": "display_data"
    },
    {
     "data": {
      "application/vnd.jupyter.widget-view+json": {
       "model_id": "b59fc919742b41b287a6b370f301fd1e",
       "version_major": 2,
       "version_minor": 0
      },
      "text/plain": [
       "Copying files to /Volumes/DATASET/Train/Batch_1507:   0%|          | 0/1000 [00:00<?, ?it/s]"
      ]
     },
     "metadata": {},
     "output_type": "display_data"
    },
    {
     "data": {
      "application/vnd.jupyter.widget-view+json": {
       "model_id": "b069ff73fc714672896a04dcb23c75d9",
       "version_major": 2,
       "version_minor": 0
      },
      "text/plain": [
       "Copying files to /Volumes/DATASET/Train/Batch_1508:   0%|          | 0/1000 [00:00<?, ?it/s]"
      ]
     },
     "metadata": {},
     "output_type": "display_data"
    },
    {
     "data": {
      "application/vnd.jupyter.widget-view+json": {
       "model_id": "57d2940f3eff4ab6a574f2c8af847b2a",
       "version_major": 2,
       "version_minor": 0
      },
      "text/plain": [
       "Copying files to /Volumes/DATASET/Train/Batch_1509:   0%|          | 0/1000 [00:00<?, ?it/s]"
      ]
     },
     "metadata": {},
     "output_type": "display_data"
    },
    {
     "data": {
      "application/vnd.jupyter.widget-view+json": {
       "model_id": "b93d7b26282045568925f380e0a85792",
       "version_major": 2,
       "version_minor": 0
      },
      "text/plain": [
       "Copying files to /Volumes/DATASET/Train/Batch_1510:   0%|          | 0/1000 [00:00<?, ?it/s]"
      ]
     },
     "metadata": {},
     "output_type": "display_data"
    },
    {
     "data": {
      "application/vnd.jupyter.widget-view+json": {
       "model_id": "48355fce935a41d4b4244c936525815d",
       "version_major": 2,
       "version_minor": 0
      },
      "text/plain": [
       "Copying files to /Volumes/DATASET/Train/Batch_1511:   0%|          | 0/1000 [00:00<?, ?it/s]"
      ]
     },
     "metadata": {},
     "output_type": "display_data"
    },
    {
     "data": {
      "application/vnd.jupyter.widget-view+json": {
       "model_id": "c5de488af95d464a808e5014d7b50fc7",
       "version_major": 2,
       "version_minor": 0
      },
      "text/plain": [
       "Copying files to /Volumes/DATASET/Train/Batch_1512:   0%|          | 0/1000 [00:00<?, ?it/s]"
      ]
     },
     "metadata": {},
     "output_type": "display_data"
    },
    {
     "data": {
      "application/vnd.jupyter.widget-view+json": {
       "model_id": "7d5d74982a48424d8e360b7f11e8d144",
       "version_major": 2,
       "version_minor": 0
      },
      "text/plain": [
       "Copying files to /Volumes/DATASET/Train/Batch_1513:   0%|          | 0/1000 [00:00<?, ?it/s]"
      ]
     },
     "metadata": {},
     "output_type": "display_data"
    },
    {
     "data": {
      "application/vnd.jupyter.widget-view+json": {
       "model_id": "a096f1fd0ee04f9c84afe2080abb78b3",
       "version_major": 2,
       "version_minor": 0
      },
      "text/plain": [
       "Copying files to /Volumes/DATASET/Train/Batch_1514:   0%|          | 0/1000 [00:00<?, ?it/s]"
      ]
     },
     "metadata": {},
     "output_type": "display_data"
    },
    {
     "data": {
      "application/vnd.jupyter.widget-view+json": {
       "model_id": "a1c85ec90fdd46e4baa0aa3a47f1540e",
       "version_major": 2,
       "version_minor": 0
      },
      "text/plain": [
       "Copying files to /Volumes/DATASET/Train/Batch_1515:   0%|          | 0/1000 [00:00<?, ?it/s]"
      ]
     },
     "metadata": {},
     "output_type": "display_data"
    },
    {
     "data": {
      "application/vnd.jupyter.widget-view+json": {
       "model_id": "fdcd4f34990546969b45cb08fe767ba6",
       "version_major": 2,
       "version_minor": 0
      },
      "text/plain": [
       "Copying files to /Volumes/DATASET/Train/Batch_1516:   0%|          | 0/1000 [00:00<?, ?it/s]"
      ]
     },
     "metadata": {},
     "output_type": "display_data"
    },
    {
     "data": {
      "application/vnd.jupyter.widget-view+json": {
       "model_id": "1e82da1d46c0453a83bdb4f3ec20fedd",
       "version_major": 2,
       "version_minor": 0
      },
      "text/plain": [
       "Copying files to /Volumes/DATASET/Train/Batch_1517:   0%|          | 0/1000 [00:00<?, ?it/s]"
      ]
     },
     "metadata": {},
     "output_type": "display_data"
    },
    {
     "data": {
      "application/vnd.jupyter.widget-view+json": {
       "model_id": "1e702ac0b4564eaf902cbb6ac2feec13",
       "version_major": 2,
       "version_minor": 0
      },
      "text/plain": [
       "Copying files to /Volumes/DATASET/Train/Batch_1518:   0%|          | 0/1000 [00:00<?, ?it/s]"
      ]
     },
     "metadata": {},
     "output_type": "display_data"
    },
    {
     "data": {
      "application/vnd.jupyter.widget-view+json": {
       "model_id": "b4f99c3722234571b14940443d74d0ea",
       "version_major": 2,
       "version_minor": 0
      },
      "text/plain": [
       "Copying files to /Volumes/DATASET/Train/Batch_1519:   0%|          | 0/1000 [00:00<?, ?it/s]"
      ]
     },
     "metadata": {},
     "output_type": "display_data"
    },
    {
     "data": {
      "application/vnd.jupyter.widget-view+json": {
       "model_id": "c8fe6ad45c1b47c9969bc58b6b7c2188",
       "version_major": 2,
       "version_minor": 0
      },
      "text/plain": [
       "Copying files to /Volumes/DATASET/Train/Batch_1520:   0%|          | 0/1000 [00:00<?, ?it/s]"
      ]
     },
     "metadata": {},
     "output_type": "display_data"
    },
    {
     "data": {
      "application/vnd.jupyter.widget-view+json": {
       "model_id": "c4aa3a0021034922959c491bffa18df1",
       "version_major": 2,
       "version_minor": 0
      },
      "text/plain": [
       "Copying files to /Volumes/DATASET/Train/Batch_1521:   0%|          | 0/1000 [00:00<?, ?it/s]"
      ]
     },
     "metadata": {},
     "output_type": "display_data"
    },
    {
     "data": {
      "application/vnd.jupyter.widget-view+json": {
       "model_id": "9715edba7c3e46159b41623aad90eddf",
       "version_major": 2,
       "version_minor": 0
      },
      "text/plain": [
       "Copying files to /Volumes/DATASET/Train/Batch_1522:   0%|          | 0/1000 [00:00<?, ?it/s]"
      ]
     },
     "metadata": {},
     "output_type": "display_data"
    },
    {
     "data": {
      "application/vnd.jupyter.widget-view+json": {
       "model_id": "85f4449133c8450caa69ed48d7e93721",
       "version_major": 2,
       "version_minor": 0
      },
      "text/plain": [
       "Copying files to /Volumes/DATASET/Train/Batch_1523:   0%|          | 0/1000 [00:00<?, ?it/s]"
      ]
     },
     "metadata": {},
     "output_type": "display_data"
    },
    {
     "data": {
      "application/vnd.jupyter.widget-view+json": {
       "model_id": "bc9c3ec97f6f4435b76140b5d0e60078",
       "version_major": 2,
       "version_minor": 0
      },
      "text/plain": [
       "Copying files to /Volumes/DATASET/Train/Batch_1524:   0%|          | 0/444 [00:00<?, ?it/s]"
      ]
     },
     "metadata": {},
     "output_type": "display_data"
    },
    {
     "data": {
      "application/vnd.jupyter.widget-view+json": {
       "model_id": "76b2720627674e9caed1dc05930784d8",
       "version_major": 2,
       "version_minor": 0
      },
      "text/plain": [
       "Searching subdirectories:   0%|          | 0/1525 [00:00<?, ?it/s]"
      ]
     },
     "metadata": {},
     "output_type": "display_data"
    },
    {
     "name": "stdout",
     "output_type": "stream",
     "text": [
      "Found 1524444 files in /Volumes/DATASET/Train with extension .json\n",
      "Copied 1524444 json files to /Volumes/DATASET/Train\n"
     ]
    },
    {
     "data": {
      "application/vnd.jupyter.widget-view+json": {
       "model_id": "8497524859474ca3a042581a5513cfdf",
       "version_major": 2,
       "version_minor": 0
      },
      "text/plain": [
       "Searching subdirectories:   0%|          | 0/1525 [00:00<?, ?it/s]"
      ]
     },
     "metadata": {},
     "output_type": "display_data"
    },
    {
     "name": "stdout",
     "output_type": "stream",
     "text": [
      "Found 1464298 files in /Volumes/DATASET/Train with extension .jpg\n",
      "Copied 1464298 image files to /Volumes/DATASET/Train\n"
     ]
    }
   ],
   "source": [
    "# copy_batches(all_test_files_json, test_data_path, BATCH_SIZE)\n",
    "copy_batches(all_train_files_json, train_data_path, BATCH_SIZE)"
   ]
  },
  {
   "cell_type": "code",
   "execution_count": 33,
   "metadata": {},
   "outputs": [
    {
     "data": {
      "application/vnd.jupyter.widget-view+json": {
       "model_id": "345e6a164ab343c88aaf930096209774",
       "version_major": 2,
       "version_minor": 0
      },
      "text/plain": [
       "Searching subdirectories:   0%|          | 0/1525 [00:00<?, ?it/s]"
      ]
     },
     "metadata": {},
     "output_type": "display_data"
    },
    {
     "name": "stdout",
     "output_type": "stream",
     "text": [
      "Found 1524444 files in /Volumes/DATASET/Train with extension .json\n"
     ]
    },
    {
     "data": {
      "application/vnd.jupyter.widget-view+json": {
       "model_id": "f20923916128481a973a840ae67e2939",
       "version_major": 2,
       "version_minor": 0
      },
      "text/plain": [
       "Searching subdirectories:   0%|          | 0/1525 [00:00<?, ?it/s]"
      ]
     },
     "metadata": {},
     "output_type": "display_data"
    },
    {
     "name": "stdout",
     "output_type": "stream",
     "text": [
      "Found 1464298 files in /Volumes/DATASET/Train with extension .jpg\n"
     ]
    }
   ],
   "source": [
    "coppied_files_json = search_files_in_directory(os.path.join(DESTINATION_FOLDER,'Train'), '.json')\n",
    "coppied_files_jpg = search_files_in_directory(os.path.join(DESTINATION_FOLDER,'Train'), '.jpg')\n"
   ]
  },
  {
   "cell_type": "code",
   "execution_count": 35,
   "metadata": {},
   "outputs": [
    {
     "name": "stdout",
     "output_type": "stream",
     "text": [
      "1524444 1464298 1524444\n",
      "Dif: 0, 60146\n"
     ]
    }
   ],
   "source": [
    "print(len(coppied_files_json), len(coppied_files_jpg), len(all_train_files_json))\n",
    "print(f\"Dif: {len(all_train_files_json) - len(coppied_files_json)}, {len(all_train_files_json) - len(coppied_files_jpg)}\")"
   ]
  },
  {
   "cell_type": "code",
   "execution_count": 181,
   "metadata": {},
   "outputs": [
    {
     "data": {
      "application/vnd.jupyter.widget-view+json": {
       "model_id": "91be06aa75e04c4dbcb3a4707b0a32bf",
       "version_major": 2,
       "version_minor": 0
      },
      "text/plain": [
       "Searching subdirectories:   0%|          | 0/1525 [00:00<?, ?it/s]"
      ]
     },
     "metadata": {},
     "output_type": "display_data"
    },
    {
     "name": "stdout",
     "output_type": "stream",
     "text": [
      "Found 60146 files in /Volumes/DATASET/Train with extension .jpeg\n"
     ]
    },
    {
     "data": {
      "text/plain": [
       "['/Volumes/DATASET/Train/Batch_4/9b9a7fa7-40e0-4031-91ea-5386a4e3f4e0.jpeg',\n",
       " '/Volumes/DATASET/Train/Batch_4/7f1dd6cb-c206-4bd1-ac14-bc00b182d621.jpeg',\n",
       " '/Volumes/DATASET/Train/Batch_4/439f5a37-470e-41eb-b0de-a06b8f051827.jpeg',\n",
       " '/Volumes/DATASET/Train/Batch_4/3d070cec-67d4-4f3e-875b-705ac7522f4f.jpeg',\n",
       " '/Volumes/DATASET/Train/Batch_4/aafb4e58-5b84-47ca-939f-31a39cd8fea4.jpeg',\n",
       " '/Volumes/DATASET/Train/Batch_4/68280ab0-8a7a-4720-b81a-8484e7d3f599.jpeg',\n",
       " '/Volumes/DATASET/Train/Batch_4/587e1f13-ffd6-4137-b4af-d6b2332ac15c.jpeg',\n",
       " '/Volumes/DATASET/Train/Batch_4/cc5f7a59-9542-490b-bdc3-3624d416734b.jpeg',\n",
       " '/Volumes/DATASET/Train/Batch_4/d11a5a30-df64-4a3b-9f5b-80cf325acc64.jpeg',\n",
       " '/Volumes/DATASET/Train/Batch_4/d127b9c6-9f14-4b83-97ac-7e37a4d99661.jpeg',\n",
       " '/Volumes/DATASET/Train/Batch_4/54835672-ea5f-4270-ac21-25b2ff2ce078.jpeg',\n",
       " '/Volumes/DATASET/Train/Batch_4/c60f04fa-dd38-4487-bf41-206efbda248a.jpeg',\n",
       " '/Volumes/DATASET/Train/Batch_4/8f0dd4e0-4ffa-4574-be36-4aa71210be75.jpeg',\n",
       " '/Volumes/DATASET/Train/Batch_4/e3d32fec-c5c1-4e11-b318-af12501dae12.jpeg',\n",
       " '/Volumes/DATASET/Train/Batch_4/2bf756ea-d7ee-45f7-93dd-736f4e187743.jpeg',\n",
       " '/Volumes/DATASET/Train/Batch_4/4c36a0ab-6bf5-4924-9983-fc9393dd4eb5.jpeg',\n",
       " '/Volumes/DATASET/Train/Batch_4/b6023db7-b94b-427a-abed-11ed35972c53.jpeg',\n",
       " '/Volumes/DATASET/Train/Batch_4/21c0892c-95f1-4677-af8e-0da91f955590.jpeg',\n",
       " '/Volumes/DATASET/Train/Batch_4/5d1acb64-36c9-4c29-a920-34118e44a6b1.jpeg',\n",
       " '/Volumes/DATASET/Train/Batch_4/49c0cc97-0ec0-4bb3-b3fa-17fa75b66dff.jpeg',\n",
       " '/Volumes/DATASET/Train/Batch_4/9a72b259-880f-4110-a0bc-9a9f5d654fea.jpeg',\n",
       " '/Volumes/DATASET/Train/Batch_4/af1aaab9-286a-4ed1-8223-1cfc341a6750.jpeg',\n",
       " '/Volumes/DATASET/Train/Batch_4/67c9faad-7dc5-4f3d-9e5f-57ae76cd8287.jpeg',\n",
       " '/Volumes/DATASET/Train/Batch_4/8c492cf1-c98a-43f9-97b4-146dda1bca5e.jpeg',\n",
       " '/Volumes/DATASET/Train/Batch_4/d1ad043c-4c13-443f-828f-ff5441abdfea.jpeg',\n",
       " '/Volumes/DATASET/Train/Batch_4/ecc24f4d-467d-4e04-9a5d-42e1191e9518.jpeg',\n",
       " '/Volumes/DATASET/Train/Batch_4/7cf8ece5-73a5-454f-9dd7-39fc48231eb6.jpeg',\n",
       " '/Volumes/DATASET/Train/Batch_4/eb313dd8-0f74-4e9b-a6fb-30607b9e22e1.jpeg',\n",
       " '/Volumes/DATASET/Train/Batch_4/2c3b124c-cda8-4075-aec7-a02ed5eac724.jpeg',\n",
       " '/Volumes/DATASET/Train/Batch_4/f0694c43-6a98-4d92-821a-e645d27a5792.jpeg',\n",
       " '/Volumes/DATASET/Train/Batch_4/ebe3fea9-099a-43cf-b0bd-08a49c92a2d2.jpeg',\n",
       " '/Volumes/DATASET/Train/Batch_4/3517a48d-7795-4ad9-8bdf-0fe64a909635.jpeg',\n",
       " '/Volumes/DATASET/Train/Batch_4/b5c26864-710b-4981-a426-29ccd9b69995.jpeg',\n",
       " '/Volumes/DATASET/Train/Batch_4/64d2d46d-fd20-4a95-a997-7051e2ec440a.jpeg',\n",
       " '/Volumes/DATASET/Train/Batch_4/6e905905-b39d-4dd0-9853-11a63fbbfeff.jpeg',\n",
       " '/Volumes/DATASET/Train/Batch_4/dc98407c-f780-4c95-9a4b-c294df1306c5.jpeg',\n",
       " '/Volumes/DATASET/Train/Batch_4/082236fa-6231-4dc3-bd9d-d76c97ce8de9.jpeg',\n",
       " '/Volumes/DATASET/Train/Batch_4/deb24109-fc93-4431-8579-1462635d2f2a.jpeg',\n",
       " '/Volumes/DATASET/Train/Batch_4/64aac202-dd62-4a8e-8df2-f1d66c126a3a.jpeg',\n",
       " '/Volumes/DATASET/Train/Batch_4/7121e825-b212-4de6-bd76-60672c3a0219.jpeg',\n",
       " '/Volumes/DATASET/Train/Batch_4/ce24e9ad-4294-446d-a6f8-05790c3f386f.jpeg',\n",
       " '/Volumes/DATASET/Train/Batch_4/48ee40ea-a2c8-4fde-b879-264484fe74dc.jpeg',\n",
       " '/Volumes/DATASET/Train/Batch_4/5f09a942-e25c-45e6-9090-c530fe52cb29.jpeg',\n",
       " '/Volumes/DATASET/Train/Batch_4/d99d1209-d80b-46d0-90a9-e7f90bf08331.jpeg',\n",
       " '/Volumes/DATASET/Train/Batch_4/9c35a0ea-1a33-4ed3-9efa-20a45b2f92c3.jpeg',\n",
       " '/Volumes/DATASET/Train/Batch_4/b8ff143d-2aa5-4006-9ebd-1b32f23b7694.jpeg',\n",
       " '/Volumes/DATASET/Train/Batch_4/e8a9f703-d3ce-46be-afd1-da103337bf48.jpeg',\n",
       " '/Volumes/DATASET/Train/Batch_4/1a31d327-aaf0-4a78-a0ff-193c3f8b071d.jpeg',\n",
       " '/Volumes/DATASET/Train/Batch_4/11cdb122-9381-484b-aca8-84488854f1fe.jpeg',\n",
       " '/Volumes/DATASET/Train/Batch_4/3b14d6a4-8379-46a8-a718-76c32a47269d.jpeg',\n",
       " '/Volumes/DATASET/Train/Batch_4/786cce43-6bf0-4e9b-a79a-30e8956c3949.jpeg',\n",
       " '/Volumes/DATASET/Train/Batch_4/1e79eb25-0f61-44d4-a576-b897ad2cc62f.jpeg',\n",
       " '/Volumes/DATASET/Train/Batch_4/f32c9613-7d36-4be8-b681-b6158ad63c97.jpeg',\n",
       " '/Volumes/DATASET/Train/Batch_4/7a1b953b-59e7-4c7b-a35d-668d06c1c18d.jpeg',\n",
       " '/Volumes/DATASET/Train/Batch_4/ab1bad74-c30c-4d2a-b4a2-95cc6d876853.jpeg',\n",
       " '/Volumes/DATASET/Train/Batch_4/9a3316a3-f8c3-4f67-bbc7-8b1e686af114.jpeg',\n",
       " '/Volumes/DATASET/Train/Batch_4/7646eabf-dc45-4076-a941-c092324c5c92.jpeg',\n",
       " '/Volumes/DATASET/Train/Batch_4/0c290a89-64a9-4f9e-9afa-2faf5f143045.jpeg',\n",
       " '/Volumes/DATASET/Train/Batch_4/af0fcca0-4f56-413a-b834-1a2f9fa92316.jpeg',\n",
       " '/Volumes/DATASET/Train/Batch_4/ab8beb44-b473-4f12-a958-c38cd9def24b.jpeg',\n",
       " '/Volumes/DATASET/Train/Batch_4/21d17298-9791-4e59-9876-9c6b1b6a8692.jpeg',\n",
       " '/Volumes/DATASET/Train/Batch_4/cb87cb39-5863-43cb-b3db-b819570df4d2.jpeg',\n",
       " '/Volumes/DATASET/Train/Batch_4/2b19f922-e607-4d6d-b9a3-2c564a4db552.jpeg',\n",
       " '/Volumes/DATASET/Train/Batch_4/5d978837-b86d-427c-bde7-11e7083b990f.jpeg',\n",
       " '/Volumes/DATASET/Train/Batch_4/5e3018e4-dc1f-4c97-87f7-683594e3dac9.jpeg',\n",
       " '/Volumes/DATASET/Train/Batch_4/a82b7171-be72-41d8-bd5c-72b3a952ff86.jpeg',\n",
       " '/Volumes/DATASET/Train/Batch_4/5dca2dd5-6fa8-44c9-8707-2fb6b18f5b26.jpeg',\n",
       " '/Volumes/DATASET/Train/Batch_4/0897fff9-654c-4495-8172-9ca38d273c1f.jpeg',\n",
       " '/Volumes/DATASET/Train/Batch_4/927428f9-0e9e-443f-9ff9-f18d5feb4fc7.jpeg',\n",
       " '/Volumes/DATASET/Train/Batch_4/e31b903c-9152-4861-8316-1487fd4ab9a4.jpeg',\n",
       " '/Volumes/DATASET/Train/Batch_4/885b1e2b-6ab2-460c-a33a-6a72d4e566b1.jpeg',\n",
       " '/Volumes/DATASET/Train/Batch_4/55b65ec7-c7dd-4afc-a568-c8ff18024bab.jpeg',\n",
       " '/Volumes/DATASET/Train/Batch_4/af1cbd17-5cc0-4a9a-a6c7-47cd5f57596e.jpeg',\n",
       " '/Volumes/DATASET/Train/Batch_4/69ab93e3-4dcd-42ba-8207-b1ac7f736241.jpeg',\n",
       " '/Volumes/DATASET/Train/Batch_4/e6800d00-04df-4354-9750-0f2644545e32.jpeg',\n",
       " '/Volumes/DATASET/Train/Batch_4/f14332b2-0536-4d3f-9f64-dc1f4feeebb0.jpeg',\n",
       " '/Volumes/DATASET/Train/Batch_4/5f2aed3e-8976-49ca-bfe6-94dccd4e2315.jpeg',\n",
       " '/Volumes/DATASET/Train/Batch_4/3ceeb816-bcab-4b2d-aab1-a1cb75cb2d40.jpeg',\n",
       " '/Volumes/DATASET/Train/Batch_4/645376d7-4a95-4ea5-b15d-645f5ede5e35.jpeg',\n",
       " '/Volumes/DATASET/Train/Batch_4/8d66297a-ccd4-43a9-8beb-b66a43464305.jpeg',\n",
       " '/Volumes/DATASET/Train/Batch_4/044c48fe-f634-41d5-b753-023923b4d069.jpeg',\n",
       " '/Volumes/DATASET/Train/Batch_4/037a97f9-488b-4e30-997a-b845d7be0560.jpeg',\n",
       " '/Volumes/DATASET/Train/Batch_4/b2aa555a-8b72-4629-8837-a506eb8cf57a.jpeg',\n",
       " '/Volumes/DATASET/Train/Batch_4/762ad2a6-e873-4e87-ae56-e99ac0825900.jpeg',\n",
       " '/Volumes/DATASET/Train/Batch_4/fa5e0f54-6609-4dcc-a6e6-9f875c35a036.jpeg',\n",
       " '/Volumes/DATASET/Train/Batch_4/68219953-92de-4da7-bf23-bb383e361ec0.jpeg',\n",
       " '/Volumes/DATASET/Train/Batch_4/bd17ed0d-0a21-486d-92f5-66c559a28f86.jpeg',\n",
       " '/Volumes/DATASET/Train/Batch_4/858b98bd-5b9a-41c6-a718-68ec13f761ad.jpeg',\n",
       " '/Volumes/DATASET/Train/Batch_4/e2979d09-875b-4021-9926-b9d1f7146e48.jpeg',\n",
       " '/Volumes/DATASET/Train/Batch_4/49fdfa6b-bc0b-4ff1-a1e4-4fef96ca00f2.jpeg',\n",
       " '/Volumes/DATASET/Train/Batch_4/bb050609-dae6-4ae9-943f-e2194d4cccb9.jpeg',\n",
       " '/Volumes/DATASET/Train/Batch_4/1f4e3655-c8b9-4567-b1a2-1e5e30cf46a2.jpeg',\n",
       " '/Volumes/DATASET/Train/Batch_4/21308dc3-6fc4-42cd-8719-391d5c854667.jpeg',\n",
       " '/Volumes/DATASET/Train/Batch_4/3edeb36b-5ecb-47df-be10-46a767b0c64d.jpeg',\n",
       " '/Volumes/DATASET/Train/Batch_4/2a96486a-0f0a-4769-b0db-4819eb631c7d.jpeg',\n",
       " '/Volumes/DATASET/Train/Batch_4/b61d3998-1e00-4708-8419-cd00c95b0305.jpeg',\n",
       " '/Volumes/DATASET/Train/Batch_4/304ec1f7-6ba0-44b7-bc93-64bc5797a288.jpeg',\n",
       " '/Volumes/DATASET/Train/Batch_4/ec12ac09-fd23-4f14-9ce0-34435d2347c3.jpeg',\n",
       " '/Volumes/DATASET/Train/Batch_4/8ca7dbf8-16bb-48f8-acf2-ef1149a963d7.jpeg',\n",
       " '/Volumes/DATASET/Train/Batch_4/a1f33bf1-5fd0-4b46-aa3c-b15ba5413849.jpeg',\n",
       " '/Volumes/DATASET/Train/Batch_4/297a5aa6-7968-4f0a-b5dd-6304b0a91417.jpeg',\n",
       " '/Volumes/DATASET/Train/Batch_4/59abd826-3c1a-4ccb-96fd-7e3c9d3426ec.jpeg',\n",
       " '/Volumes/DATASET/Train/Batch_4/3ee47c97-39df-40a2-a1eb-19a25604298a.jpeg',\n",
       " '/Volumes/DATASET/Train/Batch_4/215a1b6d-df03-4094-b80d-1408e24cb10d.jpeg',\n",
       " '/Volumes/DATASET/Train/Batch_4/690b1f97-71e0-4b0c-892f-1470a1bb5ed3.jpeg',\n",
       " '/Volumes/DATASET/Train/Batch_4/b7c49263-812c-4e8e-b9d4-1407ed9874a1.jpeg',\n",
       " '/Volumes/DATASET/Train/Batch_4/903b8336-a550-40d0-b9a8-3c3dadafae6d.jpeg',\n",
       " '/Volumes/DATASET/Train/Batch_4/dd654601-2c5f-4e35-8bd5-0c14716e3fac.jpeg',\n",
       " '/Volumes/DATASET/Train/Batch_4/bfba6f98-e996-472e-95e0-e877e1acfbc2.jpeg',\n",
       " '/Volumes/DATASET/Train/Batch_4/93dda3cb-fd67-48fd-a30e-4a462d241b9d.jpeg',\n",
       " '/Volumes/DATASET/Train/Batch_4/5d878446-97ad-4084-bf1b-6f90dfad6740.jpeg',\n",
       " '/Volumes/DATASET/Train/Batch_4/a15d14d7-8fa7-4ed8-8869-8eac6aab8450.jpeg',\n",
       " '/Volumes/DATASET/Train/Batch_4/1f331868-925d-47f3-b200-27aea3a3f8c1.jpeg',\n",
       " '/Volumes/DATASET/Train/Batch_4/abe45aa3-3ec6-4f24-8966-6aaf0cdeee68.jpeg',\n",
       " '/Volumes/DATASET/Train/Batch_4/8d5635de-d36b-4023-a437-16d73ddbbcf0.jpeg',\n",
       " '/Volumes/DATASET/Train/Batch_4/43be49c7-6942-4f38-bb84-c14b60f8b0f7.jpeg',\n",
       " '/Volumes/DATASET/Train/Batch_4/8f4f00cf-d734-4810-a6db-8490f2832b76.jpeg',\n",
       " '/Volumes/DATASET/Train/Batch_4/80c966d4-d87a-4020-88b3-074dca300c71.jpeg',\n",
       " '/Volumes/DATASET/Train/Batch_4/124ceff5-12c9-4964-8169-d1ca237a48de.jpeg',\n",
       " '/Volumes/DATASET/Train/Batch_4/f9ff008c-ff96-48f7-a646-60c181fee932.jpeg',\n",
       " '/Volumes/DATASET/Train/Batch_4/8d3ebec4-bbbf-4bc3-b4dd-8dd9ad4ae56f.jpeg',\n",
       " '/Volumes/DATASET/Train/Batch_4/c526e554-8d67-4444-bcd3-13f9251fa428.jpeg',\n",
       " '/Volumes/DATASET/Train/Batch_4/341d108f-540d-424d-bcf7-7e466d9bc375.jpeg',\n",
       " '/Volumes/DATASET/Train/Batch_4/88b4a8fd-27fe-4148-90db-182221de3f08.jpeg',\n",
       " '/Volumes/DATASET/Train/Batch_4/3692f2cb-a8ad-42e7-94d3-2f0529873e0b.jpeg',\n",
       " '/Volumes/DATASET/Train/Batch_4/d47e6ba0-380b-4e8d-ae6c-0e061c449939.jpeg',\n",
       " '/Volumes/DATASET/Train/Batch_4/59d71951-11c5-42f3-9180-91ae496f6215.jpeg',\n",
       " '/Volumes/DATASET/Train/Batch_4/1341eb2b-86a3-4039-8a92-ac643cf4d663.jpeg',\n",
       " '/Volumes/DATASET/Train/Batch_4/f6164ac2-0fdd-4d96-807b-316d20988581.jpeg',\n",
       " '/Volumes/DATASET/Train/Batch_4/0025889c-1dea-410a-9967-31b2647c733f.jpeg',\n",
       " '/Volumes/DATASET/Train/Batch_4/79956643-cc85-4cf4-b55a-891a79a6ffb5.jpeg',\n",
       " '/Volumes/DATASET/Train/Batch_4/d73cddae-9a57-4f71-ae1f-14091de8158e.jpeg',\n",
       " '/Volumes/DATASET/Train/Batch_4/702ead3d-a555-46d4-abf5-485d697310e1.jpeg',\n",
       " '/Volumes/DATASET/Train/Batch_4/93fde185-318a-4e28-9350-3fa2de4abfe0.jpeg',\n",
       " '/Volumes/DATASET/Train/Batch_4/d2149ae1-64ef-4023-9e34-1ba34595db9c.jpeg',\n",
       " '/Volumes/DATASET/Train/Batch_4/251f014d-b545-487a-88a8-165f6d17e401.jpeg',\n",
       " '/Volumes/DATASET/Train/Batch_4/70d6dd3f-81fa-444e-b03b-8c38db32c29f.jpeg',\n",
       " '/Volumes/DATASET/Train/Batch_4/6e0e68d6-ac09-4396-bb09-e93ba48d846a.jpeg',\n",
       " '/Volumes/DATASET/Train/Batch_4/2909d294-ef45-4a94-8b79-cc95eba96546.jpeg',\n",
       " '/Volumes/DATASET/Train/Batch_4/b92df01a-c4db-4485-b0c0-b985a20074a5.jpeg',\n",
       " '/Volumes/DATASET/Train/Batch_4/f6fed49e-1e0a-45f5-8bf3-b7058e08a38c.jpeg',\n",
       " '/Volumes/DATASET/Train/Batch_4/2585f0de-d57b-44b5-8b24-6b43f1067b91.jpeg',\n",
       " '/Volumes/DATASET/Train/Batch_4/c0ad19f8-f91c-4c76-b459-ed49d6390756.jpeg',\n",
       " '/Volumes/DATASET/Train/Batch_4/7da1d658-9168-4bd9-a1a1-ffec7cdc29d6.jpeg',\n",
       " '/Volumes/DATASET/Train/Batch_4/e9b5d2a9-379f-450e-92ae-9b0fe315efcc.jpeg',\n",
       " '/Volumes/DATASET/Train/Batch_4/ec2e05bd-720b-477b-bd7d-cbebfed8c6b3.jpeg',\n",
       " '/Volumes/DATASET/Train/Batch_4/6a89e2f8-f3f8-4e79-bfcb-9f51317d8886.jpeg',\n",
       " '/Volumes/DATASET/Train/Batch_4/66ec1bc9-784c-46c7-a21d-bd2ff411dc3c.jpeg',\n",
       " '/Volumes/DATASET/Train/Batch_4/7e086157-8435-4374-ad58-9f8a53083c67.jpeg',\n",
       " '/Volumes/DATASET/Train/Batch_4/becf2f0b-6840-43f9-9cc6-feb76c362655.jpeg',\n",
       " '/Volumes/DATASET/Train/Batch_4/b72364ca-c998-4ede-ab71-e5cdc0c62aa0.jpeg',\n",
       " '/Volumes/DATASET/Train/Batch_4/e8453f7c-b2ac-48a4-8691-8f16c0115bde.jpeg',\n",
       " '/Volumes/DATASET/Train/Batch_4/d6fb54c0-ac8e-4835-914c-0639f31466d4.jpeg',\n",
       " '/Volumes/DATASET/Train/Batch_4/76d40499-490c-437b-bd89-2f16caf13ecf.jpeg',\n",
       " '/Volumes/DATASET/Train/Batch_4/a63785c5-90a0-4c7c-99cf-ab74bc53f1a3.jpeg',\n",
       " '/Volumes/DATASET/Train/Batch_4/52893dbc-e4d8-4902-abec-1cc8d8304b47.jpeg',\n",
       " '/Volumes/DATASET/Train/Batch_4/54e135c9-0a45-40a2-8e8f-65eed6e4894a.jpeg',\n",
       " '/Volumes/DATASET/Train/Batch_4/43638e02-3a6f-4d35-948d-fa8ce90f3c50.jpeg',\n",
       " '/Volumes/DATASET/Train/Batch_4/9eb539cc-246d-4a80-8094-c0fcc49e4aa8.jpeg',\n",
       " '/Volumes/DATASET/Train/Batch_4/5e0ab66b-9e58-4a12-a076-31076d0230e4.jpeg',\n",
       " '/Volumes/DATASET/Train/Batch_4/064993ee-cf94-464b-8ad9-49c7ec6de70c.jpeg',\n",
       " '/Volumes/DATASET/Train/Batch_4/39a10285-76c1-48ed-8d9f-e2d6b6171463.jpeg',\n",
       " '/Volumes/DATASET/Train/Batch_4/5447ed32-2697-4c25-a1c6-4b710ee5bddc.jpeg',\n",
       " '/Volumes/DATASET/Train/Batch_4/c2e5890f-eda5-452f-a184-d06bb6edb9c1.jpeg',\n",
       " '/Volumes/DATASET/Train/Batch_4/c7ef93ca-c51d-4a81-89d1-7f29f6d864ea.jpeg',\n",
       " '/Volumes/DATASET/Train/Batch_4/1a4f30a1-a677-45af-82b9-bb3764fa5920.jpeg',\n",
       " '/Volumes/DATASET/Train/Batch_4/eb7bf890-f5bd-4224-8a33-c0c1ff0e6d1f.jpeg',\n",
       " '/Volumes/DATASET/Train/Batch_4/b0c0881f-17ef-4835-8682-359d4a7b02bb.jpeg',\n",
       " '/Volumes/DATASET/Train/Batch_4/03811583-06dc-460a-bed8-ae2df2dd215d.jpeg',\n",
       " '/Volumes/DATASET/Train/Batch_4/ec93da97-4a7a-41a6-ac2a-efbaaf95c5e1.jpeg',\n",
       " '/Volumes/DATASET/Train/Batch_4/fb818aa2-afa7-47fb-9075-04ed9322360e.jpeg',\n",
       " '/Volumes/DATASET/Train/Batch_4/f427a5b0-e847-46de-8c65-2ce2be325a30.jpeg',\n",
       " '/Volumes/DATASET/Train/Batch_4/c9e4ac5a-7d94-4b4e-a77d-fc72de76a35d.jpeg',\n",
       " '/Volumes/DATASET/Train/Batch_4/49130c08-a0e0-4219-9b57-e999c2f19fcf.jpeg',\n",
       " '/Volumes/DATASET/Train/Batch_4/ece5e6be-0e24-4e62-b0d9-69c0c0a06e61.jpeg',\n",
       " '/Volumes/DATASET/Train/Batch_4/b57c06a4-b5d4-4113-9882-b8c6623e2909.jpeg',\n",
       " '/Volumes/DATASET/Train/Batch_4/8f7dad7d-243e-47bf-a6c3-a7c399d8c4f8.jpeg',\n",
       " '/Volumes/DATASET/Train/Batch_4/2824770e-f8c5-406e-8e50-3ce3f83aa506.jpeg',\n",
       " '/Volumes/DATASET/Train/Batch_4/f0483a0d-2767-46df-8415-7d0f93b295d3.jpeg',\n",
       " '/Volumes/DATASET/Train/Batch_4/b25a8ebe-1556-4c55-8092-343a5bc8cdd6.jpeg',\n",
       " '/Volumes/DATASET/Train/Batch_4/4ef4d0da-3fa1-44c7-877a-c4d6a45a7fb5.jpeg',\n",
       " '/Volumes/DATASET/Train/Batch_4/bd8a7a4b-009d-42fe-befa-c238bde040f9.jpeg',\n",
       " '/Volumes/DATASET/Train/Batch_4/ebc84d12-3468-428c-993c-005256bd9ea1.jpeg',\n",
       " '/Volumes/DATASET/Train/Batch_4/7b4d8e57-c905-495c-8b03-f467910b8e9a.jpeg',\n",
       " '/Volumes/DATASET/Train/Batch_4/a9d3741d-fbd3-4f29-ac76-d5eca58effeb.jpeg',\n",
       " '/Volumes/DATASET/Train/Batch_4/87c443d8-09b0-48e6-8ec4-ea2abf2036e5.jpeg',\n",
       " '/Volumes/DATASET/Train/Batch_4/2e32ac10-04ac-4c7f-8251-a0abbaba77ac.jpeg',\n",
       " '/Volumes/DATASET/Train/Batch_4/509062a6-9e09-44dc-a103-caa1a5d0672e.jpeg',\n",
       " '/Volumes/DATASET/Train/Batch_4/6c87274e-c945-477f-b367-7f0ed7e89a7f.jpeg',\n",
       " '/Volumes/DATASET/Train/Batch_4/ba37fdc1-612e-43d3-8785-c62e547f1aed.jpeg',\n",
       " '/Volumes/DATASET/Train/Batch_4/9784087b-0f71-4124-8efa-f5b78b1ac221.jpeg',\n",
       " '/Volumes/DATASET/Train/Batch_4/6bb6f114-578a-4975-accc-439a347da54f.jpeg',\n",
       " '/Volumes/DATASET/Train/Batch_4/0c9f6b1a-0dd7-41f3-947f-5673ca9ff62d.jpeg',\n",
       " '/Volumes/DATASET/Train/Batch_4/ac0aac9b-9a28-449f-8f84-86942ae6de98.jpeg',\n",
       " '/Volumes/DATASET/Train/Batch_4/c2c99b77-e6f6-42cc-82d6-a74943c31779.jpeg',\n",
       " '/Volumes/DATASET/Train/Batch_4/dfc5b794-d933-496f-8cbd-b23e0f2fd9e3.jpeg',\n",
       " '/Volumes/DATASET/Train/Batch_4/014556cf-d847-45c0-9dfe-7527ac46c000.jpeg',\n",
       " '/Volumes/DATASET/Train/Batch_4/6f1e31ed-5f81-4e8b-b1b5-18c99293409b.jpeg',\n",
       " '/Volumes/DATASET/Train/Batch_4/896b1483-8ce5-4382-9fb4-0b3899722fc2.jpeg',\n",
       " '/Volumes/DATASET/Train/Batch_4/dfbb4cf5-d7e1-4455-9c3b-9c9a51c115ff.jpeg',\n",
       " '/Volumes/DATASET/Train/Batch_4/fec06775-f0ed-4355-8508-77d4b09d3da0.jpeg',\n",
       " '/Volumes/DATASET/Train/Batch_4/f8da435f-405b-4324-a3ac-b9fa9a5f216c.jpeg',\n",
       " '/Volumes/DATASET/Train/Batch_4/85653257-ebff-47f6-a976-45334e3bed05.jpeg',\n",
       " '/Volumes/DATASET/Train/Batch_4/3b9e0836-972a-4e09-9bf3-997984158aec.jpeg',\n",
       " '/Volumes/DATASET/Train/Batch_4/94e8b693-6b24-4059-9a70-2a385c0fab26.jpeg',\n",
       " '/Volumes/DATASET/Train/Batch_4/318a1570-c907-4a4b-b25c-ee9643f15d83.jpeg',\n",
       " '/Volumes/DATASET/Train/Batch_4/03021640-2ea2-4c15-9d40-a90c44f398d2.jpeg',\n",
       " '/Volumes/DATASET/Train/Batch_4/3a6ef57a-8159-4fe4-a202-f6698dc19de4.jpeg',\n",
       " '/Volumes/DATASET/Train/Batch_4/d14ad32d-3d63-4b74-889f-522ba4d2ccb6.jpeg',\n",
       " '/Volumes/DATASET/Train/Batch_4/c98b71bf-ec63-40e8-ab5f-285a7065e24a.jpeg',\n",
       " '/Volumes/DATASET/Train/Batch_4/555e855a-33b1-48e3-ab21-b06740fc6882.jpeg',\n",
       " '/Volumes/DATASET/Train/Batch_4/ba242db9-752e-4bb6-984d-8fd4a79547da.jpeg',\n",
       " '/Volumes/DATASET/Train/Batch_4/095f6b0b-35c5-4073-8bef-70941122fbfe.jpeg',\n",
       " '/Volumes/DATASET/Train/Batch_4/6095ee27-be26-43e9-9e25-f05fb0c25f8f.jpeg',\n",
       " '/Volumes/DATASET/Train/Batch_4/5e7ced9a-1dd3-4ab5-918d-4982b014c3ef.jpeg',\n",
       " '/Volumes/DATASET/Train/Batch_4/450f56f3-a3c5-45bd-89f9-206a450f9e70.jpeg',\n",
       " '/Volumes/DATASET/Train/Batch_4/db83205c-0a6e-4d2e-bacf-5fe353124ead.jpeg',\n",
       " '/Volumes/DATASET/Train/Batch_4/50f461cc-f303-476d-8c66-3a9efdcd7cf3.jpeg',\n",
       " '/Volumes/DATASET/Train/Batch_4/f4530581-b6e7-4293-9507-0e8c26240117.jpeg',\n",
       " '/Volumes/DATASET/Train/Batch_4/73fc4764-e018-4362-834e-2c525b532efc.jpeg',\n",
       " '/Volumes/DATASET/Train/Batch_4/65a9f485-5210-48ae-ac5e-e8086e3a662b.jpeg',\n",
       " '/Volumes/DATASET/Train/Batch_4/33192d94-4135-4f67-8b7b-9bd6ee0d58d1.jpeg',\n",
       " '/Volumes/DATASET/Train/Batch_4/531bb239-d3d9-4e10-b4a3-8b92e0e7cc58.jpeg',\n",
       " '/Volumes/DATASET/Train/Batch_4/b28bccc0-2e45-4da5-a7c7-00468eaf466f.jpeg',\n",
       " '/Volumes/DATASET/Train/Batch_4/b1e89dd3-c326-4d97-992c-08b2e879a2bf.jpeg',\n",
       " '/Volumes/DATASET/Train/Batch_4/05dc41ec-ab24-471f-ba2c-23eb7c9e0ad5.jpeg',\n",
       " '/Volumes/DATASET/Train/Batch_4/a42719b1-0f23-45be-bd62-6cbdd75f8b5c.jpeg',\n",
       " '/Volumes/DATASET/Train/Batch_4/fad3db88-7cad-4b93-8f74-ffbd5feabbf2.jpeg',\n",
       " '/Volumes/DATASET/Train/Batch_4/00c4b557-fa9d-4ec5-a4ac-4b7650e13482.jpeg',\n",
       " '/Volumes/DATASET/Train/Batch_4/136adb27-c08a-4f85-8f2e-c583c7455e21.jpeg',\n",
       " '/Volumes/DATASET/Train/Batch_4/e2e84768-073d-48ea-83c2-c639b0a7f285.jpeg',\n",
       " '/Volumes/DATASET/Train/Batch_4/1c80076f-b05e-4a55-8608-ec468058ab79.jpeg',\n",
       " '/Volumes/DATASET/Train/Batch_4/8f2d1427-d957-4eed-9bd9-0065cb0cf807.jpeg',\n",
       " '/Volumes/DATASET/Train/Batch_4/aa14feba-690e-40ab-8e53-0e880d7d0e04.jpeg',\n",
       " '/Volumes/DATASET/Train/Batch_4/07780279-17f3-4ca1-b271-efcd9f624742.jpeg',\n",
       " '/Volumes/DATASET/Train/Batch_4/16546805-a575-4b31-ad4b-95f3998fe982.jpeg',\n",
       " '/Volumes/DATASET/Train/Batch_4/52ee3c22-3436-470e-b7c7-c73697e0f2f0.jpeg',\n",
       " '/Volumes/DATASET/Train/Batch_4/b9c84753-5002-4216-b5ec-71a399d98db4.jpeg',\n",
       " '/Volumes/DATASET/Train/Batch_4/f6dd9f8b-61e4-447c-89de-0c2ff25a4dbc.jpeg',\n",
       " '/Volumes/DATASET/Train/Batch_4/bb40f2dc-27a4-428e-8ca8-073a6c12d705.jpeg',\n",
       " '/Volumes/DATASET/Train/Batch_4/345f2045-be4b-4010-a846-68bc30574e7a.jpeg',\n",
       " '/Volumes/DATASET/Train/Batch_4/020d3f3a-686b-494b-952d-6254bf3af7e4.jpeg',\n",
       " '/Volumes/DATASET/Train/Batch_4/8d1539a7-2881-4576-a815-0cd922e6b515.jpeg',\n",
       " '/Volumes/DATASET/Train/Batch_4/703bb390-e081-4d70-adc9-4763c4d71436.jpeg',\n",
       " '/Volumes/DATASET/Train/Batch_4/773e63a1-bc13-45ca-bdea-dcfb2e29d369.jpeg',\n",
       " '/Volumes/DATASET/Train/Batch_4/dab64823-09b3-4d2a-85f0-1b1f96f6f3de.jpeg',\n",
       " '/Volumes/DATASET/Train/Batch_4/99da72e6-f39f-4fd0-a9fa-36bbea1290f2.jpeg',\n",
       " '/Volumes/DATASET/Train/Batch_4/d77ce4fe-3b65-4bdd-b9ae-7fa9820fa50c.jpeg',\n",
       " '/Volumes/DATASET/Train/Batch_4/48a13ea3-fdbd-4db1-bcfd-39ac5e225a27.jpeg',\n",
       " '/Volumes/DATASET/Train/Batch_4/f6fbff9f-2001-493b-8aac-f3cc87d908aa.jpeg',\n",
       " '/Volumes/DATASET/Train/Batch_4/f4dfbd44-5164-499f-b729-ae44bb046a0c.jpeg',\n",
       " '/Volumes/DATASET/Train/Batch_4/eccb5743-302b-45be-83f8-c231557e0cec.jpeg',\n",
       " '/Volumes/DATASET/Train/Batch_4/6beb0c1f-4847-4e50-8170-6bb358982022.jpeg',\n",
       " '/Volumes/DATASET/Train/Batch_4/f62aba9b-9d5c-4c45-9995-ea497053fcbf.jpeg',\n",
       " '/Volumes/DATASET/Train/Batch_4/46bff9fc-53bc-473d-958b-ec0223f75fc5.jpeg',\n",
       " '/Volumes/DATASET/Train/Batch_4/668ea3c5-37e9-4da5-9a5c-4b81951ceb0e.jpeg',\n",
       " '/Volumes/DATASET/Train/Batch_4/14c72532-8456-4edd-a91f-07374a8769bc.jpeg',\n",
       " '/Volumes/DATASET/Train/Batch_4/2c2e878c-4141-4161-9d84-10684bf37ccb.jpeg',\n",
       " '/Volumes/DATASET/Train/Batch_4/49970262-1aa3-423d-8973-45394ab24871.jpeg',\n",
       " '/Volumes/DATASET/Train/Batch_4/fd0d42ae-1b25-4c2a-9827-fdd9d72bda76.jpeg',\n",
       " '/Volumes/DATASET/Train/Batch_4/f9166e03-2330-4fff-a760-decf7b7e470d.jpeg',\n",
       " '/Volumes/DATASET/Train/Batch_4/189f3691-aecb-4a9d-9dfe-6c4db0b639fa.jpeg',\n",
       " '/Volumes/DATASET/Train/Batch_4/14f297d5-449f-42b0-86b2-d1c718acebf3.jpeg',\n",
       " '/Volumes/DATASET/Train/Batch_4/822dfe0e-8920-4bab-9c50-c4f7d5931b79.jpeg',\n",
       " '/Volumes/DATASET/Train/Batch_4/2bfcc64c-a5a8-4947-a80a-5681ea76426c.jpeg',\n",
       " '/Volumes/DATASET/Train/Batch_4/13f1e78d-d5eb-40da-bb8e-54be639d7c0c.jpeg',\n",
       " '/Volumes/DATASET/Train/Batch_4/2d42954c-c3de-447e-aebc-3c393ad9dd1c.jpeg',\n",
       " '/Volumes/DATASET/Train/Batch_4/90be536a-1b76-444b-afb9-3ff1128ffccd.jpeg',\n",
       " '/Volumes/DATASET/Train/Batch_4/78a1b856-d0ef-4fd7-acce-2bb9627edc0c.jpeg',\n",
       " '/Volumes/DATASET/Train/Batch_4/8e5bf61f-8794-462f-b041-25e504866fc7.jpeg',\n",
       " '/Volumes/DATASET/Train/Batch_4/c7ddc7c3-4d7b-4b2b-9871-75b80e8ae212.jpeg',\n",
       " '/Volumes/DATASET/Train/Batch_4/c28a0de2-37a7-4a3d-86bb-89f6189151ab.jpeg',\n",
       " '/Volumes/DATASET/Train/Batch_4/3b0fd4bd-289c-429d-ab01-cdcc0f7c7b77.jpeg',\n",
       " '/Volumes/DATASET/Train/Batch_4/467ceac6-508f-41d9-80b5-14188ee173d1.jpeg',\n",
       " '/Volumes/DATASET/Train/Batch_4/405e0c42-a445-43d7-8c3d-9672989062ad.jpeg',\n",
       " '/Volumes/DATASET/Train/Batch_4/a64efda2-5ee6-421d-a0f5-11fa2b66b769.jpeg',\n",
       " '/Volumes/DATASET/Train/Batch_4/ca07e548-c82d-4e08-a1de-578994e4eb30.jpeg',\n",
       " '/Volumes/DATASET/Train/Batch_4/5e646cd4-c8b8-4dd9-8971-16c55f0288ef.jpeg',\n",
       " '/Volumes/DATASET/Train/Batch_4/a6987b35-00b9-4fc6-82e4-75b5b3392e19.jpeg',\n",
       " '/Volumes/DATASET/Train/Batch_4/265ff7f3-5852-479a-a20a-8e4eeddbe44e.jpeg',\n",
       " '/Volumes/DATASET/Train/Batch_4/55244ab5-d8f7-4477-bf44-7dc97aa15908.jpeg',\n",
       " '/Volumes/DATASET/Train/Batch_4/a463c0a9-af65-4442-bf77-0ae41bbd3692.jpeg',\n",
       " '/Volumes/DATASET/Train/Batch_4/c2cf248e-f58b-424f-b931-9f0107c017b8.jpeg',\n",
       " '/Volumes/DATASET/Train/Batch_4/d449c66d-c29f-4e07-a726-f3bb60d75423.jpeg',\n",
       " '/Volumes/DATASET/Train/Batch_4/18a89a98-bd15-485f-ab10-ac05b089f0c4.jpeg',\n",
       " '/Volumes/DATASET/Train/Batch_4/97ae4eeb-2d94-4ffa-8cce-e340cc67b332.jpeg',\n",
       " '/Volumes/DATASET/Train/Batch_4/fa7689f8-08f6-4642-961e-e349587a8651.jpeg',\n",
       " '/Volumes/DATASET/Train/Batch_4/1a2b3b5c-c59f-4dd0-b47c-bbfb5fb7d0cf.jpeg',\n",
       " '/Volumes/DATASET/Train/Batch_4/f400b51c-9982-4687-a942-2e0eb9633305.jpeg',\n",
       " '/Volumes/DATASET/Train/Batch_4/7672d888-87a5-4099-99ce-23ddcebbc71c.jpeg',\n",
       " '/Volumes/DATASET/Train/Batch_4/2fa9d42d-ba26-442e-9bc5-c8c52cde595f.jpeg',\n",
       " '/Volumes/DATASET/Train/Batch_4/0f4e08bb-c5fd-48eb-8c23-bf5d7b281e23.jpeg',\n",
       " '/Volumes/DATASET/Train/Batch_4/26107a2f-34fc-4c2a-96c1-7b498ac59d5b.jpeg',\n",
       " '/Volumes/DATASET/Train/Batch_4/656f8747-4361-44cb-8488-6eb8695de1df.jpeg',\n",
       " '/Volumes/DATASET/Train/Batch_4/42a86ad0-a3ad-45b3-8eef-75ecb18e1131.jpeg',\n",
       " '/Volumes/DATASET/Train/Batch_4/b5c3332c-e5da-49af-82bc-d807b2c02f9a.jpeg',\n",
       " '/Volumes/DATASET/Train/Batch_4/85a7e961-acb6-4968-8e17-9231908c3fa6.jpeg',\n",
       " '/Volumes/DATASET/Train/Batch_4/d1974257-a236-4ba2-aa43-da09c3318f76.jpeg',\n",
       " '/Volumes/DATASET/Train/Batch_4/b2cc9438-4244-4eef-8b96-1e834d005ee4.jpeg',\n",
       " '/Volumes/DATASET/Train/Batch_4/48043b38-7263-4d69-abbd-38cdbe57c31d.jpeg',\n",
       " '/Volumes/DATASET/Train/Batch_4/ed70eeff-f5d1-494a-9de4-b23771cca879.jpeg',\n",
       " '/Volumes/DATASET/Train/Batch_4/604a477d-2417-4e02-a296-2cbb7de7064a.jpeg',\n",
       " '/Volumes/DATASET/Train/Batch_4/f6ae2297-a4f4-4370-a3e8-0dcd606dd903.jpeg',\n",
       " '/Volumes/DATASET/Train/Batch_4/ffb08a4a-191a-49b9-9931-861656eebd5f.jpeg',\n",
       " '/Volumes/DATASET/Train/Batch_4/d17a47f7-63a1-468d-a86e-289ce589dd1e.jpeg',\n",
       " '/Volumes/DATASET/Train/Batch_4/eaf8eee8-5e9c-4aa3-bc04-8b6ff54c7560.jpeg',\n",
       " '/Volumes/DATASET/Train/Batch_4/197f7c52-5319-456c-9d36-063c6c5b5072.jpeg',\n",
       " '/Volumes/DATASET/Train/Batch_4/ddb2f4fa-c66d-4885-9bf8-2ef3dda228bc.jpeg',\n",
       " '/Volumes/DATASET/Train/Batch_4/2218bd34-4373-43d4-aa64-3461e30801bb.jpeg',\n",
       " '/Volumes/DATASET/Train/Batch_4/9b85a9c3-a04c-4692-a12c-0367f76e3897.jpeg',\n",
       " '/Volumes/DATASET/Train/Batch_4/94f7e18c-a95d-489f-bb6c-d349484ecd75.jpeg',\n",
       " '/Volumes/DATASET/Train/Batch_4/dc4bb703-a0d6-4aed-83e2-7db97382e616.jpeg',\n",
       " '/Volumes/DATASET/Train/Batch_4/03cf5542-8b2e-4639-bc1a-6b3bffe43574.jpeg',\n",
       " '/Volumes/DATASET/Train/Batch_4/04f4c67c-9a12-4fba-88d6-1b668899f78a.jpeg',\n",
       " '/Volumes/DATASET/Train/Batch_4/83d60f8b-f075-41b3-94c5-673651b57568.jpeg',\n",
       " '/Volumes/DATASET/Train/Batch_4/72371e54-5e83-402f-9b5b-da78d166ccb3.jpeg',\n",
       " '/Volumes/DATASET/Train/Batch_4/32e9aecb-04c6-4365-b853-5541803cddaa.jpeg',\n",
       " '/Volumes/DATASET/Train/Batch_4/7395230a-0adf-4edb-84b3-d1555320d3df.jpeg',\n",
       " '/Volumes/DATASET/Train/Batch_4/cca34121-264f-405b-ad3a-1d34260a6258.jpeg',\n",
       " '/Volumes/DATASET/Train/Batch_4/9382c528-ff93-4bc2-851a-a1c51e69c3fe.jpeg',\n",
       " '/Volumes/DATASET/Train/Batch_4/b77b11a9-9304-4c7d-8f6a-bd937199cd41.jpeg',\n",
       " '/Volumes/DATASET/Train/Batch_4/aa5d2624-195c-4d7f-afc9-f7005511de0a.jpeg',\n",
       " '/Volumes/DATASET/Train/Batch_4/ffa2bcc3-c694-439a-9122-437a87fbc218.jpeg',\n",
       " '/Volumes/DATASET/Train/Batch_4/3eb42258-e2f3-4a6f-9b11-30991d2d56b8.jpeg',\n",
       " '/Volumes/DATASET/Train/Batch_4/be778b45-f7a6-411d-8c4f-88a841f631a2.jpeg',\n",
       " '/Volumes/DATASET/Train/Batch_4/82a18916-5a9a-44f7-8599-97212b0b3824.jpeg',\n",
       " '/Volumes/DATASET/Train/Batch_4/a643baed-0e4e-480b-bae1-0ff72979528d.jpeg',\n",
       " '/Volumes/DATASET/Train/Batch_4/657144a0-68c6-4272-b190-ccc1f311256f.jpeg',\n",
       " '/Volumes/DATASET/Train/Batch_4/3ccb39ee-c8e3-4f42-9b7e-d95853a416dd.jpeg',\n",
       " '/Volumes/DATASET/Train/Batch_4/4cb05176-260c-4152-83b8-4975ce62ed31.jpeg',\n",
       " '/Volumes/DATASET/Train/Batch_4/5f4d4076-b606-4a0e-a0fa-ad24cc00fa62.jpeg',\n",
       " '/Volumes/DATASET/Train/Batch_4/7bac5c71-215b-4c47-a51e-4f092b44b8b5.jpeg',\n",
       " '/Volumes/DATASET/Train/Batch_4/d9a3e1ce-f6d6-4fe3-b718-eddaa8d6c67a.jpeg',\n",
       " '/Volumes/DATASET/Train/Batch_4/ae53ef05-c745-4ac1-bb2a-6f828f77439c.jpeg',\n",
       " '/Volumes/DATASET/Train/Batch_4/3d76dcbe-50a6-4423-8dee-716d42255135.jpeg',\n",
       " '/Volumes/DATASET/Train/Batch_4/60c7627f-ef2d-4533-9eb0-ef97dbf15832.jpeg',\n",
       " '/Volumes/DATASET/Train/Batch_4/42ff4f2c-62a7-4179-a423-6484efe10c5d.jpeg',\n",
       " '/Volumes/DATASET/Train/Batch_4/d7808e5d-eba9-4bad-9fe8-b31ed8fab265.jpeg',\n",
       " '/Volumes/DATASET/Train/Batch_4/6f401de1-1810-4039-818d-39d2e7b16151.jpeg',\n",
       " '/Volumes/DATASET/Train/Batch_4/483c2e58-92aa-4c42-8ce9-892434e3d14a.jpeg',\n",
       " '/Volumes/DATASET/Train/Batch_4/a66bfe18-ac61-4473-8989-50b1b44e0864.jpeg',\n",
       " '/Volumes/DATASET/Train/Batch_4/5cce92ca-81a0-47c3-850b-5b22c415a373.jpeg',\n",
       " '/Volumes/DATASET/Train/Batch_4/ef2e8997-7695-4918-998a-7bb91b48cee9.jpeg',\n",
       " '/Volumes/DATASET/Train/Batch_4/de822dd0-f900-4842-ad00-4a628c9d97eb.jpeg',\n",
       " '/Volumes/DATASET/Train/Batch_4/dddfff7e-8922-471f-ad09-37b26c51bc91.jpeg',\n",
       " '/Volumes/DATASET/Train/Batch_4/5e8f874a-edf0-4a3d-921d-2fd3c05e7252.jpeg',\n",
       " '/Volumes/DATASET/Train/Batch_4/9eeab4d9-072f-4618-8b6a-aba203843b86.jpeg',\n",
       " '/Volumes/DATASET/Train/Batch_4/0f03f22c-d685-4a4e-9cc5-ae4a1c292cd5.jpeg',\n",
       " '/Volumes/DATASET/Train/Batch_4/6064c34c-a279-4ec0-9b82-29b3b225d512.jpeg',\n",
       " '/Volumes/DATASET/Train/Batch_4/8ffcb261-4688-4a11-8b4c-47326abd778d.jpeg',\n",
       " '/Volumes/DATASET/Train/Batch_4/29c63694-21a8-4d92-85e8-9dc2cf1157a0.jpeg',\n",
       " '/Volumes/DATASET/Train/Batch_4/a56bccf1-f06b-449a-b9dc-66362e535d55.jpeg',\n",
       " '/Volumes/DATASET/Train/Batch_4/be9a862e-8bad-4d06-82ae-53b095e6f80a.jpeg',\n",
       " '/Volumes/DATASET/Train/Batch_4/5f410a00-d267-4602-b609-d1e28a404e23.jpeg',\n",
       " '/Volumes/DATASET/Train/Batch_4/208803aa-c628-4ef3-80b6-080fe2a77cbd.jpeg',\n",
       " '/Volumes/DATASET/Train/Batch_4/a306c6d5-21fd-4d66-9c15-dc43dd25173f.jpeg',\n",
       " '/Volumes/DATASET/Train/Batch_4/0145cbea-e8f9-4c87-b62e-9ec8b5c0945a.jpeg',\n",
       " '/Volumes/DATASET/Train/Batch_4/443168aa-0bb4-4abe-8253-f3bb62bcfa6a.jpeg',\n",
       " '/Volumes/DATASET/Train/Batch_4/ab58c44c-d2c0-4330-8bdd-f15d5e1df979.jpeg',\n",
       " '/Volumes/DATASET/Train/Batch_4/9cdebd54-2bbd-46f1-b6df-52187d70e380.jpeg',\n",
       " '/Volumes/DATASET/Train/Batch_4/f06ee17e-65a6-4b96-9fc4-73534441e595.jpeg',\n",
       " '/Volumes/DATASET/Train/Batch_4/4e3e09d3-0e94-4126-8d19-b90ec5b17895.jpeg',\n",
       " '/Volumes/DATASET/Train/Batch_4/e74a23b3-db81-4a5c-8aca-a1c272c9b539.jpeg',\n",
       " '/Volumes/DATASET/Train/Batch_4/d4d94b8e-a075-435c-b3ed-8eb6e79823d4.jpeg',\n",
       " '/Volumes/DATASET/Train/Batch_4/3b1bc101-c38d-41b4-b575-fae44b05b186.jpeg',\n",
       " '/Volumes/DATASET/Train/Batch_4/84df2f59-140e-4285-8911-740d2557ec35.jpeg',\n",
       " '/Volumes/DATASET/Train/Batch_4/8bd4dc3b-95ac-405a-8ce8-d456c979708c.jpeg',\n",
       " '/Volumes/DATASET/Train/Batch_4/a94a5003-60b8-4331-a1f5-cf9508d90d89.jpeg',\n",
       " '/Volumes/DATASET/Train/Batch_4/66a8a585-5b0d-4314-a2d3-4996b9b7a33a.jpeg',\n",
       " '/Volumes/DATASET/Train/Batch_4/28dd4e52-a505-4eb0-8338-04b084528cde.jpeg',\n",
       " '/Volumes/DATASET/Train/Batch_4/ed6b59c9-985c-4015-bd76-670468c61a8a.jpeg',\n",
       " '/Volumes/DATASET/Train/Batch_4/16416be3-b4af-4fab-9539-0d6064d960b3.jpeg',\n",
       " '/Volumes/DATASET/Train/Batch_4/daef276e-8795-41e7-a865-f4b0b996ffff.jpeg',\n",
       " '/Volumes/DATASET/Train/Batch_4/5ed25d56-dcde-4d43-874f-c23ed051e0f9.jpeg',\n",
       " '/Volumes/DATASET/Train/Batch_4/0bbc37b8-e859-4aa3-a8b0-630d7e965c04.jpeg',\n",
       " '/Volumes/DATASET/Train/Batch_4/89f93f10-79ad-401f-a4d3-13dd79c65402.jpeg',\n",
       " '/Volumes/DATASET/Train/Batch_4/37091abf-9754-46bc-a06d-bf1c1a736997.jpeg',\n",
       " '/Volumes/DATASET/Train/Batch_4/23917eaa-302d-4571-a97b-94e8e01e2116.jpeg',\n",
       " '/Volumes/DATASET/Train/Batch_4/c20406d6-a0ec-4a0f-9654-776c58e933a9.jpeg',\n",
       " '/Volumes/DATASET/Train/Batch_4/4b67fa99-81c7-4766-9189-c75aef695b8e.jpeg',\n",
       " '/Volumes/DATASET/Train/Batch_4/de7377ab-84f7-47d2-ae7d-95ee2e86604e.jpeg',\n",
       " '/Volumes/DATASET/Train/Batch_4/39caf4e0-8501-4591-a188-e080e61ee4ad.jpeg',\n",
       " '/Volumes/DATASET/Train/Batch_4/426ddcc3-9010-426f-93b5-6743c7940b64.jpeg',\n",
       " '/Volumes/DATASET/Train/Batch_4/24d9381d-bab1-42ba-85f2-cfa09d058970.jpeg',\n",
       " '/Volumes/DATASET/Train/Batch_4/eb62e23a-9024-4031-ac38-8bc89ffcded8.jpeg',\n",
       " '/Volumes/DATASET/Train/Batch_4/fb47a341-a46c-4dd7-8193-4dd44048848a.jpeg',\n",
       " '/Volumes/DATASET/Train/Batch_4/e766bd2c-54a1-43ae-b944-62554830720c.jpeg',\n",
       " '/Volumes/DATASET/Train/Batch_4/cdb39d57-7feb-43a5-90a1-834d2a7718d2.jpeg',\n",
       " '/Volumes/DATASET/Train/Batch_4/32baaff9-4da6-435d-b86a-ff2792696346.jpeg',\n",
       " '/Volumes/DATASET/Train/Batch_4/6f3a6ac2-c557-4268-af42-4b91a95515f4.jpeg',\n",
       " '/Volumes/DATASET/Train/Batch_4/fc13345b-df6e-4f83-ae56-6d6988408eb5.jpeg',\n",
       " '/Volumes/DATASET/Train/Batch_4/80cde9b1-755f-41fc-a2b6-5b97adaad9cc.jpeg',\n",
       " '/Volumes/DATASET/Train/Batch_4/89354e49-31f7-4006-9895-181a04b688a1.jpeg',\n",
       " '/Volumes/DATASET/Train/Batch_4/d36e99cc-d842-492e-b637-c4d1c6d6b4a8.jpeg',\n",
       " '/Volumes/DATASET/Train/Batch_4/8ad68c4d-378d-47c8-b1fe-8157242f511f.jpeg',\n",
       " '/Volumes/DATASET/Train/Batch_4/dd2a68af-b033-4282-b6ed-17b417e6b368.jpeg',\n",
       " '/Volumes/DATASET/Train/Batch_4/362c445e-f032-4341-9fe0-9f49af70bfd2.jpeg',\n",
       " '/Volumes/DATASET/Train/Batch_4/b2e87937-8824-4aba-8f44-0d8c916ca670.jpeg',\n",
       " '/Volumes/DATASET/Train/Batch_4/6516c83c-d6a5-4322-a479-517a4a14869a.jpeg',\n",
       " '/Volumes/DATASET/Train/Batch_4/a01a9c9c-2b53-4c04-8331-a87c913a1f23.jpeg',\n",
       " '/Volumes/DATASET/Train/Batch_4/edce356d-f370-4f33-9363-f4441641dc4d.jpeg',\n",
       " '/Volumes/DATASET/Train/Batch_4/d9586696-ce0a-4fbe-bb1c-b271e98c8f81.jpeg',\n",
       " '/Volumes/DATASET/Train/Batch_4/a76bca45-c16d-46fc-92fb-de7166f2d64a.jpeg',\n",
       " '/Volumes/DATASET/Train/Batch_4/ee15b595-ef56-4617-beb6-8ed92119fc29.jpeg',\n",
       " '/Volumes/DATASET/Train/Batch_4/052200b8-e303-4f83-b3d3-f88e7e1fcc40.jpeg',\n",
       " '/Volumes/DATASET/Train/Batch_4/df0f7106-67e7-4c90-a459-517cc4c8fbd5.jpeg',\n",
       " '/Volumes/DATASET/Train/Batch_4/6bd43f68-6abd-458f-b54c-89016af9e5c0.jpeg',\n",
       " '/Volumes/DATASET/Train/Batch_4/6481285f-1903-4f42-964d-29b99efd4612.jpeg',\n",
       " '/Volumes/DATASET/Train/Batch_4/56f80ba9-0a29-4147-ac47-77e67d7c0224.jpeg',\n",
       " '/Volumes/DATASET/Train/Batch_4/34a4fd22-e9e4-43fa-95d0-8073ddfa03d1.jpeg',\n",
       " '/Volumes/DATASET/Train/Batch_4/66e4bc9d-b48b-40c3-a168-4536fb4f83d9.jpeg',\n",
       " '/Volumes/DATASET/Train/Batch_4/02d9d591-6ac0-4abc-a1d2-cfd74ce8225a.jpeg',\n",
       " '/Volumes/DATASET/Train/Batch_4/6004321a-07cd-44d1-ac12-9f8a192f3495.jpeg',\n",
       " '/Volumes/DATASET/Train/Batch_4/abc37f30-a6e0-4270-9acf-c2a2488a3032.jpeg',\n",
       " '/Volumes/DATASET/Train/Batch_4/c0662b1c-9dad-4e76-a791-dd05990c1263.jpeg',\n",
       " '/Volumes/DATASET/Train/Batch_4/58b87296-9b9a-4f1f-b7e4-16b02a2a139f.jpeg',\n",
       " '/Volumes/DATASET/Train/Batch_4/be25b11b-7999-4430-958e-4100e4d6cf07.jpeg',\n",
       " '/Volumes/DATASET/Train/Batch_4/909bb2f6-8876-4de7-bfe4-8b9ab0d7e461.jpeg',\n",
       " '/Volumes/DATASET/Train/Batch_4/6eca4830-7139-418a-b7bb-f66fceb682f9.jpeg',\n",
       " '/Volumes/DATASET/Train/Batch_4/d108e5cc-147c-4d20-b59f-f7457b1bab29.jpeg',\n",
       " '/Volumes/DATASET/Train/Batch_4/7c3cad09-a461-41f0-87fc-461270385664.jpeg',\n",
       " '/Volumes/DATASET/Train/Batch_4/e27f7224-2b78-41b3-a9e1-eb2f8e58f894.jpeg',\n",
       " '/Volumes/DATASET/Train/Batch_4/fde5588c-3756-49ae-bfdd-de0531a6926b.jpeg',\n",
       " '/Volumes/DATASET/Train/Batch_4/78e869f6-be56-4261-a82a-b1a2dc6933f4.jpeg',\n",
       " '/Volumes/DATASET/Train/Batch_4/c535cd8e-fe0e-4430-8dfb-af522bba071c.jpeg',\n",
       " '/Volumes/DATASET/Train/Batch_4/833781aa-8b58-482c-a6e2-e9fb9b825565.jpeg',\n",
       " '/Volumes/DATASET/Train/Batch_4/73ab6697-70fb-42cf-af80-34a47a05839e.jpeg',\n",
       " '/Volumes/DATASET/Train/Batch_4/2cdef6ad-4bba-4ac7-8f21-1ff80a4747bf.jpeg',\n",
       " '/Volumes/DATASET/Train/Batch_4/8783ac4a-ec78-470d-afd8-788590afb5c6.jpeg',\n",
       " '/Volumes/DATASET/Train/Batch_4/5a8fbb66-cc0e-4e4a-ac72-afaeb6ae28e9.jpeg',\n",
       " '/Volumes/DATASET/Train/Batch_4/3d7563b9-f8fd-4e10-9080-75e1685d3e45.jpeg',\n",
       " '/Volumes/DATASET/Train/Batch_4/3fa155bf-15e5-4f03-8a51-08e1323e96e3.jpeg',\n",
       " '/Volumes/DATASET/Train/Batch_4/886add61-a0e5-43d5-b165-41fc4811ce9f.jpeg',\n",
       " '/Volumes/DATASET/Train/Batch_4/ae83938f-ef2f-4720-9c59-92568c02c05d.jpeg',\n",
       " '/Volumes/DATASET/Train/Batch_4/88a7024a-d302-408a-981f-14eac6e670fc.jpeg',\n",
       " '/Volumes/DATASET/Train/Batch_4/9da8a206-fe85-49a1-be33-bdcb51ea5346.jpeg',\n",
       " '/Volumes/DATASET/Train/Batch_4/c164d9c4-bd20-4f8f-b0dc-ca147ef7bc9a.jpeg',\n",
       " '/Volumes/DATASET/Train/Batch_4/efc71c44-7276-4efc-9ec1-343379d6631f.jpeg',\n",
       " '/Volumes/DATASET/Train/Batch_4/5f22c806-c61b-4df5-82bf-3b5d676f4e51.jpeg',\n",
       " '/Volumes/DATASET/Train/Batch_4/6d33949b-a5de-4070-ba85-58a9d1b0d266.jpeg',\n",
       " '/Volumes/DATASET/Train/Batch_4/1d048141-c4d2-44e7-bfa4-6dcca7dbe37a.jpeg',\n",
       " '/Volumes/DATASET/Train/Batch_4/90846ae1-bd1d-4761-9311-ffdb0d9b6751.jpeg',\n",
       " '/Volumes/DATASET/Train/Batch_4/aeeb26b8-45a5-4339-b7b2-e575c76e10bb.jpeg',\n",
       " '/Volumes/DATASET/Train/Batch_4/1fc3bf59-9575-4743-9c3b-d797eb4aa6d2.jpeg',\n",
       " '/Volumes/DATASET/Train/Batch_4/8f185a28-b5ff-4ea1-9df5-ec3b95e4313a.jpeg',\n",
       " '/Volumes/DATASET/Train/Batch_4/7c6ec8d3-659b-431f-97e8-051bf9f4c8ed.jpeg',\n",
       " '/Volumes/DATASET/Train/Batch_4/2f9d9531-32e5-48e0-9eff-82881fbe3080.jpeg',\n",
       " '/Volumes/DATASET/Train/Batch_4/f7ea1edf-65f4-435f-aa1a-819d54582fb5.jpeg',\n",
       " '/Volumes/DATASET/Train/Batch_4/f03ccfbc-5a7a-46d6-abb4-535f6498246d.jpeg',\n",
       " '/Volumes/DATASET/Train/Batch_4/7436ee04-8f56-41d6-afe6-31fcfe405179.jpeg',\n",
       " '/Volumes/DATASET/Train/Batch_4/acc45269-0528-4e79-967f-99dc3766c520.jpeg',\n",
       " '/Volumes/DATASET/Train/Batch_4/9fc7f6d5-5ef3-49fe-97a6-018b72aeef11.jpeg',\n",
       " '/Volumes/DATASET/Train/Batch_4/043046a6-c44b-485e-9dda-fa2fb879a7f2.jpeg',\n",
       " '/Volumes/DATASET/Train/Batch_4/37a6c66d-bf5c-4998-9aaa-7a2585c56662.jpeg',\n",
       " '/Volumes/DATASET/Train/Batch_4/9c811407-721b-4659-8103-7681382ecbfe.jpeg',\n",
       " '/Volumes/DATASET/Train/Batch_4/8f92711f-9fb3-49f6-a917-1a8298470762.jpeg',\n",
       " '/Volumes/DATASET/Train/Batch_4/7d6a058a-87d5-423e-ae7d-c3ebdfc546ef.jpeg',\n",
       " '/Volumes/DATASET/Train/Batch_4/38d18674-03e3-4993-8f97-d933a1245881.jpeg',\n",
       " '/Volumes/DATASET/Train/Batch_4/7c510733-5a3c-40fa-810b-53e2c8c8e871.jpeg',\n",
       " '/Volumes/DATASET/Train/Batch_4/c693183b-aafe-40f0-aa5e-0e54ef3df903.jpeg',\n",
       " '/Volumes/DATASET/Train/Batch_4/555f60c1-821d-49c3-af37-7180663daa03.jpeg',\n",
       " '/Volumes/DATASET/Train/Batch_4/3782b51e-3752-4ccd-b5b6-464c17e276b7.jpeg',\n",
       " '/Volumes/DATASET/Train/Batch_4/8e8e623a-ba15-42b3-8933-c0bc7b2065ec.jpeg',\n",
       " '/Volumes/DATASET/Train/Batch_4/bdb19199-f9ae-47c4-a06d-82107f778f6a.jpeg',\n",
       " '/Volumes/DATASET/Train/Batch_4/1305575c-729a-45c3-a7e3-436a48daa2a6.jpeg',\n",
       " '/Volumes/DATASET/Train/Batch_4/44b38c0e-f1d9-4375-a2e4-9925a1e4e936.jpeg',\n",
       " '/Volumes/DATASET/Train/Batch_4/67e6b235-34ae-43ef-9383-add069b17f4e.jpeg',\n",
       " '/Volumes/DATASET/Train/Batch_4/3738b035-cb09-4b8a-9308-0f0ea971590c.jpeg',\n",
       " '/Volumes/DATASET/Train/Batch_4/0ae57d9c-ccbb-4649-ad45-2f77682ecf81.jpeg',\n",
       " '/Volumes/DATASET/Train/Batch_4/b208f063-778e-45c0-b668-8ac556bdb69b.jpeg',\n",
       " '/Volumes/DATASET/Train/Batch_4/7b51088c-0178-4fe3-a088-3f40d3f9e7b0.jpeg',\n",
       " '/Volumes/DATASET/Train/Batch_4/14efe92a-12d8-4df7-bb1c-ae01532c862a.jpeg',\n",
       " '/Volumes/DATASET/Train/Batch_4/203eabf1-fcd1-491a-81e8-720410e94342.jpeg',\n",
       " '/Volumes/DATASET/Train/Batch_4/c0dc626f-c354-4479-8f34-b225a98caba6.jpeg',\n",
       " '/Volumes/DATASET/Train/Batch_4/aaeedbf9-e6d5-4a1e-b963-3c169ae862a8.jpeg',\n",
       " '/Volumes/DATASET/Train/Batch_4/c33f8150-3081-449e-b13a-f391e5540722.jpeg',\n",
       " '/Volumes/DATASET/Train/Batch_4/8e79dc85-8a13-46fe-9558-dcb0378a5d3b.jpeg',\n",
       " '/Volumes/DATASET/Train/Batch_4/b00518a2-2791-46ca-a4d7-10dee4c85975.jpeg',\n",
       " '/Volumes/DATASET/Train/Batch_4/6bd557f3-da17-4eeb-af1e-f4d6b2c0a5b9.jpeg',\n",
       " '/Volumes/DATASET/Train/Batch_4/b145630e-0845-45c2-8ba9-470fd287bcc2.jpeg',\n",
       " '/Volumes/DATASET/Train/Batch_4/db1590e2-bd3f-4126-aa04-7aea07bd5153.jpeg',\n",
       " '/Volumes/DATASET/Train/Batch_4/2b54c2f9-4e93-4a5a-b203-147cfdc8c943.jpeg',\n",
       " '/Volumes/DATASET/Train/Batch_4/5dfd14ce-ce4c-46e6-b342-1eb6e9fb1637.jpeg',\n",
       " '/Volumes/DATASET/Train/Batch_4/065e6412-41c0-411a-8e1c-a9d82db669df.jpeg',\n",
       " '/Volumes/DATASET/Train/Batch_4/66adc31f-5751-4f22-9874-7cd45e66009f.jpeg',\n",
       " '/Volumes/DATASET/Train/Batch_4/3f7a8031-b538-429b-bf28-f64a36ea5cba.jpeg',\n",
       " '/Volumes/DATASET/Train/Batch_4/5422c3e9-43e1-403c-a7e7-2149d9a315b7.jpeg',\n",
       " '/Volumes/DATASET/Train/Batch_4/911cd331-7fa1-4fdc-b1fd-f075a30b62ce.jpeg',\n",
       " '/Volumes/DATASET/Train/Batch_4/2b36f004-53bd-4de4-8130-0f013252086b.jpeg',\n",
       " '/Volumes/DATASET/Train/Batch_4/f97432a0-116e-4a16-829a-b939e56ac0ae.jpeg',\n",
       " '/Volumes/DATASET/Train/Batch_4/fd354b8c-ec37-439a-827c-dacc22653bd8.jpeg',\n",
       " '/Volumes/DATASET/Train/Batch_4/f6e78674-de49-49c1-a166-a159d60af378.jpeg',\n",
       " '/Volumes/DATASET/Train/Batch_4/c4baf311-df27-4d1d-b6c3-463583aac3e5.jpeg',\n",
       " '/Volumes/DATASET/Train/Batch_4/c829f636-a55a-4fb0-b3bb-fcb82a6e3d9c.jpeg',\n",
       " '/Volumes/DATASET/Train/Batch_4/d48da2da-b1fe-4316-a62c-0577ef0cb4ad.jpeg',\n",
       " '/Volumes/DATASET/Train/Batch_4/3e2d1251-46bc-4585-849b-802eb253742b.jpeg',\n",
       " '/Volumes/DATASET/Train/Batch_4/aa1e3831-b30a-46e2-bd2c-327472b2a5c5.jpeg',\n",
       " '/Volumes/DATASET/Train/Batch_4/436116cc-f53f-4ee4-88b0-0c87a181c591.jpeg',\n",
       " '/Volumes/DATASET/Train/Batch_4/50b18a51-fd37-4757-903f-00f0cf5e702d.jpeg',\n",
       " '/Volumes/DATASET/Train/Batch_4/3bbd008a-abc8-4f3e-8fa6-e605e0f42b65.jpeg',\n",
       " '/Volumes/DATASET/Train/Batch_4/3c1226b6-8e00-44eb-b39f-2d9dda9a28f4.jpeg',\n",
       " '/Volumes/DATASET/Train/Batch_4/60a9c789-e081-4536-93d4-da5325665457.jpeg',\n",
       " '/Volumes/DATASET/Train/Batch_4/f81daff9-4767-4ee8-a211-2553a693c46a.jpeg',\n",
       " '/Volumes/DATASET/Train/Batch_4/988d8017-98f2-475a-963d-94d09fab9eff.jpeg',\n",
       " '/Volumes/DATASET/Train/Batch_4/a446a88e-7244-490a-b766-4d348c97ad86.jpeg',\n",
       " '/Volumes/DATASET/Train/Batch_4/91842ea7-16fa-4c01-ab68-094faaa3d579.jpeg',\n",
       " '/Volumes/DATASET/Train/Batch_4/bf45cf2c-2d45-444f-ac05-5a077095cca9.jpeg',\n",
       " '/Volumes/DATASET/Train/Batch_4/334b83ba-4d82-47d9-93ce-9bbdc67de3cf.jpeg',\n",
       " '/Volumes/DATASET/Train/Batch_4/c50b5edb-e249-42e7-8a75-67c0e3ce8050.jpeg',\n",
       " '/Volumes/DATASET/Train/Batch_4/a0a181ce-1e39-4cbd-ad75-6dd9f0517a83.jpeg',\n",
       " '/Volumes/DATASET/Train/Batch_4/c5c34101-43e2-419b-8c61-c57b3ea3fc98.jpeg',\n",
       " '/Volumes/DATASET/Train/Batch_4/f1835803-449e-4aba-8e33-b542a865c27c.jpeg',\n",
       " '/Volumes/DATASET/Train/Batch_4/d8028e21-eb6f-4391-a6d2-6c14419ed288.jpeg',\n",
       " '/Volumes/DATASET/Train/Batch_4/53e60cd7-d62e-4dd5-961f-ceb948b7a5a3.jpeg',\n",
       " '/Volumes/DATASET/Train/Batch_4/61e6454b-224a-45b2-bd7d-9b0e29634a0d.jpeg',\n",
       " '/Volumes/DATASET/Train/Batch_4/5454b5b5-2bcd-44a0-8d00-d27dfb296828.jpeg',\n",
       " '/Volumes/DATASET/Train/Batch_4/173510de-a338-48d6-8c6b-8feed3752e22.jpeg',\n",
       " '/Volumes/DATASET/Train/Batch_4/7155636b-c51f-445d-858d-a3cee62a66ea.jpeg',\n",
       " '/Volumes/DATASET/Train/Batch_4/745018a3-37d9-4387-9b82-551cd1e835da.jpeg',\n",
       " '/Volumes/DATASET/Train/Batch_4/b5d7e48d-3446-44f7-ac07-0a88f490afde.jpeg',\n",
       " '/Volumes/DATASET/Train/Batch_4/dfc7dde1-9758-4317-bf27-b64759d64656.jpeg',\n",
       " '/Volumes/DATASET/Train/Batch_4/f489ecb6-8a45-4ddd-b85d-aa9d92fe3e0a.jpeg',\n",
       " '/Volumes/DATASET/Train/Batch_4/ae7ed33a-1823-4bcf-8dd6-9e0f03bf288c.jpeg',\n",
       " '/Volumes/DATASET/Train/Batch_4/0357b299-0965-4553-b91f-bf426db74990.jpeg',\n",
       " '/Volumes/DATASET/Train/Batch_4/3401d88e-da40-42b9-9850-b5ccb1e9bd17.jpeg',\n",
       " '/Volumes/DATASET/Train/Batch_4/79babd27-5b76-423e-8a3d-faf06bedff12.jpeg',\n",
       " '/Volumes/DATASET/Train/Batch_4/07354c13-1701-42a0-b4a7-609ca0366839.jpeg',\n",
       " '/Volumes/DATASET/Train/Batch_4/6aefe42b-f521-4ba3-b9b9-9a55513fa4ff.jpeg',\n",
       " '/Volumes/DATASET/Train/Batch_4/54eb0d46-dcd1-4e75-b2df-e33a7d2c6030.jpeg',\n",
       " '/Volumes/DATASET/Train/Batch_4/8b3e7781-9643-4517-b716-cd041ca62db4.jpeg',\n",
       " '/Volumes/DATASET/Train/Batch_4/ec6e870c-a9ab-4353-9afa-5c6f8f390824.jpeg',\n",
       " '/Volumes/DATASET/Train/Batch_4/8ebec405-f4ef-437a-8a3d-8cd8752fcd7e.jpeg',\n",
       " '/Volumes/DATASET/Train/Batch_4/3fc4c4c8-1c61-484c-b085-71be4d24f8ee.jpeg',\n",
       " '/Volumes/DATASET/Train/Batch_4/21392b74-c60f-40c2-9c40-59094907180f.jpeg',\n",
       " '/Volumes/DATASET/Train/Batch_4/45ae5452-cf06-427f-84bb-82af9adf59db.jpeg',\n",
       " '/Volumes/DATASET/Train/Batch_4/19187722-d34c-49ae-bc78-ab61fd431109.jpeg',\n",
       " '/Volumes/DATASET/Train/Batch_4/af0fe671-0b42-44e0-a276-be31d9ec9e5e.jpeg',\n",
       " '/Volumes/DATASET/Train/Batch_4/729bf667-47df-4b68-b9c9-64517ba546eb.jpeg',\n",
       " '/Volumes/DATASET/Train/Batch_4/e540c113-e7fd-49e0-8d51-256ba51e4948.jpeg',\n",
       " '/Volumes/DATASET/Train/Batch_4/238a68b3-4263-4894-ac8d-6badba2285a4.jpeg',\n",
       " '/Volumes/DATASET/Train/Batch_4/9bf2aaf8-f456-45d1-b268-b0521b3ae31d.jpeg',\n",
       " '/Volumes/DATASET/Train/Batch_4/a42a3d7f-f102-40d5-bdf9-763f286df9cf.jpeg',\n",
       " '/Volumes/DATASET/Train/Batch_4/75db49bb-e8df-42d9-ab47-31110c068bc0.jpeg',\n",
       " '/Volumes/DATASET/Train/Batch_4/b0bce910-5a70-4c99-8da1-282ba47db433.jpeg',\n",
       " '/Volumes/DATASET/Train/Batch_4/f562dea3-9be2-4c06-9ccf-3f4a7b49339f.jpeg',\n",
       " '/Volumes/DATASET/Train/Batch_4/286be0c6-f4fd-4ce3-979d-cdcb35d814f1.jpeg',\n",
       " '/Volumes/DATASET/Train/Batch_4/76646376-2f2d-4306-99db-0c8283054152.jpeg',\n",
       " '/Volumes/DATASET/Train/Batch_4/ada06531-abf0-4723-a333-fa39efcf1887.jpeg',\n",
       " '/Volumes/DATASET/Train/Batch_4/cbea32aa-47a4-4b09-881c-574538d55b84.jpeg',\n",
       " '/Volumes/DATASET/Train/Batch_4/2b2aeae6-18bc-4762-bc45-8ec4d4d7707a.jpeg',\n",
       " '/Volumes/DATASET/Train/Batch_4/74843874-d06e-494e-b916-9fd80c3f0873.jpeg',\n",
       " '/Volumes/DATASET/Train/Batch_4/14d1ff33-eb6c-4f6d-929b-5e7922643e9c.jpeg',\n",
       " '/Volumes/DATASET/Train/Batch_4/c539cf25-d4b0-4605-becb-4a42c1dcc00d.jpeg',\n",
       " '/Volumes/DATASET/Train/Batch_4/d6bb7443-ea65-4615-97af-04e3d07e7205.jpeg',\n",
       " '/Volumes/DATASET/Train/Batch_4/efe13b10-6010-4782-9248-8f92adf6d3d0.jpeg',\n",
       " '/Volumes/DATASET/Train/Batch_4/69df4cc6-db96-47aa-bdac-9cf73625c297.jpeg',\n",
       " '/Volumes/DATASET/Train/Batch_4/3e34602c-17f5-4601-ad06-586ec0fd317d.jpeg',\n",
       " '/Volumes/DATASET/Train/Batch_4/ed8f880c-50c6-45f4-aa63-4527783ab3e2.jpeg',\n",
       " '/Volumes/DATASET/Train/Batch_4/d6e0fefa-1fca-4abb-95a3-ee1f14d1d73c.jpeg',\n",
       " '/Volumes/DATASET/Train/Batch_4/cb5f1c68-dc8e-42b0-afcc-b5040e96282f.jpeg',\n",
       " '/Volumes/DATASET/Train/Batch_4/171b7af8-2c16-498e-8d13-802d09538618.jpeg',\n",
       " '/Volumes/DATASET/Train/Batch_4/bc4281fd-446d-466e-aa16-2c251a5a5e48.jpeg',\n",
       " '/Volumes/DATASET/Train/Batch_4/445f9ef1-c6a6-4a4a-a212-41bad853af9d.jpeg',\n",
       " '/Volumes/DATASET/Train/Batch_4/c38b43b9-49c0-4e9f-9593-6da7834c9336.jpeg',\n",
       " '/Volumes/DATASET/Train/Batch_4/945d89c4-ec4a-4749-ad8c-2fad38fcae2f.jpeg',\n",
       " '/Volumes/DATASET/Train/Batch_4/173caf3d-18e9-44bd-9937-9b741f3b9090.jpeg',\n",
       " '/Volumes/DATASET/Train/Batch_4/db7fafcc-30f4-4470-a5f0-1a79f83e3931.jpeg',\n",
       " '/Volumes/DATASET/Train/Batch_4/41425add-eae9-4aab-a34d-f2bd099e268b.jpeg',\n",
       " '/Volumes/DATASET/Train/Batch_4/c825d67f-dee8-4250-972f-accd2e74869d.jpeg',\n",
       " '/Volumes/DATASET/Train/Batch_4/2e16b233-4df6-436d-99db-3d47c6b1141c.jpeg',\n",
       " '/Volumes/DATASET/Train/Batch_4/1390f00a-7ea9-4d6b-a43b-f084603375e0.jpeg',\n",
       " '/Volumes/DATASET/Train/Batch_4/19cde31b-3bc6-41df-9b91-2e1cefb2adda.jpeg',\n",
       " '/Volumes/DATASET/Train/Batch_4/bb7d8676-90be-45f2-b3b8-c6e5ec27421a.jpeg',\n",
       " '/Volumes/DATASET/Train/Batch_4/3a79aac5-6aa5-46f7-90b8-5d83570348de.jpeg',\n",
       " '/Volumes/DATASET/Train/Batch_4/4d04ee35-f154-46e5-b430-fe65d0d95812.jpeg',\n",
       " '/Volumes/DATASET/Train/Batch_4/243a4df3-c9cd-4f1f-83d6-04bcd67cf506.jpeg',\n",
       " '/Volumes/DATASET/Train/Batch_4/68581039-f413-4675-965f-9c5875cd03e6.jpeg',\n",
       " '/Volumes/DATASET/Train/Batch_4/8b7d813d-1248-4e70-a05d-b532e7bccf39.jpeg',\n",
       " '/Volumes/DATASET/Train/Batch_4/682896e8-a159-495a-b365-da869e830f10.jpeg',\n",
       " '/Volumes/DATASET/Train/Batch_4/d9f9af01-f567-4f05-984e-702a437c0c17.jpeg',\n",
       " '/Volumes/DATASET/Train/Batch_4/b2b3d4ad-0407-4863-951c-b52c774815c3.jpeg',\n",
       " '/Volumes/DATASET/Train/Batch_4/28e11f73-32ad-41bf-8c95-a3a68e935112.jpeg',\n",
       " '/Volumes/DATASET/Train/Batch_4/0f1ee7b9-2f26-422c-801d-d331f65dfcf3.jpeg',\n",
       " '/Volumes/DATASET/Train/Batch_4/c5f8ef1a-3359-44b3-905f-dfd8132423bc.jpeg',\n",
       " '/Volumes/DATASET/Train/Batch_4/7a34e5ef-1421-4c0a-ab5f-b32d801afcb3.jpeg',\n",
       " '/Volumes/DATASET/Train/Batch_4/82499d50-409b-4a78-b3c5-92f781d1a1bf.jpeg',\n",
       " '/Volumes/DATASET/Train/Batch_4/d8159d09-5882-4ae9-bb9f-4526b4a28f23.jpeg',\n",
       " '/Volumes/DATASET/Train/Batch_4/4b8627af-6ec8-4720-afa6-b556e94c84ed.jpeg',\n",
       " '/Volumes/DATASET/Train/Batch_4/6c83bbf5-c68a-4975-b8ad-fd9de561b311.jpeg',\n",
       " '/Volumes/DATASET/Train/Batch_4/3162a753-23dc-4b76-9784-2f2ca52fa3eb.jpeg',\n",
       " '/Volumes/DATASET/Train/Batch_4/2bd577c2-df78-404a-ae3d-89cc4688b679.jpeg',\n",
       " '/Volumes/DATASET/Train/Batch_4/e5c60b2d-5673-47c0-b943-66c2407ce647.jpeg',\n",
       " '/Volumes/DATASET/Train/Batch_4/41f376fc-b485-4b37-981a-266225884ef4.jpeg',\n",
       " '/Volumes/DATASET/Train/Batch_4/7dacc34a-9272-4c1c-8da4-034eb2873d87.jpeg',\n",
       " '/Volumes/DATASET/Train/Batch_4/a67e9cb9-e90c-4f75-a7ab-ed41ea1d18dd.jpeg',\n",
       " '/Volumes/DATASET/Train/Batch_4/3e772ccd-e13d-4c39-ad19-cb1866a4487c.jpeg',\n",
       " '/Volumes/DATASET/Train/Batch_4/7b4391d3-0414-4ed3-9130-3ab3de69f369.jpeg',\n",
       " '/Volumes/DATASET/Train/Batch_4/e4168868-3c00-465d-b847-f30f8eb0b7ea.jpeg',\n",
       " '/Volumes/DATASET/Train/Batch_4/e893e0cf-7bc7-4cb0-8f2a-96da11647107.jpeg',\n",
       " '/Volumes/DATASET/Train/Batch_4/d34ca8b0-032f-47ed-b0fb-12f8e7f1d30b.jpeg',\n",
       " '/Volumes/DATASET/Train/Batch_4/23471fc2-ada8-408b-9ab3-4e460182c687.jpeg',\n",
       " '/Volumes/DATASET/Train/Batch_4/1342f104-7ccf-4009-a65d-c779af3a4f52.jpeg',\n",
       " '/Volumes/DATASET/Train/Batch_4/0a8ee99a-8ffe-41e1-8b99-124e1e5aa20f.jpeg',\n",
       " '/Volumes/DATASET/Train/Batch_4/32837f24-11ea-41e5-a9c9-a9324f65b721.jpeg',\n",
       " '/Volumes/DATASET/Train/Batch_4/2b80a467-903a-413f-b953-5176027563d0.jpeg',\n",
       " '/Volumes/DATASET/Train/Batch_4/6efc6b4a-efec-4340-8b4c-9f4fd059cb85.jpeg',\n",
       " '/Volumes/DATASET/Train/Batch_4/d181fc5c-4807-400e-a664-a383a9dc8c8d.jpeg',\n",
       " '/Volumes/DATASET/Train/Batch_4/0745b3a5-9d08-40ac-937c-f6f007e04bca.jpeg',\n",
       " '/Volumes/DATASET/Train/Batch_4/f33331da-cceb-43e8-9ca4-d18be38d6b4a.jpeg',\n",
       " '/Volumes/DATASET/Train/Batch_4/84fda773-ee08-4de2-a457-337d9111fa62.jpeg',\n",
       " '/Volumes/DATASET/Train/Batch_4/282b9807-8f2d-4ef6-bddd-eb0d2fea42f6.jpeg',\n",
       " '/Volumes/DATASET/Train/Batch_4/be781998-768b-4020-9276-b691f49743ef.jpeg',\n",
       " '/Volumes/DATASET/Train/Batch_4/40909f8d-a948-42eb-a6f6-6c959f861f8c.jpeg',\n",
       " '/Volumes/DATASET/Train/Batch_4/ca4b97f9-08a7-45bf-b9dc-ba2886e7b9d7.jpeg',\n",
       " '/Volumes/DATASET/Train/Batch_4/5c833a7c-ae3c-4d06-be7c-66b06c0226e8.jpeg',\n",
       " '/Volumes/DATASET/Train/Batch_4/68d6a0f0-2cf9-4eae-abce-001fd2dad90e.jpeg',\n",
       " '/Volumes/DATASET/Train/Batch_4/fe54ada8-ce7f-402a-8917-da069f3fff29.jpeg',\n",
       " '/Volumes/DATASET/Train/Batch_4/f55dd72e-7b17-4e64-8695-db4a8438da0f.jpeg',\n",
       " '/Volumes/DATASET/Train/Batch_4/42b3dcc1-d975-409a-a311-72fcb81615d6.jpeg',\n",
       " '/Volumes/DATASET/Train/Batch_4/5d577a8d-e621-4a4d-935b-dcfc19a58592.jpeg',\n",
       " '/Volumes/DATASET/Train/Batch_4/7df143fa-4268-4ac7-8023-b1c1517bccd8.jpeg',\n",
       " '/Volumes/DATASET/Train/Batch_4/f0832bd6-3d56-411e-babc-292fe948e69b.jpeg',\n",
       " '/Volumes/DATASET/Train/Batch_4/5465538a-a307-4437-b469-e5cdfaaced7c.jpeg',\n",
       " '/Volumes/DATASET/Train/Batch_4/8fa480e7-d109-4b79-aa51-712f81895f79.jpeg',\n",
       " '/Volumes/DATASET/Train/Batch_4/99b8bbc7-40e1-4fc6-adb9-6976c3c3f5ea.jpeg',\n",
       " '/Volumes/DATASET/Train/Batch_4/2619a568-66fd-4ff7-bd11-ad880be2f8a3.jpeg',\n",
       " '/Volumes/DATASET/Train/Batch_4/47c50c28-1458-4dc3-88eb-30921ec5eb70.jpeg',\n",
       " '/Volumes/DATASET/Train/Batch_4/eeed5694-62ff-4f28-88f4-6360dda21fdb.jpeg',\n",
       " '/Volumes/DATASET/Train/Batch_4/7d12f43f-3103-4a16-a13c-87ec32212837.jpeg',\n",
       " '/Volumes/DATASET/Train/Batch_4/293e8019-0a23-41ac-99db-6231c2d04954.jpeg',\n",
       " '/Volumes/DATASET/Train/Batch_4/85806263-745a-4c39-b5d5-723a42a55d03.jpeg',\n",
       " '/Volumes/DATASET/Train/Batch_4/862224d1-2e49-4ce2-ac85-c181b96d5990.jpeg',\n",
       " '/Volumes/DATASET/Train/Batch_4/c1d46e8f-bd5c-4202-89b9-886c3c79b2ed.jpeg',\n",
       " '/Volumes/DATASET/Train/Batch_4/47512942-7601-4683-b2c2-3780600c4eb0.jpeg',\n",
       " '/Volumes/DATASET/Train/Batch_4/653163a9-efdf-49d1-94b8-814c153bce14.jpeg',\n",
       " '/Volumes/DATASET/Train/Batch_4/761315ff-27d6-403a-9d79-d57c425f2dfd.jpeg',\n",
       " '/Volumes/DATASET/Train/Batch_4/e0de534d-09a0-410f-96d5-e6ac7ebb3f9c.jpeg',\n",
       " '/Volumes/DATASET/Train/Batch_4/5d622989-fb7d-4edb-92ab-b618fdee4656.jpeg',\n",
       " '/Volumes/DATASET/Train/Batch_4/557b239c-fedb-48fb-8f59-82ad7dfd936e.jpeg',\n",
       " '/Volumes/DATASET/Train/Batch_4/1a71ba63-f174-4ca2-a0d0-4cd3de184e4d.jpeg',\n",
       " '/Volumes/DATASET/Train/Batch_4/1736f241-d665-48a9-9e8b-d758239395be.jpeg',\n",
       " '/Volumes/DATASET/Train/Batch_4/88fd5c6e-57bd-4ee2-bfa1-eba4c34ce07b.jpeg',\n",
       " '/Volumes/DATASET/Train/Batch_4/e69418ce-6aaa-4407-bfe7-b7e743b90b1b.jpeg',\n",
       " '/Volumes/DATASET/Train/Batch_4/51a68826-d2c1-4e7b-8f2f-9256723c97df.jpeg',\n",
       " '/Volumes/DATASET/Train/Batch_4/ee5a12df-cc7b-4abc-a1dd-dc0d5c8628dd.jpeg',\n",
       " '/Volumes/DATASET/Train/Batch_4/7bb141f2-68a2-4b20-afa0-1b792df73dfb.jpeg',\n",
       " '/Volumes/DATASET/Train/Batch_4/f8ccf697-a7a9-442f-a0c0-840942023fff.jpeg',\n",
       " '/Volumes/DATASET/Train/Batch_4/0b8962c3-8bb2-42b8-8427-bb91b07170c3.jpeg',\n",
       " '/Volumes/DATASET/Train/Batch_4/3b4b551c-fd44-4877-b80b-43f6236ea5eb.jpeg',\n",
       " '/Volumes/DATASET/Train/Batch_4/d84fddc5-e0be-479e-8f6e-bab498b3442f.jpeg',\n",
       " '/Volumes/DATASET/Train/Batch_4/9c8be156-f41c-4f90-a886-3babae3943ba.jpeg',\n",
       " '/Volumes/DATASET/Train/Batch_4/a9f3f11b-27e5-4489-85fe-06092d629b80.jpeg',\n",
       " '/Volumes/DATASET/Train/Batch_4/92d341c6-b80c-49b0-ba01-738bd67bf6a0.jpeg',\n",
       " '/Volumes/DATASET/Train/Batch_4/86636e4a-bf59-409b-b9aa-9d8c8c109ec9.jpeg',\n",
       " '/Volumes/DATASET/Train/Batch_4/e2b2b8ac-2d89-4faf-9cd3-3b897f46b05b.jpeg',\n",
       " '/Volumes/DATASET/Train/Batch_4/b1ac0449-0645-426c-bd62-46ded73e5cf2.jpeg',\n",
       " '/Volumes/DATASET/Train/Batch_4/b8086919-2769-496c-9a4b-6132d3bd1186.jpeg',\n",
       " '/Volumes/DATASET/Train/Batch_4/567a9778-d4d9-4c64-b1c3-658cdd2bc7c2.jpeg',\n",
       " '/Volumes/DATASET/Train/Batch_4/e2c69268-045e-4406-8ee3-c226d0cd95b0.jpeg',\n",
       " '/Volumes/DATASET/Train/Batch_4/9d3f756e-aaba-4d39-9bb1-5ee84cd0949a.jpeg',\n",
       " '/Volumes/DATASET/Train/Batch_4/eae83e3f-d193-40ac-b487-616112413dcd.jpeg',\n",
       " '/Volumes/DATASET/Train/Batch_4/ad77ccfd-ea2b-4e61-9144-fca283ffcaa8.jpeg',\n",
       " '/Volumes/DATASET/Train/Batch_4/838d35f4-a7ae-416e-ab66-eaf7d21eb519.jpeg',\n",
       " '/Volumes/DATASET/Train/Batch_4/4ebf11a1-b2c9-42fe-8b67-500f5d9b1f54.jpeg',\n",
       " '/Volumes/DATASET/Train/Batch_4/89d5ee3c-1e67-4640-8124-10942cf2cecb.jpeg',\n",
       " '/Volumes/DATASET/Train/Batch_4/0668f968-751b-4296-9f05-20e1622e27f4.jpeg',\n",
       " '/Volumes/DATASET/Train/Batch_4/e00f2d64-6f3c-4e0b-9d0f-7a08ab2a8cab.jpeg',\n",
       " '/Volumes/DATASET/Train/Batch_4/41412445-03dd-4d14-a2b7-c491aa4569ec.jpeg',\n",
       " '/Volumes/DATASET/Train/Batch_4/013ca442-0ae3-4674-86cb-4b19ab87a425.jpeg',\n",
       " '/Volumes/DATASET/Train/Batch_4/e1a49973-9adc-47ec-a6b7-75b9299b0bf5.jpeg',\n",
       " '/Volumes/DATASET/Train/Batch_4/f85c7f36-4243-4366-a894-aff8c7da62bb.jpeg',\n",
       " '/Volumes/DATASET/Train/Batch_4/60740981-40dc-4cce-b9fb-fe7be878d054.jpeg',\n",
       " '/Volumes/DATASET/Train/Batch_4/63af5493-c3ac-4498-8756-49da70b42daa.jpeg',\n",
       " '/Volumes/DATASET/Train/Batch_4/3e364bde-b894-46ec-9a19-9e273867d6c2.jpeg',\n",
       " '/Volumes/DATASET/Train/Batch_4/a75750ca-e1f4-42e1-8961-7416b4da0afe.jpeg',\n",
       " '/Volumes/DATASET/Train/Batch_4/9f3428fb-71e8-4aad-8b41-aa5eab2be2f3.jpeg',\n",
       " '/Volumes/DATASET/Train/Batch_4/2dbfa8e6-6f7c-4876-8ffc-6c146d96ea23.jpeg',\n",
       " '/Volumes/DATASET/Train/Batch_4/8e1378dd-9bf0-46b0-bbad-fae239f4630c.jpeg',\n",
       " '/Volumes/DATASET/Train/Batch_4/fc1b948d-c743-402c-a4a0-3fff11d68e5c.jpeg',\n",
       " '/Volumes/DATASET/Train/Batch_4/b8e0cc57-f0e7-4173-adfa-20771f2fe9b9.jpeg',\n",
       " '/Volumes/DATASET/Train/Batch_4/b4c09fb4-ccae-4f10-8eb8-9016b3e3f58d.jpeg',\n",
       " '/Volumes/DATASET/Train/Batch_4/ac2bfddd-e26b-4023-88e8-2eab73fd4c8f.jpeg',\n",
       " '/Volumes/DATASET/Train/Batch_4/81c8683d-d0b8-40e4-a767-406d085fb1a6.jpeg',\n",
       " '/Volumes/DATASET/Train/Batch_4/789ae7b0-9e9d-4d45-8eaa-91afe998714b.jpeg',\n",
       " '/Volumes/DATASET/Train/Batch_4/a403937d-e89f-4d0f-a0bc-a86b4f76ff04.jpeg',\n",
       " '/Volumes/DATASET/Train/Batch_4/1d50120d-620a-4b1c-af58-553250192258.jpeg',\n",
       " '/Volumes/DATASET/Train/Batch_4/b4e860e7-1f6b-43f4-84ad-a93330e32287.jpeg',\n",
       " '/Volumes/DATASET/Train/Batch_4/252ccd5a-ac7f-422c-88cf-e2accb8d1ef6.jpeg',\n",
       " '/Volumes/DATASET/Train/Batch_4/149c9867-2eea-4303-b65c-a9b8cc3fc248.jpeg',\n",
       " '/Volumes/DATASET/Train/Batch_4/09cb7ed4-538d-4ff8-8c41-4a0391104292.jpeg',\n",
       " '/Volumes/DATASET/Train/Batch_4/3935e164-a6c0-4255-87aa-3432af9ce553.jpeg',\n",
       " '/Volumes/DATASET/Train/Batch_4/00f73276-c39e-4273-8203-f84a88f1b8b2.jpeg',\n",
       " '/Volumes/DATASET/Train/Batch_4/5bed8afa-703c-434e-b7af-03ad93e878e9.jpeg',\n",
       " '/Volumes/DATASET/Train/Batch_4/1c01c611-613e-4e29-8f5b-8318210b85a8.jpeg',\n",
       " '/Volumes/DATASET/Train/Batch_4/0b690e72-09a3-4328-9e14-a0c17ad54a3d.jpeg',\n",
       " '/Volumes/DATASET/Train/Batch_4/57c06184-53cb-4912-b429-18a47abe379f.jpeg',\n",
       " '/Volumes/DATASET/Train/Batch_4/6da63d46-26c8-42f9-a34a-51419773db81.jpeg',\n",
       " '/Volumes/DATASET/Train/Batch_4/d5701540-f55d-45e1-a167-3dd2b6e4e8bd.jpeg',\n",
       " '/Volumes/DATASET/Train/Batch_4/5186a3c5-64b3-4e6a-918a-a95d93e5b60b.jpeg',\n",
       " '/Volumes/DATASET/Train/Batch_4/9a5adb43-c3cb-41e4-9883-132a8aad475b.jpeg',\n",
       " '/Volumes/DATASET/Train/Batch_4/2e16074f-7ca0-49cd-bc10-3eb94dee3594.jpeg',\n",
       " '/Volumes/DATASET/Train/Batch_4/1477f4ae-2340-461d-8f3c-75d8c3fb7844.jpeg',\n",
       " '/Volumes/DATASET/Train/Batch_4/cbeb0479-d391-4356-ac63-4de2ee67dc68.jpeg',\n",
       " '/Volumes/DATASET/Train/Batch_4/07f05653-b201-48c3-b717-d24d8c31e170.jpeg',\n",
       " '/Volumes/DATASET/Train/Batch_4/c2a19e92-77fd-446f-9012-8bff11fbfd2a.jpeg',\n",
       " '/Volumes/DATASET/Train/Batch_4/84d0c192-7b63-4947-b204-270f8b000239.jpeg',\n",
       " '/Volumes/DATASET/Train/Batch_4/101f4006-428e-463e-8fac-6eca4a46b1f7.jpeg',\n",
       " '/Volumes/DATASET/Train/Batch_4/ec611d24-72b9-4ea4-b6c2-86e60a81e5ab.jpeg',\n",
       " '/Volumes/DATASET/Train/Batch_4/15b15f53-aac7-42fd-850d-47048dbd0e31.jpeg',\n",
       " '/Volumes/DATASET/Train/Batch_4/898bd31d-9f6e-44fe-86fa-410c04ec0a94.jpeg',\n",
       " '/Volumes/DATASET/Train/Batch_4/5bed550d-98ed-4ad3-863c-560bc6bcd256.jpeg',\n",
       " '/Volumes/DATASET/Train/Batch_4/bb3fae8a-f894-42b6-9519-ad10c8ca9a64.jpeg',\n",
       " '/Volumes/DATASET/Train/Batch_4/41125336-5a3c-46f2-8314-fa3143fdf2e1.jpeg',\n",
       " '/Volumes/DATASET/Train/Batch_4/3898230d-5c27-4d63-9686-954c68bf681e.jpeg',\n",
       " '/Volumes/DATASET/Train/Batch_4/bad15be1-29c5-4c16-b8b6-3f39abd156d7.jpeg',\n",
       " '/Volumes/DATASET/Train/Batch_4/476ed7e6-2462-4200-b967-669fc2095478.jpeg',\n",
       " '/Volumes/DATASET/Train/Batch_4/8313101f-39ec-4206-b31e-142ab5fd0f2d.jpeg',\n",
       " '/Volumes/DATASET/Train/Batch_4/8e3b32c7-0612-4082-81d8-6e35c6ab51c2.jpeg',\n",
       " '/Volumes/DATASET/Train/Batch_4/1330cdd0-ac93-4e30-b15b-67566cb01432.jpeg',\n",
       " '/Volumes/DATASET/Train/Batch_4/e02fc4d0-ef04-4603-b5ed-6c71faee39b3.jpeg',\n",
       " '/Volumes/DATASET/Train/Batch_4/dba7d8b0-27d7-4fc8-aeb0-94f4cc3c4df9.jpeg',\n",
       " '/Volumes/DATASET/Train/Batch_4/2d4a7d98-a684-4556-866a-c33e0ab7c481.jpeg',\n",
       " '/Volumes/DATASET/Train/Batch_4/e805388d-eb87-4759-9fb7-aff2dd094b63.jpeg',\n",
       " '/Volumes/DATASET/Train/Batch_4/fb82479a-5e98-4201-b4a1-a7f430c16324.jpeg',\n",
       " '/Volumes/DATASET/Train/Batch_4/f3b09faf-b208-4119-830f-0784c8845be3.jpeg',\n",
       " '/Volumes/DATASET/Train/Batch_4/39ae8e77-e2ca-46c2-836f-4d6af97dac7c.jpeg',\n",
       " '/Volumes/DATASET/Train/Batch_4/0d285ae1-1a58-4820-b58b-d22233a7466a.jpeg',\n",
       " '/Volumes/DATASET/Train/Batch_4/d0e46cab-0521-46a3-b07d-e788ecce9412.jpeg',\n",
       " '/Volumes/DATASET/Train/Batch_4/7fe2fd59-25be-4cf3-8c27-abb200707d99.jpeg',\n",
       " '/Volumes/DATASET/Train/Batch_4/afc40868-a280-4e80-8ce4-3bef37c12d4d.jpeg',\n",
       " '/Volumes/DATASET/Train/Batch_4/48fd05a8-4961-4ed2-9ea6-efc94df46687.jpeg',\n",
       " '/Volumes/DATASET/Train/Batch_4/1cdee368-4a04-45f0-b64a-f31818b275c1.jpeg',\n",
       " '/Volumes/DATASET/Train/Batch_4/f0e09f78-b154-4c03-8093-01f0c8600578.jpeg',\n",
       " '/Volumes/DATASET/Train/Batch_4/757ca6e3-ab1d-4d07-95e7-41f281562496.jpeg',\n",
       " '/Volumes/DATASET/Train/Batch_4/32fada58-1e08-4769-831e-2399af7c1da4.jpeg',\n",
       " '/Volumes/DATASET/Train/Batch_4/8a7c7d29-d01a-40cd-a24b-f9599853d954.jpeg',\n",
       " '/Volumes/DATASET/Train/Batch_4/36a8435e-3108-4a15-b067-89cec751c1ad.jpeg',\n",
       " '/Volumes/DATASET/Train/Batch_4/bb7d3d00-58c2-4bab-8f02-09b750d1ceb5.jpeg',\n",
       " '/Volumes/DATASET/Train/Batch_4/a942d709-8535-4e69-a998-ccc45847474d.jpeg',\n",
       " '/Volumes/DATASET/Train/Batch_4/8936d2b4-5287-489f-980d-07e1231091d6.jpeg',\n",
       " '/Volumes/DATASET/Train/Batch_4/7d6c5455-7c52-4624-8ced-43345b97cf04.jpeg',\n",
       " '/Volumes/DATASET/Train/Batch_4/6caa20f6-c6ee-47f2-a83a-e4cc26fe183f.jpeg',\n",
       " '/Volumes/DATASET/Train/Batch_4/91bf5f76-7b09-4c14-9964-4e193fb566bb.jpeg',\n",
       " '/Volumes/DATASET/Train/Batch_4/91f97f34-c57f-4df3-91b6-2064603afbbf.jpeg',\n",
       " '/Volumes/DATASET/Train/Batch_4/c74c1b4d-032f-47c3-9c6c-1a9495dbb594.jpeg',\n",
       " '/Volumes/DATASET/Train/Batch_4/1e466ee9-3c22-419e-9fd1-513dc0f5b6cc.jpeg',\n",
       " '/Volumes/DATASET/Train/Batch_4/7022f482-3fe4-471a-b952-75386fc850ce.jpeg',\n",
       " '/Volumes/DATASET/Train/Batch_4/e858cd43-6761-4c3f-906f-8d3de8725b38.jpeg',\n",
       " '/Volumes/DATASET/Train/Batch_4/ae5e9fa1-0401-4474-8f0d-7b004badeeb4.jpeg',\n",
       " '/Volumes/DATASET/Train/Batch_4/0f2900f7-fcdb-4846-b523-8c94326b850b.jpeg',\n",
       " '/Volumes/DATASET/Train/Batch_4/9f89d6f8-f825-45d0-92fd-13b69058ed95.jpeg',\n",
       " '/Volumes/DATASET/Train/Batch_4/d9c08566-6ff1-49bc-8d34-9dd67533d3d9.jpeg',\n",
       " '/Volumes/DATASET/Train/Batch_4/4a332181-a892-4bd2-9b16-61abeafcaafb.jpeg',\n",
       " '/Volumes/DATASET/Train/Batch_4/6e4f5332-7898-49cd-8806-2020d1f83cc9.jpeg',\n",
       " '/Volumes/DATASET/Train/Batch_4/42ecd944-5e00-4d83-8fd6-99fdc236d394.jpeg',\n",
       " '/Volumes/DATASET/Train/Batch_4/3e83afdc-f9fb-4b3f-b5fc-3cfb47d337c1.jpeg',\n",
       " '/Volumes/DATASET/Train/Batch_4/2668ec00-4af5-4f0b-9bee-ac294344abc9.jpeg',\n",
       " '/Volumes/DATASET/Train/Batch_4/b416e98a-7c48-4606-a5df-78f3d04cb24b.jpeg',\n",
       " '/Volumes/DATASET/Train/Batch_4/ab907cf8-2f19-486c-b919-5d02ab349bea.jpeg',\n",
       " '/Volumes/DATASET/Train/Batch_4/71139c69-b3c6-4c00-a981-3f76efe7a895.jpeg',\n",
       " '/Volumes/DATASET/Train/Batch_4/4eafb7e3-31df-4dde-8299-848c17b336ea.jpeg',\n",
       " '/Volumes/DATASET/Train/Batch_4/726537c9-6d6f-4ba8-855e-9cc1a81666be.jpeg',\n",
       " '/Volumes/DATASET/Train/Batch_4/94be1cea-3c6b-4dd2-a234-c134d53b4afc.jpeg',\n",
       " '/Volumes/DATASET/Train/Batch_4/a7975b0e-2f33-45c2-b406-3a1017b397ef.jpeg',\n",
       " '/Volumes/DATASET/Train/Batch_4/e90d7031-5ab9-461c-9d4d-9295a4b91e0b.jpeg',\n",
       " '/Volumes/DATASET/Train/Batch_4/4a07329a-b371-46f1-b49b-6a7e8a9c0e10.jpeg',\n",
       " '/Volumes/DATASET/Train/Batch_4/0b90a36d-3b5d-4e99-8790-b87c390b2fb7.jpeg',\n",
       " '/Volumes/DATASET/Train/Batch_4/137ddf4a-101e-49ea-a1f7-e13142df4d0b.jpeg',\n",
       " '/Volumes/DATASET/Train/Batch_4/2f42d33b-5473-423a-8cb4-cdbf476a5a6f.jpeg',\n",
       " '/Volumes/DATASET/Train/Batch_4/d2558bc7-6a86-4d11-b657-2116fecbe1dc.jpeg',\n",
       " '/Volumes/DATASET/Train/Batch_4/fb4fcabf-7076-4fef-abf6-92f3dbdc8de3.jpeg',\n",
       " '/Volumes/DATASET/Train/Batch_4/f8da03e0-d17d-472a-8792-901de67b376b.jpeg',\n",
       " '/Volumes/DATASET/Train/Batch_4/b58d43ce-f0c1-4bfd-9c85-87d8e7800d47.jpeg',\n",
       " '/Volumes/DATASET/Train/Batch_4/d27e1e29-9e16-4d3b-8734-c1cf1fb4c6fe.jpeg',\n",
       " '/Volumes/DATASET/Train/Batch_4/f24a451a-70ea-4f97-92d1-fec7fce8c331.jpeg',\n",
       " '/Volumes/DATASET/Train/Batch_4/4869066e-ec4b-47c5-9c5e-0f6c719e1f1b.jpeg',\n",
       " '/Volumes/DATASET/Train/Batch_4/43a1cb15-4b8d-4ea9-9e88-94cd0a5b2ab0.jpeg',\n",
       " '/Volumes/DATASET/Train/Batch_4/b494fa70-a7e7-4e44-b46f-778f91fd5a9c.jpeg',\n",
       " '/Volumes/DATASET/Train/Batch_4/38ebf748-62b2-477b-9214-b2cee9b34431.jpeg',\n",
       " '/Volumes/DATASET/Train/Batch_4/7f0de99e-4ba0-4e6c-b652-77b46dd24025.jpeg',\n",
       " '/Volumes/DATASET/Train/Batch_4/f555dfb6-1df4-4356-ae3b-f74d0966d645.jpeg',\n",
       " '/Volumes/DATASET/Train/Batch_4/f7c2fc3b-f48b-497c-93ed-29b6b108318c.jpeg',\n",
       " '/Volumes/DATASET/Train/Batch_4/aebc0a51-6fe9-4716-a873-0982f2f25033.jpeg',\n",
       " '/Volumes/DATASET/Train/Batch_4/bee38ac7-bc68-4960-8ad3-4d123aecde27.jpeg',\n",
       " '/Volumes/DATASET/Train/Batch_4/23d1c9c3-92fb-4f1f-970f-3832d3d62f13.jpeg',\n",
       " '/Volumes/DATASET/Train/Batch_4/a8458fe3-d2d6-41bd-bf2b-b4d1b5b66708.jpeg',\n",
       " '/Volumes/DATASET/Train/Batch_4/e3982bc7-8a98-4207-a24d-525359e66e1c.jpeg',\n",
       " '/Volumes/DATASET/Train/Batch_4/f9586b4c-caab-48e3-bde7-12f87b339c99.jpeg',\n",
       " '/Volumes/DATASET/Train/Batch_4/c2210b11-d34e-4a19-8461-e6e822959136.jpeg',\n",
       " '/Volumes/DATASET/Train/Batch_4/f686fbe8-fd5b-4808-87c0-6830cfd6fc0c.jpeg',\n",
       " '/Volumes/DATASET/Train/Batch_4/9c57d14e-bf9a-448c-92bd-a50d97ec4a0b.jpeg',\n",
       " '/Volumes/DATASET/Train/Batch_4/374f242b-5b69-4dac-a156-59e6ee40d813.jpeg',\n",
       " '/Volumes/DATASET/Train/Batch_4/465ee426-75aa-4118-8606-a6c4ad1577f2.jpeg',\n",
       " '/Volumes/DATASET/Train/Batch_4/124f49ad-bd61-45d8-b9b2-6b1b8ebd55de.jpeg',\n",
       " '/Volumes/DATASET/Train/Batch_4/8b8d716d-bad3-4535-9ef5-d0681e2ebae4.jpeg',\n",
       " '/Volumes/DATASET/Train/Batch_4/a922baba-f8cf-4f67-a39d-a94822a02e58.jpeg',\n",
       " '/Volumes/DATASET/Train/Batch_4/b70491c7-1107-48f9-931e-0421ca3e306a.jpeg',\n",
       " '/Volumes/DATASET/Train/Batch_4/97a80df5-03b6-4709-b1ab-6385a49e85f0.jpeg',\n",
       " '/Volumes/DATASET/Train/Batch_4/56361a97-9ad1-48cf-971f-fc098aa7d049.jpeg',\n",
       " '/Volumes/DATASET/Train/Batch_4/d78afdc4-d1cd-4aad-9ddd-27d45bb92670.jpeg',\n",
       " '/Volumes/DATASET/Train/Batch_4/ad375819-136f-42de-a75b-a5da755ee4a3.jpeg',\n",
       " '/Volumes/DATASET/Train/Batch_4/5c2c2de0-01e3-4ee6-b525-dfe66440afd0.jpeg',\n",
       " '/Volumes/DATASET/Train/Batch_4/9a7a86ca-1652-430c-bdf3-17a98b72ecc6.jpeg',\n",
       " '/Volumes/DATASET/Train/Batch_4/5008bd41-24ec-4460-b8b5-85f5467bd9b4.jpeg',\n",
       " '/Volumes/DATASET/Train/Batch_4/9f087ec6-f2fc-4804-8ef9-707f238d9007.jpeg',\n",
       " '/Volumes/DATASET/Train/Batch_4/23ff6c60-58d9-4416-8533-b99823cef455.jpeg',\n",
       " '/Volumes/DATASET/Train/Batch_4/e8be4385-f39a-49ca-b57d-057248d05000.jpeg',\n",
       " '/Volumes/DATASET/Train/Batch_4/da882636-be24-422a-bdd3-7ade58ef9cbf.jpeg',\n",
       " '/Volumes/DATASET/Train/Batch_4/75458d1b-c340-4aba-87b9-2c5cb72f05d7.jpeg',\n",
       " '/Volumes/DATASET/Train/Batch_4/c34d1fba-5c6c-4f7f-97d4-434d5ee64a5f.jpeg',\n",
       " '/Volumes/DATASET/Train/Batch_4/227d50a7-d3a0-4217-9cca-e3773c1d642d.jpeg',\n",
       " '/Volumes/DATASET/Train/Batch_4/4c7ed6a7-5f74-478d-9268-8a8caa0cd882.jpeg',\n",
       " '/Volumes/DATASET/Train/Batch_4/100324ea-2048-46c7-b2a9-e4dcf204a623.jpeg',\n",
       " '/Volumes/DATASET/Train/Batch_4/566e01dc-04f8-41f4-a62b-3e6a95464d27.jpeg',\n",
       " '/Volumes/DATASET/Train/Batch_4/92f9212a-2918-44bf-9d4a-3b3bbf8b2f7a.jpeg',\n",
       " '/Volumes/DATASET/Train/Batch_4/80f715f2-e6a8-4c78-ba02-c2dc5d0f1821.jpeg',\n",
       " '/Volumes/DATASET/Train/Batch_4/ea223c90-bbef-4e73-aaa4-83a4abbaca80.jpeg',\n",
       " '/Volumes/DATASET/Train/Batch_4/9952c466-0341-43b8-80e4-f788b2a90914.jpeg',\n",
       " '/Volumes/DATASET/Train/Batch_4/7da74ac2-e675-4426-825d-70446b34e1d8.jpeg',\n",
       " '/Volumes/DATASET/Train/Batch_4/f603b352-8a8f-4490-9f00-9e34d16b1592.jpeg',\n",
       " '/Volumes/DATASET/Train/Batch_4/41accfcb-a8a0-4a55-9700-96ed073c514d.jpeg',\n",
       " '/Volumes/DATASET/Train/Batch_4/e5dc13d0-5c15-408c-9e4f-afb238e579ec.jpeg',\n",
       " '/Volumes/DATASET/Train/Batch_4/9262a485-b2b8-4360-bade-63bf8ee4963e.jpeg',\n",
       " '/Volumes/DATASET/Train/Batch_4/4dd65095-e882-4053-81ba-4be3abdb7a34.jpeg',\n",
       " '/Volumes/DATASET/Train/Batch_4/fd6760da-e68d-4c9d-aa34-2849169a4efd.jpeg',\n",
       " '/Volumes/DATASET/Train/Batch_4/00e050a6-8fcb-4866-8d97-0bc4017202e2.jpeg',\n",
       " '/Volumes/DATASET/Train/Batch_4/297c9a7c-c710-458f-840a-2ff724c5a53d.jpeg',\n",
       " '/Volumes/DATASET/Train/Batch_4/26069e68-df87-4328-988f-80fe57ed6b6f.jpeg',\n",
       " '/Volumes/DATASET/Train/Batch_4/21904c39-9110-4258-81a0-a89868620650.jpeg',\n",
       " '/Volumes/DATASET/Train/Batch_4/e56c67c1-7e69-4543-867b-35d4a6438157.jpeg',\n",
       " '/Volumes/DATASET/Train/Batch_4/d02c83ee-602b-41b5-a999-e6ad9983e07d.jpeg',\n",
       " '/Volumes/DATASET/Train/Batch_4/3719bcdb-a947-4851-b9bb-eab7f799c4fd.jpeg',\n",
       " '/Volumes/DATASET/Train/Batch_4/f3c8b854-02c3-4a55-a5ab-58d671e31c50.jpeg',\n",
       " '/Volumes/DATASET/Train/Batch_4/a6a6d809-6bef-441d-8eba-ea8767db2f40.jpeg',\n",
       " '/Volumes/DATASET/Train/Batch_4/2219f6cb-02bc-4c32-ab68-b9cd62c33644.jpeg',\n",
       " '/Volumes/DATASET/Train/Batch_4/bf91c627-63a5-4fe0-a578-77d3c659ae4f.jpeg',\n",
       " '/Volumes/DATASET/Train/Batch_4/4e2a3d10-ebae-4f9c-b7db-85e4f4fc8092.jpeg',\n",
       " '/Volumes/DATASET/Train/Batch_4/82ede56a-0b78-4c65-91d8-fd5a3807d1c9.jpeg',\n",
       " '/Volumes/DATASET/Train/Batch_4/79777db5-4052-4ff0-99be-6fa6ce8010d2.jpeg',\n",
       " '/Volumes/DATASET/Train/Batch_4/aa3fef3e-2586-43b5-99d5-dfe02a7fd4e0.jpeg',\n",
       " '/Volumes/DATASET/Train/Batch_4/e661bf4b-ed25-42f3-8e42-790dfadcc335.jpeg',\n",
       " '/Volumes/DATASET/Train/Batch_4/b71f526c-71c6-4cca-83dc-fd0a201fbcc1.jpeg',\n",
       " '/Volumes/DATASET/Train/Batch_4/940f0623-64eb-42e7-ab1f-d54df16c18a7.jpeg',\n",
       " '/Volumes/DATASET/Train/Batch_4/ac60737b-ced4-444c-b91a-8aad8e9fde9d.jpeg',\n",
       " '/Volumes/DATASET/Train/Batch_4/5475be9f-9faa-447f-b0bc-2f1700ed2fd3.jpeg',\n",
       " '/Volumes/DATASET/Train/Batch_4/1006c7f4-656a-418f-813d-fc4415b44a1d.jpeg',\n",
       " '/Volumes/DATASET/Train/Batch_4/13e12a5f-67b3-4878-a4bf-44fd5b0949ab.jpeg',\n",
       " '/Volumes/DATASET/Train/Batch_4/6d3d7274-764a-4a2a-b00a-1007797081e7.jpeg',\n",
       " '/Volumes/DATASET/Train/Batch_4/c96164ef-7709-46a8-9022-c925414d1102.jpeg',\n",
       " '/Volumes/DATASET/Train/Batch_4/e95ef492-3889-4c2b-b058-118d896d67aa.jpeg',\n",
       " '/Volumes/DATASET/Train/Batch_4/894593bf-28f7-4aec-937e-ca8003057e7b.jpeg',\n",
       " '/Volumes/DATASET/Train/Batch_4/a994ab40-ad69-46da-b57e-fd29603a695a.jpeg',\n",
       " '/Volumes/DATASET/Train/Batch_4/5d7075b1-356d-4289-95c4-1f7778581677.jpeg',\n",
       " '/Volumes/DATASET/Train/Batch_4/a9312eee-cdb5-413f-9959-f2251a8aa178.jpeg',\n",
       " '/Volumes/DATASET/Train/Batch_4/74921c66-ca69-4bcb-8387-5f23854a410c.jpeg',\n",
       " '/Volumes/DATASET/Train/Batch_4/4b9b9222-9ef6-415f-b697-1b1813f898ff.jpeg',\n",
       " '/Volumes/DATASET/Train/Batch_4/10ef9080-2cfc-4666-8490-9f7f1789d30f.jpeg',\n",
       " '/Volumes/DATASET/Train/Batch_4/ebaf88f2-61ac-4f51-b0d0-4beebf22939d.jpeg',\n",
       " '/Volumes/DATASET/Train/Batch_4/59908f78-7346-44a1-a9b8-07a2611441ee.jpeg',\n",
       " '/Volumes/DATASET/Train/Batch_4/d3ea1df6-c715-4b8b-88ad-790527c7ae0c.jpeg',\n",
       " '/Volumes/DATASET/Train/Batch_4/bff7eeb4-50d0-404f-b951-14ca72326a70.jpeg',\n",
       " '/Volumes/DATASET/Train/Batch_4/2466fe14-fa83-4e43-9a5c-747fc17ca251.jpeg',\n",
       " '/Volumes/DATASET/Train/Batch_4/044e7bec-ce88-4bb7-9408-1d56d0d07b4a.jpeg',\n",
       " '/Volumes/DATASET/Train/Batch_4/06c898f6-a22b-4c7b-b557-44fe8fb86da1.jpeg',\n",
       " '/Volumes/DATASET/Train/Batch_4/4f85f6d7-64bd-4edd-be3a-1d36dd5c29ea.jpeg',\n",
       " '/Volumes/DATASET/Train/Batch_4/4868cdf7-24e3-45fa-a1af-a3e43153dff7.jpeg',\n",
       " '/Volumes/DATASET/Train/Batch_4/d5656d1f-3f2a-4ad6-ad48-6b75f2833008.jpeg',\n",
       " '/Volumes/DATASET/Train/Batch_4/aaefc8b5-afe5-4631-bc3d-ac9657ea926b.jpeg',\n",
       " '/Volumes/DATASET/Train/Batch_4/d92fca98-7af0-4889-94b0-407a68e580f4.jpeg',\n",
       " '/Volumes/DATASET/Train/Batch_4/1c6a2eb8-39b0-44a6-9cff-bf61f4e68698.jpeg',\n",
       " '/Volumes/DATASET/Train/Batch_4/28ac431f-7d8a-4156-96de-503cc9bb627f.jpeg',\n",
       " '/Volumes/DATASET/Train/Batch_4/935b2047-fff1-4a57-8d2d-5ca636d7f6a2.jpeg',\n",
       " '/Volumes/DATASET/Train/Batch_4/343eb294-bd61-4320-a46d-3f86964bda7e.jpeg',\n",
       " '/Volumes/DATASET/Train/Batch_4/62fe0a6b-473c-4bd1-8db5-89b8a5251c7a.jpeg',\n",
       " '/Volumes/DATASET/Train/Batch_4/570eb082-7b72-4cb9-8946-edfb033fa4d6.jpeg',\n",
       " '/Volumes/DATASET/Train/Batch_4/b40e828e-75fe-49f4-bbea-81fc38296c8a.jpeg',\n",
       " '/Volumes/DATASET/Train/Batch_4/e5869e38-fe77-489d-999b-ca1d27617e86.jpeg',\n",
       " '/Volumes/DATASET/Train/Batch_4/7db48e36-32d9-4ece-9e01-735a07346ae8.jpeg',\n",
       " '/Volumes/DATASET/Train/Batch_4/a3d8c62e-62ce-4f1b-96f7-71cb98a2aed8.jpeg',\n",
       " '/Volumes/DATASET/Train/Batch_4/2b0f112f-5f95-41b3-bbcd-ec7bfbe01af1.jpeg',\n",
       " '/Volumes/DATASET/Train/Batch_4/8af8d0d7-db8b-4d51-bd0d-fe847d276780.jpeg',\n",
       " '/Volumes/DATASET/Train/Batch_4/722be45e-7f7e-4229-bcd8-ef2233cff11e.jpeg',\n",
       " '/Volumes/DATASET/Train/Batch_4/d8608669-cd13-4397-afd6-f23cfd4dfab7.jpeg',\n",
       " '/Volumes/DATASET/Train/Batch_4/f8518744-9ef9-442c-89f1-94a5e5c19461.jpeg',\n",
       " '/Volumes/DATASET/Train/Batch_4/ce4c47a4-bb11-48c1-8f62-05f1c601e50a.jpeg',\n",
       " '/Volumes/DATASET/Train/Batch_4/8f4fef36-1432-49f2-bd90-b2b5bf0ba1b4.jpeg',\n",
       " '/Volumes/DATASET/Train/Batch_4/81014c03-c6fb-40bb-8544-d173f9ccc0c2.jpeg',\n",
       " '/Volumes/DATASET/Train/Batch_4/17940596-6a82-4602-824f-598e24e8029a.jpeg',\n",
       " '/Volumes/DATASET/Train/Batch_4/5b636f49-9ff3-47c8-9eab-cb8423e20b08.jpeg',\n",
       " '/Volumes/DATASET/Train/Batch_4/0444b91b-06b0-431e-8959-94baf1ef3d96.jpeg',\n",
       " '/Volumes/DATASET/Train/Batch_4/66a32db9-b0c8-4e6c-ac0d-461f58f9c1a9.jpeg',\n",
       " '/Volumes/DATASET/Train/Batch_4/e2d5c23b-3d9f-451a-b9d5-68b3f63764d5.jpeg',\n",
       " '/Volumes/DATASET/Train/Batch_4/182125c8-0252-4f92-90bd-40d08b86a24c.jpeg',\n",
       " '/Volumes/DATASET/Train/Batch_4/5962e2c8-32fb-411e-bbaf-7b5a0c90a567.jpeg',\n",
       " '/Volumes/DATASET/Train/Batch_4/3d6e318d-9ecd-4b31-8f98-8d86842ba1b3.jpeg',\n",
       " '/Volumes/DATASET/Train/Batch_4/b92c151a-2302-42d0-a785-53a6cfc458d9.jpeg',\n",
       " '/Volumes/DATASET/Train/Batch_4/681050e3-a216-42cf-9cf5-92bb4ac645ff.jpeg',\n",
       " '/Volumes/DATASET/Train/Batch_4/30d3253e-1035-43c8-bc4b-a9ef3a9238bc.jpeg',\n",
       " '/Volumes/DATASET/Train/Batch_4/be1fb8da-bb71-4c32-b70c-61bfcbab5dfe.jpeg',\n",
       " '/Volumes/DATASET/Train/Batch_4/adf35cca-27d6-4eb6-832d-3a792ba7f84e.jpeg',\n",
       " '/Volumes/DATASET/Train/Batch_4/d50921c5-5658-44a6-93fa-957dd07897a5.jpeg',\n",
       " '/Volumes/DATASET/Train/Batch_4/226a58b4-6b64-45f4-b835-1d344bb0fbfb.jpeg',\n",
       " '/Volumes/DATASET/Train/Batch_4/0a771619-2b12-4dc1-a474-9bd214204439.jpeg',\n",
       " '/Volumes/DATASET/Train/Batch_4/ce6d46ee-3ee2-4bf4-bb8f-a4531729ed69.jpeg',\n",
       " '/Volumes/DATASET/Train/Batch_4/bd727f0c-d34e-4ac1-8552-083dba1f3e23.jpeg',\n",
       " '/Volumes/DATASET/Train/Batch_4/abb771ac-a7ae-45ea-a7b0-f3075f91d877.jpeg',\n",
       " '/Volumes/DATASET/Train/Batch_4/69b6e539-dce8-4c87-ba94-d86d66ae16f3.jpeg',\n",
       " '/Volumes/DATASET/Train/Batch_4/a7c6bec8-e97a-4203-a579-42537cb0054a.jpeg',\n",
       " '/Volumes/DATASET/Train/Batch_4/59d3b288-7beb-4bd7-9342-8b392272ef32.jpeg',\n",
       " '/Volumes/DATASET/Train/Batch_4/0eeb95e2-7e49-4a01-a70c-fb3e26216936.jpeg',\n",
       " '/Volumes/DATASET/Train/Batch_4/d55160a4-1a9d-4a41-87ab-9f949e1fca96.jpeg',\n",
       " '/Volumes/DATASET/Train/Batch_4/626c64e0-4642-4145-bfc1-f107fca37f4e.jpeg',\n",
       " '/Volumes/DATASET/Train/Batch_4/6a1b9f28-8649-4c47-8764-5481b71f6b18.jpeg',\n",
       " '/Volumes/DATASET/Train/Batch_4/dc39f391-214d-49e9-a31a-a05976ce38a9.jpeg',\n",
       " '/Volumes/DATASET/Train/Batch_4/7bf6bf99-29d9-4e09-87af-ac95162681ea.jpeg',\n",
       " '/Volumes/DATASET/Train/Batch_4/8963a4b7-8bfe-4eb0-b008-6fc1f900d420.jpeg',\n",
       " '/Volumes/DATASET/Train/Batch_4/665d0187-f479-4d97-8bda-adadeadd2bf0.jpeg',\n",
       " '/Volumes/DATASET/Train/Batch_4/e5ae641c-e696-4a33-a2ef-0f4be898b402.jpeg',\n",
       " '/Volumes/DATASET/Train/Batch_4/9d92e171-dcfa-4bca-97b4-1744ab54e158.jpeg',\n",
       " '/Volumes/DATASET/Train/Batch_4/e4bb556b-c7ec-47e5-91ba-f6283e26980f.jpeg',\n",
       " '/Volumes/DATASET/Train/Batch_4/b1e7726d-c527-450b-aa70-f1ca4cb4f77f.jpeg',\n",
       " '/Volumes/DATASET/Train/Batch_4/231d2d4e-ea90-44cb-8c26-086c96738ba8.jpeg',\n",
       " '/Volumes/DATASET/Train/Batch_4/b30acff1-6203-4ee2-b5d0-19b2d862e51b.jpeg',\n",
       " '/Volumes/DATASET/Train/Batch_4/c2a1b2ea-dca1-4f11-a6e2-f35eac7d18a9.jpeg',\n",
       " '/Volumes/DATASET/Train/Batch_4/c4c1da6e-729b-4ffc-a724-6c43947fc053.jpeg',\n",
       " '/Volumes/DATASET/Train/Batch_4/5342f235-7473-4e45-838c-5573c915513d.jpeg',\n",
       " '/Volumes/DATASET/Train/Batch_4/18d62067-4d91-4840-9771-b7834049081a.jpeg',\n",
       " '/Volumes/DATASET/Train/Batch_4/c95ebd89-456e-4a31-8892-b857a1926fce.jpeg',\n",
       " '/Volumes/DATASET/Train/Batch_4/ce8d0d8a-d45a-4cf1-ac9f-1021f867c1b3.jpeg',\n",
       " '/Volumes/DATASET/Train/Batch_4/f3123851-9f82-45bb-9ccd-297346dc4e01.jpeg',\n",
       " '/Volumes/DATASET/Train/Batch_4/98260a97-9f0b-46eb-a1c1-9657228872e3.jpeg',\n",
       " '/Volumes/DATASET/Train/Batch_4/a6a5e19f-9de7-4ea5-bf64-d6a7b86689e5.jpeg',\n",
       " '/Volumes/DATASET/Train/Batch_4/a6b67485-3c51-4442-b7b7-6ccab8304442.jpeg',\n",
       " '/Volumes/DATASET/Train/Batch_4/576cec75-0e6d-4900-a1a9-7e00f63aa5f4.jpeg',\n",
       " '/Volumes/DATASET/Train/Batch_4/856b03c7-2a37-4352-aabb-a25d86961f72.jpeg',\n",
       " '/Volumes/DATASET/Train/Batch_4/a9b38273-38e9-4463-806b-62b1ca143398.jpeg',\n",
       " '/Volumes/DATASET/Train/Batch_4/8de27801-0713-4c6a-bc0c-d057f9687ec4.jpeg',\n",
       " '/Volumes/DATASET/Train/Batch_4/e46cd5bb-3679-4b8f-a5bb-4248b15b6eb9.jpeg',\n",
       " '/Volumes/DATASET/Train/Batch_4/2580e07c-0859-4e33-88fa-f41edfe4811d.jpeg',\n",
       " '/Volumes/DATASET/Train/Batch_4/7950f3d0-92fd-42e2-83ae-99ecf96c3092.jpeg',\n",
       " '/Volumes/DATASET/Train/Batch_4/bf80eb12-d427-455b-be8b-28a3997244c4.jpeg',\n",
       " '/Volumes/DATASET/Train/Batch_4/c5a1105d-c3c3-4004-91a7-961e0aba8ef8.jpeg',\n",
       " '/Volumes/DATASET/Train/Batch_4/c7cf1a6e-ebc0-4dfe-98cd-fb5a681a401a.jpeg',\n",
       " '/Volumes/DATASET/Train/Batch_4/f6e1eaf7-a13f-4841-9505-7621fcdf9a71.jpeg',\n",
       " '/Volumes/DATASET/Train/Batch_4/92cb33d2-9a3f-4c63-b769-2c0a9d8b53e9.jpeg',\n",
       " '/Volumes/DATASET/Train/Batch_4/4f01737e-c263-45af-8307-4fa823f5716f.jpeg',\n",
       " '/Volumes/DATASET/Train/Batch_4/39e959fd-b599-4745-b0b0-5f0e9588330b.jpeg',\n",
       " '/Volumes/DATASET/Train/Batch_4/a9bf9f32-3245-4495-b03c-925f42fed734.jpeg',\n",
       " '/Volumes/DATASET/Train/Batch_4/23369039-ec04-4c96-b428-35cadcf499ff.jpeg',\n",
       " '/Volumes/DATASET/Train/Batch_4/e0d69b3d-5ed0-4ef8-a6ed-d575798cce38.jpeg',\n",
       " '/Volumes/DATASET/Train/Batch_4/c2202ea0-1e59-44e6-a06e-043f043d7c09.jpeg',\n",
       " '/Volumes/DATASET/Train/Batch_4/64308311-7e71-4e38-8517-bd9cfb80dbba.jpeg',\n",
       " '/Volumes/DATASET/Train/Batch_4/2875292b-6b90-495f-94ad-ca076a49bf4c.jpeg',\n",
       " '/Volumes/DATASET/Train/Batch_4/e195ceed-ca74-4fcd-b3a4-bbd6f857d52b.jpeg',\n",
       " '/Volumes/DATASET/Train/Batch_4/6622f3a5-92c5-4875-bc3a-1593a6e4d120.jpeg',\n",
       " '/Volumes/DATASET/Train/Batch_4/cc253a06-2847-43a4-9d2a-ea2f08f260cc.jpeg',\n",
       " '/Volumes/DATASET/Train/Batch_4/5d029ee8-6e75-4c30-a41d-2e3f82998ed0.jpeg',\n",
       " '/Volumes/DATASET/Train/Batch_4/02472541-c40a-468b-a4aa-ac9ce2476d86.jpeg',\n",
       " '/Volumes/DATASET/Train/Batch_4/b2482938-eb93-4ee9-873b-1614cfb28e14.jpeg',\n",
       " '/Volumes/DATASET/Train/Batch_4/c234cdde-5c5d-4421-ab4e-30b49df7e02b.jpeg',\n",
       " '/Volumes/DATASET/Train/Batch_4/195c00a8-8c00-4d6c-ad18-98cd733a8083.jpeg',\n",
       " '/Volumes/DATASET/Train/Batch_4/906c9b58-3a4b-4dbb-ab3b-57634dc07f0b.jpeg',\n",
       " '/Volumes/DATASET/Train/Batch_4/f551e673-25a2-4444-8cd0-7d96dbed18ef.jpeg',\n",
       " '/Volumes/DATASET/Train/Batch_4/7601c588-5049-4252-ad9c-d217720f25ae.jpeg',\n",
       " '/Volumes/DATASET/Train/Batch_4/3afada1a-9d4e-477b-b3a6-5e4283035ec1.jpeg',\n",
       " '/Volumes/DATASET/Train/Batch_4/2865491a-126e-4e80-9b61-47a6d5cafdaa.jpeg',\n",
       " '/Volumes/DATASET/Train/Batch_4/b3c77dba-968e-4f34-a592-1c5d21cb30ee.jpeg',\n",
       " '/Volumes/DATASET/Train/Batch_4/aa87e6ad-79b6-4f01-9ff2-b517f46a1d3e.jpeg',\n",
       " '/Volumes/DATASET/Train/Batch_4/d762fba6-151a-409d-800d-d21e2e6c87bb.jpeg',\n",
       " '/Volumes/DATASET/Train/Batch_4/2dfed41b-883a-4a93-a316-5514a0a15bc6.jpeg',\n",
       " '/Volumes/DATASET/Train/Batch_4/2fa62598-0898-4cc6-b63e-ce04abcafa64.jpeg',\n",
       " '/Volumes/DATASET/Train/Batch_4/4a114160-4af7-43f4-9dcc-a6a760a06bc1.jpeg',\n",
       " '/Volumes/DATASET/Train/Batch_4/08af2d2e-6fc1-4c15-b3b1-50385756186f.jpeg',\n",
       " '/Volumes/DATASET/Train/Batch_4/348d65f2-5cff-4996-a870-4970c335fc10.jpeg',\n",
       " '/Volumes/DATASET/Train/Batch_4/813353a0-58b9-4782-86a5-21d264e21ab3.jpeg',\n",
       " '/Volumes/DATASET/Train/Batch_4/680abea0-46b1-4a2b-a88a-dceeb1e07dee.jpeg',\n",
       " '/Volumes/DATASET/Train/Batch_4/e3f6df3e-dc19-4ce2-b331-5416b0559507.jpeg',\n",
       " '/Volumes/DATASET/Train/Batch_4/24cdcedc-90c4-48f2-b984-d523ed661a6a.jpeg',\n",
       " '/Volumes/DATASET/Train/Batch_4/3b653695-b4c3-4917-b950-29fc0aced2d1.jpeg',\n",
       " '/Volumes/DATASET/Train/Batch_4/98713a8e-dc08-4ef9-8380-d54016d89a9f.jpeg',\n",
       " '/Volumes/DATASET/Train/Batch_4/9bbf0cda-f21e-4396-9d8a-5772c6352751.jpeg',\n",
       " '/Volumes/DATASET/Train/Batch_4/79bddcbc-58cc-4e68-9e2b-20a2ef969ef1.jpeg',\n",
       " '/Volumes/DATASET/Train/Batch_4/a8624d66-cf6c-46b1-a922-a1eb53a00b4e.jpeg',\n",
       " '/Volumes/DATASET/Train/Batch_4/616a25bc-dc33-42ef-b18a-f4f25e60c2f6.jpeg',\n",
       " '/Volumes/DATASET/Train/Batch_4/734becd4-82fb-436f-bd61-d44f96810500.jpeg',\n",
       " '/Volumes/DATASET/Train/Batch_4/4d0d389b-ffb8-4995-89c7-338cb2ede955.jpeg',\n",
       " '/Volumes/DATASET/Train/Batch_4/2f23de88-254e-4fc8-9e89-de8d98a88644.jpeg',\n",
       " '/Volumes/DATASET/Train/Batch_4/03851dc4-7048-44ff-8771-8258ddef72f6.jpeg',\n",
       " '/Volumes/DATASET/Train/Batch_4/f5253978-0bc5-429a-a59c-5ffa3f5418b9.jpeg',\n",
       " '/Volumes/DATASET/Train/Batch_4/a02307c8-0cbd-4e53-8d7b-fa2f45492874.jpeg',\n",
       " '/Volumes/DATASET/Train/Batch_4/9d24696c-e759-4116-baf3-6b7ec3c0ffaf.jpeg',\n",
       " '/Volumes/DATASET/Train/Batch_4/8bdfc264-3fb3-4cd8-96b3-2231843024d7.jpeg',\n",
       " '/Volumes/DATASET/Train/Batch_4/54f43fb7-9aa9-48d3-a56b-d7d6782da23a.jpeg',\n",
       " '/Volumes/DATASET/Train/Batch_4/172c50b8-3619-449d-8967-e5bd2336c8de.jpeg',\n",
       " '/Volumes/DATASET/Train/Batch_4/5e3c13f3-4bf5-48a3-a718-9b805f9d1e25.jpeg',\n",
       " '/Volumes/DATASET/Train/Batch_4/c3876aeb-655e-4b61-8379-a51a1f7d1573.jpeg',\n",
       " '/Volumes/DATASET/Train/Batch_4/783c1586-04cb-432c-bd74-660345575c3a.jpeg',\n",
       " '/Volumes/DATASET/Train/Batch_4/b20a9b90-e82e-4984-a433-77f254a070d0.jpeg',\n",
       " '/Volumes/DATASET/Train/Batch_4/b3106e74-b632-4d79-863b-3feb9e3a71bd.jpeg',\n",
       " '/Volumes/DATASET/Train/Batch_4/e3e8c27e-c5e5-40dc-ad73-250e61c244ee.jpeg',\n",
       " ...]"
      ]
     },
     "execution_count": 181,
     "metadata": {},
     "output_type": "execute_result"
    }
   ],
   "source": [
    "coppied_files_jpeg = search_files_in_directory(os.path.join(DESTINATION_FOLDER,'Train'), '.jpeg')\n",
    "coppied_files_jpeg"
   ]
  },
  {
   "cell_type": "code",
   "execution_count": 180,
   "metadata": {},
   "outputs": [
    {
     "data": {
      "text/plain": [
       "{'Batch_0',\n",
       " 'Batch_1',\n",
       " 'Batch_10',\n",
       " 'Batch_11',\n",
       " 'Batch_12',\n",
       " 'Batch_13',\n",
       " 'Batch_14',\n",
       " 'Batch_15',\n",
       " 'Batch_16',\n",
       " 'Batch_17',\n",
       " 'Batch_18',\n",
       " 'Batch_19',\n",
       " 'Batch_2',\n",
       " 'Batch_20',\n",
       " 'Batch_21',\n",
       " 'Batch_22',\n",
       " 'Batch_23',\n",
       " 'Batch_24',\n",
       " 'Batch_25',\n",
       " 'Batch_26',\n",
       " 'Batch_27',\n",
       " 'Batch_28',\n",
       " 'Batch_29',\n",
       " 'Batch_3',\n",
       " 'Batch_30',\n",
       " 'Batch_31',\n",
       " 'Batch_32',\n",
       " 'Batch_33',\n",
       " 'Batch_34',\n",
       " 'Batch_35',\n",
       " 'Batch_36',\n",
       " 'Batch_37',\n",
       " 'Batch_38',\n",
       " 'Batch_39',\n",
       " 'Batch_4',\n",
       " 'Batch_40',\n",
       " 'Batch_41',\n",
       " 'Batch_42',\n",
       " 'Batch_43',\n",
       " 'Batch_44',\n",
       " 'Batch_45',\n",
       " 'Batch_46',\n",
       " 'Batch_47',\n",
       " 'Batch_48',\n",
       " 'Batch_49',\n",
       " 'Batch_5',\n",
       " 'Batch_50',\n",
       " 'Batch_51',\n",
       " 'Batch_52',\n",
       " 'Batch_53',\n",
       " 'Batch_54',\n",
       " 'Batch_55',\n",
       " 'Batch_56',\n",
       " 'Batch_57',\n",
       " 'Batch_58',\n",
       " 'Batch_59',\n",
       " 'Batch_6',\n",
       " 'Batch_60',\n",
       " 'Batch_7',\n",
       " 'Batch_8',\n",
       " 'Batch_9'}"
      ]
     },
     "execution_count": 180,
     "metadata": {},
     "output_type": "execute_result"
    }
   ],
   "source": [
    "{f.split(\"/\")[4] for f in coppied_files_jpeg}\n"
   ]
  }
 ],
 "metadata": {
  "kernelspec": {
   "display_name": "venv",
   "language": "python",
   "name": "python3"
  },
  "language_info": {
   "codemirror_mode": {
    "name": "ipython",
    "version": 3
   },
   "file_extension": ".py",
   "mimetype": "text/x-python",
   "name": "python",
   "nbconvert_exporter": "python",
   "pygments_lexer": "ipython3",
   "version": "3.11.1"
  }
 },
 "nbformat": 4,
 "nbformat_minor": 2
}
