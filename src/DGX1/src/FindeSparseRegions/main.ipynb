{
 "cells": [
  {
   "cell_type": "code",
   "execution_count": 2,
   "metadata": {},
   "outputs": [],
   "source": [
    "import os\n",
    "import sys\n",
    "sys.path.append('/home/tobias.rothlin/GeoLocalization/src/DGX1/src/Utility')\n",
    "\n",
    "from time import sleep\n",
    "\n",
    "from DataLocator import DataLocator\n",
    "\n",
    "from ParseFiles import getLatLongFiles,getCountriesFiles\n",
    "from GetCoordinates import get_coordinates\n",
    "\n",
    "BASE_PATH = \"/home/tobias.rothlin/data/GeoDataset\"\n",
    "\n",
    "TEST_DATA_FOLDER = os.path.join(BASE_PATH, \"Test\")\n",
    "TRAIN_DATA_FOLDER = os.path.join(BASE_PATH, \"Train\")\n",
    "\n",
    "LIST_OF_COUNTRIES_PATH = \"/home/tobias.rothlin/GeoLocalization/src/DGX1/src/FindeSparseRegions/ListOfCountries.txt\""
   ]
  },
  {
   "cell_type": "code",
   "execution_count": 3,
   "metadata": {},
   "outputs": [
    {
     "name": "stdout",
     "output_type": "stream",
     "text": [
      "\u001b[37m\n",
      "No cache file found\n",
      "Indexing all files\n"
     ]
    },
    {
     "name": "stderr",
     "output_type": "stream",
     "text": [
      "Indexing directorys: 100%|██████████| 2/2 [00:00<00:00, 276.15it/s]\n"
     ]
    },
    {
     "name": "stdout",
     "output_type": "stream",
     "text": [
      "No cache file found\n",
      "Indexing all files\n"
     ]
    },
    {
     "name": "stderr",
     "output_type": "stream",
     "text": [
      "Indexing directorys: 100%|██████████| 1526/1526 [00:16<00:00, 95.26it/s] \n",
      "Gathering files with extention .json: 100%|██████████| 6469/6469 [00:00<00:00, 2731047.06it/s]\n",
      "Gathering files with extention .json: 100%|██████████| 3048908/3048908 [00:00<00:00, 3661962.95it/s]\n"
     ]
    },
    {
     "name": "stdout",
     "output_type": "stream",
     "text": [
      "\u001b[0m\n"
     ]
    },
    {
     "name": "stderr",
     "output_type": "stream",
     "text": [
      "Starting Getting LatLong: 100%|██████████| 23820/23820 [00:01<00:00, 21249.84it/s]\n",
      "Getting LatLong: 100%|██████████| 23820/23820 [02:44<00:00, 144.80it/s]\n",
      "Starting Getting LatLong: 100%|██████████| 51/51 [00:00<00:00, 881.47it/s]\n",
      "Getting LatLong: 100%|██████████| 51/51 [00:00<00:00, 210.27it/s]\n",
      "Starting Getting Countries: 100%|██████████| 23820/23820 [00:01<00:00, 19999.09it/s]\n",
      "Getting Countries: 100%|██████████| 23820/23820 [02:16<00:00, 174.96it/s]\n",
      "Starting Getting Countries: 100%|██████████| 51/51 [00:00<00:00, 856.87it/s]\n",
      "Getting Countries: 100%|██████████| 51/51 [00:00<00:00, 261.67it/s]\n"
     ]
    }
   ],
   "source": [
    "print(\"\\033[37m\") # Light Gray\n",
    "    \n",
    "dl_Test = DataLocator(TEST_DATA_FOLDER)\n",
    "dl_Train = DataLocator(TRAIN_DATA_FOLDER)\n",
    "\n",
    "test_files_json = dl_Test.get_files(\".json\")\n",
    "\n",
    "train_files_json = dl_Train.get_files(\".json\")\n",
    "\n",
    "print(\"\\033[0m\") # Reset Color\n",
    "\n",
    "train_locations = getLatLongFiles(train_files_json)\n",
    "test_locations = getLatLongFiles(test_files_json)\n",
    "\n",
    "train_countries = getCountriesFiles(train_files_json)\n",
    "test_countries = getCountriesFiles(test_files_json)\n",
    "\n",
    "list_of_all_countries = []\n",
    "with open(LIST_OF_COUNTRIES_PATH, \"r\") as f:\n",
    "    for line in f:\n",
    "        list_of_all_countries.append(line.strip().split(\";\")[0])"
   ]
  },
  {
   "cell_type": "code",
   "execution_count": 4,
   "metadata": {},
   "outputs": [
    {
     "name": "stdout",
     "output_type": "stream",
     "text": [
      "Missing countries in Train 130/246(52.84552845528455)%\n",
      "Missing countries in Test 145/246(58.94308943089431)%\n"
     ]
    }
   ],
   "source": [
    "set_of_all_countries_in_train = {country.lower() for country in train_countries}\n",
    "set_of_all_countries_in_test = set(country.lower() for country in test_countries)\n",
    "\n",
    "missing_countries_in_train = {country for country in list_of_all_countries if country.lower() not in set_of_all_countries_in_train}\n",
    "missing_countries_in_test = {country for country in list_of_all_countries if country.lower() not in set_of_all_countries_in_test}\n",
    "\n",
    "print(f\"Missing countries in Train {len(missing_countries_in_train)}/{len(list_of_all_countries)}({100*len(missing_countries_in_train)/len(list_of_all_countries)})%\")\n",
    "print(f\"Missing countries in Test {len(missing_countries_in_test)}/{len(list_of_all_countries)}({100*len(missing_countries_in_test)/len(list_of_all_countries)})%\")\n",
    "\n",
    "\n",
    "with open(\"missing_countries_in_train.txt\", \"w\") as f:\n",
    "    for country in missing_countries_in_train:\n",
    "        f.write(f\"{country}\\n\")\n",
    "\n",
    "with open(\"missing_countries_in_test.txt\", \"w\") as f:\n",
    "    for country in missing_countries_in_test:\n",
    "        f.write(f\"{country}\\n\")"
   ]
  }
 ],
 "metadata": {
  "kernelspec": {
   "display_name": "Python 3 (ipykernel)",
   "language": "python",
   "name": "python3"
  },
  "language_info": {
   "codemirror_mode": {
    "name": "ipython",
    "version": 3
   },
   "file_extension": ".py",
   "mimetype": "text/x-python",
   "name": "python",
   "nbconvert_exporter": "python",
   "pygments_lexer": "ipython3",
   "version": "3.11.10"
  }
 },
 "nbformat": 4,
 "nbformat_minor": 4
}
